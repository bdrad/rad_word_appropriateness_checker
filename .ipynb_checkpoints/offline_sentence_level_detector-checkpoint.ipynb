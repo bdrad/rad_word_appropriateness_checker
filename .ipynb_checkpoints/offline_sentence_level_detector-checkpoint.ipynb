{
 "cells": [
  {
   "cell_type": "code",
   "execution_count": 1,
   "metadata": {
    "id": "QSxvGRrOBxjt"
   },
   "outputs": [],
   "source": [
    "import torch\n",
    "import torch.nn.functional as F\n",
    "from transformers import BertTokenizer, BertModel, BertForMaskedLM, BertConfig, AutoModelWithLMHead\n",
    "from scipy.spatial.distance import cosine\n",
    "import numpy as np\n",
    "import copy\n",
    "from transformers import AutoTokenizer, AutoModel, AutoConfig\n",
    "from torch import nn\n",
    "import pandas as pd\n",
    "import time"
   ]
  },
  {
   "cell_type": "code",
   "execution_count": 2,
   "metadata": {
    "colab": {
     "base_uri": "https://localhost:8080/",
     "height": 34
    },
    "id": "GxN7iyAXas-5",
    "outputId": "0d76ed82-30e3-449d-ddea-4c2dc188dc2c"
   },
   "outputs": [
    {
     "name": "stdout",
     "output_type": "stream",
     "text": [
      "3.3.1\n"
     ]
    }
   ],
   "source": [
    "import transformers\n",
    "print(transformers.__version__)"
   ]
  },
  {
   "cell_type": "markdown",
   "metadata": {
    "id": "QsYDGPr_rErG"
   },
   "source": [
    "### Load Model"
   ]
  },
  {
   "cell_type": "code",
   "execution_count": 3,
   "metadata": {
    "colab": {
     "base_uri": "https://localhost:8080/",
     "height": 235,
     "referenced_widgets": [
      "9078413a236d4a6590785e5da7fff28c",
      "262706add8024636800ab8ae03d749c3",
      "049df487d1dc4f3ca02c7458fd7beb29",
      "856dd4034566484a8da801968b6f6935",
      "f7392431035f455c83e3d25dc03f2394",
      "6253d4f1bbc84856826cbdf087e8afdb",
      "619366dd36f74aa1a89d6f464f365d6f",
      "37ad33c1cf8149e7abfa7b06227854cb",
      "701d0eaa2d8b4c619805ed2529e8b4a6",
      "833ce73c24b245199fcc32b3f8d51459",
      "7429919699cf401688ef719c8cc23039",
      "c5747cdfcca44d298663d01f190f10b6",
      "7040942ddada41c3b2e9361820440629",
      "d575b31555bb4024aaa7524d392849f4",
      "313c177115f944cdb5e76d921cc5995e",
      "8ecc121830cc41b59eaf65a3152745b7",
      "554bb90f2c184f8f9c259bf6029f696e",
      "b5758a78d41e420cacbb905822f19ba5",
      "3f13e921f553416fb17c4cf7980676bf",
      "e8391ac16e7e442bb9931c23f3030b31",
      "5e5588f6c717416a8c22438468ddada4",
      "2d7df45ccca34bcb9fcc8f6b013403e0",
      "c7694d93f070414a8eacd5172e30cf98",
      "dac65fb6929347eebb14c021620f4fa7"
     ]
    },
    "id": "CFfNE_0TrECo",
    "outputId": "33efb49b-9234-44f4-c65c-bcb9a7909eb2"
   },
   "outputs": [
    {
     "name": "stderr",
     "output_type": "stream",
     "text": [
      "Some weights of the model checkpoint at bert-base-uncased were not used when initializing BertForMaskedLM: ['cls.seq_relationship.weight', 'cls.seq_relationship.bias']\n",
      "- This IS expected if you are initializing BertForMaskedLM from the checkpoint of a model trained on another task or with another architecture (e.g. initializing a BertForSequenceClassification model from a BertForPretraining model).\n",
      "- This IS NOT expected if you are initializing BertForMaskedLM from the checkpoint of a model that you expect to be exactly identical (initializing a BertForSequenceClassification model from a BertForSequenceClassification model).\n"
     ]
    }
   ],
   "source": [
    "# bert-base-uncased\n",
    "bertconfig = BertConfig.from_pretrained('bert-base-uncased', output_hidden_states=True)\n",
    "basetokenizer = BertTokenizer.from_pretrained('bert-base-uncased')\n",
    "basemodel = BertForMaskedLM.from_pretrained('bert-base-uncased', config = bertconfig)"
   ]
  },
  {
   "cell_type": "code",
   "execution_count": 4,
   "metadata": {
    "colab": {
     "base_uri": "https://localhost:8080/",
     "height": 235,
     "referenced_widgets": [
      "565d68b4ef854c22ac2e20bbfccd7c90",
      "036c01423ba941c78a5b3ab1ee4a8a0e",
      "f78ad016fb9e424bb5ca6381fac027b0",
      "c11ee0a543c54c1c840c841b5fc6d26b",
      "3de3079c3fed43149c24d915c1db5b8d",
      "4f86647bf83d45c088df343ebc0c02e3",
      "b937f5d865f344d09f045b9e49a226f0",
      "c58358fb79bb416091f50dfedc3bfa77",
      "13ff601ef7e54a2d80e0a246d3e94499",
      "2047b6fa2cf7405bae4bfde76f60b58f",
      "504f5a28286840f793fff48589c02a5d",
      "0482f82d09be4ea39e81c34fcf85393b",
      "9d9f0b293e1c49f3aaf44c313b77b263",
      "6ae36bbd300b4afd8fd513607732e374",
      "85600057818b4188a961c8fe87b2a2e1",
      "5fc2f47087af40f789357b71d2b30a6b",
      "3bc9f4d0238b42d8bc7010d0d916d718",
      "66033da603c048d6846ab1f77d4c73db",
      "537606809dc94d838fd9979958f62fd1",
      "ed4a461621a24eeaabf0a279bf89bb1f",
      "a7795027cebc447987e3859ab0844442",
      "bcd319d6ae274ba5bc6ad211a93e77af",
      "8a495156b92a4bed926bc2eb409f9ddb",
      "d0c1a3abd3714454bbe515f912ee1d76"
     ]
    },
    "id": "Oz2JvpbRPFkf",
    "outputId": "0249fa48-c3ea-498b-e92f-9ec905ca4d7e"
   },
   "outputs": [
    {
     "name": "stderr",
     "output_type": "stream",
     "text": [
      "Some weights of the model checkpoint at emilyalsentzer/Bio_ClinicalBERT were not used when initializing BertForMaskedLM: ['cls.seq_relationship.weight', 'cls.seq_relationship.bias']\n",
      "- This IS expected if you are initializing BertForMaskedLM from the checkpoint of a model trained on another task or with another architecture (e.g. initializing a BertForSequenceClassification model from a BertForPretraining model).\n",
      "- This IS NOT expected if you are initializing BertForMaskedLM from the checkpoint of a model that you expect to be exactly identical (initializing a BertForSequenceClassification model from a BertForSequenceClassification model).\n"
     ]
    }
   ],
   "source": [
    "cliconfig = AutoConfig.from_pretrained(\"emilyalsentzer/Bio_ClinicalBERT\", output_hidden_states=True)\n",
    "clitokenizer = AutoTokenizer.from_pretrained(\"emilyalsentzer/Bio_ClinicalBERT\")\n",
    "climodel = BertForMaskedLM.from_pretrained(\"emilyalsentzer/Bio_ClinicalBERT\", config = cliconfig)\n",
    "# bert-large-uncased\n",
    "# largeconfig = BertConfig.from_pretrained('bert-large-uncased', output_hidden_states=True)\n",
    "# largetokenizer = BertTokenizer.from_pretrained('bert-large-uncased')\n",
    "# largemodel = BertForMaskedLM.from_pretrained('bert-large-uncased', config = largeconfig)"
   ]
  },
  {
   "cell_type": "code",
   "execution_count": 5,
   "metadata": {
    "colab": {
     "base_uri": "https://localhost:8080/",
     "height": 122
    },
    "id": "qjrqP_w0REJq",
    "outputId": "4337fb4b-56f6-4ad3-fff3-d2a26b8832d7"
   },
   "outputs": [],
   "source": [
    "cliconfig = AutoConfig.from_pretrained(\"emilyalsentzer/Bio_ClinicalBERT\", output_hidden_states=True)\n",
    "cli_bert_report_ft_path = './clinical_bert_finetune_radreport_mlm/'\n",
    "cli_bert_report_ft_model = BertForMaskedLM.from_pretrained(cli_bert_report_ft_path, config = cliconfig)"
   ]
  },
  {
   "cell_type": "code",
   "execution_count": null,
   "metadata": {
    "id": "cTSpjO8_VIH2"
   },
   "outputs": [],
   "source": [
    "new_vocab_base_path = '/gdrive/My Drive/nlp/new_vocab_ft_model/'\n",
    "new_vocab_base_model = BertForMaskedLM.from_pretrained(new_vocab_base_path, config = bertconfig)\n",
    "new_vocab_tokenizer = AutoTokenizer.from_pretrained(\"/gdrive/My Drive/nlp/new_vocab_ft_model/\")"
   ]
  },
  {
   "cell_type": "markdown",
   "metadata": {
    "id": "UHo6bo42sB-w"
   },
   "source": [
    "bert-base-uncased"
   ]
  },
  {
   "cell_type": "code",
   "execution_count": null,
   "metadata": {
    "id": "Y_ooS13gr__3"
   },
   "outputs": [],
   "source": [
    "tokenizer = basetokenizer\n",
    "model = basemodel"
   ]
  },
  {
   "cell_type": "markdown",
   "metadata": {
    "id": "FhZJwhs2Cx-3"
   },
   "source": [
    "## Step by step prediction"
   ]
  },
  {
   "cell_type": "code",
   "execution_count": 6,
   "metadata": {
    "id": "92Gz0PHED3y-"
   },
   "outputs": [],
   "source": [
    "# [MASK]: respiratory\n",
    "text = '[CLS] The [MASK] ran to the emergency room to see his patient.[SEP]'\n",
    "TOPK = 10"
   ]
  },
  {
   "cell_type": "code",
   "execution_count": 7,
   "metadata": {
    "colab": {
     "base_uri": "https://localhost:8080/",
     "height": 255
    },
    "id": "l5Pq1NbvWVnw",
    "outputId": "34436175-8f7f-4225-c7e7-d5d0e21a6981"
   },
   "outputs": [
    {
     "data": {
      "text/plain": [
       "['[CLS]',\n",
       " 'the',\n",
       " '[MASK]',\n",
       " 'ran',\n",
       " 'to',\n",
       " 'the',\n",
       " 'emergency',\n",
       " 'room',\n",
       " 'to',\n",
       " 'see',\n",
       " 'his',\n",
       " 'patient',\n",
       " '.',\n",
       " '[SEP]']"
      ]
     },
     "execution_count": 7,
     "metadata": {},
     "output_type": "execute_result"
    }
   ],
   "source": [
    "tokenizer=basetokenizer\n",
    "tokenized_text = tokenizer.tokenize(text)\n",
    "tokenized_text"
   ]
  },
  {
   "cell_type": "code",
   "execution_count": 8,
   "metadata": {
    "id": "shDxLp-jD35j"
   },
   "outputs": [],
   "source": [
    "model = basemodel\n",
    "tokenized_text = tokenizer.tokenize(text)\n",
    "indexed_tokens = tokenizer.convert_tokens_to_ids(tokenized_text)\n",
    "segments_ids = [0] * len(tokenized_text)\n",
    "# Convert inputs to PyTorch tensors\n",
    "tokens_tensor = torch.tensor([indexed_tokens])\n",
    "segments_tensors = torch.tensor([segments_ids])\n",
    "# Predict hidden states features for each layer\n",
    "# https://huggingface.co/transformers/model_doc/bert.html#bertformaskedlm\n",
    "with torch.no_grad(): # prediction\n",
    "    outputs = model(tokens_tensor, segments_tensors)"
   ]
  },
  {
   "cell_type": "code",
   "execution_count": 9,
   "metadata": {
    "colab": {
     "base_uri": "https://localhost:8080/",
     "height": 136
    },
    "id": "KFwf7obRE9zP",
    "outputId": "78e118c7-00fc-4ea2-d397-f4d96335009d"
   },
   "outputs": [
    {
     "data": {
      "text/plain": [
       "tensor([[[ -6.7456,  -6.7157,  -6.7117,  ...,  -6.1274,  -5.9056,  -3.9793],\n",
       "         [-12.0203, -11.8551, -11.9611,  ..., -10.8186, -10.1351,  -9.3733],\n",
       "         [ -4.1912,  -4.1169,  -4.2591,  ...,  -4.1358,  -4.7075,  -5.7921],\n",
       "         ...,\n",
       "         [ -9.1168,  -9.4985,  -9.3977,  ...,  -7.6272,  -7.4601,  -8.3269],\n",
       "         [-12.6704, -12.7054, -12.7956,  ..., -10.3457, -10.5683,  -7.3962],\n",
       "         [-14.8533, -15.0839, -15.0387,  ..., -13.8633, -13.9646, -10.8740]]])"
      ]
     },
     "execution_count": 9,
     "metadata": {},
     "output_type": "execute_result"
    }
   ],
   "source": [
    "predictions = outputs[0]\n",
    "hidden_states = outputs[1]\n",
    "predictions"
   ]
  },
  {
   "cell_type": "markdown",
   "metadata": {
    "id": "Twmxl8AtFpRD"
   },
   "source": [
    "Candidates and Probability of [MASK]"
   ]
  },
  {
   "cell_type": "code",
   "execution_count": 10,
   "metadata": {
    "colab": {
     "base_uri": "https://localhost:8080/",
     "height": 221
    },
    "id": "xSS84im_FVu-",
    "outputId": "8f7880b9-97ee-40bc-a962-c56b4514cbc5"
   },
   "outputs": [
    {
     "name": "stdout",
     "output_type": "stream",
     "text": [
      "Candidate - Probability\n",
      "\n",
      "doctor 0.7731055021286011\n",
      "physician 0.037808869034051895\n",
      "man 0.02467213198542595\n",
      "nurse 0.0221880991011858\n",
      "surgeon 0.019407344982028008\n",
      "officer 0.007634335197508335\n",
      "captain 0.007233228534460068\n",
      "patient 0.006821869872510433\n",
      "professor 0.003449886804446578\n",
      "president 0.0032858734484761953\n"
     ]
    }
   ],
   "source": [
    "masked_index = tokenized_text.index('[MASK]')\n",
    "predicted_index = torch.argmax(predictions[0, masked_index]).item()\n",
    "predicted_token = tokenizer.convert_ids_to_tokens([predicted_index])[0]\n",
    "\n",
    "print(\"Candidate - Probability\\n\")\n",
    "prob = F.softmax(predictions[0, masked_index], dim = 0)\n",
    "prob_predicted_values, prob_predicted_indices = prob.topk(TOPK, dim=0, largest=True, sorted=True)\n",
    "word_cands = []\n",
    "for i in range(TOPK):\n",
    "  cur_predicted_token = tokenizer.convert_ids_to_tokens([prob_predicted_indices[i].item()])[0]\n",
    "  tmp = []\n",
    "  tmp.append(cur_predicted_token)\n",
    "  tmp.append(prob_predicted_values[i].item())\n",
    "  word_cands.append(tmp)\n",
    "  print(tmp[0], tmp[1])"
   ]
  },
  {
   "cell_type": "code",
   "execution_count": 11,
   "metadata": {
    "colab": {
     "base_uri": "https://localhost:8080/",
     "height": 187
    },
    "id": "-hWAgIZfD39_",
    "outputId": "7f9f657a-327c-4112-e273-591c7f89ef4b"
   },
   "outputs": [
    {
     "data": {
      "text/plain": [
       "[['doctor', 0.7731055021286011],\n",
       " ['physician', 0.037808869034051895],\n",
       " ['man', 0.02467213198542595],\n",
       " ['nurse', 0.0221880991011858],\n",
       " ['surgeon', 0.019407344982028008],\n",
       " ['officer', 0.007634335197508335],\n",
       " ['captain', 0.007233228534460068],\n",
       " ['patient', 0.006821869872510433],\n",
       " ['professor', 0.003449886804446578],\n",
       " ['president', 0.0032858734484761953]]"
      ]
     },
     "execution_count": 11,
     "metadata": {},
     "output_type": "execute_result"
    }
   ],
   "source": [
    "word_cands"
   ]
  },
  {
   "cell_type": "markdown",
   "metadata": {
    "id": "0rs12RazF3Kq"
   },
   "source": [
    "\n",
    "Create the word vectors by summing together the last four layers from hidden states\n",
    "\n",
    "https://colab.research.google.com/drive/1yFphU6PW9Uo6lmDly_ud9a6c4RCYlwdX#scrollTo=eYXUwiG0yhBS"
   ]
  },
  {
   "cell_type": "code",
   "execution_count": null,
   "metadata": {
    "colab": {
     "base_uri": "https://localhost:8080/",
     "height": 34
    },
    "id": "1kA3NHsUD4D7",
    "outputId": "8b4c8235-8b11-4c02-9d25-92f6da5573ed"
   },
   "outputs": [
    {
     "data": {
      "text/plain": [
       "torch.Size([13, 1, 29, 768])"
      ]
     },
     "execution_count": 11,
     "metadata": {
      "tags": []
     },
     "output_type": "execute_result"
    }
   ],
   "source": [
    "# Concatenate the tensors for all layers. \n",
    "token_embeddings = torch.stack(hidden_states, dim=0)\n",
    "token_embeddings.size()"
   ]
  },
  {
   "cell_type": "code",
   "execution_count": null,
   "metadata": {
    "colab": {
     "base_uri": "https://localhost:8080/",
     "height": 34
    },
    "id": "RSMySj9AF-lC",
    "outputId": "aac9e75b-2ef0-4518-eae8-f510c8cfb5ee"
   },
   "outputs": [
    {
     "data": {
      "text/plain": [
       "torch.Size([13, 29, 768])"
      ]
     },
     "execution_count": 12,
     "metadata": {
      "tags": []
     },
     "output_type": "execute_result"
    }
   ],
   "source": [
    "# Remove dimension 1, the \"batches\".\n",
    "token_embeddings = torch.squeeze(token_embeddings, dim=1)\n",
    "token_embeddings.size()"
   ]
  },
  {
   "cell_type": "code",
   "execution_count": null,
   "metadata": {
    "id": "-Ktk3vI-GRv5"
   },
   "outputs": [],
   "source": [
    "token_embeddings = token_embeddings.permute(1,0,2)"
   ]
  },
  {
   "cell_type": "code",
   "execution_count": null,
   "metadata": {
    "colab": {
     "base_uri": "https://localhost:8080/",
     "height": 34
    },
    "id": "FbiPZJWAGWkb",
    "outputId": "78a65abc-cf34-4c58-e3d9-a4ae6ab84777"
   },
   "outputs": [
    {
     "name": "stdout",
     "output_type": "stream",
     "text": [
      "Shape is: 29 x 768\n"
     ]
    }
   ],
   "source": [
    "# Stores the token vectors, with shape [22 x 768]\n",
    "token_vecs_sum = []\n",
    "\n",
    "# `token_embeddings` is a [22 x 12 x 768] tensor.\n",
    "# For each token in the sentence...\n",
    "for token in token_embeddings:\n",
    "\n",
    "    # `token` is a [12 x 768] tensor\n",
    "    # Sum the vectors from the last four layers.\n",
    "    sum_vec = torch.sum(token[-4:], dim=0)\n",
    "    \n",
    "    # Use `sum_vec` to represent `token`.\n",
    "    token_vecs_sum.append(sum_vec)\n",
    "\n",
    "print ('Shape is: %d x %d' % (len(token_vecs_sum), len(token_vecs_sum[0])))"
   ]
  },
  {
   "cell_type": "code",
   "execution_count": null,
   "metadata": {
    "colab": {
     "base_uri": "https://localhost:8080/",
     "height": 510
    },
    "id": "aSV-C96lGbVK",
    "outputId": "399d749d-1c3b-44b5-e434-1d1b9e8c0821"
   },
   "outputs": [
    {
     "name": "stdout",
     "output_type": "stream",
     "text": [
      "0 [CLS]\n",
      "1 sp\n",
      "2 ##ut\n",
      "3 ##um\n",
      "4 is\n",
      "5 usually\n",
      "6 yellow\n",
      "7 or\n",
      "8 clear\n",
      "9 and\n",
      "10 different\n",
      "11 from\n",
      "12 the\n",
      "13 green\n",
      "14 sp\n",
      "15 ##ut\n",
      "16 ##um\n",
      "17 that\n",
      "18 is\n",
      "19 more\n",
      "20 often\n",
      "21 associated\n",
      "22 with\n",
      "23 lower\n",
      "24 [MASK]\n",
      "25 tract\n",
      "26 infections\n",
      "27 .\n",
      "28 [SEP]\n"
     ]
    }
   ],
   "source": [
    "for i, token_str in enumerate(tokenized_text):\n",
    "  print (i, token_str)"
   ]
  },
  {
   "cell_type": "code",
   "execution_count": null,
   "metadata": {
    "colab": {
     "base_uri": "https://localhost:8080/",
     "height": 34
    },
    "id": "iI2KX8BPGgBa",
    "outputId": "123415bf-c34e-483b-b8dc-8e96b32772e3"
   },
   "outputs": [
    {
     "data": {
      "text/plain": [
       "tensor([-2.0478, -0.3244, -0.6018, -2.4874, -0.1112])"
      ]
     },
     "execution_count": 16,
     "metadata": {
      "tags": []
     },
     "output_type": "execute_result"
    }
   ],
   "source": [
    "token_vecs_sum[0][:5]"
   ]
  },
  {
   "cell_type": "code",
   "execution_count": null,
   "metadata": {
    "colab": {
     "base_uri": "https://localhost:8080/",
     "height": 34
    },
    "id": "JnjyvgrBGxfq",
    "outputId": "fe2028b5-8e4e-4098-f241-c51aa632e16d"
   },
   "outputs": [
    {
     "data": {
      "text/plain": [
       "29"
      ]
     },
     "execution_count": 18,
     "metadata": {
      "tags": []
     },
     "output_type": "execute_result"
    }
   ],
   "source": [
    "len(token_vecs_sum)"
   ]
  },
  {
   "cell_type": "markdown",
   "metadata": {
    "id": "C0MME3IMMqUY"
   },
   "source": [
    "## Detector for single sentence"
   ]
  },
  {
   "cell_type": "code",
   "execution_count": 12,
   "metadata": {
    "id": "fPxGQL8jnLXq"
   },
   "outputs": [],
   "source": [
    "# helper\n",
    "\n",
    "def isLetter(c):\n",
    "  if (c >= 'A' and c <= 'Z') or (c >= 'a' and c <= 'z'):\n",
    "    return True\n",
    "  return False\n",
    "\n",
    "def whole_word(tokenized_text, idx):\n",
    "  '''\n",
    "  Convert token pieces to a whole word\n",
    "  '''\n",
    "  if len(tokenized_text) == idx + 1:\n",
    "    if isLetter(tokenized_text[idx][0]):\n",
    "      return tokenized_text[idx]\n",
    "  \n",
    "  if isLetter(tokenized_text[idx][0]) and tokenized_text[idx + 1][0] != '#':\n",
    "    return tokenized_text[idx]\n",
    "  elif isLetter(tokenized_text[idx][0]) and tokenized_text[idx + 1][0] == '#':\n",
    "    ret_word = tokenized_text[idx].strip('#')\n",
    "    right = idx + 1\n",
    "    while (tokenized_text[right][0] == '#'):\n",
    "      ret_word = ret_word + tokenized_text[right].strip('#')\n",
    "      right += 1\n",
    "    return ret_word\n",
    "  elif tokenized_text[idx][0] == '#':\n",
    "    ret_word = tokenized_text[idx].strip('#')\n",
    "    left = idx - 1\n",
    "    right = idx + 1\n",
    "    while (tokenized_text[left][0] == '#'):\n",
    "      ret_word = tokenized_text[left].strip('#') + ret_word\n",
    "      left -= 1\n",
    "    ret_word = tokenized_text[left].strip('#') + ret_word\n",
    "    while (tokenized_text[right][0] == '#'):\n",
    "      ret_word = ret_word + tokenized_text[right].strip('#')\n",
    "      right += 1\n",
    "    return ret_word\n",
    "  return tokenized_text[idx]\n"
   ]
  },
  {
   "cell_type": "code",
   "execution_count": 53,
   "metadata": {
    "id": "CpfszcJnnOZx"
   },
   "outputs": [],
   "source": [
    "class SentDetector():\n",
    "  def __init__(self, model, tokenizer, k = 5):\n",
    "    self.model = model\n",
    "    self.tokenizer = tokenizer\n",
    "    self.topK = k\n",
    "\n",
    "  def generate_cands(self, tokenized_text, time_switch = False):\n",
    "    '''\n",
    "    Input: a tokenized sentence with [MASK] and specific model\n",
    "    Output: hidden_states - Hidden states of the model at the output of each layer plus the initial embedding outputs.\n",
    "            word_cands -  a list of candidate words and their probability\n",
    "    '''\n",
    "    # tokenized_text = tokenizer.tokenize(text)\n",
    "    # time \n",
    "    # t_start = time.time()\n",
    "    \n",
    "    indexed_tokens = self.tokenizer.convert_tokens_to_ids(tokenized_text)\n",
    "    segments_ids = [0] * len(tokenized_text)\n",
    "    # Convert inputs to PyTorch tensors\n",
    "    tokens_tensor = torch.tensor([indexed_tokens])\n",
    "    segments_tensors = torch.tensor([segments_ids])\n",
    "    # Predict hidden states features for each layer\n",
    "    # https://huggingface.co/transformers/model_doc/bert.html#bertformaskedlm\n",
    "    t_start = time.time()\n",
    "    with torch.no_grad(): # prediction\n",
    "        outputs = self.model(tokens_tensor, segments_tensors)\n",
    "    # time\n",
    "    t_model_end = time.time()\n",
    "    t_model = t_model_end - t_start\n",
    "    \n",
    "    predictions = outputs[0]\n",
    "    hidden_states = outputs[1]\n",
    "    masked_index = tokenized_text.index('[MASK]')\n",
    "    predicted_index = torch.argmax(predictions[0, masked_index]).item()\n",
    "    predicted_token = self.tokenizer.convert_ids_to_tokens([predicted_index])[0]\n",
    "    \n",
    "    #print(\"Candidate - Probability\\n\")\n",
    "    prob = F.softmax(predictions[0, masked_index], dim = 0)\n",
    "    prob_predicted_values, prob_predicted_indices = prob.topk(self.topK, dim=0, largest=True, sorted=True)\n",
    "    word_cands = []\n",
    "    for i in range(self.topK):\n",
    "      cur_predicted_token = self.tokenizer.convert_ids_to_tokens([prob_predicted_indices[i].item()])[0]\n",
    "      tmp = [cur_predicted_token, prob_predicted_values[i].item()]\n",
    "      word_cands.append(tmp)\n",
    "      #print(tmp[0], tmp[1])\n",
    "    t_calculation = time.time() - t_model_end\n",
    "    \n",
    "    if time_switch:\n",
    "        return hidden_states, word_cands, [t_model, t_calculation]\n",
    "    return hidden_states, word_cands\n",
    "\n",
    "  def cand_embeddings(self, word_cands):\n",
    "    '''\n",
    "    Get output embeddings of prediction words from the model\n",
    "    Output: a list of token and their embeddings\n",
    "    '''\n",
    "    output_embeddings = self.model.get_output_embeddings()\n",
    "    embedding_lst = []\n",
    "    for i in range(len(word_cands)):\n",
    "      cur_emb = output_embeddings.weight[self.tokenizer.convert_tokens_to_ids(word_cands[i][0])]\n",
    "      tmp = [word_cands[i][0], cur_emb]\n",
    "      embedding_lst.append(tmp)\n",
    "    return embedding_lst\n",
    "\n",
    "  def generate_raw_hidden(self):\n",
    "    '''\n",
    "    Generate embeddings for each token in the raw sentence\n",
    "    Output: hidden_states - Hidden-states of the model at the output of each layer plus the initial embedding outputs.\n",
    "    '''\n",
    "    #tokenized_text = self.tokenizer.tokenize(self.raw_text)\n",
    "    indexed_tokens = self.tokenizer.convert_tokens_to_ids(self.tokenized_raw_text)\n",
    "    segments_ids = [0] * self.length\n",
    "    # Convert inputs to PyTorch tensors\n",
    "    tokens_tensor = torch.tensor([indexed_tokens])\n",
    "    segments_tensors = torch.tensor([segments_ids])\n",
    "    # Predict hidden states features for each layer\n",
    "    with torch.no_grad(): # prediction\n",
    "        outputs = self.model(tokens_tensor, segments_tensors)\n",
    "    return outputs[1]\n",
    "\n",
    "  def raw_embeddings(self, LAST_LAYER = False):\n",
    "    '''\n",
    "    Output: list of tokens and their \"embeddings\" from original hidden states\n",
    "    Word embedding: sum over the last four layers (from BERT tutorial)\n",
    "    If last_layer == True, the last layer is used to encode embeddings\n",
    "    '''\n",
    "    hidden_states = self.generate_raw_hidden()\n",
    "    token_embeddings = torch.squeeze(torch.stack(hidden_states, dim = 0), dim = 1)\n",
    "    # switch around the \"layers\" and \"tokens\" dimensions with permute.\n",
    "    token_embeddings = token_embeddings.permute(1,0,2)\n",
    "    token_vecs_sum = []\n",
    "    # `token_embeddings` is a [#tokens x 12 x 768] tensor.\n",
    "    # For each token in the sentence...\n",
    "    for token in token_embeddings:\n",
    "        # `token` is a [12 x 768] tensor\n",
    "        # Sum the vectors from the last four layers. Or the last layer\n",
    "        if LAST_LAYER:\n",
    "            sum_vec = torch.sum(token[-2], dim=0)\n",
    "        else:\n",
    "            sum_vec = torch.sum(token[-4:], dim=0)\n",
    "        # Use `sum_vec` to represent `token`.\n",
    "        token_vecs_sum.append(sum_vec)\n",
    "    return token_vecs_sum\n",
    "\n",
    "  def mask_ith_token(self, i):\n",
    "    '''\n",
    "    Output: text with the ith token masked\n",
    "    '''\n",
    "    # tokenized_text = tokenizer.tokenize(text)\n",
    "    res = copy.deepcopy(self.tokenized_raw_text)\n",
    "    res[i] = '[MASK]' \n",
    "    return res\n",
    "\n",
    "  def cal_similarity(self, candidates, raw_emb):\n",
    "    '''\n",
    "    Input: masked sentence\n",
    "    Output: a list of cosine similarities between each candidate and the original word\n",
    "    '''\n",
    "    similarities = []\n",
    "    embedding_lst = self.cand_embeddings(candidates)\n",
    "    for word, cur_emb in embedding_lst:\n",
    "      cos_sim = 1 - cosine(raw_emb.numpy(), cur_emb.detach().numpy())\n",
    "      similarities.append([word,cos_sim])\n",
    "\n",
    "    return similarities\n",
    "\n",
    "  def changeModel(self, model, tokenizer):\n",
    "    self.model = model\n",
    "    self.tokenizer = tokenizer\n",
    "\n",
    "  def changeK(self, k):\n",
    "    self.topK = k\n",
    "\n",
    "  def token_run(self, text, verbose = False):\n",
    "    self.raw_text = '[CLS] ' + text + ' [SEP]' #text\n",
    "    self.tokenized_raw_text = self.tokenizer.tokenize(self.raw_text)\n",
    "    self.length = len(self.tokenized_raw_text)\n",
    "\n",
    "    #similarity scores\n",
    "    simi_scores = [1]\n",
    "    raw_emb = self.raw_embeddings()\n",
    "\n",
    "    for i in range(1, self.length - 1):\n",
    "      cur_masked_tokens = self.mask_ith_token(i)\n",
    "      hidden, candidates = self.generate_cands(cur_masked_tokens)\n",
    "      if verbose:\n",
    "        print(cur_masked_tokens)\n",
    "      similarities = self.cal_similarity(candidates, raw_emb[i])\n",
    "      # prob * similarity\n",
    "      simi_scores.append(np.sum([(candidates[i][1] * similarities[i][1]) for i in range(self.topK)]))\n",
    "      if verbose:\n",
    "        print(\"Candidates - Probability\")\n",
    "        print(candidates)\n",
    "        print(\"Similarity\")\n",
    "        print(similarities)\n",
    "        print('\\n')\n",
    "    #min_vals = torch.from_numpy(simi_scores).topk(3, largest = False)\n",
    "    min_vals =  np.argsort(simi_scores)[:self.topK]\n",
    "    suspect_idx = simi_scores.index(np.min(simi_scores))\n",
    "    #print(simi_scores)\n",
    "    print(\"The suspected words are: \" )\n",
    "    #print(\"\\nThe suspect word is : \" , tokenized_text[suspect_idx])\n",
    "    i = 1\n",
    "    for idx in min_vals:\n",
    "      print(i, self.tokenized_raw_text[idx], simi_scores[idx])\n",
    "      i += 1\n",
    "      #print(tokenized_text[simi_scores[val]]+\", \")\n",
    "    return\n",
    "\n",
    "  def run_ret(self, text, verbose = False):\n",
    "    \"\"\"\n",
    "    return a list of candidates and similarity scores in text form\n",
    "    \"\"\"\n",
    "    self.raw_text = '[CLS] ' + text + ' [SEP]' #text\n",
    "    self.tokenized_raw_text = self.tokenizer.tokenize(self.raw_text)\n",
    "    self.length = len(self.tokenized_raw_text)\n",
    "\n",
    "    #similarity scores\n",
    "    simi_scores = [1]\n",
    "    raw_emb = self.raw_embeddings()\n",
    "\n",
    "    for i in range(1, self.length - 1):\n",
    "      cur_masked_tokens = self.mask_ith_token(i)\n",
    "      hidden, candidates = self.generate_cands(cur_masked_tokens)\n",
    "      if verbose:\n",
    "        print(cur_masked_tokens)\n",
    "      similarities = self.cal_similarity(candidates, raw_emb[i])\n",
    "      # prob * similarity\n",
    "      simi_scores.append(np.sum([(candidates[i][1] * similarities[i][1]) for i in range(self.topK)]))\n",
    "      if verbose:\n",
    "        print(\"Candidates - Probability\")\n",
    "        print(candidates)\n",
    "        print(\"Similarity\")\n",
    "        print(similarities)\n",
    "        print('\\n')\n",
    "    #min_vals = torch.from_numpy(simi_scores).topk(3, largest = False)\n",
    "    min_vals =  np.argsort(simi_scores)[:self.topK]\n",
    "    suspect_idx = simi_scores.index(np.min(simi_scores))\n",
    "    #print(simi_scores)\n",
    "    #print(\"The suspected words are: \" )\n",
    "    ret = \"The suspected words are: \\n\" \n",
    "    ret_list = []\n",
    "    #print(\"\\nThe suspect word is : \" , tokenized_text[suspect_idx])\n",
    "    i = 1\n",
    "    word_set = set() # for duplicate detection\n",
    "    for idx in min_vals:\n",
    "      #print(i, self.tokenized_raw_text[idx], simi_scores[idx])\n",
    "      cur_word = whole_word(self.tokenized_raw_text, idx)\n",
    "      if cur_word in word_set or not isLetter(cur_word[0]):\n",
    "        continue\n",
    "      else:\n",
    "        tmp = []\n",
    "        ret += str(i)\n",
    "        tmp.append(cur_word)\n",
    "        tmp.append(simi_scores[idx])\n",
    "        ret_list.append(tmp)\n",
    "        ret += \". \"\n",
    "        ret += cur_word\n",
    "        ret += \"\\n\"\n",
    "        word_set.add(cur_word)\n",
    "      i += 1\n",
    "      if i == 6:\n",
    "        break\n",
    "      #print(tokenized_text[simi_scores[val]]+\", \")\n",
    "    return ret_list\n",
    "\n",
    "  def run(self, text, verbose = False, last_layer = False):\n",
    "    \"\"\"\n",
    "    Main API for detector\n",
    "    \"\"\"\n",
    "    # time\n",
    "    t_start = time.time()\n",
    "    t_cands = 0\n",
    "    t_cands_model = 0\n",
    "    t_cands_prediction = 0\n",
    "    t_simis = 0\n",
    "    \n",
    "    self.raw_text = '[CLS] ' + text + ' [SEP]' #text\n",
    "    self.tokenized_raw_text = self.tokenizer.tokenize(self.raw_text)\n",
    "    self.length = len(self.tokenized_raw_text)\n",
    "\n",
    "    #similarity scores\n",
    "    simi_scores = [1]\n",
    "    # if LAST_LAYER is True, the last layer of hidden states is used to generate embeddings\n",
    "    raw_emb = self.raw_embeddings(LAST_LAYER=last_layer)\n",
    "    candidates_lst = []\n",
    "\n",
    "    for i in range(1, self.length - 1):\n",
    "      cur_masked_tokens = self.mask_ith_token(i)\n",
    "      t_cands_start = time.time()\n",
    "      hidden, candidates, time_lst = self.generate_cands(cur_masked_tokens, True)\n",
    "      candidates_lst.append(candidates)\n",
    "      t_cands_model += time_lst[0]\n",
    "      t_cands_prediction += time_lst[1]\n",
    "      t_cands += (time.time()-t_cands_start)\n",
    "    \n",
    "      # if top 5 candidates involved the original token, continue\n",
    "      \"\"\"\n",
    "      cands_set = (candidates[i][0] for i in range(len(candidates)))\n",
    "      if self.tokenized_raw_text[i][0] in cands_set:\n",
    "        continue\n",
    "      \"\"\"\n",
    "      if verbose:\n",
    "        print(cur_masked_tokens)\n",
    "      t_simis_start = time.time()\n",
    "      similarities = self.cal_similarity(candidates, raw_emb[i])\n",
    "      # prob * similarity\n",
    "      simi_scores.append(np.sum([(candidates[i][1] * similarities[i][1]) for i in range(self.topK)]))\n",
    "      t_simis += (time.time()-t_simis_start)\n",
    "      if verbose:\n",
    "        print(\"Candidates - Probability\")\n",
    "        print(candidates)\n",
    "        print(\"Similarity\")\n",
    "        print(similarities)\n",
    "        print('\\n')\n",
    "    #min_vals = torch.from_numpy(simi_scores).topk(3, largest = False)\n",
    "    min_vals =  np.argsort(simi_scores)[:self.topK]\n",
    "    suspect_idx = simi_scores.index(np.min(simi_scores))\n",
    "    #print(simi_scores)\n",
    "    print(\"The suspected words are: \" )\n",
    "    #print(\"\\nThe suspect word is : \" , tokenized_text[suspect_idx])\n",
    "    i = 1\n",
    "    most_suspected_idx = 0\n",
    "    word_set = set() # for duplicate detection\n",
    "    for idx in min_vals:\n",
    "      #print(i, self.tokenized_raw_text[idx], simi_scores[idx])\n",
    "      cur_word = whole_word(self.tokenized_raw_text, idx)\n",
    "      if cur_word in word_set or not isLetter(cur_word[0]):\n",
    "        continue\n",
    "      else:\n",
    "        if i == 1:\n",
    "            most_suspected_idx = idx\n",
    "        word_set.add(cur_word)\n",
    "        print(i, cur_word, simi_scores[idx])\n",
    "        i += 1\n",
    "      if i == 6:\n",
    "        break\n",
    "      #print(tokenized_text[simi_scores[val]]+\", \")\n",
    "    t_total = time.time() - t_start\n",
    "    print(\"Total time cost: %f seconds\"%t_total)\n",
    "    print(\"Time to generate candidates: %f s, %f\"%(t_cands, t_cands/t_total))\n",
    "    print(\"Time (in cands) run model: %f s, %f\"%(t_cands_model, t_cands_model/t_total))\n",
    "    print(\"Time (in cands) similarity: %f s, %f\"%(t_cands_prediction, t_cands_prediction/t_total))\n",
    "    print(\"Time to measure similarity: %f s, %f\"%(t_simis, t_simis/t_total))\n",
    "    \n",
    "    print(\"Possible words are:\")\n",
    "    return candidates_lst[most_suspected_idx-1]\n",
    "\n",
    "  def detect_ret(self, text, verbose = False, last_layer = False):\n",
    "    \"\"\"\n",
    "    return a list of candidates.\n",
    "    \"\"\"\n",
    "    self.raw_text = '[CLS] ' + text + ' [SEP]' #text\n",
    "    self.tokenized_raw_text = self.tokenizer.tokenize(self.raw_text)\n",
    "    self.length = len(self.tokenized_raw_text)\n",
    "\n",
    "    #similarity scores\n",
    "    simi_scores = [1]\n",
    "    raw_emb = self.raw_embeddings(LAST_LAYER=last_layer)\n",
    "    \n",
    "    candidates_lst = []\n",
    "\n",
    "    for i in range(1, self.length - 1):\n",
    "      cur_masked_tokens = self.mask_ith_token(i)\n",
    "      hidden, candidates = self.generate_cands(cur_masked_tokens)\n",
    "      candidates_lst.append(candidates)\n",
    "    \n",
    "    # if top 5 candidates involved the original token, continue\n",
    "      cands_set = (candidates[i][0] for i in range(len(candidates)))\n",
    "      if self.tokenized_raw_text[i][0] in cands_set:\n",
    "        continue\n",
    "    \n",
    "      if verbose:\n",
    "        print(cur_masked_tokens)\n",
    "      similarities = self.cal_similarity(candidates, raw_emb[i])\n",
    "      # prob * similarity\n",
    "      simi_scores.append(np.sum([(candidates[i][1] * similarities[i][1]) for i in range(self.topK)]))\n",
    "      if verbose:\n",
    "        print(\"Candidates - Probability\")\n",
    "        print(candidates)\n",
    "        print(\"Similarity\")\n",
    "        print(similarities)\n",
    "        print('\\n')\n",
    "    #min_vals = torch.from_numpy(simi_scores).topk(3, largest = False)\n",
    "    min_vals =  np.argsort(simi_scores)[:self.topK]\n",
    "    suspect_idx = simi_scores.index(np.min(simi_scores))\n",
    "    ret = []\n",
    "    #print(\"\\nThe suspect word is : \" , tokenized_text[suspect_idx])\n",
    "    i = 1\n",
    "    word_set = set() # for duplicate detection\n",
    "    for idx in min_vals:\n",
    "      #print(i, self.tokenized_raw_text[idx], simi_scores[idx])\n",
    "      cur_word = whole_word(self.tokenized_raw_text, idx)\n",
    "      if cur_word in word_set or not isLetter(cur_word[0]):\n",
    "        continue\n",
    "      else:\n",
    "        ret.append(cur_word)\n",
    "        word_set.add(cur_word)\n",
    "        #print(i, cur_word, simi_scores[idx])\n",
    "      i += 1\n",
    "      if i == 6:\n",
    "        break\n",
    "      #print(tokenized_text[simi_scores[val]]+\", \")\n",
    "    return ret\n",
    "\n",
    "  def model_eval(self, error_sentences, error_words, verbose = False, last_layer = False):\n",
    "    \"\"\"\n",
    "    Do evaluation on the model\n",
    "    error_sentences: a list of sentences containing errors\n",
    "    error_words: the error word in the corresponding sentence \n",
    "    k: hits@k\n",
    "    \"\"\"\n",
    "    pos1 = 0\n",
    "    lst1 = []\n",
    "    pos3 = 0\n",
    "    lst3 = []\n",
    "    pos5 = 0\n",
    "    lst5 = []\n",
    "    lst0 = [] # miss\n",
    "    start = time.time()\n",
    "    prev_stamp = start\n",
    "    num = len(error_sentences)\n",
    "    for i in range(num):\n",
    "      suspects = self.detect_ret(' '.join(error_sentences[i]), last_layer = last_layer)\n",
    "      if error_words[i][0] in set(suspects[:1]):\n",
    "        lst1.append(i)\n",
    "        pos1 += 1\n",
    "        pos3 += 1\n",
    "        pos5 += 1\n",
    "      elif error_words[i][0] in set(suspects[:3]):\n",
    "        lst3.append(i)\n",
    "        pos3 += 1\n",
    "        pos5 += 1\n",
    "      elif error_words[i][0] in set(suspects[:5]):\n",
    "        lst5.append(i)\n",
    "        pos5 += 1\n",
    "      else:\n",
    "        lst0.append(i)\n",
    "      if i % 100 == 0 and i > 0:\n",
    "        cur_stamp = time.time()\n",
    "        print(\"Finished %d sentences, hits@1=%f, hits@3=%f, hits@5=%f\"%(i, pos1/i, pos3/i, pos5/i))\n",
    "        print(\"Time cost: %f seconds\"%(cur_stamp-prev_stamp))\n",
    "        prev_stamp = cur_stamp\n",
    "    if verbose:\n",
    "      print(\"Done. Accuracy: hits@1=%f, hits@3=%f, hits@5=%f\"%(pos1/num, pos3/num, pos5/num))\n",
    "      print(\"Total time cost: %f seconds.\"%(time.time()-start))\n",
    "    return lst1, lst3, lst5, lst0\n",
    "\n",
    "  def model_eval_two_errors(self, error_sentences, error_words, verbose = False):\n",
    "    only5 = 0 # only one error is detected in top 5 suspected candidates\n",
    "    pos2 = 0 # two errors are detected in top 2 candidates\n",
    "    pos5 = 0 # two errors are detected in top 5 candidates\n",
    "    miss = 0\n",
    "    cnt = 0\n",
    "    num = len(error_sentences)\n",
    "    for i in range(num):\n",
    "      cnt += 1\n",
    "      suspects = self.detect_ret(text_changed_300[i])\n",
    "\n",
    "      errors = re.findall(r\"['\\\"](.*?)['\\\"]\", word_error_300[i])\n",
    "      if errors[0] in set(suspects[:2]) and errors[1] in set(suspects[:2]):\n",
    "        pos2 += 1\n",
    "        pos5 += 1\n",
    "      elif errors[0] in set(suspects[:5]) and errors[1] in set(suspects[:5]):\n",
    "        pos5 += 1\n",
    "      elif errors[0] in set(suspects[:5]) and errors[1] not in set(suspects[:5]):\n",
    "        only5 += 1\n",
    "      elif errors[1] in set(suspects[:5]) and errors[0] not in set(suspects[:5]):\n",
    "        only5 += 1\n",
    "      else:\n",
    "        miss += 1\n",
    "      \n",
    "      if cnt % 10 == 0 and cnt > 0:\n",
    "        print(\"Finished %d sentences, 2hits@2=%f, 2hits@5=%f, 1hit@5=%f, miss=%f\"%(cnt, pos2/cnt, pos5/cnt, only5/cnt, miss/cnt))\n",
    "    if verbose:\n",
    "      print(\"Done. Accuracy: 2hits@2=%f, 2hits@5=%f, 1hit@5=%f, miss=%f\"%(pos2/num, pos5/num, only5/num, miss/num))\n",
    "    return\n",
    "\n"
   ]
  },
  {
   "cell_type": "code",
   "execution_count": null,
   "metadata": {},
   "outputs": [],
   "source": []
  },
  {
   "cell_type": "markdown",
   "metadata": {},
   "source": [
    "## time"
   ]
  },
  {
   "cell_type": "code",
   "execution_count": 55,
   "metadata": {},
   "outputs": [
    {
     "name": "stdout",
     "output_type": "stream",
     "text": [
      "The suspected words are: \n",
      "1 cute 0.010036542469679248\n",
      "2 bilateral 0.012257644587384266\n",
      "3 larger 0.019410339270202737\n",
      "4 airspace 0.043114821800348785\n",
      "5 diagnosis 0.0642971906864047\n",
      "Total time cost: 1.284535 seconds\n",
      "Time to generate candidates: 1.197376 s, 0.932148\n",
      "Time (in cands) run model: 1.182584 s, 0.920632\n",
      "Time (in cands) similarity: 0.010267 s, 0.007993\n",
      "Time to measure similarity: 0.018566 s, 0.014453\n",
      "Possible words are:\n"
     ]
    },
    {
     "data": {
      "text/plain": [
       "[['small', 0.07552308589220047],\n",
       " ['simple', 0.047786079347133636],\n",
       " ['partial', 0.039922211319208145],\n",
       " ['typical', 0.03465066850185394],\n",
       " ['positive', 0.029797350987792015],\n",
       " ['specific', 0.021762579679489136],\n",
       " ['standard', 0.02091819979250431],\n",
       " ['single', 0.020128360018134117],\n",
       " ['term', 0.01891198195517063],\n",
       " ['full', 0.017855331301689148]]"
      ]
     },
     "execution_count": 55,
     "metadata": {},
     "output_type": "execute_result"
    }
   ],
   "source": [
    "TOPK = 10\n",
    "text = 'A cute bilateral airspace opacification is a subset of the larger differential diagnosis for airspace opacification.'\n",
    "test = SentDetector(basemodel, basetokenizer, TOPK)\n",
    "test.run(text)"
   ]
  },
  {
   "cell_type": "code",
   "execution_count": 56,
   "metadata": {},
   "outputs": [
    {
     "name": "stdout",
     "output_type": "stream",
     "text": [
      "The suspected words are: \n",
      "1 cute 0.010036542469679248\n",
      "2 bilateral 0.012257644587384266\n",
      "3 larger 0.019410339270202737\n",
      "4 airspace 0.043114821800348785\n",
      "5 diagnosis 0.0642971906864047\n",
      "Total time cost: 1.261043 seconds\n",
      "Time to generate candidates: 1.170305 s, 0.928045\n",
      "Time (in cands) run model: 1.156626 s, 0.917198\n",
      "Time (in cands) similarity: 0.009296 s, 0.007372\n",
      "Time to measure similarity: 0.018417 s, 0.014604\n",
      "Possible words are:\n"
     ]
    },
    {
     "data": {
      "text/plain": [
       "[['small', 0.07552308589220047],\n",
       " ['simple', 0.047786079347133636],\n",
       " ['partial', 0.039922211319208145],\n",
       " ['typical', 0.03465066850185394],\n",
       " ['positive', 0.029797350987792015],\n",
       " ['specific', 0.021762579679489136],\n",
       " ['standard', 0.02091819979250431],\n",
       " ['single', 0.020128360018134117],\n",
       " ['term', 0.01891198195517063],\n",
       " ['full', 0.017855331301689148]]"
      ]
     },
     "execution_count": 56,
     "metadata": {},
     "output_type": "execute_result"
    }
   ],
   "source": [
    "test.run(text, last_layer=False)"
   ]
  },
  {
   "cell_type": "code",
   "execution_count": 46,
   "metadata": {},
   "outputs": [
    {
     "data": {
      "text/plain": [
       "[['cute', 0.010036542469679248],\n",
       " ['bilateral', 0.012257644587384266],\n",
       " ['larger', 0.019410339270202737],\n",
       " ['airspace', 0.043114821800348785],\n",
       " ['diagnosis', 0.0642971906864047]]"
      ]
     },
     "execution_count": 46,
     "metadata": {},
     "output_type": "execute_result"
    }
   ],
   "source": [
    "test.run_ret(text)"
   ]
  },
  {
   "cell_type": "code",
   "execution_count": null,
   "metadata": {},
   "outputs": [],
   "source": []
  },
  {
   "cell_type": "code",
   "execution_count": null,
   "metadata": {},
   "outputs": [],
   "source": []
  },
  {
   "cell_type": "code",
   "execution_count": null,
   "metadata": {},
   "outputs": [],
   "source": []
  },
  {
   "cell_type": "markdown",
   "metadata": {
    "id": "x3mXOzXfVtJH"
   },
   "source": [
    "### new vocab test"
   ]
  },
  {
   "cell_type": "code",
   "execution_count": null,
   "metadata": {
    "colab": {
     "base_uri": "https://localhost:8080/",
     "height": 419
    },
    "id": "65ly0SANrz_H",
    "outputId": "57a2f5df-764f-4f7f-9567-fc86d6da2030"
   },
   "outputs": [
    {
     "data": {
      "text/html": [
       "<div>\n",
       "<style scoped>\n",
       "    .dataframe tbody tr th:only-of-type {\n",
       "        vertical-align: middle;\n",
       "    }\n",
       "\n",
       "    .dataframe tbody tr th {\n",
       "        vertical-align: top;\n",
       "    }\n",
       "\n",
       "    .dataframe thead th {\n",
       "        text-align: right;\n",
       "    }\n",
       "</style>\n",
       "<table border=\"1\" class=\"dataframe\">\n",
       "  <thead>\n",
       "    <tr style=\"text-align: right;\">\n",
       "      <th></th>\n",
       "      <th>sentences</th>\n",
       "      <th>word</th>\n",
       "    </tr>\n",
       "  </thead>\n",
       "  <tbody>\n",
       "    <tr>\n",
       "      <th>0</th>\n",
       "      <td>Traditionally three factors are used to calcul...</td>\n",
       "      <td>gestation</td>\n",
       "    </tr>\n",
       "    <tr>\n",
       "      <th>1</th>\n",
       "      <td>≤11 ribs is associated with a number of congen...</td>\n",
       "      <td>sequelae</td>\n",
       "    </tr>\n",
       "    <tr>\n",
       "      <th>2</th>\n",
       "      <td>The 1-2-3 rule is a simple aide-m é moire desc...</td>\n",
       "      <td>ovary</td>\n",
       "    </tr>\n",
       "    <tr>\n",
       "      <th>3</th>\n",
       "      <td>In diagnosing sCJD, the sensitivity of 14-3-3 ...</td>\n",
       "      <td>specificity</td>\n",
       "    </tr>\n",
       "    <tr>\n",
       "      <th>4</th>\n",
       "      <td>Conversely, 1.5T and 3T are incorrect, despite...</td>\n",
       "      <td>radiology</td>\n",
       "    </tr>\n",
       "    <tr>\n",
       "      <th>...</th>\n",
       "      <td>...</td>\n",
       "      <td>...</td>\n",
       "    </tr>\n",
       "    <tr>\n",
       "      <th>95</th>\n",
       "      <td>MR angiography offers a lack of ionizing radia...</td>\n",
       "      <td>angiography</td>\n",
       "    </tr>\n",
       "    <tr>\n",
       "      <th>96</th>\n",
       "      <td>Certain features and relevant negatives regard...</td>\n",
       "      <td>radiology</td>\n",
       "    </tr>\n",
       "    <tr>\n",
       "      <th>97</th>\n",
       "      <td>longitudinal length shape (saccular/fusiform/e...</td>\n",
       "      <td>femoral</td>\n",
       "    </tr>\n",
       "    <tr>\n",
       "      <th>98</th>\n",
       "      <td>signs of impending rupture  branch-vessel diss...</td>\n",
       "      <td>femoral</td>\n",
       "    </tr>\n",
       "    <tr>\n",
       "      <th>99</th>\n",
       "      <td>Prognostic imaging criteria include: maximum t...</td>\n",
       "      <td>connective</td>\n",
       "    </tr>\n",
       "  </tbody>\n",
       "</table>\n",
       "<p>100 rows × 2 columns</p>\n",
       "</div>"
      ],
      "text/plain": [
       "                                            sentences         word\n",
       "0   Traditionally three factors are used to calcul...    gestation\n",
       "1   ≤11 ribs is associated with a number of congen...     sequelae\n",
       "2   The 1-2-3 rule is a simple aide-m é moire desc...        ovary\n",
       "3   In diagnosing sCJD, the sensitivity of 14-3-3 ...  specificity\n",
       "4   Conversely, 1.5T and 3T are incorrect, despite...    radiology\n",
       "..                                                ...          ...\n",
       "95  MR angiography offers a lack of ionizing radia...  angiography\n",
       "96  Certain features and relevant negatives regard...    radiology\n",
       "97  longitudinal length shape (saccular/fusiform/e...      femoral\n",
       "98  signs of impending rupture  branch-vessel diss...      femoral\n",
       "99  Prognostic imaging criteria include: maximum t...   connective\n",
       "\n",
       "[100 rows x 2 columns]"
      ]
     },
     "execution_count": 10,
     "metadata": {
      "tags": []
     },
     "output_type": "execute_result"
    }
   ],
   "source": [
    "df = pd.read_csv('/gdrive/My Drive/nlp/new_vocab_sentences_and_words.csv')\n",
    "df"
   ]
  },
  {
   "cell_type": "code",
   "execution_count": null,
   "metadata": {
    "id": "2zl9-qxur30O"
   },
   "outputs": [],
   "source": [
    "new_sentences = df['sentences'].tolist()\n",
    "new_words = df['word'].tolist()"
   ]
  },
  {
   "cell_type": "code",
   "execution_count": 16,
   "metadata": {
    "id": "hKO-e-V6h1sC"
   },
   "outputs": [],
   "source": [
    "TOPK = 10\n",
    "test = SentDetector(basemodel, basetokenizer, TOPK)"
   ]
  },
  {
   "cell_type": "code",
   "execution_count": null,
   "metadata": {
    "colab": {
     "base_uri": "https://localhost:8080/",
     "height": 68
    },
    "id": "kKQPT7dVxjD1",
    "outputId": "769b3315-293c-4a2b-810e-238fda0e9e18"
   },
   "outputs": [
    {
     "name": "stdout",
     "output_type": "stream",
     "text": [
      "The contralateral arm should remain at her side, and the ipsilateral hand may grip the lower aspect of the image receptor.\n",
      "\n",
      "contralateral\n"
     ]
    }
   ],
   "source": [
    "i = 16\n",
    "print(new_sentences[i])\n",
    "print(new_words[i])"
   ]
  },
  {
   "cell_type": "code",
   "execution_count": 17,
   "metadata": {
    "id": "FetsK0UdxnVe"
   },
   "outputs": [],
   "source": [
    "s = 'The contralateral arm should remain at her side, and the ipsilateral hand may grip the lower aspect of the image receptor.'"
   ]
  },
  {
   "cell_type": "code",
   "execution_count": 18,
   "metadata": {
    "colab": {
     "base_uri": "https://localhost:8080/",
     "height": 119
    },
    "id": "2PjNfoxbxfD-",
    "outputId": "607f5ff5-2b39-4b5a-f50e-515cd0c30956"
   },
   "outputs": [
    {
     "name": "stdout",
     "output_type": "stream",
     "text": [
      "The suspected words are: \n",
      "1 receptor 0.0015143472588366332\n",
      "2 image 0.017248867488679195\n",
      "3 lower 0.027451542443099584\n",
      "4 grip 0.028485153277436295\n",
      "5 should 0.07704748544755005\n"
     ]
    }
   ],
   "source": [
    "test.changeModel(basemodel, basetokenizer)\n",
    "test.run(s)"
   ]
  },
  {
   "cell_type": "code",
   "execution_count": null,
   "metadata": {
    "colab": {
     "base_uri": "https://localhost:8080/",
     "height": 119
    },
    "id": "EI4N19z-xSwV",
    "outputId": "036b58c4-7503-4bac-f0a9-56f9fb22268e"
   },
   "outputs": [
    {
     "name": "stdout",
     "output_type": "stream",
     "text": [
      "The suspected words are: \n",
      "1 image 0.008941538253444261\n",
      "2 receptor 0.020050673521148123\n",
      "3 controller 0.0274562314546059\n",
      "4 lower 0.03468271347222463\n",
      "5 grip 0.04339026991664381\n"
     ]
    }
   ],
   "source": [
    "test.changeModel(cli_bert_report_ft_model, clitokenizer)\n",
    "test.run(s)"
   ]
  },
  {
   "cell_type": "code",
   "execution_count": null,
   "metadata": {
    "colab": {
     "base_uri": "https://localhost:8080/",
     "height": 68
    },
    "id": "hH12EEHVVtTm",
    "outputId": "8b899b14-3190-4a22-c9ac-8492a1dc414b"
   },
   "outputs": [
    {
     "name": "stdout",
     "output_type": "stream",
     "text": [
      "The kidneys, ureters, bladder (KUB) radiograph is optimized for assessment of the urogenital system, and should not be confused with the AP supine abdomen view .\n",
      "\n",
      "radiograph\n"
     ]
    }
   ],
   "source": [
    "i = 53\n",
    "print(new_sentences[i])\n",
    "print(new_words[i])"
   ]
  },
  {
   "cell_type": "code",
   "execution_count": null,
   "metadata": {
    "id": "kyB9NnllVtaN"
   },
   "outputs": [],
   "source": [
    "s = 'The kidneys, ureters, bladder (KUB) radiograph is optimized for assessment of the urogenital system, and should not be confused with the AP supine abdomen view .'\n",
    "test.changeModel(basemodel, basetokenizer)\n",
    "test.run(s)"
   ]
  },
  {
   "cell_type": "code",
   "execution_count": null,
   "metadata": {
    "id": "oXMFwR6hh63c"
   },
   "outputs": [],
   "source": [
    "test.changeModel(cli_bert_report_ft_model, clitokenizer)\n",
    "test.run(s)"
   ]
  },
  {
   "cell_type": "code",
   "execution_count": null,
   "metadata": {
    "colab": {
     "base_uri": "https://localhost:8080/",
     "height": 68
    },
    "id": "WJCcohady7oK",
    "outputId": "9eb09fe6-31f0-441f-f3c9-273573798818"
   },
   "outputs": [
    {
     "name": "stdout",
     "output_type": "stream",
     "text": [
      "there should be no blurring of the bowel gas due to respiratory motion.\n",
      "\n",
      "bowel\n"
     ]
    }
   ],
   "source": [
    "i = 52\n",
    "print(new_sentences[i])\n",
    "print(new_words[i])"
   ]
  },
  {
   "cell_type": "code",
   "execution_count": null,
   "metadata": {
    "id": "cFcejZWYy7wa"
   },
   "outputs": [],
   "source": [
    "s = 'there should be no blurring of the bowel gas due to respiratory motion.'\n",
    "test.changeModel(basemodel, basetokenizer)\n",
    "test.run(s)"
   ]
  },
  {
   "cell_type": "code",
   "execution_count": null,
   "metadata": {
    "id": "HM-rOjCHy7t_"
   },
   "outputs": [],
   "source": [
    "test.changeModel(cli_bert_report_ft_model, clitokenizer)\n",
    "test.run(s)"
   ]
  },
  {
   "cell_type": "code",
   "execution_count": null,
   "metadata": {
    "id": "pfqeUInFy7ri"
   },
   "outputs": [],
   "source": []
  },
  {
   "cell_type": "code",
   "execution_count": null,
   "metadata": {
    "id": "SgIZ8M0Iy7l5"
   },
   "outputs": [],
   "source": []
  },
  {
   "cell_type": "markdown",
   "metadata": {
    "id": "5HQRlSMn8GtR"
   },
   "source": [
    "### test"
   ]
  },
  {
   "cell_type": "markdown",
   "metadata": {
    "id": "TMsn3eGumxxN"
   },
   "source": [
    "**basemodel**: official bert-base-uncased\n",
    "\n",
    "**rad_bert_ft_model**: based on bert-base-uncased, fine-tuned with whole radiopedia articles\n",
    "\n",
    "**cli_bert_ft_model**: based on clinical-bert, fine-tuned with whole radiopedia articles\n",
    "\n",
    "**rad_report_bert_ft_path**: based on our rad report bert, fine-tuned with whole radiopedia articles"
   ]
  },
  {
   "cell_type": "code",
   "execution_count": 35,
   "metadata": {
    "colab": {
     "base_uri": "https://localhost:8080/",
     "height": 119
    },
    "id": "tT3FB8cJ1mNA",
    "outputId": "20784486-ece8-4066-8ae7-3f7f145e2b29"
   },
   "outputs": [
    {
     "name": "stdout",
     "output_type": "stream",
     "text": [
      "The suspected words are: \n",
      "1 a 0.010036542469679248\n",
      "2 cute 0.012257644587384266\n",
      "3 of 0.019410339270202737\n",
      "4 bilateral 0.043114821800348785\n",
      "5 larger 0.0642971906864047\n",
      "Total time cost: 1.100781 seconds\n",
      "Time to generate candidates: 1.023503 s, 0.929797\n",
      "Time (in cands) run model: 1.010907 s, 0.918355\n",
      "Time (in cands) similarity: 0.008818 s, 0.008011\n",
      "Time to measure similarity: 0.013042 s, 0.011848\n",
      "Possible words are:\n"
     ]
    },
    {
     "data": {
      "text/plain": [
       "[['the', 0.35310477018356323],\n",
       " ['a', 0.18499699234962463],\n",
       " ['pediatric', 0.011854590848088264],\n",
       " ['severe', 0.011232191696763039],\n",
       " ['this', 0.011177385225892067],\n",
       " ['bilateral', 0.009978624992072582],\n",
       " ['very', 0.008367149159312248],\n",
       " ['chronic', 0.007273363880813122],\n",
       " ['congenital', 0.005338678136467934],\n",
       " ['hyper', 0.004566395655274391]]"
      ]
     },
     "execution_count": 35,
     "metadata": {},
     "output_type": "execute_result"
    }
   ],
   "source": [
    "TOPK = 10\n",
    "text = 'A cute bilateral airspace opacification is a subset of the larger differential diagnosis for airspace opacification.'\n",
    "test = SentDetector(basemodel, basetokenizer, TOPK)\n",
    "test.run(text)"
   ]
  },
  {
   "cell_type": "code",
   "execution_count": null,
   "metadata": {
    "colab": {
     "base_uri": "https://localhost:8080/",
     "height": 102
    },
    "id": "rbxKIE2bkyUA",
    "outputId": "7daa6295-181a-43d9-a694-e2d241078adc"
   },
   "outputs": [
    {
     "data": {
      "text/plain": [
       "[['cute', 0.010036780340255746],\n",
       " ['bilateral', 0.012263965784352002],\n",
       " ['larger', 0.01941094052036111],\n",
       " ['airspace', 0.04311686577852297],\n",
       " ['diagnosis', 0.06429604935333656]]"
      ]
     },
     "execution_count": 21,
     "metadata": {
      "tags": []
     },
     "output_type": "execute_result"
    }
   ],
   "source": [
    "test.run_ret(text)"
   ]
  },
  {
   "cell_type": "code",
   "execution_count": null,
   "metadata": {
    "colab": {
     "base_uri": "https://localhost:8080/",
     "height": 34
    },
    "id": "l8ZbQJ1kfGsN",
    "outputId": "cdfa1351-5548-4159-c348-eaec0181dd07"
   },
   "outputs": [
    {
     "data": {
      "text/plain": [
       "['cute', 'bilateral', 'larger', 'airspace', 'diagnosis']"
      ]
     },
     "execution_count": 22,
     "metadata": {
      "tags": []
     },
     "output_type": "execute_result"
    }
   ],
   "source": [
    "test.detect_ret(text)"
   ]
  },
  {
   "cell_type": "code",
   "execution_count": null,
   "metadata": {
    "colab": {
     "base_uri": "https://localhost:8080/",
     "height": 119
    },
    "id": "XUPs3FPORp02",
    "outputId": "ce2fe4d2-97c4-4631-f54d-b569fa16582b"
   },
   "outputs": [
    {
     "name": "stdout",
     "output_type": "stream",
     "text": [
      "The suspected words are: \n",
      "1 cute 0.006494828948423705\n",
      "2 larger 0.021565373141034964\n",
      "3 a 0.037794652680007465\n",
      "4 bilateral 0.0820879710694779\n",
      "5 subset 0.13144006781346337\n"
     ]
    }
   ],
   "source": [
    "test.changeModel(rad_bert_ft_model, basetokenizer)\n",
    "test.run(text)"
   ]
  },
  {
   "cell_type": "code",
   "execution_count": 36,
   "metadata": {
    "colab": {
     "base_uri": "https://localhost:8080/",
     "height": 119
    },
    "id": "9PXT3YdgPYnT",
    "outputId": "5f6c7585-229e-497b-fc96-a177dd06dce5"
   },
   "outputs": [
    {
     "ename": "NameError",
     "evalue": "name 'cli_bert_ft_model' is not defined",
     "output_type": "error",
     "traceback": [
      "\u001b[0;31m---------------------------------------------------------------------------\u001b[0m",
      "\u001b[0;31mNameError\u001b[0m                                 Traceback (most recent call last)",
      "\u001b[0;32m<ipython-input-36-d4795dfb6249>\u001b[0m in \u001b[0;36m<module>\u001b[0;34m\u001b[0m\n\u001b[0;32m----> 1\u001b[0;31m \u001b[0mtest\u001b[0m\u001b[0;34m.\u001b[0m\u001b[0mchangeModel\u001b[0m\u001b[0;34m(\u001b[0m\u001b[0mcli_bert_ft_model\u001b[0m\u001b[0;34m,\u001b[0m \u001b[0mbasetokenizer\u001b[0m\u001b[0;34m)\u001b[0m\u001b[0;34m\u001b[0m\u001b[0;34m\u001b[0m\u001b[0m\n\u001b[0m\u001b[1;32m      2\u001b[0m \u001b[0mtest\u001b[0m\u001b[0;34m.\u001b[0m\u001b[0mrun\u001b[0m\u001b[0;34m(\u001b[0m\u001b[0mtext\u001b[0m\u001b[0;34m)\u001b[0m\u001b[0;34m\u001b[0m\u001b[0;34m\u001b[0m\u001b[0m\n",
      "\u001b[0;31mNameError\u001b[0m: name 'cli_bert_ft_model' is not defined"
     ]
    }
   ],
   "source": [
    "test.changeModel(cli_bert_ft_model, basetokenizer)\n",
    "test.run(text)"
   ]
  },
  {
   "cell_type": "code",
   "execution_count": 37,
   "metadata": {
    "colab": {
     "base_uri": "https://localhost:8080/",
     "height": 119
    },
    "id": "t-XFWvo4kSsV",
    "outputId": "30aecdc7-e41e-4e65-d918-b74e54e530d1"
   },
   "outputs": [
    {
     "name": "stdout",
     "output_type": "stream",
     "text": [
      "The suspected words are: \n",
      "1 is -0.0016545326579275287\n",
      "2 a 0.015419766719963562\n",
      "3 of 0.016481184230654596\n",
      "4 cute 0.0265664743969106\n",
      "5 bilateral 0.0417794468385727\n",
      "Total time cost: 1.416869 seconds\n",
      "Time to generate candidates: 1.065932 s, 0.752315\n",
      "Time (in cands) run model: 1.051419 s, 0.742072\n",
      "Time (in cands) similarity: 0.010851 s, 0.007658\n",
      "Time to measure similarity: 0.013475 s, 0.009511\n",
      "Possible words are:\n"
     ]
    },
    {
     "data": {
      "text/plain": [
       "[['is', 0.7139959335327148],\n",
       " ['remains', 0.22137998044490814],\n",
       " [',', 0.017946533858776093],\n",
       " ['are', 0.012709466740489006],\n",
       " ['as', 0.00978544820100069],\n",
       " ['remain', 0.003764902241528034],\n",
       " ['being', 0.0026383581571280956],\n",
       " ['raises', 0.0023234852124005556],\n",
       " ['increases', 0.0008088418398983777],\n",
       " ['becomes', 0.0007763493922539055]]"
      ]
     },
     "execution_count": 37,
     "metadata": {},
     "output_type": "execute_result"
    }
   ],
   "source": [
    "test.changeModel(cli_bert_report_ft_model, clitokenizer)\n",
    "test.run(text)"
   ]
  },
  {
   "cell_type": "code",
   "execution_count": null,
   "metadata": {
    "colab": {
     "base_uri": "https://localhost:8080/",
     "height": 102
    },
    "id": "cKzsORpil5TV",
    "outputId": "9bf5178c-9336-42ed-94b7-db5b8a3f0f32"
   },
   "outputs": [
    {
     "data": {
      "text/plain": [
       "[['subset', -0.0016521497613058147],\n",
       " ['a', 0.015417184023469154],\n",
       " ['larger', 0.016481420843513443],\n",
       " ['cute', 0.026567237320863926],\n",
       " ['bilateral', 0.041776481858008745]]"
      ]
     },
     "execution_count": 25,
     "metadata": {
      "tags": []
     },
     "output_type": "execute_result"
    }
   ],
   "source": [
    "test.run_ret(text)"
   ]
  },
  {
   "cell_type": "code",
   "execution_count": 67,
   "metadata": {
    "colab": {
     "base_uri": "https://localhost:8080/",
     "height": 119
    },
    "id": "rlTqmGkkTO3I",
    "outputId": "f37e97cb-6428-4fa2-987f-dc47bd5d5412"
   },
   "outputs": [
    {
     "name": "stdout",
     "output_type": "stream",
     "text": [
      "The suspected words are: \n",
      "1 prepped 0.019263348980683152\n",
      "2 raped 0.032129737734181776\n",
      "3 usual 0.05437655981677848\n",
      "4 the 0.07430522248133838\n",
      "5 fashion 0.08589083952088454\n",
      "Total time cost: 0.8757898807525635\n",
      "Time to generate candidates: 0.793597 s, 0.906151\n",
      "Time to run model: 0.783147 s, 0.894218\n",
      "Time to calulate similarity: 0.007441 s, 0.008496\n",
      "Time to measure similarity: 0.012554 s, 0.014334\n",
      "Possible words are:\n"
     ]
    },
    {
     "data": {
      "text/plain": [
       "[['rap', 0.4629043936729431],\n",
       " ['du', 0.19434908032417297],\n",
       " ['strip', 0.04270455241203308],\n",
       " ['lap', 0.03591785952448845],\n",
       " ['crop', 0.02258632518351078],\n",
       " ['tram', 0.01737748272716999],\n",
       " ['hum', 0.01659257709980011],\n",
       " ['prep', 0.016289502382278442],\n",
       " ['trip', 0.016209237277507782],\n",
       " ['kidnap', 0.015791933983564377]]"
      ]
     },
     "execution_count": 67,
     "metadata": {},
     "output_type": "execute_result"
    }
   ],
   "source": [
    "a = \"The patient was prepped and raped in the usual fashion and placed under general anesthesia.\"\n",
    "test.changeModel(basemodel, basetokenizer)\n",
    "test.run(a)"
   ]
  },
  {
   "cell_type": "code",
   "execution_count": null,
   "metadata": {
    "colab": {
     "base_uri": "https://localhost:8080/",
     "height": 119
    },
    "id": "h8IHZRQcifel",
    "outputId": "ca74c480-7578-4717-9b4e-9b9f13b6d09c"
   },
   "outputs": [
    {
     "name": "stdout",
     "output_type": "stream",
     "text": [
      "The suspected words are: \n",
      "1 raped 0.04295489416855525\n",
      "2 prepped 0.0525471343708584\n",
      "3 usual 0.06469591146463441\n",
      "4 fashion 0.07410875039319942\n",
      "5 general 0.1185899368727256\n"
     ]
    }
   ],
   "source": [
    "test.changeModel(rad_bert_ft_model, basetokenizer)\n",
    "test.run(a)"
   ]
  },
  {
   "cell_type": "code",
   "execution_count": 68,
   "metadata": {
    "colab": {
     "base_uri": "https://localhost:8080/",
     "height": 119
    },
    "id": "qcqZfYl6PiBY",
    "outputId": "587367ec-6352-4763-8c2f-b28dc0fec1f8"
   },
   "outputs": [
    {
     "name": "stdout",
     "output_type": "stream",
     "text": [
      "The suspected words are: \n",
      "1 raped -0.003228933963263412\n",
      "2 placed 0.041841313850230114\n",
      "3 was 0.13661082233085362\n",
      "4 anesthesia 0.13862862974378912\n",
      "5 fashion 0.1433513329804459\n",
      "Total time cost: 0.9366247653961182\n",
      "Time to generate candidates: 0.859277 s, 0.917419\n",
      "Time to run model: 0.848608 s, 0.906027\n",
      "Time to calulate similarity: 0.007459 s, 0.007964\n",
      "Time to measure similarity: 0.013651 s, 0.014575\n",
      "Possible words are:\n"
     ]
    },
    {
     "data": {
      "text/plain": [
       "[['draped', 0.997021496295929],\n",
       " ['crossed', 0.0008461526012979448],\n",
       " ['delivered', 0.0004333305114414543],\n",
       " ['##pped', 0.00020851293811574578],\n",
       " ['placed', 0.00013649152242578566],\n",
       " ['injected', 9.697389759821817e-05],\n",
       " ['positioned', 7.510639989050105e-05],\n",
       " ['confirmed', 7.074465247569606e-05],\n",
       " ['gown', 6.72988171572797e-05],\n",
       " ['assisted', 4.90595048177056e-05]]"
      ]
     },
     "execution_count": 68,
     "metadata": {},
     "output_type": "execute_result"
    }
   ],
   "source": [
    "test.changeModel(cli_bert_report_ft_model, clitokenizer)\n",
    "test.run(a)"
   ]
  },
  {
   "cell_type": "code",
   "execution_count": 60,
   "metadata": {
    "colab": {
     "base_uri": "https://localhost:8080/",
     "height": 119
    },
    "id": "G1J0Ta9fTO51",
    "outputId": "a3640d9d-6f21-4af9-95a9-c16ea9556845"
   },
   "outputs": [
    {
     "name": "stdout",
     "output_type": "stream",
     "text": [
      "The suspected words are: \n",
      "1 bodies 0.009832244185439898\n",
      "2 right 0.012496171447956367\n",
      "3 conglomerates 0.017084818889583003\n",
      "4 lung 0.01746728524300794\n",
      "5 invasive 0.0241691575984858\n",
      "Total time cost: 2.647412061691284\n",
      "Time to generate candidates: 2.536407 s, 0.958070\n",
      "Time to run model: 2.510006 s, 0.948098\n",
      "Time to calulate similarity: 0.016832 s, 0.006358\n",
      "Time to measure similarity: 0.030515 s, 0.011526\n",
      "Possible words are:\n"
     ]
    },
    {
     "data": {
      "text/plain": [
       "[['column', 0.09978911280632019],\n",
       " ['axis', 0.04547856003046036],\n",
       " ['veins', 0.041040752083063126],\n",
       " ['artery', 0.03377784788608551],\n",
       " ['vessels', 0.0296463705599308],\n",
       " ['bones', 0.016645846888422966],\n",
       " ['columns', 0.015314004383981228],\n",
       " ['nuclei', 0.01507902704179287],\n",
       " ['junction', 0.013886258006095886],\n",
       " ['margin', 0.012832539156079292]]"
      ]
     },
     "execution_count": 60,
     "metadata": {},
     "output_type": "execute_result"
    }
   ],
   "source": [
    "b = \"No definite change in size of multiple right super clavicular nodal conglomerates, the largest of which is invasive into the right lung apex and T1-T2 vertebral bodies.\"\n",
    "test.changeModel(basemodel, basetokenizer)\n",
    "test.run(b)"
   ]
  },
  {
   "cell_type": "code",
   "execution_count": null,
   "metadata": {
    "colab": {
     "base_uri": "https://localhost:8080/",
     "height": 119
    },
    "id": "w4QcCZ5viwHN",
    "outputId": "11335c67-ceeb-4b94-82dc-87d53f62ee67"
   },
   "outputs": [
    {
     "name": "stdout",
     "output_type": "stream",
     "text": [
      "The suspected words are: \n",
      "1 conglomerates 0.011841977300645023\n",
      "2 right 0.014102019538119799\n",
      "3 super 0.018156943037886772\n",
      "4 lung 0.03323506570169779\n",
      "5 invasive 0.034195486168935064\n"
     ]
    }
   ],
   "source": [
    "test.changeModel(rad_bert_ft_model, basetokenizer)\n",
    "test.run(b)"
   ]
  },
  {
   "cell_type": "code",
   "execution_count": null,
   "metadata": {
    "colab": {
     "base_uri": "https://localhost:8080/",
     "height": 119
    },
    "id": "2habxTpqkd-F",
    "outputId": "04cb86a4-84c0-4494-c44d-ad5aaf30f671"
   },
   "outputs": [
    {
     "name": "stdout",
     "output_type": "stream",
     "text": [
      "The suspected words are: \n",
      "1 conglomerates 0.016954561016011296\n",
      "2 super 0.0499260631596823\n",
      "3 nodal 0.05246463935415885\n",
      "4 invasive 0.05282634753176419\n",
      "5 definite 0.06499387786503542\n"
     ]
    }
   ],
   "source": [
    "test.changeModel(cli_bert_report_ft_model, clitokenizer)\n",
    "test.run(b)"
   ]
  },
  {
   "cell_type": "code",
   "execution_count": 61,
   "metadata": {
    "colab": {
     "base_uri": "https://localhost:8080/",
     "height": 119
    },
    "id": "XnWtGxYGkECX",
    "outputId": "7b6fd823-e80d-423f-a7cc-b1899461dae5"
   },
   "outputs": [
    {
     "name": "stdout",
     "output_type": "stream",
     "text": [
      "The suspected words are: \n",
      "1 bilateral 0.01332543972012837\n",
      "2 larger 0.01417289835665607\n",
      "3 specification 0.015741162673645996\n",
      "4 diagnosis 0.02948195245424272\n",
      "5 differential 0.035680729812198914\n",
      "Total time cost: 0.8748679161071777\n",
      "Time to generate candidates: 0.800119 s, 0.914560\n",
      "Time to run model: 0.789490 s, 0.902411\n",
      "Time to calulate similarity: 0.007564 s, 0.008645\n",
      "Time to measure similarity: 0.012816 s, 0.014649\n",
      "Possible words are:\n"
     ]
    },
    {
     "data": {
      "text/plain": [
       "[['-', 0.07132138311862946],\n",
       " ['acute', 0.030962107703089714],\n",
       " ['secondary', 0.025242015719413757],\n",
       " ['visual', 0.014912324026226997],\n",
       " ['regional', 0.01420146506279707],\n",
       " ['/', 0.012918409891426563],\n",
       " ['##ntal', 0.012319505214691162],\n",
       " ['internal', 0.011672686785459518],\n",
       " ['emergency', 0.010533045046031475],\n",
       " ['local', 0.010530519299209118]]"
      ]
     },
     "execution_count": 61,
     "metadata": {},
     "output_type": "execute_result"
    }
   ],
   "source": [
    "c = 'Acute bilateral airspace opacification is a subset of the larger differential diagnosis for air specification.'\n",
    "test.changeModel(basemodel, basetokenizer)\n",
    "test.run(c)"
   ]
  },
  {
   "cell_type": "code",
   "execution_count": 63,
   "metadata": {
    "colab": {
     "base_uri": "https://localhost:8080/",
     "height": 119
    },
    "id": "PAVIX_iskEE0",
    "outputId": "d2677f43-aa92-4839-f832-7fbbd68b2e98"
   },
   "outputs": [
    {
     "name": "stdout",
     "output_type": "stream",
     "text": [
      "The suspected words are: \n",
      "1 subset 0.004748509100120683\n",
      "2 larger 0.020250874588428367\n",
      "3 acute 0.034798256518973\n",
      "4 air 0.04003443548807427\n",
      "5 specification 0.04776815635328982\n",
      "Total time cost: 0.9138240814208984\n",
      "Time to generate candidates: 0.836646 s, 0.915543\n",
      "Time to run model: 0.825750 s, 0.903620\n",
      "Time to calulate similarity: 0.007685 s, 0.008410\n",
      "Time to measure similarity: 0.012916 s, 0.014134\n",
      "Possible words are:\n"
     ]
    },
    {
     "data": {
      "text/plain": [
       "[['component', 0.37229469418525696],\n",
       " ['part', 0.1698227822780609],\n",
       " ['top', 0.09029677510261536],\n",
       " ['constellation', 0.044536955654621124],\n",
       " ['cause', 0.02794722281396389],\n",
       " ['much', 0.022088369354605675],\n",
       " ['consideration', 0.019432000815868378],\n",
       " ['continuation', 0.017683709040284157],\n",
       " ['result', 0.014871037565171719],\n",
       " ['possibility', 0.013803498819470406]]"
      ]
     },
     "execution_count": 63,
     "metadata": {},
     "output_type": "execute_result"
    }
   ],
   "source": [
    "test.changeModel(cli_bert_report_ft_model, clitokenizer)\n",
    "test.run(c)"
   ]
  },
  {
   "cell_type": "code",
   "execution_count": null,
   "metadata": {
    "id": "qwIx2BW9rjvE"
   },
   "outputs": [],
   "source": []
  },
  {
   "cell_type": "markdown",
   "metadata": {
    "id": "gSvq94B0rkHd"
   },
   "source": [
    ". Evolution of hemorrhage along the right lateral occipital sulci. No new or increasing intracranial hemorrhage.\n",
    "[7:40 AM] 1. Compared to 4/28/2020, overall similar burden of extensive centrilobular nodules and nodular consolidations, bronchial wall thickening, and bronchiectasis with some areas that have worsened and some areas that have improved as described, in keeping with the reported history of recurrent aspiration and non-tuberculous mycobacterial infection.\n",
    "[7:40 AM] 2. No evidence of hypermetabolic metastatic disease.\n",
    "[7:41 AM] Compared to prior CT from 5/1/2020, interval growth of hepatic segment 6 hypoenhancing lesion, aortocaval, and periaortic lymph nodes, concerning for worsening metastatic disease. Similar size of soft tissue lesion at the left nephrectomy bed. Unchanged osseous metastatic disease.\n",
    "[7:41 AM] Replaced common hepatic artery originating from the SMA. Accessory right hepatic vein draining directly into the IVC. Otherwise unremarkable liver donor examination."
   ]
  },
  {
   "cell_type": "code",
   "execution_count": null,
   "metadata": {
    "colab": {
     "base_uri": "https://localhost:8080/",
     "height": 119
    },
    "id": "LuXk2LB0kEHH",
    "outputId": "ea60aa02-38dc-4ac3-c483-f73e2213b386"
   },
   "outputs": [
    {
     "name": "stdout",
     "output_type": "stream",
     "text": [
      "The suspected words are: \n",
      "1 new 0.008358771604559738\n",
      "2 increasing 0.015479746563848814\n",
      "3 evolution 0.01805534689229327\n",
      "4 sulci 0.05252971301909704\n",
      "5 right 0.057973782101596594\n"
     ]
    }
   ],
   "source": [
    "d = 'Evolution of hemorrhage along the right lateral occipital sulci. No new or increasing intracranial hemorrhage.'\n",
    "test.changeModel(basemodel, basetokenizer)\n",
    "test.run(d)"
   ]
  },
  {
   "cell_type": "code",
   "execution_count": null,
   "metadata": {
    "colab": {
     "base_uri": "https://localhost:8080/",
     "height": 119
    },
    "id": "_CR5CFjxUeVk",
    "outputId": "bac9516f-847d-44b7-a718-67eecb015d41"
   },
   "outputs": [
    {
     "name": "stdout",
     "output_type": "stream",
     "text": [
      "The suspected words are: \n",
      "1 new 0.012694417004717124\n",
      "2 increasing 0.020318460571385637\n",
      "3 evolution 0.023592800600321824\n",
      "4 sulci 0.041876967959053504\n",
      "5 no 0.06219098990929759\n"
     ]
    }
   ],
   "source": [
    "test.changeModel(rad_bert_ft_model, basetokenizer)\n",
    "test.run(d)"
   ]
  },
  {
   "cell_type": "code",
   "execution_count": null,
   "metadata": {
    "colab": {
     "base_uri": "https://localhost:8080/",
     "height": 119
    },
    "id": "QD0tj8dyQZjp",
    "outputId": "4f7a3494-5a6b-4e33-d71e-e95af2153dd6"
   },
   "outputs": [
    {
     "name": "stdout",
     "output_type": "stream",
     "text": [
      "The suspected words are: \n",
      "1 evolution 0.06695528094911843\n",
      "2 sulci 0.0808847483276412\n",
      "3 increasing 0.09225331292828354\n",
      "4 lateral 0.09545218133955893\n",
      "5 occipital 0.09726062708956074\n"
     ]
    }
   ],
   "source": [
    "test.changeModel(cli_bert_report_ft_model, clitokenizer)\n",
    "test.run(d)"
   ]
  },
  {
   "cell_type": "markdown",
   "metadata": {
    "id": "l4Np7uUEQ3EA"
   },
   "source": [
    "Compared to 4/28/2020, overall similar burden of extensive centrilobular nodules and nodular consolidations, bronchial wall thickening, and bronchiectasis with some areas that have worsened and some areas that have improved as described, in keeping with the reported history of recurrent aspiration and non-tuberculous mycobacterial infection."
   ]
  },
  {
   "cell_type": "code",
   "execution_count": null,
   "metadata": {
    "id": "N8OgsETzUeYI"
   },
   "outputs": [],
   "source": [
    "e = 'Compared to 4/28/2020, overall similar burden of extensive centrilobular nodules and nodular consolidations, bronchial wall thickening, and bronchiectasis with some areas that have worsened and some areas that have improved as described, in keeping with the reported history of recurrent aspiration and non-tuberculous mycobacterial infection.'"
   ]
  },
  {
   "cell_type": "code",
   "execution_count": null,
   "metadata": {
    "colab": {
     "base_uri": "https://localhost:8080/",
     "height": 119
    },
    "id": "KIVSsGbukEJv",
    "outputId": "957d6230-52ba-4ca9-fad4-378c53c16ffd"
   },
   "outputs": [
    {
     "name": "stdout",
     "output_type": "stream",
     "text": [
      "The suspected words are: \n",
      "1 extensive 0.018453594913679497\n",
      "2 reported 0.031178262920569737\n",
      "3 consolidations 0.03460460346873388\n",
      "4 burden 0.03772542086646402\n",
      "5 compared 0.0379647784046772\n"
     ]
    }
   ],
   "source": [
    "test.changeModel(rad_bert_ft_model, basetokenizer)\n",
    "test.run(e)"
   ]
  },
  {
   "cell_type": "code",
   "execution_count": null,
   "metadata": {
    "colab": {
     "base_uri": "https://localhost:8080/",
     "height": 119
    },
    "id": "GlFhUaACQmPZ",
    "outputId": "192c4f1a-2959-4d5d-c98f-a35a7946fc7f"
   },
   "outputs": [
    {
     "name": "stdout",
     "output_type": "stream",
     "text": [
      "The suspected words are: \n",
      "1 described 0.02190589798947624\n",
      "2 burden 0.03912619441416016\n",
      "3 extensive 0.05736265598787968\n",
      "4 similar 0.096055215534174\n",
      "5 nodules 0.10585729381621072\n"
     ]
    }
   ],
   "source": [
    "test.changeModel(cli_bert_report_ft_model, clitokenizer)\n",
    "test.run(e)"
   ]
  },
  {
   "cell_type": "code",
   "execution_count": null,
   "metadata": {
    "colab": {
     "base_uri": "https://localhost:8080/",
     "height": 119
    },
    "id": "yTu8Wp2Or-Ql",
    "outputId": "0e84d4f5-1f7f-4159-ea6d-9a061dfd84d6"
   },
   "outputs": [
    {
     "name": "stdout",
     "output_type": "stream",
     "text": [
      "The suspected words are: \n",
      "1 hypermetabolic 0.05326887480611469\n",
      "2 disease 0.11357003491951848\n",
      "3 metastatic 0.12038201259405697\n",
      "4 no 0.1753379503893277\n",
      "5 evidence 0.21823249488443253\n"
     ]
    }
   ],
   "source": [
    "f = 'No evidence of hypermetabolic metastatic disease.'\n",
    "test.changeModel(rad_bert_ft_model, basetokenizer)\n",
    "test.run(f)"
   ]
  },
  {
   "cell_type": "code",
   "execution_count": null,
   "metadata": {
    "colab": {
     "base_uri": "https://localhost:8080/",
     "height": 119
    },
    "id": "okvt9h1uVivi",
    "outputId": "b6f04538-0b77-4520-8611-e8263d873541"
   },
   "outputs": [
    {
     "name": "stdout",
     "output_type": "stream",
     "text": [
      "The suspected words are: \n",
      "1 evidence 0.1554240823518905\n",
      "2 hypermetabolic 0.17944385246068617\n",
      "3 no 0.18439499830433714\n",
      "4 metastatic 0.18490865144846383\n",
      "5 disease 0.21543927246807204\n"
     ]
    }
   ],
   "source": [
    "test.changeModel(cli_bert_report_ft_model, clitokenizer)\n",
    "test.run(f)"
   ]
  },
  {
   "cell_type": "markdown",
   "metadata": {
    "id": "zYaE2O_xtINx"
   },
   "source": [
    "g = 'Compared to prior CT from 5/1/2020, interval growth of lepidic segment 6 hypoenhancing lesion, aortocaval, and periaortic lymph nodes, concerning for worsening metastatic disease. Similar size of soft tissue lesion at the left nephrectomy bed. Unchanged osseous metastatic disease.'"
   ]
  },
  {
   "cell_type": "code",
   "execution_count": null,
   "metadata": {
    "id": "MCLYdsZJtoCU"
   },
   "outputs": [],
   "source": [
    "g = 'Compared to prior CT from 5/1/2020, interval growth of lepidic segment 6 hypoenhancing lesion, aortocaval, and periaortic lymph nodes, concerning for worsening metastatic disease. '"
   ]
  },
  {
   "cell_type": "code",
   "execution_count": null,
   "metadata": {
    "colab": {
     "base_uri": "https://localhost:8080/",
     "height": 119
    },
    "id": "yxm4sp5csD53",
    "outputId": "4850fac3-20c5-400e-d575-9b228090b0e8"
   },
   "outputs": [
    {
     "name": "stdout",
     "output_type": "stream",
     "text": [
      "The suspected words are: \n",
      "1 growth 0.008221164459471894\n",
      "2 prior 0.025737382714636714\n",
      "3 ct 0.026992887958211965\n",
      "4 concerning 0.027488366503278832\n",
      "5 periaortic 0.027613121510951633\n"
     ]
    }
   ],
   "source": [
    "test.changeModel(rad_bert_ft_model, basetokenizer)\n",
    "test.run(g)"
   ]
  },
  {
   "cell_type": "code",
   "execution_count": null,
   "metadata": {
    "colab": {
     "base_uri": "https://localhost:8080/",
     "height": 102
    },
    "id": "7eG0M0aXRyjn",
    "outputId": "ac05aee6-563a-426f-f024-e2d66537dedd"
   },
   "outputs": [
    {
     "name": "stdout",
     "output_type": "stream",
     "text": [
      "The suspected words are: \n",
      "1 lepidic 0.030911145339453702\n",
      "2 segment 0.0362679006147265\n",
      "3 growth 0.0860055573519455\n",
      "4 interval 0.10603977402955529\n"
     ]
    }
   ],
   "source": [
    "# better at domain-specific detection\n",
    "test.changeModel(cli_bert_report_ft_model, clitokenizer)\n",
    "test.run(g)"
   ]
  },
  {
   "cell_type": "markdown",
   "metadata": {
    "id": "6m4Lub7PSwcB"
   },
   "source": [
    "h = 'Replaced common hepatic artery originating from the SMA. Accessory right hepatic vein draining directly into the IVC. Otherwise unremarkable liver donor examination.'"
   ]
  },
  {
   "cell_type": "code",
   "execution_count": null,
   "metadata": {
    "id": "jIvZTospsSNf"
   },
   "outputs": [],
   "source": [
    "h = 'Replaced common hepatic artery originating from the SMA. Accessory right hepatic vein draining directly into the IVC. Otherwise unremarkable liver donor examination.'"
   ]
  },
  {
   "cell_type": "code",
   "execution_count": null,
   "metadata": {
    "colab": {
     "base_uri": "https://localhost:8080/",
     "height": 119
    },
    "id": "dVg-hcOIsV5z",
    "outputId": "a3f1b80d-7e15-42af-994b-45eec95922fe"
   },
   "outputs": [
    {
     "name": "stdout",
     "output_type": "stream",
     "text": [
      "The suspected words are: \n",
      "1 examination 0.007448522556047891\n",
      "2 donor 0.02712329587484524\n",
      "3 replaced 0.041820433548843926\n",
      "4 accessory 0.046602937618850905\n",
      "5 liver 0.04796047343737446\n"
     ]
    }
   ],
   "source": [
    "test.changeModel(rad_bert_ft_model, basetokenizer)\n",
    "test.run(h)"
   ]
  },
  {
   "cell_type": "code",
   "execution_count": null,
   "metadata": {
    "colab": {
     "base_uri": "https://localhost:8080/",
     "height": 119
    },
    "id": "xKmhVXqfR7mO",
    "outputId": "941dbded-18d4-4fed-b4b0-a6d2e0e9ff1c"
   },
   "outputs": [
    {
     "name": "stdout",
     "output_type": "stream",
     "text": [
      "The suspected words are: \n",
      "1 replaced 0.026190687124630876\n",
      "2 sma 0.0370855869620213\n",
      "3 common 0.050829828413069385\n",
      "4 directly 0.05090329054607925\n",
      "5 draining 0.05999597303303711\n"
     ]
    }
   ],
   "source": [
    "test.changeModel(cli_bert_report_ft_model, clitokenizer)\n",
    "test.run(h)"
   ]
  },
  {
   "cell_type": "markdown",
   "metadata": {
    "id": "r0KuUASni4Cy"
   },
   "source": [
    "## threshold of similarity scores"
   ]
  },
  {
   "cell_type": "code",
   "execution_count": null,
   "metadata": {
    "id": "VjFEskBM8wPF"
   },
   "outputs": [],
   "source": [
    "TOPK = 10\n",
    "detector = SentDetector(basemodel, basetokenizer, TOPK)"
   ]
  },
  {
   "cell_type": "code",
   "execution_count": null,
   "metadata": {
    "id": "kE_6zBOd8vfQ"
   },
   "outputs": [],
   "source": [
    "detector.changeModel(cli_bert_report_ft_model, clitokenizer)"
   ]
  },
  {
   "cell_type": "code",
   "execution_count": null,
   "metadata": {
    "colab": {
     "base_uri": "https://localhost:8080/",
     "height": 221
    },
    "id": "brir73Vmi9F2",
    "outputId": "4b3cacbe-fd23-4950-9d2d-52b9837d2dfe"
   },
   "outputs": [
    {
     "name": "stdout",
     "output_type": "stream",
     "text": [
      "Finished 100\n",
      "error_sim_1: 0.03443927328205555\n",
      "orig_sim_1: 0.06748619530400364\n",
      "Finished 200\n",
      "error_sim_1: 0.03098259963362548\n",
      "orig_sim_1: 0.06073965331807692\n",
      "Finished 300\n",
      "error_sim_1: 0.029485608626647668\n",
      "orig_sim_1: 0.05796722214652978\n",
      "Finished 400\n",
      "error_sim_1: 0.029613529022273027\n",
      "orig_sim_1: 0.0605066572647763\n"
     ]
    }
   ],
   "source": [
    "error_sim_1 = []\n",
    "error_hit_1_idx = []\n",
    "orig_sim_1 = [] # 0 error in a sentence\n",
    "for i in range(500): #range(len(text_changed_one)):\n",
    "  if i % 100 == 0 and i != 0:\n",
    "    print(\"Finished\", i)\n",
    "    print(\"error_sim_1:\", np.mean(error_sim_1))\n",
    "    print(\"orig_sim_1:\", np.mean(orig_sim_1))\n",
    "  ret = detector.run_ret(' '.join(text_changed_one[i]))\n",
    "  ret_words = [ret[idx][0] for idx in range(len(ret))]\n",
    "  error = word_error_one[i][0]\n",
    "  if error in set(ret_words[:1]):\n",
    "    error_hit_1_idx.append(i)\n",
    "    error_sim_1.append(ret[0][1])\n",
    "  # none - error sim\n",
    "  orig_ret = detector.run_ret(text_orig_one[i])\n",
    "  orig_sim_1.append(orig_ret[0][1])\n",
    "\n",
    "#begins at 9:44"
   ]
  },
  {
   "cell_type": "code",
   "execution_count": null,
   "metadata": {
    "colab": {
     "base_uri": "https://localhost:8080/",
     "height": 102
    },
    "id": "-yf3KQk4BY2t",
    "outputId": "68394d90-a1f7-461b-880b-4bf5560a5db4"
   },
   "outputs": [
    {
     "name": "stdout",
     "output_type": "stream",
     "text": [
      "Error\n",
      "mean: 0.02929952487894437\n",
      "max: 0.11541860916204973\n",
      "min: -0.014498017703804258\n",
      "len: 207\n"
     ]
    }
   ],
   "source": [
    "print(\"Error\")\n",
    "print(\"mean:\", np.mean(error_sim_1))\n",
    "print(\"max:\", np.max(error_sim_1))\n",
    "print(\"min:\", np.min(error_sim_1))\n",
    "print(\"len:\", len(error_sim_1))"
   ]
  },
  {
   "cell_type": "code",
   "execution_count": null,
   "metadata": {
    "colab": {
     "base_uri": "https://localhost:8080/",
     "height": 102
    },
    "id": "YqiakGQUEFvp",
    "outputId": "5edebe06-08cc-4128-970a-f871a7ed392e"
   },
   "outputs": [
    {
     "name": "stdout",
     "output_type": "stream",
     "text": [
      "Orig\n",
      "mean: 0.0633419982979405\n",
      "max: 0.18458252211498014\n",
      "min: -0.035407860471779636\n",
      "len: 500\n"
     ]
    }
   ],
   "source": [
    "print(\"Orig\")\n",
    "print(\"mean:\", np.mean(orig_sim_1))\n",
    "print(\"max:\", np.max(orig_sim_1))\n",
    "print(\"min:\", np.min(orig_sim_1))\n",
    "print(\"len:\", len(orig_sim_1))"
   ]
  },
  {
   "cell_type": "code",
   "execution_count": null,
   "metadata": {
    "colab": {
     "base_uri": "https://localhost:8080/",
     "height": 336
    },
    "id": "siuW0UqPYQy2",
    "outputId": "d51fc2ed-b112-4649-a3e5-01d809c4bda7"
   },
   "outputs": [
    {
     "name": "stderr",
     "output_type": "stream",
     "text": [
      "/usr/local/lib/python3.6/dist-packages/seaborn/distributions.py:2551: FutureWarning: `distplot` is a deprecated function and will be removed in a future version. Please adapt your code to use either `displot` (a figure-level function with similar flexibility) or `histplot` (an axes-level function for histograms).\n",
      "  warnings.warn(msg, FutureWarning)\n"
     ]
    },
    {
     "data": {
      "text/plain": [
       "<matplotlib.axes._subplots.AxesSubplot at 0x7ff8a815d9e8>"
      ]
     },
     "execution_count": 22,
     "metadata": {
      "tags": []
     },
     "output_type": "execute_result"
    },
    {
     "data": {
      "image/png": "[encoded data removed]",
      "text/plain": [
       "<Figure size 432x288 with 1 Axes>"
      ]
     },
     "metadata": {
      "needs_background": "light",
      "tags": []
     },
     "output_type": "display_data"
    }
   ],
   "source": [
    "import seaborn as sns\n",
    "sns.distplot(error_sim_1)"
   ]
  },
  {
   "cell_type": "code",
   "execution_count": null,
   "metadata": {
    "colab": {
     "base_uri": "https://localhost:8080/",
     "height": 336
    },
    "id": "1Y8Ded10YQw3",
    "outputId": "d9ccb689-6358-4336-92b2-6940eaff33a6"
   },
   "outputs": [
    {
     "name": "stderr",
     "output_type": "stream",
     "text": [
      "/usr/local/lib/python3.6/dist-packages/seaborn/distributions.py:2551: FutureWarning: `distplot` is a deprecated function and will be removed in a future version. Please adapt your code to use either `displot` (a figure-level function with similar flexibility) or `histplot` (an axes-level function for histograms).\n",
      "  warnings.warn(msg, FutureWarning)\n"
     ]
    },
    {
     "data": {
      "text/plain": [
       "<matplotlib.axes._subplots.AxesSubplot at 0x7ff8a8bab2e8>"
      ]
     },
     "execution_count": 23,
     "metadata": {
      "tags": []
     },
     "output_type": "execute_result"
    },
    {
     "data": {
      "image/png": "[encoded data removed]",
      "text/plain": [
       "<Figure size 432x288 with 1 Axes>"
      ]
     },
     "metadata": {
      "needs_background": "light",
      "tags": []
     },
     "output_type": "display_data"
    }
   ],
   "source": [
    "sns.distplot(orig_sim_1)"
   ]
  },
  {
   "cell_type": "code",
   "execution_count": null,
   "metadata": {
    "id": "FyZMfJiNo0NS"
   },
   "outputs": [],
   "source": []
  },
  {
   "cell_type": "markdown",
   "metadata": {
    "id": "8RActiYgDn9l"
   },
   "source": [
    "## Evaluation"
   ]
  },
  {
   "cell_type": "code",
   "execution_count": 40,
   "metadata": {
    "colab": {
     "base_uri": "https://localhost:8080/",
     "height": 725
    },
    "id": "I1r7S6lzecCe",
    "outputId": "c866a1e3-8807-4f32-82ef-25e8a4755e33"
   },
   "outputs": [
    {
     "data": {
      "text/html": [
       "<div>\n",
       "<style scoped>\n",
       "    .dataframe tbody tr th:only-of-type {\n",
       "        vertical-align: middle;\n",
       "    }\n",
       "\n",
       "    .dataframe tbody tr th {\n",
       "        vertical-align: top;\n",
       "    }\n",
       "\n",
       "    .dataframe thead th {\n",
       "        text-align: right;\n",
       "    }\n",
       "</style>\n",
       "<table border=\"1\" class=\"dataframe\">\n",
       "  <thead>\n",
       "    <tr style=\"text-align: right;\">\n",
       "      <th></th>\n",
       "      <th>text_orig</th>\n",
       "      <th>text_changed</th>\n",
       "      <th>index_changed</th>\n",
       "      <th>word_true</th>\n",
       "      <th>word_error</th>\n",
       "      <th>oneshot</th>\n",
       "    </tr>\n",
       "  </thead>\n",
       "  <tbody>\n",
       "    <tr>\n",
       "      <th>0</th>\n",
       "      <td>No acute abnormality the abdomen or pelvis.</td>\n",
       "      <td>[no, acute, abnormality, the, abdomen, or, pil...</td>\n",
       "      <td>6</td>\n",
       "      <td>[pelvis]</td>\n",
       "      <td>[pillows]</td>\n",
       "      <td>[False, False, False, False, False, False, True]</td>\n",
       "    </tr>\n",
       "    <tr>\n",
       "      <th>1</th>\n",
       "      <td>Unchanged aneurysmal dilation of the celiac ar...</td>\n",
       "      <td>[unchanged, aneurysmal, dilation, of, the, cel...</td>\n",
       "      <td>6</td>\n",
       "      <td>[artery]</td>\n",
       "      <td>[arterio]</td>\n",
       "      <td>[False, False, False, False, False, False, Tru...</td>\n",
       "    </tr>\n",
       "    <tr>\n",
       "      <th>2</th>\n",
       "      <td>Please note that if there is high clinical sus...</td>\n",
       "      <td>[please, note, that, if, there, is, high, clin...</td>\n",
       "      <td>15</td>\n",
       "      <td>[mri]</td>\n",
       "      <td>[maria]</td>\n",
       "      <td>[False, False, False, False, False, False, Fal...</td>\n",
       "    </tr>\n",
       "    <tr>\n",
       "      <th>3</th>\n",
       "      <td>Redundant bilateral optic nerves with symmetri...</td>\n",
       "      <td>[redundant, bilateral, optica, nerves, with, s...</td>\n",
       "      <td>2</td>\n",
       "      <td>[optic]</td>\n",
       "      <td>[optica]</td>\n",
       "      <td>[False, False, True, False, False, False, Fals...</td>\n",
       "    </tr>\n",
       "    <tr>\n",
       "      <th>4</th>\n",
       "      <td>Further characterization with MR orbits with a...</td>\n",
       "      <td>[further, characterization, with, mr, orbitali...</td>\n",
       "      <td>4</td>\n",
       "      <td>[orbits]</td>\n",
       "      <td>[orbitalis]</td>\n",
       "      <td>[False, False, False, False, True, False, Fals...</td>\n",
       "    </tr>\n",
       "    <tr>\n",
       "      <th>...</th>\n",
       "      <td>...</td>\n",
       "      <td>...</td>\n",
       "      <td>...</td>\n",
       "      <td>...</td>\n",
       "      <td>...</td>\n",
       "      <td>...</td>\n",
       "    </tr>\n",
       "    <tr>\n",
       "      <th>1028</th>\n",
       "      <td>Multilevel degenerative changes are again note...</td>\n",
       "      <td>[multilevel, degenerative, chance, are, again,...</td>\n",
       "      <td>2</td>\n",
       "      <td>[changes]</td>\n",
       "      <td>[chance]</td>\n",
       "      <td>[False, False, True, False, False, False, Fals...</td>\n",
       "    </tr>\n",
       "    <tr>\n",
       "      <th>1029</th>\n",
       "      <td>with a large partially calcified right central...</td>\n",
       "      <td>[wiethe, a, large, partially, calcified, right...</td>\n",
       "      <td>0</td>\n",
       "      <td>[with]</td>\n",
       "      <td>[wiethe]</td>\n",
       "      <td>[True, False, False, False, False, False, Fals...</td>\n",
       "    </tr>\n",
       "    <tr>\n",
       "      <th>1030</th>\n",
       "      <td>Minimal basilar bronchiectasis airways wall th...</td>\n",
       "      <td>[minimally, basilar, bronchiectasis, airways, ...</td>\n",
       "      <td>0</td>\n",
       "      <td>[minimal]</td>\n",
       "      <td>[minimally]</td>\n",
       "      <td>[True, False, False, False, False, False]</td>\n",
       "    </tr>\n",
       "    <tr>\n",
       "      <th>1031</th>\n",
       "      <td>No significant airways plugging.</td>\n",
       "      <td>[no, significantly, airways, plugging]</td>\n",
       "      <td>1</td>\n",
       "      <td>[significant]</td>\n",
       "      <td>[significantly]</td>\n",
       "      <td>[False, True, False, False]</td>\n",
       "    </tr>\n",
       "    <tr>\n",
       "      <th>1032</th>\n",
       "      <td>Stable anterior mediastinal soft tissue nodule...</td>\n",
       "      <td>[stable, anterior, mediastinum, soft, tissue, ...</td>\n",
       "      <td>2</td>\n",
       "      <td>[mediastinal]</td>\n",
       "      <td>[mediastinum]</td>\n",
       "      <td>[False, False, True, False, False, False, Fals...</td>\n",
       "    </tr>\n",
       "  </tbody>\n",
       "</table>\n",
       "<p>1033 rows × 6 columns</p>\n",
       "</div>"
      ],
      "text/plain": [
       "                                              text_orig  \\\n",
       "0           No acute abnormality the abdomen or pelvis.   \n",
       "1     Unchanged aneurysmal dilation of the celiac ar...   \n",
       "2     Please note that if there is high clinical sus...   \n",
       "3     Redundant bilateral optic nerves with symmetri...   \n",
       "4     Further characterization with MR orbits with a...   \n",
       "...                                                 ...   \n",
       "1028  Multilevel degenerative changes are again note...   \n",
       "1029  with a large partially calcified right central...   \n",
       "1030  Minimal basilar bronchiectasis airways wall th...   \n",
       "1031                   No significant airways plugging.   \n",
       "1032  Stable anterior mediastinal soft tissue nodule...   \n",
       "\n",
       "                                           text_changed  index_changed  \\\n",
       "0     [no, acute, abnormality, the, abdomen, or, pil...              6   \n",
       "1     [unchanged, aneurysmal, dilation, of, the, cel...              6   \n",
       "2     [please, note, that, if, there, is, high, clin...             15   \n",
       "3     [redundant, bilateral, optica, nerves, with, s...              2   \n",
       "4     [further, characterization, with, mr, orbitali...              4   \n",
       "...                                                 ...            ...   \n",
       "1028  [multilevel, degenerative, chance, are, again,...              2   \n",
       "1029  [wiethe, a, large, partially, calcified, right...              0   \n",
       "1030  [minimally, basilar, bronchiectasis, airways, ...              0   \n",
       "1031             [no, significantly, airways, plugging]              1   \n",
       "1032  [stable, anterior, mediastinum, soft, tissue, ...              2   \n",
       "\n",
       "          word_true       word_error  \\\n",
       "0          [pelvis]        [pillows]   \n",
       "1          [artery]        [arterio]   \n",
       "2             [mri]          [maria]   \n",
       "3           [optic]         [optica]   \n",
       "4          [orbits]      [orbitalis]   \n",
       "...             ...              ...   \n",
       "1028      [changes]         [chance]   \n",
       "1029         [with]         [wiethe]   \n",
       "1030      [minimal]      [minimally]   \n",
       "1031  [significant]  [significantly]   \n",
       "1032  [mediastinal]    [mediastinum]   \n",
       "\n",
       "                                                oneshot  \n",
       "0      [False, False, False, False, False, False, True]  \n",
       "1     [False, False, False, False, False, False, Tru...  \n",
       "2     [False, False, False, False, False, False, Fal...  \n",
       "3     [False, False, True, False, False, False, Fals...  \n",
       "4     [False, False, False, False, True, False, Fals...  \n",
       "...                                                 ...  \n",
       "1028  [False, False, True, False, False, False, Fals...  \n",
       "1029  [True, False, False, False, False, False, Fals...  \n",
       "1030          [True, False, False, False, False, False]  \n",
       "1031                        [False, True, False, False]  \n",
       "1032  [False, False, True, False, False, False, Fals...  \n",
       "\n",
       "[1033 rows x 6 columns]"
      ]
     },
     "execution_count": 40,
     "metadata": {},
     "output_type": "execute_result"
    }
   ],
   "source": [
    "error_path = './rad_report_error_sentences_tengxio.pickle'\n",
    "df_one = pd.read_pickle(error_path)\n",
    "df_one"
   ]
  },
  {
   "cell_type": "code",
   "execution_count": 41,
   "metadata": {
    "colab": {
     "base_uri": "https://localhost:8080/",
     "height": 35
    },
    "id": "v869xVO7oa8b",
    "outputId": "e08e16a6-326c-4f7f-e44f-6560b3ec26ce"
   },
   "outputs": [
    {
     "data": {
      "text/plain": [
       "'pillows'"
      ]
     },
     "execution_count": 41,
     "metadata": {},
     "output_type": "execute_result"
    }
   ],
   "source": [
    "text_orig_one = df_one['text_orig'].tolist()\n",
    "text_changed_one = df_one['text_changed'].tolist()\n",
    "word_error_one = df_one['word_error'].tolist()\n",
    "word_error_one[0][0]"
   ]
  },
  {
   "cell_type": "code",
   "execution_count": 42,
   "metadata": {
    "colab": {
     "base_uri": "https://localhost:8080/",
     "height": 35
    },
    "id": "00Fexxa_MVLA",
    "outputId": "d6a5454e-edf7-4eec-8eda-275d8bb3684a"
   },
   "outputs": [
    {
     "data": {
      "text/plain": [
       "'no acute abnormality the abdomen or pillows'"
      ]
     },
     "execution_count": 42,
     "metadata": {},
     "output_type": "execute_result"
    }
   ],
   "source": [
    "' '.join(text_changed_one[0])"
   ]
  },
  {
   "cell_type": "markdown",
   "metadata": {
    "id": "vKGI5hu1YF5V"
   },
   "source": [
    "Create detector"
   ]
  },
  {
   "cell_type": "code",
   "execution_count": 43,
   "metadata": {
    "id": "JSl1EsRIYAiB"
   },
   "outputs": [],
   "source": [
    "TOPK = 10\n",
    "detector = SentDetector(basemodel, basetokenizer, TOPK)"
   ]
  },
  {
   "cell_type": "markdown",
   "metadata": {
    "id": "iZbR_H_9UxRe"
   },
   "source": [
    "### k = 1"
   ]
  },
  {
   "cell_type": "code",
   "execution_count": null,
   "metadata": {
    "colab": {
     "base_uri": "https://localhost:8080/",
     "height": 153
    },
    "id": "lMwnkcpEUlGD",
    "outputId": "051e14b8-2ca2-43db-c159-4a814bd4630a"
   },
   "outputs": [
    {
     "name": "stdout",
     "output_type": "stream",
     "text": [
      "Finished 0 sentences.\n",
      "Finished 200 sentences.\n",
      "Finished 400 sentences.\n",
      "Finished 600 sentences.\n",
      "Finished 800 sentences.\n",
      "Finished 1000 sentences.\n",
      "hits@1 Accuracy: 0.249758\n"
     ]
    },
    {
     "data": {
      "text/plain": [
       "0.24975798644724104"
      ]
     },
     "execution_count": 61,
     "metadata": {
      "tags": []
     },
     "output_type": "execute_result"
    }
   ],
   "source": [
    "# bert base model\n",
    "detector.changeModel(basemodel, basetokenizer)\n",
    "detector.model_eval(text_changed, word_error, 1, True)"
   ]
  },
  {
   "cell_type": "code",
   "execution_count": 33,
   "metadata": {},
   "outputs": [
    {
     "name": "stdout",
     "output_type": "stream",
     "text": [
      "Finished 100 sentences, hits@1=0.250000, hits@3=0.590000, hits@5=0.780000\n",
      "Time cost: 120.510115 seconds\n",
      "Finished 200 sentences, hits@1=0.255000, hits@3=0.560000, hits@5=0.725000\n",
      "Time cost: 142.896591 seconds\n",
      "Finished 300 sentences, hits@1=0.270000, hits@3=0.570000, hits@5=0.730000\n",
      "Time cost: 138.736346 seconds\n",
      "Finished 400 sentences, hits@1=0.250000, hits@3=0.562500, hits@5=0.740000\n",
      "Time cost: 96.591972 seconds\n",
      "Finished 500 sentences, hits@1=0.260000, hits@3=0.568000, hits@5=0.740000\n",
      "Time cost: 86.612353 seconds\n",
      "Finished 600 sentences, hits@1=0.266667, hits@3=0.568333, hits@5=0.756667\n",
      "Time cost: 83.859822 seconds\n",
      "Finished 700 sentences, hits@1=0.260000, hits@3=0.582857, hits@5=0.764286\n",
      "Time cost: 99.344126 seconds\n",
      "Finished 800 sentences, hits@1=0.256250, hits@3=0.580000, hits@5=0.758750\n",
      "Time cost: 85.393320 seconds\n",
      "Finished 900 sentences, hits@1=0.252222, hits@3=0.584444, hits@5=0.762222\n",
      "Time cost: 97.602025 seconds\n",
      "Finished 1000 sentences, hits@1=0.247000, hits@3=0.578000, hits@5=0.754000\n",
      "Time cost: 107.080023 seconds\n",
      "Done. Accuracy: hits@1=0.249758, hits@3=0.578896, hits@5=0.753146\n",
      "Total time cost: 1096.925991 seconds.\n",
      "Total time: 1096.926129102707\n"
     ]
    }
   ],
   "source": [
    "# bert base model\n",
    "detector.changeModel(basemodel, basetokenizer)\n",
    "detector.model_eval(text_changed_one, word_error_one, True)"
   ]
  },
  {
   "cell_type": "code",
   "execution_count": null,
   "metadata": {
    "colab": {
     "base_uri": "https://localhost:8080/",
     "height": 136
    },
    "id": "wLWygdfOUlI1",
    "outputId": "1e8b277e-1a74-4998-85df-70849aa7de52"
   },
   "outputs": [
    {
     "name": "stdout",
     "output_type": "stream",
     "text": [
      "Finished 200 sentences, acc = 0.3\n",
      "Finished 400 sentences, acc = 0.3\n",
      "Finished 600 sentences, acc = 0.31\n",
      "Finished 800 sentences, acc = 0.31125\n",
      "Finished 1000 sentences, acc = 0.308\n",
      "hits@1 Accuracy: 0.306873\n"
     ]
    },
    {
     "data": {
      "text/plain": [
       "0.3068731848983543"
      ]
     },
     "execution_count": 65,
     "metadata": {
      "tags": []
     },
     "output_type": "execute_result"
    }
   ],
   "source": [
    "detector.changeModel(rad_bert_ft_model, basetokenizer)\n",
    "detector.model_eval(text_changed, word_error, 1, True)"
   ]
  },
  {
   "cell_type": "code",
   "execution_count": null,
   "metadata": {
    "colab": {
     "base_uri": "https://localhost:8080/",
     "height": 136
    },
    "id": "eg7qJfRWrCwI",
    "outputId": "e5dff3c9-a057-4d33-b098-260ba170d28e"
   },
   "outputs": [
    {
     "name": "stdout",
     "output_type": "stream",
     "text": [
      "Finished 200 sentences, acc = 0.455\n",
      "Finished 400 sentences, acc = 0.4175\n",
      "Finished 600 sentences, acc = 0.44166666666666665\n",
      "Finished 800 sentences, acc = 0.44625\n",
      "Finished 1000 sentences, acc = 0.447\n",
      "hits@1 Accuracy: 0.447241\n"
     ]
    },
    {
     "data": {
      "text/plain": [
       "0.44724104549854793"
      ]
     },
     "execution_count": 67,
     "metadata": {
      "tags": []
     },
     "output_type": "execute_result"
    }
   ],
   "source": [
    "detector.changeModel(cli_bert_report_ft_model, clitokenizer)\n",
    "detector.model_eval(text_changed, word_error, 1, True)"
   ]
  },
  {
   "cell_type": "markdown",
   "metadata": {
    "id": "dPhH4jZcSt0f"
   },
   "source": [
    "### k = 3"
   ]
  },
  {
   "cell_type": "code",
   "execution_count": null,
   "metadata": {
    "colab": {
     "base_uri": "https://localhost:8080/",
     "height": 136
    },
    "id": "8gbANhM-SytD",
    "outputId": "cf6f64f5-5d21-4864-803b-ced392e5b921"
   },
   "outputs": [
    {
     "name": "stdout",
     "output_type": "stream",
     "text": [
      "Finished 200 sentences, acc = 0.56\n",
      "Finished 400 sentences, acc = 0.5625\n",
      "Finished 600 sentences, acc = 0.5683333333333334\n",
      "Finished 800 sentences, acc = 0.58\n",
      "Finished 1000 sentences, acc = 0.578\n",
      "hits@3 Accuracy: 0.578896\n"
     ]
    },
    {
     "data": {
      "text/plain": [
       "0.5788964181994192"
      ]
     },
     "execution_count": 69,
     "metadata": {
      "tags": []
     },
     "output_type": "execute_result"
    }
   ],
   "source": [
    "detector.changeModel(basemodel, basetokenizer)\n",
    "detector.model_eval(text_changed, word_error, 3, True)"
   ]
  },
  {
   "cell_type": "code",
   "execution_count": null,
   "metadata": {
    "colab": {
     "base_uri": "https://localhost:8080/",
     "height": 136
    },
    "id": "4yzKG0R0Sy2R",
    "outputId": "4b6005f0-9951-486c-e7f9-13e188b26faa"
   },
   "outputs": [
    {
     "name": "stdout",
     "output_type": "stream",
     "text": [
      "Finished 200 sentences, acc = 0.82\n",
      "Finished 400 sentences, acc = 0.78\n",
      "Finished 600 sentences, acc = 0.7816666666666666\n",
      "Finished 800 sentences, acc = 0.7875\n",
      "Finished 1000 sentences, acc = 0.786\n",
      "hits@3 Accuracy: 0.786060\n"
     ]
    },
    {
     "data": {
      "text/plain": [
       "0.7860600193610843"
      ]
     },
     "execution_count": 73,
     "metadata": {
      "tags": []
     },
     "output_type": "execute_result"
    }
   ],
   "source": [
    "detector.changeModel(cli_bert_report_ft_model, clitokenizer)\n",
    "detector.model_eval(text_changed, word_error, 3, True)"
   ]
  },
  {
   "cell_type": "code",
   "execution_count": null,
   "metadata": {
    "id": "dmERwCKH5ri7"
   },
   "outputs": [],
   "source": []
  },
  {
   "cell_type": "markdown",
   "metadata": {
    "id": "_QgZa3MmSygB"
   },
   "source": [
    "### one-error evaluate"
   ]
  },
  {
   "cell_type": "code",
   "execution_count": 91,
   "metadata": {
    "id": "Mem5h2IM5rpz"
   },
   "outputs": [],
   "source": [
    "TOPK = 10\n",
    "detector = SentDetector(basemodel, basetokenizer, TOPK)"
   ]
  },
  {
   "cell_type": "markdown",
   "metadata": {},
   "source": [
    "bert-base-uncased, using sum of last four layers"
   ]
  },
  {
   "cell_type": "code",
   "execution_count": 89,
   "metadata": {},
   "outputs": [
    {
     "name": "stdout",
     "output_type": "stream",
     "text": [
      "Finished 100 sentences, hits@1=0.250000, hits@3=0.590000, hits@5=0.780000\n",
      "Time cost: 94.409955 seconds\n",
      "Finished 200 sentences, hits@1=0.255000, hits@3=0.560000, hits@5=0.725000\n",
      "Time cost: 112.290043 seconds\n",
      "Finished 300 sentences, hits@1=0.270000, hits@3=0.570000, hits@5=0.730000\n",
      "Time cost: 122.945009 seconds\n",
      "Finished 400 sentences, hits@1=0.250000, hits@3=0.562500, hits@5=0.740000\n",
      "Time cost: 89.775336 seconds\n",
      "Finished 500 sentences, hits@1=0.260000, hits@3=0.568000, hits@5=0.740000\n",
      "Time cost: 81.912973 seconds\n",
      "Finished 600 sentences, hits@1=0.266667, hits@3=0.568333, hits@5=0.756667\n",
      "Time cost: 80.321415 seconds\n",
      "Finished 700 sentences, hits@1=0.260000, hits@3=0.582857, hits@5=0.764286\n",
      "Time cost: 108.083396 seconds\n",
      "Finished 800 sentences, hits@1=0.256250, hits@3=0.580000, hits@5=0.758750\n",
      "Time cost: 95.888480 seconds\n",
      "Finished 900 sentences, hits@1=0.252222, hits@3=0.584444, hits@5=0.762222\n",
      "Time cost: 97.362396 seconds\n",
      "Finished 1000 sentences, hits@1=0.247000, hits@3=0.578000, hits@5=0.754000\n",
      "Time cost: 108.420130 seconds\n",
      "Done. Accuracy: hits@1=0.249758, hits@3=0.578896, hits@5=0.753146\n",
      "Total time cost: 1030.444332 seconds.\n"
     ]
    }
   ],
   "source": [
    "detector.model_eval(text_changed_one, word_error_one, verbose=True)"
   ]
  },
  {
   "cell_type": "markdown",
   "metadata": {},
   "source": [
    "ft-rad-bert, using sum of last four layers"
   ]
  },
  {
   "cell_type": "code",
   "execution_count": 95,
   "metadata": {
    "id": "y58i4zKyuThY"
   },
   "outputs": [
    {
     "name": "stdout",
     "output_type": "stream",
     "text": [
      "Finished 100 sentences, hits@1=0.480000, hits@3=0.810000, hits@5=0.950000\n",
      "Time cost: 101.069928 seconds\n",
      "Finished 200 sentences, hits@1=0.455000, hits@3=0.820000, hits@5=0.930000\n",
      "Time cost: 120.093815 seconds\n",
      "Finished 300 sentences, hits@1=0.416667, hits@3=0.790000, hits@5=0.900000\n",
      "Time cost: 120.950302 seconds\n",
      "Finished 400 sentences, hits@1=0.417500, hits@3=0.780000, hits@5=0.907500\n",
      "Time cost: 102.966852 seconds\n",
      "Finished 500 sentences, hits@1=0.414000, hits@3=0.766000, hits@5=0.902000\n",
      "Time cost: 93.571782 seconds\n",
      "Finished 600 sentences, hits@1=0.441667, hits@3=0.781667, hits@5=0.903333\n",
      "Time cost: 92.211831 seconds\n",
      "Finished 700 sentences, hits@1=0.448571, hits@3=0.788571, hits@5=0.904286\n",
      "Time cost: 105.340678 seconds\n",
      "Finished 800 sentences, hits@1=0.446250, hits@3=0.787500, hits@5=0.906250\n",
      "Time cost: 90.005270 seconds\n",
      "Finished 900 sentences, hits@1=0.448889, hits@3=0.787778, hits@5=0.906667\n",
      "Time cost: 101.081881 seconds\n",
      "Finished 1000 sentences, hits@1=0.447000, hits@3=0.786000, hits@5=0.902000\n",
      "Time cost: 109.901083 seconds\n",
      "Done. Accuracy: hits@1=0.447241, hits@3=0.786060, hits@5=0.899322\n",
      "Total time cost: 1075.188496 seconds.\n"
     ]
    }
   ],
   "source": [
    "detector.changeModel(cli_bert_report_ft_model, clitokenizer)\n",
    "sample_lst1, sample_lst3, sample_lst5, sample_lst0 = detector.model_eval(text_changed_one, word_error_one, verbose=True)"
   ]
  },
  {
   "cell_type": "markdown",
   "metadata": {},
   "source": [
    "ft-rad-bert, using only last layer"
   ]
  },
  {
   "cell_type": "code",
   "execution_count": 78,
   "metadata": {},
   "outputs": [
    {
     "name": "stdout",
     "output_type": "stream",
     "text": [
      "Finished 100 sentences, hits@1=0.430000, hits@3=0.810000, hits@5=0.930000\n",
      "Time cost: 93.623527 seconds\n",
      "Finished 200 sentences, hits@1=0.440000, hits@3=0.825000, hits@5=0.915000\n",
      "Time cost: 110.758047 seconds\n",
      "Finished 300 sentences, hits@1=0.406667, hits@3=0.790000, hits@5=0.883333\n",
      "Time cost: 109.945173 seconds\n",
      "Finished 400 sentences, hits@1=0.410000, hits@3=0.780000, hits@5=0.890000\n",
      "Time cost: 95.318457 seconds\n",
      "Finished 500 sentences, hits@1=0.404000, hits@3=0.764000, hits@5=0.888000\n",
      "Time cost: 88.730593 seconds\n",
      "Finished 600 sentences, hits@1=0.421667, hits@3=0.781667, hits@5=0.891667\n",
      "Time cost: 88.982971 seconds\n",
      "Finished 700 sentences, hits@1=0.424286, hits@3=0.784286, hits@5=0.895714\n",
      "Time cost: 110.311076 seconds\n",
      "Finished 800 sentences, hits@1=0.422500, hits@3=0.781250, hits@5=0.897500\n",
      "Time cost: 93.312497 seconds\n",
      "Finished 900 sentences, hits@1=0.425556, hits@3=0.777778, hits@5=0.898889\n",
      "Time cost: 109.341440 seconds\n",
      "Finished 1000 sentences, hits@1=0.423000, hits@3=0.777000, hits@5=0.896000\n",
      "Time cost: 122.438930 seconds\n",
      "Done. Accuracy: hits@1=0.424976, hits@3=0.776379, hits@5=0.893514\n",
      "Total time cost: 1063.700598 seconds.\n"
     ]
    }
   ],
   "source": [
    "# using solely the last layer as embedding\n",
    "detector.changeModel(cli_bert_report_ft_model, clitokenizer)\n",
    "detector.model_eval(text_changed_one, word_error_one, verbose=True, last_layer=True)"
   ]
  },
  {
   "cell_type": "markdown",
   "metadata": {},
   "source": [
    "ft-rad-bert, using second-to-last layer"
   ]
  },
  {
   "cell_type": "code",
   "execution_count": 84,
   "metadata": {},
   "outputs": [
    {
     "name": "stdout",
     "output_type": "stream",
     "text": [
      "Finished 100 sentences, hits@1=0.130000, hits@3=0.410000, hits@5=0.660000\n",
      "Time cost: 103.384291 seconds\n",
      "Finished 200 sentences, hits@1=0.105000, hits@3=0.345000, hits@5=0.585000\n",
      "Time cost: 118.820252 seconds\n"
     ]
    },
    {
     "ename": "KeyboardInterrupt",
     "evalue": "",
     "output_type": "error",
     "traceback": [
      "\u001b[0;31m---------------------------------------------------------------------------\u001b[0m",
      "\u001b[0;31mKeyboardInterrupt\u001b[0m                         Traceback (most recent call last)",
      "\u001b[0;32m<ipython-input-84-7518d125f4af>\u001b[0m in \u001b[0;36m<module>\u001b[0;34m\u001b[0m\n\u001b[1;32m      1\u001b[0m \u001b[0;31m# using the second-to-last layer as embedding\u001b[0m\u001b[0;34m\u001b[0m\u001b[0;34m\u001b[0m\u001b[0;34m\u001b[0m\u001b[0m\n\u001b[1;32m      2\u001b[0m \u001b[0mdetector\u001b[0m\u001b[0;34m.\u001b[0m\u001b[0mchangeModel\u001b[0m\u001b[0;34m(\u001b[0m\u001b[0mcli_bert_report_ft_model\u001b[0m\u001b[0;34m,\u001b[0m \u001b[0mclitokenizer\u001b[0m\u001b[0;34m)\u001b[0m\u001b[0;34m\u001b[0m\u001b[0;34m\u001b[0m\u001b[0m\n\u001b[0;32m----> 3\u001b[0;31m \u001b[0mdetector\u001b[0m\u001b[0;34m.\u001b[0m\u001b[0mmodel_eval\u001b[0m\u001b[0;34m(\u001b[0m\u001b[0mtext_changed_one\u001b[0m\u001b[0;34m,\u001b[0m \u001b[0mword_error_one\u001b[0m\u001b[0;34m,\u001b[0m \u001b[0mverbose\u001b[0m\u001b[0;34m=\u001b[0m\u001b[0;32mTrue\u001b[0m\u001b[0;34m,\u001b[0m \u001b[0mlast_layer\u001b[0m\u001b[0;34m=\u001b[0m\u001b[0;32mTrue\u001b[0m\u001b[0;34m)\u001b[0m\u001b[0;34m\u001b[0m\u001b[0;34m\u001b[0m\u001b[0m\n\u001b[0m",
      "\u001b[0;32m<ipython-input-79-43199e0e0c82>\u001b[0m in \u001b[0;36mmodel_eval\u001b[0;34m(self, error_sentences, error_words, verbose, last_layer)\u001b[0m\n\u001b[1;32m    362\u001b[0m     \u001b[0mnum\u001b[0m \u001b[0;34m=\u001b[0m \u001b[0mlen\u001b[0m\u001b[0;34m(\u001b[0m\u001b[0merror_sentences\u001b[0m\u001b[0;34m)\u001b[0m\u001b[0;34m\u001b[0m\u001b[0;34m\u001b[0m\u001b[0m\n\u001b[1;32m    363\u001b[0m     \u001b[0;32mfor\u001b[0m \u001b[0mi\u001b[0m \u001b[0;32min\u001b[0m \u001b[0mrange\u001b[0m\u001b[0;34m(\u001b[0m\u001b[0mnum\u001b[0m\u001b[0;34m)\u001b[0m\u001b[0;34m:\u001b[0m\u001b[0;34m\u001b[0m\u001b[0;34m\u001b[0m\u001b[0m\n\u001b[0;32m--> 364\u001b[0;31m       \u001b[0msuspects\u001b[0m \u001b[0;34m=\u001b[0m \u001b[0mself\u001b[0m\u001b[0;34m.\u001b[0m\u001b[0mdetect_ret\u001b[0m\u001b[0;34m(\u001b[0m\u001b[0;34m' '\u001b[0m\u001b[0;34m.\u001b[0m\u001b[0mjoin\u001b[0m\u001b[0;34m(\u001b[0m\u001b[0merror_sentences\u001b[0m\u001b[0;34m[\u001b[0m\u001b[0mi\u001b[0m\u001b[0;34m]\u001b[0m\u001b[0;34m)\u001b[0m\u001b[0;34m,\u001b[0m \u001b[0mlast_layer\u001b[0m \u001b[0;34m=\u001b[0m \u001b[0mlast_layer\u001b[0m\u001b[0;34m)\u001b[0m\u001b[0;34m\u001b[0m\u001b[0;34m\u001b[0m\u001b[0m\n\u001b[0m\u001b[1;32m    365\u001b[0m       \u001b[0;32mif\u001b[0m \u001b[0merror_words\u001b[0m\u001b[0;34m[\u001b[0m\u001b[0mi\u001b[0m\u001b[0;34m]\u001b[0m\u001b[0;34m[\u001b[0m\u001b[0;36m0\u001b[0m\u001b[0;34m]\u001b[0m \u001b[0;32min\u001b[0m \u001b[0mset\u001b[0m\u001b[0;34m(\u001b[0m\u001b[0msuspects\u001b[0m\u001b[0;34m[\u001b[0m\u001b[0;34m:\u001b[0m\u001b[0;36m1\u001b[0m\u001b[0;34m]\u001b[0m\u001b[0;34m)\u001b[0m\u001b[0;34m:\u001b[0m\u001b[0;34m\u001b[0m\u001b[0;34m\u001b[0m\u001b[0m\n\u001b[1;32m    366\u001b[0m         \u001b[0mpos1\u001b[0m \u001b[0;34m+=\u001b[0m \u001b[0;36m1\u001b[0m\u001b[0;34m\u001b[0m\u001b[0;34m\u001b[0m\u001b[0m\n",
      "\u001b[0;32m<ipython-input-79-43199e0e0c82>\u001b[0m in \u001b[0;36mdetect_ret\u001b[0;34m(self, text, verbose, last_layer)\u001b[0m\n\u001b[1;32m    314\u001b[0m     \u001b[0;32mfor\u001b[0m \u001b[0mi\u001b[0m \u001b[0;32min\u001b[0m \u001b[0mrange\u001b[0m\u001b[0;34m(\u001b[0m\u001b[0;36m1\u001b[0m\u001b[0;34m,\u001b[0m \u001b[0mself\u001b[0m\u001b[0;34m.\u001b[0m\u001b[0mlength\u001b[0m \u001b[0;34m-\u001b[0m \u001b[0;36m1\u001b[0m\u001b[0;34m)\u001b[0m\u001b[0;34m:\u001b[0m\u001b[0;34m\u001b[0m\u001b[0;34m\u001b[0m\u001b[0m\n\u001b[1;32m    315\u001b[0m       \u001b[0mcur_masked_tokens\u001b[0m \u001b[0;34m=\u001b[0m \u001b[0mself\u001b[0m\u001b[0;34m.\u001b[0m\u001b[0mmask_ith_token\u001b[0m\u001b[0;34m(\u001b[0m\u001b[0mi\u001b[0m\u001b[0;34m)\u001b[0m\u001b[0;34m\u001b[0m\u001b[0;34m\u001b[0m\u001b[0m\n\u001b[0;32m--> 316\u001b[0;31m       \u001b[0mhidden\u001b[0m\u001b[0;34m,\u001b[0m \u001b[0mcandidates\u001b[0m \u001b[0;34m=\u001b[0m \u001b[0mself\u001b[0m\u001b[0;34m.\u001b[0m\u001b[0mgenerate_cands\u001b[0m\u001b[0;34m(\u001b[0m\u001b[0mcur_masked_tokens\u001b[0m\u001b[0;34m)\u001b[0m\u001b[0;34m\u001b[0m\u001b[0;34m\u001b[0m\u001b[0m\n\u001b[0m\u001b[1;32m    317\u001b[0m       \u001b[0;32mif\u001b[0m \u001b[0mverbose\u001b[0m\u001b[0;34m:\u001b[0m\u001b[0;34m\u001b[0m\u001b[0;34m\u001b[0m\u001b[0m\n\u001b[1;32m    318\u001b[0m         \u001b[0mprint\u001b[0m\u001b[0;34m(\u001b[0m\u001b[0mcur_masked_tokens\u001b[0m\u001b[0;34m)\u001b[0m\u001b[0;34m\u001b[0m\u001b[0;34m\u001b[0m\u001b[0m\n",
      "\u001b[0;32m<ipython-input-79-43199e0e0c82>\u001b[0m in \u001b[0;36mgenerate_cands\u001b[0;34m(self, tokenized_text, time_switch)\u001b[0m\n\u001b[1;32m     24\u001b[0m     \u001b[0mt_start\u001b[0m \u001b[0;34m=\u001b[0m \u001b[0mtime\u001b[0m\u001b[0;34m.\u001b[0m\u001b[0mtime\u001b[0m\u001b[0;34m(\u001b[0m\u001b[0;34m)\u001b[0m\u001b[0;34m\u001b[0m\u001b[0;34m\u001b[0m\u001b[0m\n\u001b[1;32m     25\u001b[0m     \u001b[0;32mwith\u001b[0m \u001b[0mtorch\u001b[0m\u001b[0;34m.\u001b[0m\u001b[0mno_grad\u001b[0m\u001b[0;34m(\u001b[0m\u001b[0;34m)\u001b[0m\u001b[0;34m:\u001b[0m \u001b[0;31m# prediction\u001b[0m\u001b[0;34m\u001b[0m\u001b[0;34m\u001b[0m\u001b[0m\n\u001b[0;32m---> 26\u001b[0;31m         \u001b[0moutputs\u001b[0m \u001b[0;34m=\u001b[0m \u001b[0mself\u001b[0m\u001b[0;34m.\u001b[0m\u001b[0mmodel\u001b[0m\u001b[0;34m(\u001b[0m\u001b[0mtokens_tensor\u001b[0m\u001b[0;34m,\u001b[0m \u001b[0msegments_tensors\u001b[0m\u001b[0;34m)\u001b[0m\u001b[0;34m\u001b[0m\u001b[0;34m\u001b[0m\u001b[0m\n\u001b[0m\u001b[1;32m     27\u001b[0m     \u001b[0;31m# time\u001b[0m\u001b[0;34m\u001b[0m\u001b[0;34m\u001b[0m\u001b[0;34m\u001b[0m\u001b[0m\n\u001b[1;32m     28\u001b[0m     \u001b[0mt_model_end\u001b[0m \u001b[0;34m=\u001b[0m \u001b[0mtime\u001b[0m\u001b[0;34m.\u001b[0m\u001b[0mtime\u001b[0m\u001b[0;34m(\u001b[0m\u001b[0;34m)\u001b[0m\u001b[0;34m\u001b[0m\u001b[0;34m\u001b[0m\u001b[0m\n",
      "\u001b[0;32m/opt/anaconda3/envs/py36/lib/python3.6/site-packages/torch/nn/modules/module.py\u001b[0m in \u001b[0;36m_call_impl\u001b[0;34m(self, *input, **kwargs)\u001b[0m\n\u001b[1;32m    720\u001b[0m             \u001b[0mresult\u001b[0m \u001b[0;34m=\u001b[0m \u001b[0mself\u001b[0m\u001b[0;34m.\u001b[0m\u001b[0m_slow_forward\u001b[0m\u001b[0;34m(\u001b[0m\u001b[0;34m*\u001b[0m\u001b[0minput\u001b[0m\u001b[0;34m,\u001b[0m \u001b[0;34m**\u001b[0m\u001b[0mkwargs\u001b[0m\u001b[0;34m)\u001b[0m\u001b[0;34m\u001b[0m\u001b[0;34m\u001b[0m\u001b[0m\n\u001b[1;32m    721\u001b[0m         \u001b[0;32melse\u001b[0m\u001b[0;34m:\u001b[0m\u001b[0;34m\u001b[0m\u001b[0;34m\u001b[0m\u001b[0m\n\u001b[0;32m--> 722\u001b[0;31m             \u001b[0mresult\u001b[0m \u001b[0;34m=\u001b[0m \u001b[0mself\u001b[0m\u001b[0;34m.\u001b[0m\u001b[0mforward\u001b[0m\u001b[0;34m(\u001b[0m\u001b[0;34m*\u001b[0m\u001b[0minput\u001b[0m\u001b[0;34m,\u001b[0m \u001b[0;34m**\u001b[0m\u001b[0mkwargs\u001b[0m\u001b[0;34m)\u001b[0m\u001b[0;34m\u001b[0m\u001b[0;34m\u001b[0m\u001b[0m\n\u001b[0m\u001b[1;32m    723\u001b[0m         for hook in itertools.chain(\n\u001b[1;32m    724\u001b[0m                 \u001b[0m_global_forward_hooks\u001b[0m\u001b[0;34m.\u001b[0m\u001b[0mvalues\u001b[0m\u001b[0;34m(\u001b[0m\u001b[0;34m)\u001b[0m\u001b[0;34m,\u001b[0m\u001b[0;34m\u001b[0m\u001b[0;34m\u001b[0m\u001b[0m\n",
      "\u001b[0;32m/opt/anaconda3/envs/py36/lib/python3.6/site-packages/transformers/modeling_bert.py\u001b[0m in \u001b[0;36mforward\u001b[0;34m(self, input_ids, attention_mask, token_type_ids, position_ids, head_mask, inputs_embeds, encoder_hidden_states, encoder_attention_mask, labels, output_attentions, output_hidden_states, return_dict, **kwargs)\u001b[0m\n\u001b[1;32m   1162\u001b[0m             \u001b[0moutput_attentions\u001b[0m\u001b[0;34m=\u001b[0m\u001b[0moutput_attentions\u001b[0m\u001b[0;34m,\u001b[0m\u001b[0;34m\u001b[0m\u001b[0;34m\u001b[0m\u001b[0m\n\u001b[1;32m   1163\u001b[0m             \u001b[0moutput_hidden_states\u001b[0m\u001b[0;34m=\u001b[0m\u001b[0moutput_hidden_states\u001b[0m\u001b[0;34m,\u001b[0m\u001b[0;34m\u001b[0m\u001b[0;34m\u001b[0m\u001b[0m\n\u001b[0;32m-> 1164\u001b[0;31m             \u001b[0mreturn_dict\u001b[0m\u001b[0;34m=\u001b[0m\u001b[0mreturn_dict\u001b[0m\u001b[0;34m,\u001b[0m\u001b[0;34m\u001b[0m\u001b[0;34m\u001b[0m\u001b[0m\n\u001b[0m\u001b[1;32m   1165\u001b[0m         )\n\u001b[1;32m   1166\u001b[0m \u001b[0;34m\u001b[0m\u001b[0m\n",
      "\u001b[0;32m/opt/anaconda3/envs/py36/lib/python3.6/site-packages/torch/nn/modules/module.py\u001b[0m in \u001b[0;36m_call_impl\u001b[0;34m(self, *input, **kwargs)\u001b[0m\n\u001b[1;32m    720\u001b[0m             \u001b[0mresult\u001b[0m \u001b[0;34m=\u001b[0m \u001b[0mself\u001b[0m\u001b[0;34m.\u001b[0m\u001b[0m_slow_forward\u001b[0m\u001b[0;34m(\u001b[0m\u001b[0;34m*\u001b[0m\u001b[0minput\u001b[0m\u001b[0;34m,\u001b[0m \u001b[0;34m**\u001b[0m\u001b[0mkwargs\u001b[0m\u001b[0;34m)\u001b[0m\u001b[0;34m\u001b[0m\u001b[0;34m\u001b[0m\u001b[0m\n\u001b[1;32m    721\u001b[0m         \u001b[0;32melse\u001b[0m\u001b[0;34m:\u001b[0m\u001b[0;34m\u001b[0m\u001b[0;34m\u001b[0m\u001b[0m\n\u001b[0;32m--> 722\u001b[0;31m             \u001b[0mresult\u001b[0m \u001b[0;34m=\u001b[0m \u001b[0mself\u001b[0m\u001b[0;34m.\u001b[0m\u001b[0mforward\u001b[0m\u001b[0;34m(\u001b[0m\u001b[0;34m*\u001b[0m\u001b[0minput\u001b[0m\u001b[0;34m,\u001b[0m \u001b[0;34m**\u001b[0m\u001b[0mkwargs\u001b[0m\u001b[0;34m)\u001b[0m\u001b[0;34m\u001b[0m\u001b[0;34m\u001b[0m\u001b[0m\n\u001b[0m\u001b[1;32m    723\u001b[0m         for hook in itertools.chain(\n\u001b[1;32m    724\u001b[0m                 \u001b[0m_global_forward_hooks\u001b[0m\u001b[0;34m.\u001b[0m\u001b[0mvalues\u001b[0m\u001b[0;34m(\u001b[0m\u001b[0;34m)\u001b[0m\u001b[0;34m,\u001b[0m\u001b[0;34m\u001b[0m\u001b[0;34m\u001b[0m\u001b[0m\n",
      "\u001b[0;32m/opt/anaconda3/envs/py36/lib/python3.6/site-packages/transformers/modeling_bert.py\u001b[0m in \u001b[0;36mforward\u001b[0;34m(self, input_ids, attention_mask, token_type_ids, position_ids, head_mask, inputs_embeds, encoder_hidden_states, encoder_attention_mask, output_attentions, output_hidden_states, return_dict)\u001b[0m\n\u001b[1;32m    839\u001b[0m             \u001b[0moutput_attentions\u001b[0m\u001b[0;34m=\u001b[0m\u001b[0moutput_attentions\u001b[0m\u001b[0;34m,\u001b[0m\u001b[0;34m\u001b[0m\u001b[0;34m\u001b[0m\u001b[0m\n\u001b[1;32m    840\u001b[0m             \u001b[0moutput_hidden_states\u001b[0m\u001b[0;34m=\u001b[0m\u001b[0moutput_hidden_states\u001b[0m\u001b[0;34m,\u001b[0m\u001b[0;34m\u001b[0m\u001b[0;34m\u001b[0m\u001b[0m\n\u001b[0;32m--> 841\u001b[0;31m             \u001b[0mreturn_dict\u001b[0m\u001b[0;34m=\u001b[0m\u001b[0mreturn_dict\u001b[0m\u001b[0;34m,\u001b[0m\u001b[0;34m\u001b[0m\u001b[0;34m\u001b[0m\u001b[0m\n\u001b[0m\u001b[1;32m    842\u001b[0m         )\n\u001b[1;32m    843\u001b[0m         \u001b[0msequence_output\u001b[0m \u001b[0;34m=\u001b[0m \u001b[0mencoder_outputs\u001b[0m\u001b[0;34m[\u001b[0m\u001b[0;36m0\u001b[0m\u001b[0;34m]\u001b[0m\u001b[0;34m\u001b[0m\u001b[0;34m\u001b[0m\u001b[0m\n",
      "\u001b[0;32m/opt/anaconda3/envs/py36/lib/python3.6/site-packages/torch/nn/modules/module.py\u001b[0m in \u001b[0;36m_call_impl\u001b[0;34m(self, *input, **kwargs)\u001b[0m\n\u001b[1;32m    720\u001b[0m             \u001b[0mresult\u001b[0m \u001b[0;34m=\u001b[0m \u001b[0mself\u001b[0m\u001b[0;34m.\u001b[0m\u001b[0m_slow_forward\u001b[0m\u001b[0;34m(\u001b[0m\u001b[0;34m*\u001b[0m\u001b[0minput\u001b[0m\u001b[0;34m,\u001b[0m \u001b[0;34m**\u001b[0m\u001b[0mkwargs\u001b[0m\u001b[0;34m)\u001b[0m\u001b[0;34m\u001b[0m\u001b[0;34m\u001b[0m\u001b[0m\n\u001b[1;32m    721\u001b[0m         \u001b[0;32melse\u001b[0m\u001b[0;34m:\u001b[0m\u001b[0;34m\u001b[0m\u001b[0;34m\u001b[0m\u001b[0m\n\u001b[0;32m--> 722\u001b[0;31m             \u001b[0mresult\u001b[0m \u001b[0;34m=\u001b[0m \u001b[0mself\u001b[0m\u001b[0;34m.\u001b[0m\u001b[0mforward\u001b[0m\u001b[0;34m(\u001b[0m\u001b[0;34m*\u001b[0m\u001b[0minput\u001b[0m\u001b[0;34m,\u001b[0m \u001b[0;34m**\u001b[0m\u001b[0mkwargs\u001b[0m\u001b[0;34m)\u001b[0m\u001b[0;34m\u001b[0m\u001b[0;34m\u001b[0m\u001b[0m\n\u001b[0m\u001b[1;32m    723\u001b[0m         for hook in itertools.chain(\n\u001b[1;32m    724\u001b[0m                 \u001b[0m_global_forward_hooks\u001b[0m\u001b[0;34m.\u001b[0m\u001b[0mvalues\u001b[0m\u001b[0;34m(\u001b[0m\u001b[0;34m)\u001b[0m\u001b[0;34m,\u001b[0m\u001b[0;34m\u001b[0m\u001b[0;34m\u001b[0m\u001b[0m\n",
      "\u001b[0;32m/opt/anaconda3/envs/py36/lib/python3.6/site-packages/transformers/modeling_bert.py\u001b[0m in \u001b[0;36mforward\u001b[0;34m(self, hidden_states, attention_mask, head_mask, encoder_hidden_states, encoder_attention_mask, output_attentions, output_hidden_states, return_dict)\u001b[0m\n\u001b[1;32m    480\u001b[0m                     \u001b[0mencoder_hidden_states\u001b[0m\u001b[0;34m,\u001b[0m\u001b[0;34m\u001b[0m\u001b[0;34m\u001b[0m\u001b[0m\n\u001b[1;32m    481\u001b[0m                     \u001b[0mencoder_attention_mask\u001b[0m\u001b[0;34m,\u001b[0m\u001b[0;34m\u001b[0m\u001b[0;34m\u001b[0m\u001b[0m\n\u001b[0;32m--> 482\u001b[0;31m                     \u001b[0moutput_attentions\u001b[0m\u001b[0;34m,\u001b[0m\u001b[0;34m\u001b[0m\u001b[0;34m\u001b[0m\u001b[0m\n\u001b[0m\u001b[1;32m    483\u001b[0m                 )\n\u001b[1;32m    484\u001b[0m             \u001b[0mhidden_states\u001b[0m \u001b[0;34m=\u001b[0m \u001b[0mlayer_outputs\u001b[0m\u001b[0;34m[\u001b[0m\u001b[0;36m0\u001b[0m\u001b[0;34m]\u001b[0m\u001b[0;34m\u001b[0m\u001b[0;34m\u001b[0m\u001b[0m\n",
      "\u001b[0;32m/opt/anaconda3/envs/py36/lib/python3.6/site-packages/torch/nn/modules/module.py\u001b[0m in \u001b[0;36m_call_impl\u001b[0;34m(self, *input, **kwargs)\u001b[0m\n\u001b[1;32m    720\u001b[0m             \u001b[0mresult\u001b[0m \u001b[0;34m=\u001b[0m \u001b[0mself\u001b[0m\u001b[0;34m.\u001b[0m\u001b[0m_slow_forward\u001b[0m\u001b[0;34m(\u001b[0m\u001b[0;34m*\u001b[0m\u001b[0minput\u001b[0m\u001b[0;34m,\u001b[0m \u001b[0;34m**\u001b[0m\u001b[0mkwargs\u001b[0m\u001b[0;34m)\u001b[0m\u001b[0;34m\u001b[0m\u001b[0;34m\u001b[0m\u001b[0m\n\u001b[1;32m    721\u001b[0m         \u001b[0;32melse\u001b[0m\u001b[0;34m:\u001b[0m\u001b[0;34m\u001b[0m\u001b[0;34m\u001b[0m\u001b[0m\n\u001b[0;32m--> 722\u001b[0;31m             \u001b[0mresult\u001b[0m \u001b[0;34m=\u001b[0m \u001b[0mself\u001b[0m\u001b[0;34m.\u001b[0m\u001b[0mforward\u001b[0m\u001b[0;34m(\u001b[0m\u001b[0;34m*\u001b[0m\u001b[0minput\u001b[0m\u001b[0;34m,\u001b[0m \u001b[0;34m**\u001b[0m\u001b[0mkwargs\u001b[0m\u001b[0;34m)\u001b[0m\u001b[0;34m\u001b[0m\u001b[0;34m\u001b[0m\u001b[0m\n\u001b[0m\u001b[1;32m    723\u001b[0m         for hook in itertools.chain(\n\u001b[1;32m    724\u001b[0m                 \u001b[0m_global_forward_hooks\u001b[0m\u001b[0;34m.\u001b[0m\u001b[0mvalues\u001b[0m\u001b[0;34m(\u001b[0m\u001b[0;34m)\u001b[0m\u001b[0;34m,\u001b[0m\u001b[0;34m\u001b[0m\u001b[0;34m\u001b[0m\u001b[0m\n",
      "\u001b[0;32m/opt/anaconda3/envs/py36/lib/python3.6/site-packages/transformers/modeling_bert.py\u001b[0m in \u001b[0;36mforward\u001b[0;34m(self, hidden_states, attention_mask, head_mask, encoder_hidden_states, encoder_attention_mask, output_attentions)\u001b[0m\n\u001b[1;32m    421\u001b[0m \u001b[0;34m\u001b[0m\u001b[0m\n\u001b[1;32m    422\u001b[0m         layer_output = apply_chunking_to_forward(\n\u001b[0;32m--> 423\u001b[0;31m             \u001b[0mself\u001b[0m\u001b[0;34m.\u001b[0m\u001b[0mfeed_forward_chunk\u001b[0m\u001b[0;34m,\u001b[0m \u001b[0mself\u001b[0m\u001b[0;34m.\u001b[0m\u001b[0mchunk_size_feed_forward\u001b[0m\u001b[0;34m,\u001b[0m \u001b[0mself\u001b[0m\u001b[0;34m.\u001b[0m\u001b[0mseq_len_dim\u001b[0m\u001b[0;34m,\u001b[0m \u001b[0mattention_output\u001b[0m\u001b[0;34m\u001b[0m\u001b[0;34m\u001b[0m\u001b[0m\n\u001b[0m\u001b[1;32m    424\u001b[0m         )\n\u001b[1;32m    425\u001b[0m         \u001b[0moutputs\u001b[0m \u001b[0;34m=\u001b[0m \u001b[0;34m(\u001b[0m\u001b[0mlayer_output\u001b[0m\u001b[0;34m,\u001b[0m\u001b[0;34m)\u001b[0m \u001b[0;34m+\u001b[0m \u001b[0moutputs\u001b[0m\u001b[0;34m\u001b[0m\u001b[0;34m\u001b[0m\u001b[0m\n",
      "\u001b[0;32m/opt/anaconda3/envs/py36/lib/python3.6/site-packages/transformers/modeling_utils.py\u001b[0m in \u001b[0;36mapply_chunking_to_forward\u001b[0;34m(forward_fn, chunk_size, chunk_dim, *input_tensors)\u001b[0m\n\u001b[1;32m   1670\u001b[0m         \u001b[0;32mreturn\u001b[0m \u001b[0mtorch\u001b[0m\u001b[0;34m.\u001b[0m\u001b[0mcat\u001b[0m\u001b[0;34m(\u001b[0m\u001b[0moutput_chunks\u001b[0m\u001b[0;34m,\u001b[0m \u001b[0mdim\u001b[0m\u001b[0;34m=\u001b[0m\u001b[0mchunk_dim\u001b[0m\u001b[0;34m)\u001b[0m\u001b[0;34m\u001b[0m\u001b[0;34m\u001b[0m\u001b[0m\n\u001b[1;32m   1671\u001b[0m \u001b[0;34m\u001b[0m\u001b[0m\n\u001b[0;32m-> 1672\u001b[0;31m     \u001b[0;32mreturn\u001b[0m \u001b[0mforward_fn\u001b[0m\u001b[0;34m(\u001b[0m\u001b[0;34m*\u001b[0m\u001b[0minput_tensors\u001b[0m\u001b[0;34m)\u001b[0m\u001b[0;34m\u001b[0m\u001b[0;34m\u001b[0m\u001b[0m\n\u001b[0m",
      "\u001b[0;32m/opt/anaconda3/envs/py36/lib/python3.6/site-packages/transformers/modeling_bert.py\u001b[0m in \u001b[0;36mfeed_forward_chunk\u001b[0;34m(self, attention_output)\u001b[0m\n\u001b[1;32m    427\u001b[0m \u001b[0;34m\u001b[0m\u001b[0m\n\u001b[1;32m    428\u001b[0m     \u001b[0;32mdef\u001b[0m \u001b[0mfeed_forward_chunk\u001b[0m\u001b[0;34m(\u001b[0m\u001b[0mself\u001b[0m\u001b[0;34m,\u001b[0m \u001b[0mattention_output\u001b[0m\u001b[0;34m)\u001b[0m\u001b[0;34m:\u001b[0m\u001b[0;34m\u001b[0m\u001b[0;34m\u001b[0m\u001b[0m\n\u001b[0;32m--> 429\u001b[0;31m         \u001b[0mintermediate_output\u001b[0m \u001b[0;34m=\u001b[0m \u001b[0mself\u001b[0m\u001b[0;34m.\u001b[0m\u001b[0mintermediate\u001b[0m\u001b[0;34m(\u001b[0m\u001b[0mattention_output\u001b[0m\u001b[0;34m)\u001b[0m\u001b[0;34m\u001b[0m\u001b[0;34m\u001b[0m\u001b[0m\n\u001b[0m\u001b[1;32m    430\u001b[0m         \u001b[0mlayer_output\u001b[0m \u001b[0;34m=\u001b[0m \u001b[0mself\u001b[0m\u001b[0;34m.\u001b[0m\u001b[0moutput\u001b[0m\u001b[0;34m(\u001b[0m\u001b[0mintermediate_output\u001b[0m\u001b[0;34m,\u001b[0m \u001b[0mattention_output\u001b[0m\u001b[0;34m)\u001b[0m\u001b[0;34m\u001b[0m\u001b[0;34m\u001b[0m\u001b[0m\n\u001b[1;32m    431\u001b[0m         \u001b[0;32mreturn\u001b[0m \u001b[0mlayer_output\u001b[0m\u001b[0;34m\u001b[0m\u001b[0;34m\u001b[0m\u001b[0m\n",
      "\u001b[0;32m/opt/anaconda3/envs/py36/lib/python3.6/site-packages/torch/nn/modules/module.py\u001b[0m in \u001b[0;36m_call_impl\u001b[0;34m(self, *input, **kwargs)\u001b[0m\n\u001b[1;32m    720\u001b[0m             \u001b[0mresult\u001b[0m \u001b[0;34m=\u001b[0m \u001b[0mself\u001b[0m\u001b[0;34m.\u001b[0m\u001b[0m_slow_forward\u001b[0m\u001b[0;34m(\u001b[0m\u001b[0;34m*\u001b[0m\u001b[0minput\u001b[0m\u001b[0;34m,\u001b[0m \u001b[0;34m**\u001b[0m\u001b[0mkwargs\u001b[0m\u001b[0;34m)\u001b[0m\u001b[0;34m\u001b[0m\u001b[0;34m\u001b[0m\u001b[0m\n\u001b[1;32m    721\u001b[0m         \u001b[0;32melse\u001b[0m\u001b[0;34m:\u001b[0m\u001b[0;34m\u001b[0m\u001b[0;34m\u001b[0m\u001b[0m\n\u001b[0;32m--> 722\u001b[0;31m             \u001b[0mresult\u001b[0m \u001b[0;34m=\u001b[0m \u001b[0mself\u001b[0m\u001b[0;34m.\u001b[0m\u001b[0mforward\u001b[0m\u001b[0;34m(\u001b[0m\u001b[0;34m*\u001b[0m\u001b[0minput\u001b[0m\u001b[0;34m,\u001b[0m \u001b[0;34m**\u001b[0m\u001b[0mkwargs\u001b[0m\u001b[0;34m)\u001b[0m\u001b[0;34m\u001b[0m\u001b[0;34m\u001b[0m\u001b[0m\n\u001b[0m\u001b[1;32m    723\u001b[0m         for hook in itertools.chain(\n\u001b[1;32m    724\u001b[0m                 \u001b[0m_global_forward_hooks\u001b[0m\u001b[0;34m.\u001b[0m\u001b[0mvalues\u001b[0m\u001b[0;34m(\u001b[0m\u001b[0;34m)\u001b[0m\u001b[0;34m,\u001b[0m\u001b[0;34m\u001b[0m\u001b[0;34m\u001b[0m\u001b[0m\n",
      "\u001b[0;32m/opt/anaconda3/envs/py36/lib/python3.6/site-packages/transformers/modeling_bert.py\u001b[0m in \u001b[0;36mforward\u001b[0;34m(self, hidden_states)\u001b[0m\n\u001b[1;32m    354\u001b[0m \u001b[0;34m\u001b[0m\u001b[0m\n\u001b[1;32m    355\u001b[0m     \u001b[0;32mdef\u001b[0m \u001b[0mforward\u001b[0m\u001b[0;34m(\u001b[0m\u001b[0mself\u001b[0m\u001b[0;34m,\u001b[0m \u001b[0mhidden_states\u001b[0m\u001b[0;34m)\u001b[0m\u001b[0;34m:\u001b[0m\u001b[0;34m\u001b[0m\u001b[0;34m\u001b[0m\u001b[0m\n\u001b[0;32m--> 356\u001b[0;31m         \u001b[0mhidden_states\u001b[0m \u001b[0;34m=\u001b[0m \u001b[0mself\u001b[0m\u001b[0;34m.\u001b[0m\u001b[0mdense\u001b[0m\u001b[0;34m(\u001b[0m\u001b[0mhidden_states\u001b[0m\u001b[0;34m)\u001b[0m\u001b[0;34m\u001b[0m\u001b[0;34m\u001b[0m\u001b[0m\n\u001b[0m\u001b[1;32m    357\u001b[0m         \u001b[0mhidden_states\u001b[0m \u001b[0;34m=\u001b[0m \u001b[0mself\u001b[0m\u001b[0;34m.\u001b[0m\u001b[0mintermediate_act_fn\u001b[0m\u001b[0;34m(\u001b[0m\u001b[0mhidden_states\u001b[0m\u001b[0;34m)\u001b[0m\u001b[0;34m\u001b[0m\u001b[0;34m\u001b[0m\u001b[0m\n\u001b[1;32m    358\u001b[0m         \u001b[0;32mreturn\u001b[0m \u001b[0mhidden_states\u001b[0m\u001b[0;34m\u001b[0m\u001b[0;34m\u001b[0m\u001b[0m\n",
      "\u001b[0;32m/opt/anaconda3/envs/py36/lib/python3.6/site-packages/torch/nn/modules/module.py\u001b[0m in \u001b[0;36m_call_impl\u001b[0;34m(self, *input, **kwargs)\u001b[0m\n\u001b[1;32m    720\u001b[0m             \u001b[0mresult\u001b[0m \u001b[0;34m=\u001b[0m \u001b[0mself\u001b[0m\u001b[0;34m.\u001b[0m\u001b[0m_slow_forward\u001b[0m\u001b[0;34m(\u001b[0m\u001b[0;34m*\u001b[0m\u001b[0minput\u001b[0m\u001b[0;34m,\u001b[0m \u001b[0;34m**\u001b[0m\u001b[0mkwargs\u001b[0m\u001b[0;34m)\u001b[0m\u001b[0;34m\u001b[0m\u001b[0;34m\u001b[0m\u001b[0m\n\u001b[1;32m    721\u001b[0m         \u001b[0;32melse\u001b[0m\u001b[0;34m:\u001b[0m\u001b[0;34m\u001b[0m\u001b[0;34m\u001b[0m\u001b[0m\n\u001b[0;32m--> 722\u001b[0;31m             \u001b[0mresult\u001b[0m \u001b[0;34m=\u001b[0m \u001b[0mself\u001b[0m\u001b[0;34m.\u001b[0m\u001b[0mforward\u001b[0m\u001b[0;34m(\u001b[0m\u001b[0;34m*\u001b[0m\u001b[0minput\u001b[0m\u001b[0;34m,\u001b[0m \u001b[0;34m**\u001b[0m\u001b[0mkwargs\u001b[0m\u001b[0;34m)\u001b[0m\u001b[0;34m\u001b[0m\u001b[0;34m\u001b[0m\u001b[0m\n\u001b[0m\u001b[1;32m    723\u001b[0m         for hook in itertools.chain(\n\u001b[1;32m    724\u001b[0m                 \u001b[0m_global_forward_hooks\u001b[0m\u001b[0;34m.\u001b[0m\u001b[0mvalues\u001b[0m\u001b[0;34m(\u001b[0m\u001b[0;34m)\u001b[0m\u001b[0;34m,\u001b[0m\u001b[0;34m\u001b[0m\u001b[0;34m\u001b[0m\u001b[0m\n",
      "\u001b[0;32m/opt/anaconda3/envs/py36/lib/python3.6/site-packages/torch/nn/modules/linear.py\u001b[0m in \u001b[0;36mforward\u001b[0;34m(self, input)\u001b[0m\n\u001b[1;32m     89\u001b[0m \u001b[0;34m\u001b[0m\u001b[0m\n\u001b[1;32m     90\u001b[0m     \u001b[0;32mdef\u001b[0m \u001b[0mforward\u001b[0m\u001b[0;34m(\u001b[0m\u001b[0mself\u001b[0m\u001b[0;34m,\u001b[0m \u001b[0minput\u001b[0m\u001b[0;34m:\u001b[0m \u001b[0mTensor\u001b[0m\u001b[0;34m)\u001b[0m \u001b[0;34m->\u001b[0m \u001b[0mTensor\u001b[0m\u001b[0;34m:\u001b[0m\u001b[0;34m\u001b[0m\u001b[0;34m\u001b[0m\u001b[0m\n\u001b[0;32m---> 91\u001b[0;31m         \u001b[0;32mreturn\u001b[0m \u001b[0mF\u001b[0m\u001b[0;34m.\u001b[0m\u001b[0mlinear\u001b[0m\u001b[0;34m(\u001b[0m\u001b[0minput\u001b[0m\u001b[0;34m,\u001b[0m \u001b[0mself\u001b[0m\u001b[0;34m.\u001b[0m\u001b[0mweight\u001b[0m\u001b[0;34m,\u001b[0m \u001b[0mself\u001b[0m\u001b[0;34m.\u001b[0m\u001b[0mbias\u001b[0m\u001b[0;34m)\u001b[0m\u001b[0;34m\u001b[0m\u001b[0;34m\u001b[0m\u001b[0m\n\u001b[0m\u001b[1;32m     92\u001b[0m \u001b[0;34m\u001b[0m\u001b[0m\n\u001b[1;32m     93\u001b[0m     \u001b[0;32mdef\u001b[0m \u001b[0mextra_repr\u001b[0m\u001b[0;34m(\u001b[0m\u001b[0mself\u001b[0m\u001b[0;34m)\u001b[0m \u001b[0;34m->\u001b[0m \u001b[0mstr\u001b[0m\u001b[0;34m:\u001b[0m\u001b[0;34m\u001b[0m\u001b[0;34m\u001b[0m\u001b[0m\n",
      "\u001b[0;32m/opt/anaconda3/envs/py36/lib/python3.6/site-packages/torch/nn/functional.py\u001b[0m in \u001b[0;36mlinear\u001b[0;34m(input, weight, bias)\u001b[0m\n\u001b[1;32m   1674\u001b[0m         \u001b[0mret\u001b[0m \u001b[0;34m=\u001b[0m \u001b[0mtorch\u001b[0m\u001b[0;34m.\u001b[0m\u001b[0maddmm\u001b[0m\u001b[0;34m(\u001b[0m\u001b[0mbias\u001b[0m\u001b[0;34m,\u001b[0m \u001b[0minput\u001b[0m\u001b[0;34m,\u001b[0m \u001b[0mweight\u001b[0m\u001b[0;34m.\u001b[0m\u001b[0mt\u001b[0m\u001b[0;34m(\u001b[0m\u001b[0;34m)\u001b[0m\u001b[0;34m)\u001b[0m\u001b[0;34m\u001b[0m\u001b[0;34m\u001b[0m\u001b[0m\n\u001b[1;32m   1675\u001b[0m     \u001b[0;32melse\u001b[0m\u001b[0;34m:\u001b[0m\u001b[0;34m\u001b[0m\u001b[0;34m\u001b[0m\u001b[0m\n\u001b[0;32m-> 1676\u001b[0;31m         \u001b[0moutput\u001b[0m \u001b[0;34m=\u001b[0m \u001b[0minput\u001b[0m\u001b[0;34m.\u001b[0m\u001b[0mmatmul\u001b[0m\u001b[0;34m(\u001b[0m\u001b[0mweight\u001b[0m\u001b[0;34m.\u001b[0m\u001b[0mt\u001b[0m\u001b[0;34m(\u001b[0m\u001b[0;34m)\u001b[0m\u001b[0;34m)\u001b[0m\u001b[0;34m\u001b[0m\u001b[0;34m\u001b[0m\u001b[0m\n\u001b[0m\u001b[1;32m   1677\u001b[0m         \u001b[0;32mif\u001b[0m \u001b[0mbias\u001b[0m \u001b[0;32mis\u001b[0m \u001b[0;32mnot\u001b[0m \u001b[0;32mNone\u001b[0m\u001b[0;34m:\u001b[0m\u001b[0;34m\u001b[0m\u001b[0;34m\u001b[0m\u001b[0m\n\u001b[1;32m   1678\u001b[0m             \u001b[0moutput\u001b[0m \u001b[0;34m+=\u001b[0m \u001b[0mbias\u001b[0m\u001b[0;34m\u001b[0m\u001b[0;34m\u001b[0m\u001b[0m\n",
      "\u001b[0;31mKeyboardInterrupt\u001b[0m: "
     ]
    }
   ],
   "source": [
    "# using the second-to-last layer as embedding\n",
    "detector.changeModel(cli_bert_report_ft_model, clitokenizer)\n",
    "detector.model_eval(text_changed_one, word_error_one, verbose=True, last_layer=True)"
   ]
  },
  {
   "cell_type": "code",
   "execution_count": null,
   "metadata": {},
   "outputs": [],
   "source": []
  },
  {
   "cell_type": "markdown",
   "metadata": {},
   "source": [
    "after filtering "
   ]
  },
  {
   "cell_type": "code",
   "execution_count": 51,
   "metadata": {},
   "outputs": [],
   "source": [
    "TOPK = 10\n",
    "detector = SentDetector(basemodel, basetokenizer, TOPK)"
   ]
  },
  {
   "cell_type": "code",
   "execution_count": 52,
   "metadata": {},
   "outputs": [
    {
     "name": "stdout",
     "output_type": "stream",
     "text": [
      "Finished 100 sentences, hits@1=0.430000, hits@3=0.660000, hits@5=0.840000\n",
      "Time cost: 108.647259 seconds\n",
      "Finished 200 sentences, hits@1=0.355000, hits@3=0.660000, hits@5=0.810000\n",
      "Time cost: 130.517537 seconds\n",
      "Finished 300 sentences, hits@1=0.343333, hits@3=0.643333, hits@5=0.783333\n",
      "Time cost: 132.646298 seconds\n",
      "Finished 400 sentences, hits@1=0.350000, hits@3=0.647500, hits@5=0.780000\n",
      "Time cost: 120.245468 seconds\n",
      "Finished 500 sentences, hits@1=0.348000, hits@3=0.644000, hits@5=0.780000\n",
      "Time cost: 107.184062 seconds\n",
      "Finished 600 sentences, hits@1=0.368333, hits@3=0.663333, hits@5=0.783333\n",
      "Time cost: 111.889196 seconds\n",
      "Finished 700 sentences, hits@1=0.375714, hits@3=0.668571, hits@5=0.782857\n",
      "Time cost: 124.977001 seconds\n"
     ]
    },
    {
     "ename": "KeyboardInterrupt",
     "evalue": "",
     "output_type": "error",
     "traceback": [
      "\u001b[0;31m---------------------------------------------------------------------------\u001b[0m",
      "\u001b[0;31mKeyboardInterrupt\u001b[0m                         Traceback (most recent call last)",
      "\u001b[0;32m<ipython-input-52-152a790da84e>\u001b[0m in \u001b[0;36m<module>\u001b[0;34m\u001b[0m\n\u001b[1;32m      1\u001b[0m \u001b[0mdetector\u001b[0m\u001b[0;34m.\u001b[0m\u001b[0mchangeModel\u001b[0m\u001b[0;34m(\u001b[0m\u001b[0mcli_bert_report_ft_model\u001b[0m\u001b[0;34m,\u001b[0m \u001b[0mclitokenizer\u001b[0m\u001b[0;34m)\u001b[0m\u001b[0;34m\u001b[0m\u001b[0;34m\u001b[0m\u001b[0m\n\u001b[0;32m----> 2\u001b[0;31m \u001b[0mf_lst_1\u001b[0m\u001b[0;34m,\u001b[0m \u001b[0mf_lst_3\u001b[0m\u001b[0;34m,\u001b[0m \u001b[0mf_lst_5\u001b[0m\u001b[0;34m,\u001b[0m \u001b[0mf_lst_0\u001b[0m \u001b[0;34m=\u001b[0m \u001b[0mdetector\u001b[0m\u001b[0;34m.\u001b[0m\u001b[0mmodel_eval\u001b[0m\u001b[0;34m(\u001b[0m\u001b[0mtext_changed_one\u001b[0m\u001b[0;34m,\u001b[0m \u001b[0mword_error_one\u001b[0m\u001b[0;34m,\u001b[0m \u001b[0mverbose\u001b[0m\u001b[0;34m=\u001b[0m\u001b[0;32mTrue\u001b[0m\u001b[0;34m)\u001b[0m\u001b[0;34m\u001b[0m\u001b[0;34m\u001b[0m\u001b[0m\n\u001b[0m",
      "\u001b[0;32m<ipython-input-46-0a3e4a6dc356>\u001b[0m in \u001b[0;36mmodel_eval\u001b[0;34m(self, error_sentences, error_words, verbose, last_layer)\u001b[0m\n\u001b[1;32m    381\u001b[0m     \u001b[0mnum\u001b[0m \u001b[0;34m=\u001b[0m \u001b[0mlen\u001b[0m\u001b[0;34m(\u001b[0m\u001b[0merror_sentences\u001b[0m\u001b[0;34m)\u001b[0m\u001b[0;34m\u001b[0m\u001b[0;34m\u001b[0m\u001b[0m\n\u001b[1;32m    382\u001b[0m     \u001b[0;32mfor\u001b[0m \u001b[0mi\u001b[0m \u001b[0;32min\u001b[0m \u001b[0mrange\u001b[0m\u001b[0;34m(\u001b[0m\u001b[0mnum\u001b[0m\u001b[0;34m)\u001b[0m\u001b[0;34m:\u001b[0m\u001b[0;34m\u001b[0m\u001b[0;34m\u001b[0m\u001b[0m\n\u001b[0;32m--> 383\u001b[0;31m       \u001b[0msuspects\u001b[0m \u001b[0;34m=\u001b[0m \u001b[0mself\u001b[0m\u001b[0;34m.\u001b[0m\u001b[0mdetect_ret\u001b[0m\u001b[0;34m(\u001b[0m\u001b[0;34m' '\u001b[0m\u001b[0;34m.\u001b[0m\u001b[0mjoin\u001b[0m\u001b[0;34m(\u001b[0m\u001b[0merror_sentences\u001b[0m\u001b[0;34m[\u001b[0m\u001b[0mi\u001b[0m\u001b[0;34m]\u001b[0m\u001b[0;34m)\u001b[0m\u001b[0;34m,\u001b[0m \u001b[0mlast_layer\u001b[0m \u001b[0;34m=\u001b[0m \u001b[0mlast_layer\u001b[0m\u001b[0;34m)\u001b[0m\u001b[0;34m\u001b[0m\u001b[0;34m\u001b[0m\u001b[0m\n\u001b[0m\u001b[1;32m    384\u001b[0m       \u001b[0;32mif\u001b[0m \u001b[0merror_words\u001b[0m\u001b[0;34m[\u001b[0m\u001b[0mi\u001b[0m\u001b[0;34m]\u001b[0m\u001b[0;34m[\u001b[0m\u001b[0;36m0\u001b[0m\u001b[0;34m]\u001b[0m \u001b[0;32min\u001b[0m \u001b[0mset\u001b[0m\u001b[0;34m(\u001b[0m\u001b[0msuspects\u001b[0m\u001b[0;34m[\u001b[0m\u001b[0;34m:\u001b[0m\u001b[0;36m1\u001b[0m\u001b[0;34m]\u001b[0m\u001b[0;34m)\u001b[0m\u001b[0;34m:\u001b[0m\u001b[0;34m\u001b[0m\u001b[0;34m\u001b[0m\u001b[0m\n\u001b[1;32m    385\u001b[0m         \u001b[0mlst1\u001b[0m\u001b[0;34m.\u001b[0m\u001b[0mappend\u001b[0m\u001b[0;34m(\u001b[0m\u001b[0mi\u001b[0m\u001b[0;34m)\u001b[0m\u001b[0;34m\u001b[0m\u001b[0;34m\u001b[0m\u001b[0m\n",
      "\u001b[0;32m<ipython-input-46-0a3e4a6dc356>\u001b[0m in \u001b[0;36mdetect_ret\u001b[0;34m(self, text, verbose, last_layer)\u001b[0m\n\u001b[1;32m    322\u001b[0m     \u001b[0;32mfor\u001b[0m \u001b[0mi\u001b[0m \u001b[0;32min\u001b[0m \u001b[0mrange\u001b[0m\u001b[0;34m(\u001b[0m\u001b[0;36m1\u001b[0m\u001b[0;34m,\u001b[0m \u001b[0mself\u001b[0m\u001b[0;34m.\u001b[0m\u001b[0mlength\u001b[0m \u001b[0;34m-\u001b[0m \u001b[0;36m1\u001b[0m\u001b[0;34m)\u001b[0m\u001b[0;34m:\u001b[0m\u001b[0;34m\u001b[0m\u001b[0;34m\u001b[0m\u001b[0m\n\u001b[1;32m    323\u001b[0m       \u001b[0mcur_masked_tokens\u001b[0m \u001b[0;34m=\u001b[0m \u001b[0mself\u001b[0m\u001b[0;34m.\u001b[0m\u001b[0mmask_ith_token\u001b[0m\u001b[0;34m(\u001b[0m\u001b[0mi\u001b[0m\u001b[0;34m)\u001b[0m\u001b[0;34m\u001b[0m\u001b[0;34m\u001b[0m\u001b[0m\n\u001b[0;32m--> 324\u001b[0;31m       \u001b[0mhidden\u001b[0m\u001b[0;34m,\u001b[0m \u001b[0mcandidates\u001b[0m \u001b[0;34m=\u001b[0m \u001b[0mself\u001b[0m\u001b[0;34m.\u001b[0m\u001b[0mgenerate_cands\u001b[0m\u001b[0;34m(\u001b[0m\u001b[0mcur_masked_tokens\u001b[0m\u001b[0;34m)\u001b[0m\u001b[0;34m\u001b[0m\u001b[0;34m\u001b[0m\u001b[0m\n\u001b[0m\u001b[1;32m    325\u001b[0m       \u001b[0mcandidates_lst\u001b[0m\u001b[0;34m.\u001b[0m\u001b[0mappend\u001b[0m\u001b[0;34m(\u001b[0m\u001b[0mcandidates\u001b[0m\u001b[0;34m)\u001b[0m\u001b[0;34m\u001b[0m\u001b[0;34m\u001b[0m\u001b[0m\n\u001b[1;32m    326\u001b[0m \u001b[0;34m\u001b[0m\u001b[0m\n",
      "\u001b[0;32m<ipython-input-46-0a3e4a6dc356>\u001b[0m in \u001b[0;36mgenerate_cands\u001b[0;34m(self, tokenized_text, time_switch)\u001b[0m\n\u001b[1;32m     24\u001b[0m     \u001b[0mt_start\u001b[0m \u001b[0;34m=\u001b[0m \u001b[0mtime\u001b[0m\u001b[0;34m.\u001b[0m\u001b[0mtime\u001b[0m\u001b[0;34m(\u001b[0m\u001b[0;34m)\u001b[0m\u001b[0;34m\u001b[0m\u001b[0;34m\u001b[0m\u001b[0m\n\u001b[1;32m     25\u001b[0m     \u001b[0;32mwith\u001b[0m \u001b[0mtorch\u001b[0m\u001b[0;34m.\u001b[0m\u001b[0mno_grad\u001b[0m\u001b[0;34m(\u001b[0m\u001b[0;34m)\u001b[0m\u001b[0;34m:\u001b[0m \u001b[0;31m# prediction\u001b[0m\u001b[0;34m\u001b[0m\u001b[0;34m\u001b[0m\u001b[0m\n\u001b[0;32m---> 26\u001b[0;31m         \u001b[0moutputs\u001b[0m \u001b[0;34m=\u001b[0m \u001b[0mself\u001b[0m\u001b[0;34m.\u001b[0m\u001b[0mmodel\u001b[0m\u001b[0;34m(\u001b[0m\u001b[0mtokens_tensor\u001b[0m\u001b[0;34m,\u001b[0m \u001b[0msegments_tensors\u001b[0m\u001b[0;34m)\u001b[0m\u001b[0;34m\u001b[0m\u001b[0;34m\u001b[0m\u001b[0m\n\u001b[0m\u001b[1;32m     27\u001b[0m     \u001b[0;31m# time\u001b[0m\u001b[0;34m\u001b[0m\u001b[0;34m\u001b[0m\u001b[0;34m\u001b[0m\u001b[0m\n\u001b[1;32m     28\u001b[0m     \u001b[0mt_model_end\u001b[0m \u001b[0;34m=\u001b[0m \u001b[0mtime\u001b[0m\u001b[0;34m.\u001b[0m\u001b[0mtime\u001b[0m\u001b[0;34m(\u001b[0m\u001b[0;34m)\u001b[0m\u001b[0;34m\u001b[0m\u001b[0;34m\u001b[0m\u001b[0m\n",
      "\u001b[0;32m/opt/anaconda3/envs/py36/lib/python3.6/site-packages/torch/nn/modules/module.py\u001b[0m in \u001b[0;36m_call_impl\u001b[0;34m(self, *input, **kwargs)\u001b[0m\n\u001b[1;32m    720\u001b[0m             \u001b[0mresult\u001b[0m \u001b[0;34m=\u001b[0m \u001b[0mself\u001b[0m\u001b[0;34m.\u001b[0m\u001b[0m_slow_forward\u001b[0m\u001b[0;34m(\u001b[0m\u001b[0;34m*\u001b[0m\u001b[0minput\u001b[0m\u001b[0;34m,\u001b[0m \u001b[0;34m**\u001b[0m\u001b[0mkwargs\u001b[0m\u001b[0;34m)\u001b[0m\u001b[0;34m\u001b[0m\u001b[0;34m\u001b[0m\u001b[0m\n\u001b[1;32m    721\u001b[0m         \u001b[0;32melse\u001b[0m\u001b[0;34m:\u001b[0m\u001b[0;34m\u001b[0m\u001b[0;34m\u001b[0m\u001b[0m\n\u001b[0;32m--> 722\u001b[0;31m             \u001b[0mresult\u001b[0m \u001b[0;34m=\u001b[0m \u001b[0mself\u001b[0m\u001b[0;34m.\u001b[0m\u001b[0mforward\u001b[0m\u001b[0;34m(\u001b[0m\u001b[0;34m*\u001b[0m\u001b[0minput\u001b[0m\u001b[0;34m,\u001b[0m \u001b[0;34m**\u001b[0m\u001b[0mkwargs\u001b[0m\u001b[0;34m)\u001b[0m\u001b[0;34m\u001b[0m\u001b[0;34m\u001b[0m\u001b[0m\n\u001b[0m\u001b[1;32m    723\u001b[0m         for hook in itertools.chain(\n\u001b[1;32m    724\u001b[0m                 \u001b[0m_global_forward_hooks\u001b[0m\u001b[0;34m.\u001b[0m\u001b[0mvalues\u001b[0m\u001b[0;34m(\u001b[0m\u001b[0;34m)\u001b[0m\u001b[0;34m,\u001b[0m\u001b[0;34m\u001b[0m\u001b[0;34m\u001b[0m\u001b[0m\n",
      "\u001b[0;32m/opt/anaconda3/envs/py36/lib/python3.6/site-packages/transformers/modeling_bert.py\u001b[0m in \u001b[0;36mforward\u001b[0;34m(self, input_ids, attention_mask, token_type_ids, position_ids, head_mask, inputs_embeds, encoder_hidden_states, encoder_attention_mask, labels, output_attentions, output_hidden_states, return_dict, **kwargs)\u001b[0m\n\u001b[1;32m   1162\u001b[0m             \u001b[0moutput_attentions\u001b[0m\u001b[0;34m=\u001b[0m\u001b[0moutput_attentions\u001b[0m\u001b[0;34m,\u001b[0m\u001b[0;34m\u001b[0m\u001b[0;34m\u001b[0m\u001b[0m\n\u001b[1;32m   1163\u001b[0m             \u001b[0moutput_hidden_states\u001b[0m\u001b[0;34m=\u001b[0m\u001b[0moutput_hidden_states\u001b[0m\u001b[0;34m,\u001b[0m\u001b[0;34m\u001b[0m\u001b[0;34m\u001b[0m\u001b[0m\n\u001b[0;32m-> 1164\u001b[0;31m             \u001b[0mreturn_dict\u001b[0m\u001b[0;34m=\u001b[0m\u001b[0mreturn_dict\u001b[0m\u001b[0;34m,\u001b[0m\u001b[0;34m\u001b[0m\u001b[0;34m\u001b[0m\u001b[0m\n\u001b[0m\u001b[1;32m   1165\u001b[0m         )\n\u001b[1;32m   1166\u001b[0m \u001b[0;34m\u001b[0m\u001b[0m\n",
      "\u001b[0;32m/opt/anaconda3/envs/py36/lib/python3.6/site-packages/torch/nn/modules/module.py\u001b[0m in \u001b[0;36m_call_impl\u001b[0;34m(self, *input, **kwargs)\u001b[0m\n\u001b[1;32m    720\u001b[0m             \u001b[0mresult\u001b[0m \u001b[0;34m=\u001b[0m \u001b[0mself\u001b[0m\u001b[0;34m.\u001b[0m\u001b[0m_slow_forward\u001b[0m\u001b[0;34m(\u001b[0m\u001b[0;34m*\u001b[0m\u001b[0minput\u001b[0m\u001b[0;34m,\u001b[0m \u001b[0;34m**\u001b[0m\u001b[0mkwargs\u001b[0m\u001b[0;34m)\u001b[0m\u001b[0;34m\u001b[0m\u001b[0;34m\u001b[0m\u001b[0m\n\u001b[1;32m    721\u001b[0m         \u001b[0;32melse\u001b[0m\u001b[0;34m:\u001b[0m\u001b[0;34m\u001b[0m\u001b[0;34m\u001b[0m\u001b[0m\n\u001b[0;32m--> 722\u001b[0;31m             \u001b[0mresult\u001b[0m \u001b[0;34m=\u001b[0m \u001b[0mself\u001b[0m\u001b[0;34m.\u001b[0m\u001b[0mforward\u001b[0m\u001b[0;34m(\u001b[0m\u001b[0;34m*\u001b[0m\u001b[0minput\u001b[0m\u001b[0;34m,\u001b[0m \u001b[0;34m**\u001b[0m\u001b[0mkwargs\u001b[0m\u001b[0;34m)\u001b[0m\u001b[0;34m\u001b[0m\u001b[0;34m\u001b[0m\u001b[0m\n\u001b[0m\u001b[1;32m    723\u001b[0m         for hook in itertools.chain(\n\u001b[1;32m    724\u001b[0m                 \u001b[0m_global_forward_hooks\u001b[0m\u001b[0;34m.\u001b[0m\u001b[0mvalues\u001b[0m\u001b[0;34m(\u001b[0m\u001b[0;34m)\u001b[0m\u001b[0;34m,\u001b[0m\u001b[0;34m\u001b[0m\u001b[0;34m\u001b[0m\u001b[0m\n",
      "\u001b[0;32m/opt/anaconda3/envs/py36/lib/python3.6/site-packages/transformers/modeling_bert.py\u001b[0m in \u001b[0;36mforward\u001b[0;34m(self, input_ids, attention_mask, token_type_ids, position_ids, head_mask, inputs_embeds, encoder_hidden_states, encoder_attention_mask, output_attentions, output_hidden_states, return_dict)\u001b[0m\n\u001b[1;32m    839\u001b[0m             \u001b[0moutput_attentions\u001b[0m\u001b[0;34m=\u001b[0m\u001b[0moutput_attentions\u001b[0m\u001b[0;34m,\u001b[0m\u001b[0;34m\u001b[0m\u001b[0;34m\u001b[0m\u001b[0m\n\u001b[1;32m    840\u001b[0m             \u001b[0moutput_hidden_states\u001b[0m\u001b[0;34m=\u001b[0m\u001b[0moutput_hidden_states\u001b[0m\u001b[0;34m,\u001b[0m\u001b[0;34m\u001b[0m\u001b[0;34m\u001b[0m\u001b[0m\n\u001b[0;32m--> 841\u001b[0;31m             \u001b[0mreturn_dict\u001b[0m\u001b[0;34m=\u001b[0m\u001b[0mreturn_dict\u001b[0m\u001b[0;34m,\u001b[0m\u001b[0;34m\u001b[0m\u001b[0;34m\u001b[0m\u001b[0m\n\u001b[0m\u001b[1;32m    842\u001b[0m         )\n\u001b[1;32m    843\u001b[0m         \u001b[0msequence_output\u001b[0m \u001b[0;34m=\u001b[0m \u001b[0mencoder_outputs\u001b[0m\u001b[0;34m[\u001b[0m\u001b[0;36m0\u001b[0m\u001b[0;34m]\u001b[0m\u001b[0;34m\u001b[0m\u001b[0;34m\u001b[0m\u001b[0m\n",
      "\u001b[0;32m/opt/anaconda3/envs/py36/lib/python3.6/site-packages/torch/nn/modules/module.py\u001b[0m in \u001b[0;36m_call_impl\u001b[0;34m(self, *input, **kwargs)\u001b[0m\n\u001b[1;32m    720\u001b[0m             \u001b[0mresult\u001b[0m \u001b[0;34m=\u001b[0m \u001b[0mself\u001b[0m\u001b[0;34m.\u001b[0m\u001b[0m_slow_forward\u001b[0m\u001b[0;34m(\u001b[0m\u001b[0;34m*\u001b[0m\u001b[0minput\u001b[0m\u001b[0;34m,\u001b[0m \u001b[0;34m**\u001b[0m\u001b[0mkwargs\u001b[0m\u001b[0;34m)\u001b[0m\u001b[0;34m\u001b[0m\u001b[0;34m\u001b[0m\u001b[0m\n\u001b[1;32m    721\u001b[0m         \u001b[0;32melse\u001b[0m\u001b[0;34m:\u001b[0m\u001b[0;34m\u001b[0m\u001b[0;34m\u001b[0m\u001b[0m\n\u001b[0;32m--> 722\u001b[0;31m             \u001b[0mresult\u001b[0m \u001b[0;34m=\u001b[0m \u001b[0mself\u001b[0m\u001b[0;34m.\u001b[0m\u001b[0mforward\u001b[0m\u001b[0;34m(\u001b[0m\u001b[0;34m*\u001b[0m\u001b[0minput\u001b[0m\u001b[0;34m,\u001b[0m \u001b[0;34m**\u001b[0m\u001b[0mkwargs\u001b[0m\u001b[0;34m)\u001b[0m\u001b[0;34m\u001b[0m\u001b[0;34m\u001b[0m\u001b[0m\n\u001b[0m\u001b[1;32m    723\u001b[0m         for hook in itertools.chain(\n\u001b[1;32m    724\u001b[0m                 \u001b[0m_global_forward_hooks\u001b[0m\u001b[0;34m.\u001b[0m\u001b[0mvalues\u001b[0m\u001b[0;34m(\u001b[0m\u001b[0;34m)\u001b[0m\u001b[0;34m,\u001b[0m\u001b[0;34m\u001b[0m\u001b[0;34m\u001b[0m\u001b[0m\n",
      "\u001b[0;32m/opt/anaconda3/envs/py36/lib/python3.6/site-packages/transformers/modeling_bert.py\u001b[0m in \u001b[0;36mforward\u001b[0;34m(self, hidden_states, attention_mask, head_mask, encoder_hidden_states, encoder_attention_mask, output_attentions, output_hidden_states, return_dict)\u001b[0m\n\u001b[1;32m    480\u001b[0m                     \u001b[0mencoder_hidden_states\u001b[0m\u001b[0;34m,\u001b[0m\u001b[0;34m\u001b[0m\u001b[0;34m\u001b[0m\u001b[0m\n\u001b[1;32m    481\u001b[0m                     \u001b[0mencoder_attention_mask\u001b[0m\u001b[0;34m,\u001b[0m\u001b[0;34m\u001b[0m\u001b[0;34m\u001b[0m\u001b[0m\n\u001b[0;32m--> 482\u001b[0;31m                     \u001b[0moutput_attentions\u001b[0m\u001b[0;34m,\u001b[0m\u001b[0;34m\u001b[0m\u001b[0;34m\u001b[0m\u001b[0m\n\u001b[0m\u001b[1;32m    483\u001b[0m                 )\n\u001b[1;32m    484\u001b[0m             \u001b[0mhidden_states\u001b[0m \u001b[0;34m=\u001b[0m \u001b[0mlayer_outputs\u001b[0m\u001b[0;34m[\u001b[0m\u001b[0;36m0\u001b[0m\u001b[0;34m]\u001b[0m\u001b[0;34m\u001b[0m\u001b[0;34m\u001b[0m\u001b[0m\n",
      "\u001b[0;32m/opt/anaconda3/envs/py36/lib/python3.6/site-packages/torch/nn/modules/module.py\u001b[0m in \u001b[0;36m_call_impl\u001b[0;34m(self, *input, **kwargs)\u001b[0m\n\u001b[1;32m    720\u001b[0m             \u001b[0mresult\u001b[0m \u001b[0;34m=\u001b[0m \u001b[0mself\u001b[0m\u001b[0;34m.\u001b[0m\u001b[0m_slow_forward\u001b[0m\u001b[0;34m(\u001b[0m\u001b[0;34m*\u001b[0m\u001b[0minput\u001b[0m\u001b[0;34m,\u001b[0m \u001b[0;34m**\u001b[0m\u001b[0mkwargs\u001b[0m\u001b[0;34m)\u001b[0m\u001b[0;34m\u001b[0m\u001b[0;34m\u001b[0m\u001b[0m\n\u001b[1;32m    721\u001b[0m         \u001b[0;32melse\u001b[0m\u001b[0;34m:\u001b[0m\u001b[0;34m\u001b[0m\u001b[0;34m\u001b[0m\u001b[0m\n\u001b[0;32m--> 722\u001b[0;31m             \u001b[0mresult\u001b[0m \u001b[0;34m=\u001b[0m \u001b[0mself\u001b[0m\u001b[0;34m.\u001b[0m\u001b[0mforward\u001b[0m\u001b[0;34m(\u001b[0m\u001b[0;34m*\u001b[0m\u001b[0minput\u001b[0m\u001b[0;34m,\u001b[0m \u001b[0;34m**\u001b[0m\u001b[0mkwargs\u001b[0m\u001b[0;34m)\u001b[0m\u001b[0;34m\u001b[0m\u001b[0;34m\u001b[0m\u001b[0m\n\u001b[0m\u001b[1;32m    723\u001b[0m         for hook in itertools.chain(\n\u001b[1;32m    724\u001b[0m                 \u001b[0m_global_forward_hooks\u001b[0m\u001b[0;34m.\u001b[0m\u001b[0mvalues\u001b[0m\u001b[0;34m(\u001b[0m\u001b[0;34m)\u001b[0m\u001b[0;34m,\u001b[0m\u001b[0;34m\u001b[0m\u001b[0;34m\u001b[0m\u001b[0m\n",
      "\u001b[0;32m/opt/anaconda3/envs/py36/lib/python3.6/site-packages/transformers/modeling_bert.py\u001b[0m in \u001b[0;36mforward\u001b[0;34m(self, hidden_states, attention_mask, head_mask, encoder_hidden_states, encoder_attention_mask, output_attentions)\u001b[0m\n\u001b[1;32m    421\u001b[0m \u001b[0;34m\u001b[0m\u001b[0m\n\u001b[1;32m    422\u001b[0m         layer_output = apply_chunking_to_forward(\n\u001b[0;32m--> 423\u001b[0;31m             \u001b[0mself\u001b[0m\u001b[0;34m.\u001b[0m\u001b[0mfeed_forward_chunk\u001b[0m\u001b[0;34m,\u001b[0m \u001b[0mself\u001b[0m\u001b[0;34m.\u001b[0m\u001b[0mchunk_size_feed_forward\u001b[0m\u001b[0;34m,\u001b[0m \u001b[0mself\u001b[0m\u001b[0;34m.\u001b[0m\u001b[0mseq_len_dim\u001b[0m\u001b[0;34m,\u001b[0m \u001b[0mattention_output\u001b[0m\u001b[0;34m\u001b[0m\u001b[0;34m\u001b[0m\u001b[0m\n\u001b[0m\u001b[1;32m    424\u001b[0m         )\n\u001b[1;32m    425\u001b[0m         \u001b[0moutputs\u001b[0m \u001b[0;34m=\u001b[0m \u001b[0;34m(\u001b[0m\u001b[0mlayer_output\u001b[0m\u001b[0;34m,\u001b[0m\u001b[0;34m)\u001b[0m \u001b[0;34m+\u001b[0m \u001b[0moutputs\u001b[0m\u001b[0;34m\u001b[0m\u001b[0;34m\u001b[0m\u001b[0m\n",
      "\u001b[0;32m/opt/anaconda3/envs/py36/lib/python3.6/site-packages/transformers/modeling_utils.py\u001b[0m in \u001b[0;36mapply_chunking_to_forward\u001b[0;34m(forward_fn, chunk_size, chunk_dim, *input_tensors)\u001b[0m\n\u001b[1;32m   1670\u001b[0m         \u001b[0;32mreturn\u001b[0m \u001b[0mtorch\u001b[0m\u001b[0;34m.\u001b[0m\u001b[0mcat\u001b[0m\u001b[0;34m(\u001b[0m\u001b[0moutput_chunks\u001b[0m\u001b[0;34m,\u001b[0m \u001b[0mdim\u001b[0m\u001b[0;34m=\u001b[0m\u001b[0mchunk_dim\u001b[0m\u001b[0;34m)\u001b[0m\u001b[0;34m\u001b[0m\u001b[0;34m\u001b[0m\u001b[0m\n\u001b[1;32m   1671\u001b[0m \u001b[0;34m\u001b[0m\u001b[0m\n\u001b[0;32m-> 1672\u001b[0;31m     \u001b[0;32mreturn\u001b[0m \u001b[0mforward_fn\u001b[0m\u001b[0;34m(\u001b[0m\u001b[0;34m*\u001b[0m\u001b[0minput_tensors\u001b[0m\u001b[0;34m)\u001b[0m\u001b[0;34m\u001b[0m\u001b[0;34m\u001b[0m\u001b[0m\n\u001b[0m",
      "\u001b[0;32m/opt/anaconda3/envs/py36/lib/python3.6/site-packages/transformers/modeling_bert.py\u001b[0m in \u001b[0;36mfeed_forward_chunk\u001b[0;34m(self, attention_output)\u001b[0m\n\u001b[1;32m    428\u001b[0m     \u001b[0;32mdef\u001b[0m \u001b[0mfeed_forward_chunk\u001b[0m\u001b[0;34m(\u001b[0m\u001b[0mself\u001b[0m\u001b[0;34m,\u001b[0m \u001b[0mattention_output\u001b[0m\u001b[0;34m)\u001b[0m\u001b[0;34m:\u001b[0m\u001b[0;34m\u001b[0m\u001b[0;34m\u001b[0m\u001b[0m\n\u001b[1;32m    429\u001b[0m         \u001b[0mintermediate_output\u001b[0m \u001b[0;34m=\u001b[0m \u001b[0mself\u001b[0m\u001b[0;34m.\u001b[0m\u001b[0mintermediate\u001b[0m\u001b[0;34m(\u001b[0m\u001b[0mattention_output\u001b[0m\u001b[0;34m)\u001b[0m\u001b[0;34m\u001b[0m\u001b[0;34m\u001b[0m\u001b[0m\n\u001b[0;32m--> 430\u001b[0;31m         \u001b[0mlayer_output\u001b[0m \u001b[0;34m=\u001b[0m \u001b[0mself\u001b[0m\u001b[0;34m.\u001b[0m\u001b[0moutput\u001b[0m\u001b[0;34m(\u001b[0m\u001b[0mintermediate_output\u001b[0m\u001b[0;34m,\u001b[0m \u001b[0mattention_output\u001b[0m\u001b[0;34m)\u001b[0m\u001b[0;34m\u001b[0m\u001b[0;34m\u001b[0m\u001b[0m\n\u001b[0m\u001b[1;32m    431\u001b[0m         \u001b[0;32mreturn\u001b[0m \u001b[0mlayer_output\u001b[0m\u001b[0;34m\u001b[0m\u001b[0;34m\u001b[0m\u001b[0m\n\u001b[1;32m    432\u001b[0m \u001b[0;34m\u001b[0m\u001b[0m\n",
      "\u001b[0;32m/opt/anaconda3/envs/py36/lib/python3.6/site-packages/torch/nn/modules/module.py\u001b[0m in \u001b[0;36m_call_impl\u001b[0;34m(self, *input, **kwargs)\u001b[0m\n\u001b[1;32m    720\u001b[0m             \u001b[0mresult\u001b[0m \u001b[0;34m=\u001b[0m \u001b[0mself\u001b[0m\u001b[0;34m.\u001b[0m\u001b[0m_slow_forward\u001b[0m\u001b[0;34m(\u001b[0m\u001b[0;34m*\u001b[0m\u001b[0minput\u001b[0m\u001b[0;34m,\u001b[0m \u001b[0;34m**\u001b[0m\u001b[0mkwargs\u001b[0m\u001b[0;34m)\u001b[0m\u001b[0;34m\u001b[0m\u001b[0;34m\u001b[0m\u001b[0m\n\u001b[1;32m    721\u001b[0m         \u001b[0;32melse\u001b[0m\u001b[0;34m:\u001b[0m\u001b[0;34m\u001b[0m\u001b[0;34m\u001b[0m\u001b[0m\n\u001b[0;32m--> 722\u001b[0;31m             \u001b[0mresult\u001b[0m \u001b[0;34m=\u001b[0m \u001b[0mself\u001b[0m\u001b[0;34m.\u001b[0m\u001b[0mforward\u001b[0m\u001b[0;34m(\u001b[0m\u001b[0;34m*\u001b[0m\u001b[0minput\u001b[0m\u001b[0;34m,\u001b[0m \u001b[0;34m**\u001b[0m\u001b[0mkwargs\u001b[0m\u001b[0;34m)\u001b[0m\u001b[0;34m\u001b[0m\u001b[0;34m\u001b[0m\u001b[0m\n\u001b[0m\u001b[1;32m    723\u001b[0m         for hook in itertools.chain(\n\u001b[1;32m    724\u001b[0m                 \u001b[0m_global_forward_hooks\u001b[0m\u001b[0;34m.\u001b[0m\u001b[0mvalues\u001b[0m\u001b[0;34m(\u001b[0m\u001b[0;34m)\u001b[0m\u001b[0;34m,\u001b[0m\u001b[0;34m\u001b[0m\u001b[0;34m\u001b[0m\u001b[0m\n",
      "\u001b[0;32m/opt/anaconda3/envs/py36/lib/python3.6/site-packages/transformers/modeling_bert.py\u001b[0m in \u001b[0;36mforward\u001b[0;34m(self, hidden_states, input_tensor)\u001b[0m\n\u001b[1;32m    367\u001b[0m \u001b[0;34m\u001b[0m\u001b[0m\n\u001b[1;32m    368\u001b[0m     \u001b[0;32mdef\u001b[0m \u001b[0mforward\u001b[0m\u001b[0;34m(\u001b[0m\u001b[0mself\u001b[0m\u001b[0;34m,\u001b[0m \u001b[0mhidden_states\u001b[0m\u001b[0;34m,\u001b[0m \u001b[0minput_tensor\u001b[0m\u001b[0;34m)\u001b[0m\u001b[0;34m:\u001b[0m\u001b[0;34m\u001b[0m\u001b[0;34m\u001b[0m\u001b[0m\n\u001b[0;32m--> 369\u001b[0;31m         \u001b[0mhidden_states\u001b[0m \u001b[0;34m=\u001b[0m \u001b[0mself\u001b[0m\u001b[0;34m.\u001b[0m\u001b[0mdense\u001b[0m\u001b[0;34m(\u001b[0m\u001b[0mhidden_states\u001b[0m\u001b[0;34m)\u001b[0m\u001b[0;34m\u001b[0m\u001b[0;34m\u001b[0m\u001b[0m\n\u001b[0m\u001b[1;32m    370\u001b[0m         \u001b[0mhidden_states\u001b[0m \u001b[0;34m=\u001b[0m \u001b[0mself\u001b[0m\u001b[0;34m.\u001b[0m\u001b[0mdropout\u001b[0m\u001b[0;34m(\u001b[0m\u001b[0mhidden_states\u001b[0m\u001b[0;34m)\u001b[0m\u001b[0;34m\u001b[0m\u001b[0;34m\u001b[0m\u001b[0m\n\u001b[1;32m    371\u001b[0m         \u001b[0mhidden_states\u001b[0m \u001b[0;34m=\u001b[0m \u001b[0mself\u001b[0m\u001b[0;34m.\u001b[0m\u001b[0mLayerNorm\u001b[0m\u001b[0;34m(\u001b[0m\u001b[0mhidden_states\u001b[0m \u001b[0;34m+\u001b[0m \u001b[0minput_tensor\u001b[0m\u001b[0;34m)\u001b[0m\u001b[0;34m\u001b[0m\u001b[0;34m\u001b[0m\u001b[0m\n",
      "\u001b[0;32m/opt/anaconda3/envs/py36/lib/python3.6/site-packages/torch/nn/modules/module.py\u001b[0m in \u001b[0;36m_call_impl\u001b[0;34m(self, *input, **kwargs)\u001b[0m\n\u001b[1;32m    720\u001b[0m             \u001b[0mresult\u001b[0m \u001b[0;34m=\u001b[0m \u001b[0mself\u001b[0m\u001b[0;34m.\u001b[0m\u001b[0m_slow_forward\u001b[0m\u001b[0;34m(\u001b[0m\u001b[0;34m*\u001b[0m\u001b[0minput\u001b[0m\u001b[0;34m,\u001b[0m \u001b[0;34m**\u001b[0m\u001b[0mkwargs\u001b[0m\u001b[0;34m)\u001b[0m\u001b[0;34m\u001b[0m\u001b[0;34m\u001b[0m\u001b[0m\n\u001b[1;32m    721\u001b[0m         \u001b[0;32melse\u001b[0m\u001b[0;34m:\u001b[0m\u001b[0;34m\u001b[0m\u001b[0;34m\u001b[0m\u001b[0m\n\u001b[0;32m--> 722\u001b[0;31m             \u001b[0mresult\u001b[0m \u001b[0;34m=\u001b[0m \u001b[0mself\u001b[0m\u001b[0;34m.\u001b[0m\u001b[0mforward\u001b[0m\u001b[0;34m(\u001b[0m\u001b[0;34m*\u001b[0m\u001b[0minput\u001b[0m\u001b[0;34m,\u001b[0m \u001b[0;34m**\u001b[0m\u001b[0mkwargs\u001b[0m\u001b[0;34m)\u001b[0m\u001b[0;34m\u001b[0m\u001b[0;34m\u001b[0m\u001b[0m\n\u001b[0m\u001b[1;32m    723\u001b[0m         for hook in itertools.chain(\n\u001b[1;32m    724\u001b[0m                 \u001b[0m_global_forward_hooks\u001b[0m\u001b[0;34m.\u001b[0m\u001b[0mvalues\u001b[0m\u001b[0;34m(\u001b[0m\u001b[0;34m)\u001b[0m\u001b[0;34m,\u001b[0m\u001b[0;34m\u001b[0m\u001b[0;34m\u001b[0m\u001b[0m\n",
      "\u001b[0;32m/opt/anaconda3/envs/py36/lib/python3.6/site-packages/torch/nn/modules/linear.py\u001b[0m in \u001b[0;36mforward\u001b[0;34m(self, input)\u001b[0m\n\u001b[1;32m     89\u001b[0m \u001b[0;34m\u001b[0m\u001b[0m\n\u001b[1;32m     90\u001b[0m     \u001b[0;32mdef\u001b[0m \u001b[0mforward\u001b[0m\u001b[0;34m(\u001b[0m\u001b[0mself\u001b[0m\u001b[0;34m,\u001b[0m \u001b[0minput\u001b[0m\u001b[0;34m:\u001b[0m \u001b[0mTensor\u001b[0m\u001b[0;34m)\u001b[0m \u001b[0;34m->\u001b[0m \u001b[0mTensor\u001b[0m\u001b[0;34m:\u001b[0m\u001b[0;34m\u001b[0m\u001b[0;34m\u001b[0m\u001b[0m\n\u001b[0;32m---> 91\u001b[0;31m         \u001b[0;32mreturn\u001b[0m \u001b[0mF\u001b[0m\u001b[0;34m.\u001b[0m\u001b[0mlinear\u001b[0m\u001b[0;34m(\u001b[0m\u001b[0minput\u001b[0m\u001b[0;34m,\u001b[0m \u001b[0mself\u001b[0m\u001b[0;34m.\u001b[0m\u001b[0mweight\u001b[0m\u001b[0;34m,\u001b[0m \u001b[0mself\u001b[0m\u001b[0;34m.\u001b[0m\u001b[0mbias\u001b[0m\u001b[0;34m)\u001b[0m\u001b[0;34m\u001b[0m\u001b[0;34m\u001b[0m\u001b[0m\n\u001b[0m\u001b[1;32m     92\u001b[0m \u001b[0;34m\u001b[0m\u001b[0m\n\u001b[1;32m     93\u001b[0m     \u001b[0;32mdef\u001b[0m \u001b[0mextra_repr\u001b[0m\u001b[0;34m(\u001b[0m\u001b[0mself\u001b[0m\u001b[0;34m)\u001b[0m \u001b[0;34m->\u001b[0m \u001b[0mstr\u001b[0m\u001b[0;34m:\u001b[0m\u001b[0;34m\u001b[0m\u001b[0;34m\u001b[0m\u001b[0m\n",
      "\u001b[0;32m/opt/anaconda3/envs/py36/lib/python3.6/site-packages/torch/nn/functional.py\u001b[0m in \u001b[0;36mlinear\u001b[0;34m(input, weight, bias)\u001b[0m\n\u001b[1;32m   1674\u001b[0m         \u001b[0mret\u001b[0m \u001b[0;34m=\u001b[0m \u001b[0mtorch\u001b[0m\u001b[0;34m.\u001b[0m\u001b[0maddmm\u001b[0m\u001b[0;34m(\u001b[0m\u001b[0mbias\u001b[0m\u001b[0;34m,\u001b[0m \u001b[0minput\u001b[0m\u001b[0;34m,\u001b[0m \u001b[0mweight\u001b[0m\u001b[0;34m.\u001b[0m\u001b[0mt\u001b[0m\u001b[0;34m(\u001b[0m\u001b[0;34m)\u001b[0m\u001b[0;34m)\u001b[0m\u001b[0;34m\u001b[0m\u001b[0;34m\u001b[0m\u001b[0m\n\u001b[1;32m   1675\u001b[0m     \u001b[0;32melse\u001b[0m\u001b[0;34m:\u001b[0m\u001b[0;34m\u001b[0m\u001b[0;34m\u001b[0m\u001b[0m\n\u001b[0;32m-> 1676\u001b[0;31m         \u001b[0moutput\u001b[0m \u001b[0;34m=\u001b[0m \u001b[0minput\u001b[0m\u001b[0;34m.\u001b[0m\u001b[0mmatmul\u001b[0m\u001b[0;34m(\u001b[0m\u001b[0mweight\u001b[0m\u001b[0;34m.\u001b[0m\u001b[0mt\u001b[0m\u001b[0;34m(\u001b[0m\u001b[0;34m)\u001b[0m\u001b[0;34m)\u001b[0m\u001b[0;34m\u001b[0m\u001b[0;34m\u001b[0m\u001b[0m\n\u001b[0m\u001b[1;32m   1677\u001b[0m         \u001b[0;32mif\u001b[0m \u001b[0mbias\u001b[0m \u001b[0;32mis\u001b[0m \u001b[0;32mnot\u001b[0m \u001b[0;32mNone\u001b[0m\u001b[0;34m:\u001b[0m\u001b[0;34m\u001b[0m\u001b[0;34m\u001b[0m\u001b[0m\n\u001b[1;32m   1678\u001b[0m             \u001b[0moutput\u001b[0m \u001b[0;34m+=\u001b[0m \u001b[0mbias\u001b[0m\u001b[0;34m\u001b[0m\u001b[0;34m\u001b[0m\u001b[0m\n",
      "\u001b[0;31mKeyboardInterrupt\u001b[0m: "
     ]
    }
   ],
   "source": [
    "detector.changeModel(cli_bert_report_ft_model, clitokenizer)\n",
    "f_lst_1, f_lst_3, f_lst_5, f_lst_0 = detector.model_eval(text_changed_one, word_error_one, verbose=True)"
   ]
  },
  {
   "cell_type": "code",
   "execution_count": null,
   "metadata": {},
   "outputs": [],
   "source": []
  },
  {
   "cell_type": "code",
   "execution_count": 47,
   "metadata": {},
   "outputs": [],
   "source": [
    "sample_lst1, sample_lst3, sample_lst5, sample_lst0 = f_lst1, f_lst3, f_lst5, f_lst0"
   ]
  },
  {
   "cell_type": "markdown",
   "metadata": {
    "id": "qDhcVpGws6sd"
   },
   "source": [
    "#### samples"
   ]
  },
  {
   "cell_type": "code",
   "execution_count": 57,
   "metadata": {},
   "outputs": [],
   "source": [
    "def sample_one(idx):\n",
    "  sent = ' '.join(text_changed_one[idx])\n",
    "  print(\"Orig:\", text_orig_one[idx])\n",
    "  print(\"Changed:\", sent)\n",
    "  print(\"Errors:\",word_error_one[idx])\n",
    "  print(detector.run(sent))"
   ]
  },
  {
   "cell_type": "code",
   "execution_count": 100,
   "metadata": {},
   "outputs": [
    {
     "data": {
      "text/plain": [
       "'no act fracture or malalignment'"
      ]
     },
     "execution_count": 100,
     "metadata": {},
     "output_type": "execute_result"
    }
   ],
   "source": [
    "' '.join(text_changed_one[sample_lst1[10]])"
   ]
  },
  {
   "cell_type": "code",
   "execution_count": 99,
   "metadata": {},
   "outputs": [
    {
     "name": "stdout",
     "output_type": "stream",
     "text": [
      "The suspected words are: \n",
      "1 act 0.0576549435175504\n",
      "2 fracture 0.12099111438110294\n",
      "3 malalignment 0.17619949245427188\n",
      "4 no 0.19387896425086834\n",
      "5 or 0.21423914394370716\n",
      "Total time cost: 0.386124 seconds\n",
      "Time to generate candidates: 0.321874 s, 0.833603\n",
      "Time (in cands) run model: 0.317369 s, 0.821936\n",
      "Time (in cands) similarity: 0.003780 s, 0.009790\n",
      "Time to measure similarity: 0.006721 s, 0.017406\n",
      "Possible words are:\n"
     ]
    },
    {
     "data": {
      "text/plain": [
       "[['acute', 0.97477787733078],\n",
       " ['new', 0.012374019250273705],\n",
       " ['other', 0.0024423704016953707],\n",
       " ['underlying', 0.0017913909396156669],\n",
       " ['rib', 0.0012452916707843542],\n",
       " ['definite', 0.0011403749231249094],\n",
       " ['associated', 0.0004972265451215208],\n",
       " ['additional', 0.0004829705285374075],\n",
       " ['displaced', 0.0004792760591953993],\n",
       " ['facial', 0.00044380055624060333]]"
      ]
     },
     "execution_count": 99,
     "metadata": {},
     "output_type": "execute_result"
    }
   ],
   "source": [
    "detector.run(' '.join(text_changed_one[sample_lst1[10]]))"
   ]
  },
  {
   "cell_type": "code",
   "execution_count": 58,
   "metadata": {},
   "outputs": [
    {
     "data": {
      "text/plain": [
       "['act']"
      ]
     },
     "execution_count": 58,
     "metadata": {},
     "output_type": "execute_result"
    }
   ],
   "source": [
    "word_error_one[sample_lst1[10]]"
   ]
  },
  {
   "cell_type": "code",
   "execution_count": 59,
   "metadata": {},
   "outputs": [
    {
     "data": {
      "text/plain": [
       "['no', 'act', 'fracture', 'or', 'malalignment']"
      ]
     },
     "execution_count": 59,
     "metadata": {},
     "output_type": "execute_result"
    }
   ],
   "source": [
    "text_changed_one[sample_lst1[10]]"
   ]
  },
  {
   "cell_type": "code",
   "execution_count": 60,
   "metadata": {},
   "outputs": [
    {
     "name": "stdout",
     "output_type": "stream",
     "text": [
      "Orig: Stable known thrombosis of the right internal jugular vein.\n",
      "Changed: stable known thrombosis of the red internal jugular vein\n",
      "Errors: ['red']\n",
      "The suspected words are: \n",
      "1 known 0.01555739844849744\n",
      "2 the 0.05397124931107897\n",
      "3 stable 0.07338829396347298\n",
      "4 thrombosis 0.11514139967359137\n",
      "5 red 0.12971170489490885\n",
      "Total time cost: 0.759450 seconds\n",
      "Time to generate candidates: 0.688098 s, 0.906048\n",
      "Time (in cands) run model: 0.680081 s, 0.895492\n",
      "Time (in cands) similarity: 0.005774 s, 0.007603\n",
      "Time to measure similarity: 0.009110 s, 0.011996\n",
      "Possible words are:\n",
      "[['partial', 0.1469440907239914], ['chronic', 0.09437592327594757], ['deep', 0.08811807632446289], ['superficial', 0.08664344996213913], ['intermittent', 0.04818974807858467], ['successful', 0.03244158625602722], ['active', 0.029002858325839043], ['direct', 0.027288520708680153], ['mild', 0.02422005496919155], ['post', 0.016264978796243668]]\n"
     ]
    }
   ],
   "source": [
    "sample_one(sample_lst3[23])"
   ]
  },
  {
   "cell_type": "code",
   "execution_count": null,
   "metadata": {},
   "outputs": [],
   "source": []
  },
  {
   "cell_type": "code",
   "execution_count": null,
   "metadata": {
    "id": "-_-mhQSetkCl"
   },
   "outputs": [],
   "source": []
  },
  {
   "cell_type": "code",
   "execution_count": null,
   "metadata": {
    "colab": {
     "base_uri": "https://localhost:8080/",
     "height": 85
    },
    "id": "_OwvywYKtrdB",
    "outputId": "34a20f5e-1c17-41ca-9757-f2f1c592442a"
   },
   "outputs": [
    {
     "name": "stdout",
     "output_type": "stream",
     "text": [
      "Orig: Unchanged clot burden in the iliofemoral veins.\n",
      "Changed: unchanged keloid burden in the iliofemoral veins\n",
      "Errors: ['keloid']\n",
      "['burden', 'keloid', 'veins', 'unchanged', 'the']\n"
     ]
    }
   ],
   "source": [
    "sample_one(10)"
   ]
  },
  {
   "cell_type": "code",
   "execution_count": null,
   "metadata": {
    "colab": {
     "base_uri": "https://localhost:8080/",
     "height": 85
    },
    "id": "DaCWmc5ws55j",
    "outputId": "022929f7-824b-4a3a-8ed6-41e6eb564b11"
   },
   "outputs": [
    {
     "name": "stdout",
     "output_type": "stream",
     "text": [
      "Orig: Nonspecific diffuse liver disease with portal hypertension with splenomegaly and varices.\n",
      "Changed: nonspecific dives liver disease with portal hypertension with splenomegaly and varices\n",
      "Errors: ['dives']\n",
      "['disease', 'dives', 'liver', 'nonspecific', 'with']\n"
     ]
    }
   ],
   "source": [
    "sample_one(100)"
   ]
  },
  {
   "cell_type": "code",
   "execution_count": null,
   "metadata": {
    "colab": {
     "base_uri": "https://localhost:8080/",
     "height": 85
    },
    "id": "781YtVnEtrEO",
    "outputId": "fd70625a-e903-4032-a520-2e7d8558589d"
   },
   "outputs": [
    {
     "name": "stdout",
     "output_type": "stream",
     "text": [
      "Orig: Tetralogy of Fallot with pulmonary artery atresia and two systemic to pulmonary collateral arteries as described above.\n",
      "Changed: tetralogy of fallot with pulmonale artery atresia and two systemic to pulmonary collateral arteries as described above\n",
      "Errors: ['pulmonale']\n",
      "['systemic', 'with', 'two', 'pulmonary', 'artery']\n"
     ]
    }
   ],
   "source": [
    "# miss\n",
    "sample_one(210) "
   ]
  },
  {
   "cell_type": "code",
   "execution_count": null,
   "metadata": {
    "colab": {
     "base_uri": "https://localhost:8080/",
     "height": 85
    },
    "id": "AgnR3Cacs6EF",
    "outputId": "d87ca59a-c67f-4d7f-de62-1958405b373f"
   },
   "outputs": [
    {
     "name": "stdout",
     "output_type": "stream",
     "text": [
      "Orig: 2.9 cm rim-enhancing fluid collection in the right middle lobe is unchanged and likely reflects a pulmonary abscess.\n",
      "Changed: cm fold collection in the right middle lobe is unchanged and likely reflects a pulmonary abscess\n",
      "Errors: ['fold']\n",
      "['cm', 'collection', 'abscess', 'pulmonary', 'fold']\n"
     ]
    }
   ],
   "source": [
    "# hit at 5\n",
    "sample_one(260)"
   ]
  },
  {
   "cell_type": "code",
   "execution_count": null,
   "metadata": {
    "colab": {
     "base_uri": "https://localhost:8080/",
     "height": 85
    },
    "id": "076TWQh3s6IC",
    "outputId": "43cfd35f-2475-4d72-b0ed-0f148520da52"
   },
   "outputs": [
    {
     "name": "stdout",
     "output_type": "stream",
     "text": [
      "Orig: No acute intrathoracic abnormality.\n",
      "Changed: no acute o abnormality\n",
      "Errors: ['o']\n",
      "['o', 'abnormality', 'acute', 'no']\n"
     ]
    }
   ],
   "source": [
    "sample_one(356)"
   ]
  },
  {
   "cell_type": "code",
   "execution_count": null,
   "metadata": {
    "id": "VfYFqsvwu2lg"
   },
   "outputs": [],
   "source": []
  },
  {
   "cell_type": "code",
   "execution_count": null,
   "metadata": {
    "id": "KCRsQXpuu2uO"
   },
   "outputs": [],
   "source": []
  },
  {
   "cell_type": "markdown",
   "metadata": {
    "id": "766PlEfsM75L"
   },
   "source": [
    "### 2 errors per sentence"
   ]
  },
  {
   "cell_type": "code",
   "execution_count": null,
   "metadata": {
    "colab": {
     "base_uri": "https://localhost:8080/",
     "height": 419
    },
    "id": "qWxRGROsu4fI",
    "outputId": "df09642c-1bac-499e-cf7f-9add8500f68d"
   },
   "outputs": [
    {
     "data": {
      "text/html": [
       "<div>\n",
       "<style scoped>\n",
       "    .dataframe tbody tr th:only-of-type {\n",
       "        vertical-align: middle;\n",
       "    }\n",
       "\n",
       "    .dataframe tbody tr th {\n",
       "        vertical-align: top;\n",
       "    }\n",
       "\n",
       "    .dataframe thead th {\n",
       "        text-align: right;\n",
       "    }\n",
       "</style>\n",
       "<table border=\"1\" class=\"dataframe\">\n",
       "  <thead>\n",
       "    <tr style=\"text-align: right;\">\n",
       "      <th></th>\n",
       "      <th>text_orig</th>\n",
       "      <th>text_changed</th>\n",
       "      <th>word_error</th>\n",
       "      <th>index_changed</th>\n",
       "    </tr>\n",
       "  </thead>\n",
       "  <tbody>\n",
       "    <tr>\n",
       "      <th>0</th>\n",
       "      <td>No acute abnormality the abdomen or pelvis.</td>\n",
       "      <td>No acuity abnormal the abdomen or pelvis .</td>\n",
       "      <td>['acuity', 'abnormal']</td>\n",
       "      <td>[1, 2]</td>\n",
       "    </tr>\n",
       "    <tr>\n",
       "      <th>1</th>\n",
       "      <td>Unchanged aneurysmal dilation of the celiac ar...</td>\n",
       "      <td>Unchanged aneurysmal dilution of th celiac art...</td>\n",
       "      <td>['th', 'dilution']</td>\n",
       "      <td>[4, 2]</td>\n",
       "    </tr>\n",
       "    <tr>\n",
       "      <th>2</th>\n",
       "      <td>Please note that if there is high clinical sus...</td>\n",
       "      <td>Please net that if there is high clinical susp...</td>\n",
       "      <td>['vare', 'net']</td>\n",
       "      <td>[9, 1]</td>\n",
       "    </tr>\n",
       "    <tr>\n",
       "      <th>3</th>\n",
       "      <td>Redundant bilateral optic nerves with symmetri...</td>\n",
       "      <td>Redundant bilateral optique nervous with symme...</td>\n",
       "      <td>['nervous', 'optique']</td>\n",
       "      <td>[3, 2]</td>\n",
       "    </tr>\n",
       "    <tr>\n",
       "      <th>4</th>\n",
       "      <td>Further characterization with MR orbits with a...</td>\n",
       "      <td>Further characterization with mr orbits wiethe...</td>\n",
       "      <td>['wiethe', 'endorsed']</td>\n",
       "      <td>[5, 8]</td>\n",
       "    </tr>\n",
       "    <tr>\n",
       "      <th>...</th>\n",
       "      <td>...</td>\n",
       "      <td>...</td>\n",
       "      <td>...</td>\n",
       "      <td>...</td>\n",
       "    </tr>\n",
       "    <tr>\n",
       "      <th>546</th>\n",
       "      <td>No large vessel occlusion.</td>\n",
       "      <td>No leriche vessel occulsion .</td>\n",
       "      <td>['leriche', 'occulsion']</td>\n",
       "      <td>[1, 3]</td>\n",
       "    </tr>\n",
       "    <tr>\n",
       "      <th>547</th>\n",
       "      <td>Decompressed gallbladder with redemonstration ...</td>\n",
       "      <td>Decompressed gallbladder with redemonstration ...</td>\n",
       "      <td>['tha', 'signficant']</td>\n",
       "      <td>[9, 19]</td>\n",
       "    </tr>\n",
       "    <tr>\n",
       "      <th>548</th>\n",
       "      <td>No definite CT evidence of choledocholithiasis.</td>\n",
       "      <td>No deﬁned ct evidence of l .</td>\n",
       "      <td>['deﬁned', 'l']</td>\n",
       "      <td>[1, 5]</td>\n",
       "    </tr>\n",
       "    <tr>\n",
       "      <th>549</th>\n",
       "      <td>Hepatomegaly with wedge-shaped hypodensities w...</td>\n",
       "      <td>Hepatomegaly with wedge-shaped hypodensities w...</td>\n",
       "      <td>['hypointensities', 'likley']</td>\n",
       "      <td>[19, 8]</td>\n",
       "    </tr>\n",
       "    <tr>\n",
       "      <th>550</th>\n",
       "      <td>Findings may represent infarcts in the setting...</td>\n",
       "      <td>Fndings may represents infarcts in the setting...</td>\n",
       "      <td>['represents', 'fndings']</td>\n",
       "      <td>[2, 0]</td>\n",
       "    </tr>\n",
       "  </tbody>\n",
       "</table>\n",
       "<p>551 rows × 4 columns</p>\n",
       "</div>"
      ],
      "text/plain": [
       "                                             text_orig  ... index_changed\n",
       "0          No acute abnormality the abdomen or pelvis.  ...        [1, 2]\n",
       "1    Unchanged aneurysmal dilation of the celiac ar...  ...        [4, 2]\n",
       "2    Please note that if there is high clinical sus...  ...        [9, 1]\n",
       "3    Redundant bilateral optic nerves with symmetri...  ...        [3, 2]\n",
       "4    Further characterization with MR orbits with a...  ...        [5, 8]\n",
       "..                                                 ...  ...           ...\n",
       "546                         No large vessel occlusion.  ...        [1, 3]\n",
       "547  Decompressed gallbladder with redemonstration ...  ...       [9, 19]\n",
       "548    No definite CT evidence of choledocholithiasis.  ...        [1, 5]\n",
       "549  Hepatomegaly with wedge-shaped hypodensities w...  ...       [19, 8]\n",
       "550  Findings may represent infarcts in the setting...  ...        [2, 0]\n",
       "\n",
       "[551 rows x 4 columns]"
      ]
     },
     "execution_count": 119,
     "metadata": {
      "tags": []
     },
     "output_type": "execute_result"
    }
   ],
   "source": [
    "two_error_path = '/gdrive/My Drive/nlp/rad_report_error_sentences_two_errors.csv'\n",
    "df = pd.read_csv(two_error_path)\n",
    "df"
   ]
  },
  {
   "cell_type": "code",
   "execution_count": null,
   "metadata": {
    "id": "51eead0Hu4mz"
   },
   "outputs": [],
   "source": [
    "text_changed = df['text_changed'].tolist()\n",
    "word_error = df['word_error'].tolist()\n",
    "text_orig = df['text_orig'].tolist()"
   ]
  },
  {
   "cell_type": "code",
   "execution_count": null,
   "metadata": {
    "id": "_F5tqejKu4q5"
   },
   "outputs": [],
   "source": [
    "text_changed_300 = text_changed[:300]\n",
    "word_error_300 = word_error[:300]\n",
    "text_orig_300 = text_orig[:300]"
   ]
  },
  {
   "cell_type": "code",
   "execution_count": null,
   "metadata": {
    "id": "mGmQ1L9hm4Gs"
   },
   "outputs": [],
   "source": [
    "text_changed_200 = text_changed[:200]\n",
    "word_error_200 = word_error[:200]"
   ]
  },
  {
   "cell_type": "code",
   "execution_count": null,
   "metadata": {
    "colab": {
     "base_uri": "https://localhost:8080/",
     "height": 34
    },
    "id": "uF98CoDAu4wM",
    "outputId": "113b3579-5284-4a03-962c-3e46b641e9f4"
   },
   "outputs": [
    {
     "data": {
      "text/plain": [
       "300"
      ]
     },
     "execution_count": 29,
     "metadata": {
      "tags": []
     },
     "output_type": "execute_result"
    }
   ],
   "source": [
    "len(text_changed_300)"
   ]
  },
  {
   "cell_type": "code",
   "execution_count": null,
   "metadata": {
    "id": "GK5qZijKWEUw"
   },
   "outputs": [],
   "source": [
    "TOPK = 10\n",
    "detector = SentDetector(basemodel, basetokenizer, TOPK)"
   ]
  },
  {
   "cell_type": "markdown",
   "metadata": {
    "id": "ohQbNvGkqvDP"
   },
   "source": [
    "**2hits@2**: the 2 error words appear in the top 2 suspected candiates \\\n",
    "**2hits@5**: the 2 error words appear in the top 5 suspected candiates \\\n",
    "**1hit@5**: only 1 error word appears in the top 5 suspected candiates \\\n",
    "**miss**: no error word is detected in the top 5 suspected candidates \\\n",
    "\n",
    "\n",
    "***2hits@5 + 1hit@5 + miss = 1***"
   ]
  },
  {
   "cell_type": "code",
   "execution_count": null,
   "metadata": {
    "colab": {
     "base_uri": "https://localhost:8080/",
     "height": 374
    },
    "id": "tUKY-mWtn-zE",
    "outputId": "2c8180ff-4869-4fef-d201-59080658a212"
   },
   "outputs": [
    {
     "name": "stdout",
     "output_type": "stream",
     "text": [
      "Finished 10 sentences, 2hits@2=0.300000, 2hits@5=1.000000, 1hit@5=0.000000, miss=0.000000\n",
      "Finished 20 sentences, 2hits@2=0.350000, 2hits@5=0.850000, 1hit@5=0.150000, miss=0.000000\n",
      "Finished 30 sentences, 2hits@2=0.266667, 2hits@5=0.833333, 1hit@5=0.133333, miss=0.033333\n",
      "Finished 40 sentences, 2hits@2=0.225000, 2hits@5=0.850000, 1hit@5=0.125000, miss=0.025000\n",
      "Finished 50 sentences, 2hits@2=0.220000, 2hits@5=0.860000, 1hit@5=0.120000, miss=0.020000\n",
      "Finished 60 sentences, 2hits@2=0.266667, 2hits@5=0.883333, 1hit@5=0.100000, miss=0.016667\n",
      "Finished 70 sentences, 2hits@2=0.271429, 2hits@5=0.857143, 1hit@5=0.128571, miss=0.014286\n",
      "Finished 80 sentences, 2hits@2=0.300000, 2hits@5=0.850000, 1hit@5=0.125000, miss=0.025000\n",
      "Finished 90 sentences, 2hits@2=0.277778, 2hits@5=0.844444, 1hit@5=0.133333, miss=0.022222\n",
      "Finished 100 sentences, 2hits@2=0.300000, 2hits@5=0.850000, 1hit@5=0.130000, miss=0.020000\n",
      "Finished 110 sentences, 2hits@2=0.300000, 2hits@5=0.854545, 1hit@5=0.127273, miss=0.018182\n",
      "Finished 120 sentences, 2hits@2=0.283333, 2hits@5=0.850000, 1hit@5=0.133333, miss=0.016667\n",
      "Finished 130 sentences, 2hits@2=0.300000, 2hits@5=0.861538, 1hit@5=0.123077, miss=0.015385\n",
      "Finished 140 sentences, 2hits@2=0.300000, 2hits@5=0.857143, 1hit@5=0.128571, miss=0.014286\n",
      "Finished 150 sentences, 2hits@2=0.286667, 2hits@5=0.846667, 1hit@5=0.140000, miss=0.013333\n",
      "Finished 160 sentences, 2hits@2=0.293750, 2hits@5=0.856250, 1hit@5=0.131250, miss=0.012500\n",
      "Finished 170 sentences, 2hits@2=0.288235, 2hits@5=0.864706, 1hit@5=0.123529, miss=0.011765\n",
      "Finished 180 sentences, 2hits@2=0.277778, 2hits@5=0.855556, 1hit@5=0.133333, miss=0.011111\n",
      "Finished 190 sentences, 2hits@2=0.278947, 2hits@5=0.857895, 1hit@5=0.131579, miss=0.010526\n",
      "Finished 200 sentences, 2hits@2=0.275000, 2hits@5=0.855000, 1hit@5=0.135000, miss=0.010000\n",
      "Done. Accuracy: 2hits@2=0.275000, 2hits@5=0.855000, 1hit@5=0.135000, miss=0.010000\n"
     ]
    }
   ],
   "source": [
    "detector.changeModel(cli_bert_report_ft_model, clitokenizer)\n",
    "detector.model_eval_two_errors(text_changed_200, word_error_200, True)"
   ]
  },
  {
   "cell_type": "code",
   "execution_count": null,
   "metadata": {
    "colab": {
     "base_uri": "https://localhost:8080/",
     "height": 34
    },
    "id": "qWl889GsiNEj",
    "outputId": "e95104fc-ffa9-40cb-9bc5-37e7ce203d5b"
   },
   "outputs": [
    {
     "name": "stdout",
     "output_type": "stream",
     "text": [
      "1\n"
     ]
    }
   ],
   "source": [
    "i = 0\n",
    "errors = re.findall(r\"['\\\"](.*?)['\\\"]\", word_error[i])\n",
    "print(\"error sentences:\", text_changed_300[i])\n",
    "print(\"errors:\", errors)\n",
    "detector.run(text_changed[i])"
   ]
  },
  {
   "cell_type": "code",
   "execution_count": null,
   "metadata": {
    "colab": {
     "base_uri": "https://localhost:8080/",
     "height": 34
    },
    "id": "8kTCNr0qidnb",
    "outputId": "27454ad8-a39f-4edb-e873-b6f18a96f084"
   },
   "outputs": [
    {
     "data": {
      "text/plain": [
       "['abnormal', 'acuity', 'pelvis', 'no', 'or']"
      ]
     },
     "execution_count": 67,
     "metadata": {
      "tags": []
     },
     "output_type": "execute_result"
    }
   ],
   "source": [
    "suspects"
   ]
  },
  {
   "cell_type": "code",
   "execution_count": null,
   "metadata": {
    "colab": {
     "base_uri": "https://localhost:8080/",
     "height": 34
    },
    "id": "DcOw5DRzlMFJ",
    "outputId": "14fa743b-39f1-4fba-dda1-8d8d8344cb95"
   },
   "outputs": [
    {
     "data": {
      "text/plain": [
       "['acuity', 'abnormal']"
      ]
     },
     "execution_count": 68,
     "metadata": {
      "tags": []
     },
     "output_type": "execute_result"
    }
   ],
   "source": [
    "errors"
   ]
  },
  {
   "cell_type": "code",
   "execution_count": null,
   "metadata": {
    "id": "uwTHmngCivp-"
   },
   "outputs": [],
   "source": [
    "tt = word_error_300[i]"
   ]
  },
  {
   "cell_type": "code",
   "execution_count": null,
   "metadata": {
    "colab": {
     "base_uri": "https://localhost:8080/",
     "height": 35
    },
    "id": "T43ayHo6kwoh",
    "outputId": "4a2f3386-e669-46d1-d440-f4073b3c5f96"
   },
   "outputs": [
    {
     "data": {
      "application/vnd.google.colaboratory.intrinsic+json": {
       "type": "string"
      },
      "text/plain": [
       "'acuity'"
      ]
     },
     "execution_count": 65,
     "metadata": {
      "tags": []
     },
     "output_type": "execute_result"
    }
   ],
   "source": [
    "import re\n",
    "ss = re.findall(r\"['\\\"](.*?)['\\\"]\", tt)\n",
    "ss[0]"
   ]
  },
  {
   "cell_type": "markdown",
   "metadata": {
    "id": "gzDsV6nUvJNq"
   },
   "source": [
    "#### samples"
   ]
  },
  {
   "cell_type": "code",
   "execution_count": null,
   "metadata": {
    "id": "l9zn9xnKkwrY"
   },
   "outputs": [],
   "source": [
    "def sample_two(idx):\n",
    "  sent = text_changed_300[idx]\n",
    "  print(\"Orig:\", text_orig_300[idx])\n",
    "  print(\"Changed:\", sent)\n",
    "  print(\"Errors:\",word_error_300[idx])\n",
    "  print(detector.detect_ret(sent))"
   ]
  },
  {
   "cell_type": "code",
   "execution_count": null,
   "metadata": {
    "colab": {
     "base_uri": "https://localhost:8080/",
     "height": 85
    },
    "id": "EJEVWnp-vbCz",
    "outputId": "459ecc5a-8647-4564-fd9c-85abfd552d09"
   },
   "outputs": [
    {
     "name": "stdout",
     "output_type": "stream",
     "text": [
      "Orig: Unchanged clot burden in the iliofemoral veins.\n",
      "Changed: Unmanaged clot burden in the ileofemoral veins .\n",
      "Errors: ['ileofemoral', 'unmanaged']\n",
      "['unmanaged', 'veins', 'ileofemoral', 'clot', 'burden']\n"
     ]
    }
   ],
   "source": [
    "# 2hits@5\n",
    "sample_two(10)"
   ]
  },
  {
   "cell_type": "code",
   "execution_count": null,
   "metadata": {
    "colab": {
     "base_uri": "https://localhost:8080/",
     "height": 105
    },
    "id": "GZ66WBp1vnzo",
    "outputId": "80fd95a4-efb1-455f-9e96-485905d4186a"
   },
   "outputs": [
    {
     "name": "stdout",
     "output_type": "stream",
     "text": [
      "Orig: Interval 2 mm growth of the largest pulmonary nodule in left lower lobe; other nodules not significantly changed in size within limitation of measurement, compatible with gradual growth of metastatic disease.\n",
      "Changed: Interval 2 mm growth of the largest pulmonary knittel in livedo lower lobe ; other nodules not significantly changed in size within limitation of measurement , compatible with gradual growth of metastatic disease .\n",
      "Errors: ['livedo', 'knittel']\n",
      "['knittel', 'gradual', 'in', 'pulmonary', 'growth']\n"
     ]
    }
   ],
   "source": [
    "# 1hit@5\n",
    "sample_two(20)"
   ]
  },
  {
   "cell_type": "code",
   "execution_count": null,
   "metadata": {
    "colab": {
     "base_uri": "https://localhost:8080/",
     "height": 85
    },
    "id": "JzEV-zZsvn2Z",
    "outputId": "40c0f6fb-3c60-49f7-e7c6-87866c36555c"
   },
   "outputs": [
    {
     "name": "stdout",
     "output_type": "stream",
     "text": [
      "Orig: The right ureter has minimal intraluminal contrast material and is not dilated.\n",
      "Changed: The right uretera house minimal intraluminal contrast material and is not dilated .\n",
      "Errors: ['house', 'uretera']\n",
      "['minimal', 'house', 'material', 'not', 'uretera']\n"
     ]
    }
   ],
   "source": [
    "# 2hits@5\n",
    "sample_two(30)"
   ]
  },
  {
   "cell_type": "code",
   "execution_count": null,
   "metadata": {
    "colab": {
     "base_uri": "https://localhost:8080/",
     "height": 85
    },
    "id": "8ohzm3Z2voEz",
    "outputId": "57fbc988-966d-462d-8e91-d477fac18605"
   },
   "outputs": [
    {
     "name": "stdout",
     "output_type": "stream",
     "text": [
      "Orig: Comminuted, displaced, angulated fracture of the proximal humeral diaphysis.\n",
      "Changed: Comminuted , displaced , binucleated fracture of the proximally humeral diaphysis .\n",
      "Errors: ['proximally', 'binucleated']\n",
      "['proximally', 'binucleated', 'displaced', 'comminuted', 'diaphysis']\n"
     ]
    }
   ],
   "source": [
    "#2hits@2\n",
    "sample_two(40)"
   ]
  },
  {
   "cell_type": "code",
   "execution_count": null,
   "metadata": {
    "colab": {
     "base_uri": "https://localhost:8080/",
     "height": 85
    },
    "id": "BiPZg6pbvoC6",
    "outputId": "7499770c-f9b7-473e-fb3b-122163b9946d"
   },
   "outputs": [
    {
     "name": "stdout",
     "output_type": "stream",
     "text": [
      "Orig: Cardiomegaly, specifically right atrial and right ventricular enlargement, and dilated main pulmonary artery consistent with pulmonary hypertension\n",
      "Changed: Cardiomegaly , speciﬁc right atrial and right ventricular enlargement , and dilated mn pulmonary artery consistent with pulmonary hypertension\n",
      "Errors: ['mn', 'speciﬁc']\n",
      "['mn', 'speciﬁc', 'enlargement', 'cardiomegaly', 'hypertension']\n"
     ]
    }
   ],
   "source": [
    "# 2hits@2\n",
    "sample_two(60)"
   ]
  },
  {
   "cell_type": "code",
   "execution_count": null,
   "metadata": {
    "colab": {
     "base_uri": "https://localhost:8080/",
     "height": 85
    },
    "id": "x8bdrOf8voAk",
    "outputId": "70f30637-cd73-4525-964f-6f45c574ad75"
   },
   "outputs": [
    {
     "name": "stdout",
     "output_type": "stream",
     "text": [
      "Orig: Massive subarachnoid hemorrhage centered around the left sylvian fissure with 5 mm midline shift and possible trapping of the right lateral ventricle.\n",
      "Changed: Massive subarachnoid hemorrhage centered around th left sylvian fissure with 5 mm midline shift and possible trapping of the right lateral ventriculo .\n",
      "Errors: ['ventriculo', 'th']\n",
      "['massive', 'left', 'possible', 'trapping', 'midline']\n"
     ]
    }
   ],
   "source": [
    "# miss\n",
    "sample_two(75)"
   ]
  },
  {
   "cell_type": "code",
   "execution_count": null,
   "metadata": {
    "colab": {
     "base_uri": "https://localhost:8080/",
     "height": 85
    },
    "id": "mkLB4SWtvn9_",
    "outputId": "f233f091-d313-4a15-e126-73d45166a2d5"
   },
   "outputs": [
    {
     "name": "stdout",
     "output_type": "stream",
     "text": [
      "Orig: No evidence of mass effect.\n",
      "Changed: No effusions of mias effect .\n",
      "Errors: ['effusions', 'mias']\n",
      "['effect', 'mias', 'of', 'no', 'effusions']\n"
     ]
    }
   ],
   "source": [
    "#2hits@2\n",
    "sample_two(86)"
   ]
  },
  {
   "cell_type": "code",
   "execution_count": null,
   "metadata": {
    "colab": {
     "base_uri": "https://localhost:8080/",
     "height": 85
    },
    "id": "erQ_Jamqvn8j",
    "outputId": "94b43e56-33da-48f6-d8c8-82259bd27382"
   },
   "outputs": [
    {
     "name": "stdout",
     "output_type": "stream",
     "text": [
      "Orig: Stable cluster of nodules in the lingula compatible with small focus of infection.\n",
      "Changed: Stable lister of nodulus in the lingula compatible with small focus of infection .\n",
      "Errors: ['nodulus', 'lister']\n",
      "['of', 'stable', 'lister', 'small', 'nodulus']\n"
     ]
    }
   ],
   "source": [
    "sample_two(90)"
   ]
  },
  {
   "cell_type": "code",
   "execution_count": null,
   "metadata": {
    "colab": {
     "base_uri": "https://localhost:8080/",
     "height": 85
    },
    "id": "0VgWH8QAwcmY",
    "outputId": "fb7ee803-2177-479b-9a37-ec87211bfe93"
   },
   "outputs": [
    {
     "name": "stdout",
     "output_type": "stream",
     "text": [
      "Orig: No acute intracranial abnormality.\n",
      "Changed: No acute intracranially abnormalif .\n",
      "Errors: ['abnormalif', 'intracranially']\n",
      "['abnormalif', 'intracranially', 'acute', 'no']\n"
     ]
    }
   ],
   "source": [
    "sample_two(96)"
   ]
  },
  {
   "cell_type": "code",
   "execution_count": null,
   "metadata": {
    "colab": {
     "base_uri": "https://localhost:8080/",
     "height": 85
    },
    "id": "q6-QQ-xgwcj3",
    "outputId": "53fd4d9d-ed55-46c3-d0ed-0818630be6c1"
   },
   "outputs": [
    {
     "name": "stdout",
     "output_type": "stream",
     "text": [
      "Orig: No acute fracture or traumatic malalignment of the cervical spine.\n",
      "Changed: No acuity fracture or traumatic malalignment of the cervically spine .\n",
      "Errors: ['cervically', 'acuity']\n",
      "['fracture', 'acuity', 'cervically', 'no', 'spine']\n"
     ]
    }
   ],
   "source": [
    "sample_two(104)"
   ]
  },
  {
   "cell_type": "code",
   "execution_count": null,
   "metadata": {
    "colab": {
     "base_uri": "https://localhost:8080/",
     "height": 85
    },
    "id": "fEC3AdoqwciB",
    "outputId": "4e56a6ed-155c-4f7e-9d74-daccd9710c8b"
   },
   "outputs": [
    {
     "name": "stdout",
     "output_type": "stream",
     "text": [
      "Orig: No large vessel occlusions or hemodynamically significant stenoses within the head or neck.\n",
      "Changed: No large vessel sacculations or hemodynamically significant stenoses within the head or nuck .\n",
      "Errors: ['sacculations', 'nuck']\n",
      "['nuck', 'head', 'vessel', 'sacculations', 'hemodynamically']\n"
     ]
    }
   ],
   "source": [
    "sample_two(195)"
   ]
  },
  {
   "cell_type": "code",
   "execution_count": null,
   "metadata": {
    "colab": {
     "base_uri": "https://localhost:8080/",
     "height": 85
    },
    "id": "cBWSdsPbvn5_",
    "outputId": "f3a3a93f-8ea9-4fc3-8e0b-3aad30e07049"
   },
   "outputs": [
    {
     "name": "stdout",
     "output_type": "stream",
     "text": [
      "Orig: If there remains elevated clinical suspicion for acute stroke, MRI would be more sensitive for further evaluation.\n",
      "Changed: If there remains elevated clinical suspcious for acute streak , mri would be more sensitive for further evaluation .\n",
      "Errors: ['streak', 'suspcious']\n",
      "['suspcious', 'clinical', 'streak', 'acute', 'elevated']\n"
     ]
    }
   ],
   "source": [
    "sample_two(197)"
   ]
  },
  {
   "cell_type": "code",
   "execution_count": null,
   "metadata": {
    "colab": {
     "base_uri": "https://localhost:8080/",
     "height": 105
    },
    "id": "iLvyIOljw9Bx",
    "outputId": "78aefe97-3f4e-47a8-ebaa-3b134ea74449"
   },
   "outputs": [
    {
     "name": "stdout",
     "output_type": "stream",
     "text": [
      "Orig: Small wedge-shaped area of decreased density in the right caudate head, not definitively acute, not definitely seen on prior exam and may represent a tiny focus of ischemia.\n",
      "Changed: Small i area of decreased density in the right caudate head , not definitively acute , not definitely seen on poirier exam and may represent a tiny focus of ischemia .\n",
      "Errors: ['i', 'poirier']\n",
      "['poirier', 'small', 'acute', 'decreased', 'area']\n"
     ]
    }
   ],
   "source": [
    "sample_two(198)"
   ]
  },
  {
   "cell_type": "code",
   "execution_count": null,
   "metadata": {
    "id": "7P05vQOI3ss8"
   },
   "outputs": [],
   "source": []
  },
  {
   "cell_type": "code",
   "execution_count": null,
   "metadata": {
    "id": "sUfuRtV9xKZY"
   },
   "outputs": [],
   "source": [
    "sent = 'Another differential consideration includes sarcoidosis given subpleural into the pleural locations.'"
   ]
  },
  {
   "cell_type": "code",
   "execution_count": null,
   "metadata": {
    "colab": {
     "base_uri": "https://localhost:8080/",
     "height": 119
    },
    "id": "gKgKp14b8GPU",
    "outputId": "6ba4fc89-b10d-4d63-8393-5b3fe7343712"
   },
   "outputs": [
    {
     "name": "stdout",
     "output_type": "stream",
     "text": [
      "The suspected words are: \n",
      "1 differential 0.012023007483300908\n",
      "2 subpleural 0.028720323135546434\n",
      "3 consideration 0.030000737589106014\n",
      "4 locations 0.03042371420020971\n",
      "5 the 0.0579793184376375\n"
     ]
    }
   ],
   "source": [
    "detector.changeModel(basemodel, basetokenizer)\n",
    "detector.run(sent)"
   ]
  },
  {
   "cell_type": "code",
   "execution_count": null,
   "metadata": {
    "colab": {
     "base_uri": "https://localhost:8080/",
     "height": 119
    },
    "id": "XXr5vdc9xKeW",
    "outputId": "738832de-51ec-4175-c660-eed7cbca1421"
   },
   "outputs": [
    {
     "name": "stdout",
     "output_type": "stream",
     "text": [
      "The suspected words are: \n",
      "1 subpleural 0.01908425626424779\n",
      "2 locations 0.06688517188773875\n",
      "3 the 0.08018860307766772\n",
      "4 given 0.08486887856425912\n",
      "5 another 0.11402032738142331\n"
     ]
    }
   ],
   "source": [
    "detector.changeModel(cli_bert_report_ft_model, clitokenizer)\n",
    "detector.run(sent)"
   ]
  },
  {
   "cell_type": "code",
   "execution_count": null,
   "metadata": {
    "id": "_UZTZzNgxKcQ"
   },
   "outputs": [],
   "source": [
    "s = 'Tracheostomy place. Enteric tube in place. Left upper extremity PICC in place with the tip terminating at the cavoatrial junction. Right chest tube in place.'"
   ]
  },
  {
   "cell_type": "code",
   "execution_count": null,
   "metadata": {
    "colab": {
     "base_uri": "https://localhost:8080/",
     "height": 119
    },
    "id": "uEM08bu68WiL",
    "outputId": "136c4d60-e7b7-477f-951a-5f365c0643b7"
   },
   "outputs": [
    {
     "name": "stdout",
     "output_type": "stream",
     "text": [
      "The suspected words are: \n",
      "1 picc 0.007902789880817345\n",
      "2 cavoatrial 0.00830626474261965\n",
      "3 chest 0.009639559180938364\n",
      "4 tube 0.023683566382312095\n",
      "5 place 0.024280441460608697\n"
     ]
    }
   ],
   "source": [
    "detector.changeModel(basemodel, basetokenizer)\n",
    "detector.run(s)"
   ]
  },
  {
   "cell_type": "code",
   "execution_count": null,
   "metadata": {
    "colab": {
     "base_uri": "https://localhost:8080/",
     "height": 119
    },
    "id": "1Dor3ERY8WqC",
    "outputId": "aeb96d1d-cf59-4d07-cfc7-ad266e258c30"
   },
   "outputs": [
    {
     "name": "stdout",
     "output_type": "stream",
     "text": [
      "The suspected words are: \n",
      "1 place 0.04396032248257749\n",
      "2 picc 0.09411866009466073\n",
      "3 tube 0.10958963616005186\n",
      "4 tracheostomy 0.15904208953605534\n",
      "5 left 0.16124962670700277\n"
     ]
    }
   ],
   "source": [
    "detector.changeModel(cli_bert_report_ft_model, clitokenizer)\n",
    "detector.run(s)"
   ]
  },
  {
   "cell_type": "code",
   "execution_count": null,
   "metadata": {
    "id": "b5qdZAKQ8vdr"
   },
   "outputs": [],
   "source": [
    "ss = 'No definite delayed enhancement suggest myocardial scar or infiltrative cardiac disease.'"
   ]
  },
  {
   "cell_type": "code",
   "execution_count": null,
   "metadata": {
    "colab": {
     "base_uri": "https://localhost:8080/",
     "height": 119
    },
    "id": "aYF-4pb989xR",
    "outputId": "e20309b6-3dd8-4b74-bdd0-b54396ec62cb"
   },
   "outputs": [
    {
     "name": "stdout",
     "output_type": "stream",
     "text": [
      "The suspected words are: \n",
      "1 scar 0.03677138153721432\n",
      "2 cardiac 0.037626392668413784\n",
      "3 delayed 0.04134337866715982\n",
      "4 definite 0.045029471186290325\n",
      "5 suggest 0.08881245498438725\n"
     ]
    }
   ],
   "source": [
    "detector.changeModel(cli_bert_report_ft_model, clitokenizer)\n",
    "detector.run(ss)"
   ]
  },
  {
   "cell_type": "code",
   "execution_count": null,
   "metadata": {
    "id": "IN7pIXb68-L1"
   },
   "outputs": [],
   "source": []
  },
  {
   "cell_type": "code",
   "execution_count": null,
   "metadata": {
    "id": "lTlEDqm-8-bG"
   },
   "outputs": [],
   "source": []
  },
  {
   "cell_type": "code",
   "execution_count": null,
   "metadata": {
    "id": "FQOrbmKH8vi2"
   },
   "outputs": [],
   "source": []
  },
  {
   "cell_type": "code",
   "execution_count": null,
   "metadata": {
    "id": "gC4UkXVGivDb"
   },
   "outputs": [],
   "source": []
  },
  {
   "cell_type": "code",
   "execution_count": null,
   "metadata": {
    "id": "rdHWnmvSdxls"
   },
   "outputs": [],
   "source": []
  },
  {
   "cell_type": "markdown",
   "metadata": {
    "id": "4VjIuDy-dxpX"
   },
   "source": [
    "## RoBERTa"
   ]
  },
  {
   "cell_type": "code",
   "execution_count": 6,
   "metadata": {
    "id": "EXZf7iCDdxs-"
   },
   "outputs": [],
   "source": [
    "from transformers import RobertaTokenizer, RobertaForMaskedLM"
   ]
  },
  {
   "cell_type": "code",
   "execution_count": 18,
   "metadata": {
    "id": "5DG-jeGFUWqY",
    "scrolled": true
   },
   "outputs": [
    {
     "name": "stdout",
     "output_type": "stream",
     "text": [
      "\n"
     ]
    }
   ],
   "source": [
    "robconfig = AutoConfig.from_pretrained(\"roberta-base\", output_hidden_states=True)\n",
    "robtokenizer = RobertaTokenizer.from_pretrained(\"roberta-base\")"
   ]
  },
  {
   "cell_type": "code",
   "execution_count": 25,
   "metadata": {},
   "outputs": [
    {
     "data": {
      "application/vnd.jupyter.widget-view+json": {
       "model_id": "798b6c31c19b4d81b290839df56ed031",
       "version_major": 2,
       "version_minor": 0
      },
      "text/plain": [
       "HBox(children=(HTML(value='Downloading'), FloatProgress(value=0.0, max=501200538.0), HTML(value='')))"
      ]
     },
     "metadata": {},
     "output_type": "display_data"
    },
    {
     "ename": "KeyboardInterrupt",
     "evalue": "",
     "output_type": "error",
     "traceback": [
      "\u001b[0;31m---------------------------------------------------------------------------\u001b[0m",
      "\u001b[0;31mKeyboardInterrupt\u001b[0m                         Traceback (most recent call last)",
      "\u001b[0;32m<ipython-input-25-e97935994a36>\u001b[0m in \u001b[0;36m<module>\u001b[0;34m\u001b[0m\n\u001b[0;32m----> 1\u001b[0;31m \u001b[0mrobmodel\u001b[0m \u001b[0;34m=\u001b[0m \u001b[0mRobertaForMaskedLM\u001b[0m\u001b[0;34m.\u001b[0m\u001b[0mfrom_pretrained\u001b[0m\u001b[0;34m(\u001b[0m\u001b[0;34m\"roberta-base\"\u001b[0m\u001b[0;34m,\u001b[0m \u001b[0mreturn_dict\u001b[0m\u001b[0;34m=\u001b[0m\u001b[0;32mTrue\u001b[0m\u001b[0;34m,\u001b[0m \u001b[0mconfig\u001b[0m\u001b[0;34m=\u001b[0m\u001b[0mrobconfig\u001b[0m\u001b[0;34m)\u001b[0m\u001b[0;34m\u001b[0m\u001b[0;34m\u001b[0m\u001b[0m\n\u001b[0m",
      "\u001b[0;32m/opt/anaconda3/envs/py36/lib/python3.6/site-packages/transformers/modeling_utils.py\u001b[0m in \u001b[0;36mfrom_pretrained\u001b[0;34m(cls, pretrained_model_name_or_path, *model_args, **kwargs)\u001b[0m\n\u001b[1;32m    901\u001b[0m                     \u001b[0mproxies\u001b[0m\u001b[0;34m=\u001b[0m\u001b[0mproxies\u001b[0m\u001b[0;34m,\u001b[0m\u001b[0;34m\u001b[0m\u001b[0;34m\u001b[0m\u001b[0m\n\u001b[1;32m    902\u001b[0m                     \u001b[0mresume_download\u001b[0m\u001b[0;34m=\u001b[0m\u001b[0mresume_download\u001b[0m\u001b[0;34m,\u001b[0m\u001b[0;34m\u001b[0m\u001b[0;34m\u001b[0m\u001b[0m\n\u001b[0;32m--> 903\u001b[0;31m                     \u001b[0mlocal_files_only\u001b[0m\u001b[0;34m=\u001b[0m\u001b[0mlocal_files_only\u001b[0m\u001b[0;34m,\u001b[0m\u001b[0;34m\u001b[0m\u001b[0;34m\u001b[0m\u001b[0m\n\u001b[0m\u001b[1;32m    904\u001b[0m                 )\n\u001b[1;32m    905\u001b[0m                 \u001b[0;32mif\u001b[0m \u001b[0mresolved_archive_file\u001b[0m \u001b[0;32mis\u001b[0m \u001b[0;32mNone\u001b[0m\u001b[0;34m:\u001b[0m\u001b[0;34m\u001b[0m\u001b[0;34m\u001b[0m\u001b[0m\n",
      "\u001b[0;32m/opt/anaconda3/envs/py36/lib/python3.6/site-packages/transformers/file_utils.py\u001b[0m in \u001b[0;36mcached_path\u001b[0;34m(url_or_filename, cache_dir, force_download, proxies, resume_download, user_agent, extract_compressed_file, force_extract, local_files_only)\u001b[0m\n\u001b[1;32m    721\u001b[0m             \u001b[0mresume_download\u001b[0m\u001b[0;34m=\u001b[0m\u001b[0mresume_download\u001b[0m\u001b[0;34m,\u001b[0m\u001b[0;34m\u001b[0m\u001b[0;34m\u001b[0m\u001b[0m\n\u001b[1;32m    722\u001b[0m             \u001b[0muser_agent\u001b[0m\u001b[0;34m=\u001b[0m\u001b[0muser_agent\u001b[0m\u001b[0;34m,\u001b[0m\u001b[0;34m\u001b[0m\u001b[0;34m\u001b[0m\u001b[0m\n\u001b[0;32m--> 723\u001b[0;31m             \u001b[0mlocal_files_only\u001b[0m\u001b[0;34m=\u001b[0m\u001b[0mlocal_files_only\u001b[0m\u001b[0;34m,\u001b[0m\u001b[0;34m\u001b[0m\u001b[0;34m\u001b[0m\u001b[0m\n\u001b[0m\u001b[1;32m    724\u001b[0m         )\n\u001b[1;32m    725\u001b[0m     \u001b[0;32melif\u001b[0m \u001b[0mos\u001b[0m\u001b[0;34m.\u001b[0m\u001b[0mpath\u001b[0m\u001b[0;34m.\u001b[0m\u001b[0mexists\u001b[0m\u001b[0;34m(\u001b[0m\u001b[0murl_or_filename\u001b[0m\u001b[0;34m)\u001b[0m\u001b[0;34m:\u001b[0m\u001b[0;34m\u001b[0m\u001b[0;34m\u001b[0m\u001b[0m\n",
      "\u001b[0;32m/opt/anaconda3/envs/py36/lib/python3.6/site-packages/transformers/file_utils.py\u001b[0m in \u001b[0;36mget_from_cache\u001b[0;34m(url, cache_dir, force_download, proxies, etag_timeout, resume_download, user_agent, local_files_only)\u001b[0m\n\u001b[1;32m    900\u001b[0m             \u001b[0mlogger\u001b[0m\u001b[0;34m.\u001b[0m\u001b[0minfo\u001b[0m\u001b[0;34m(\u001b[0m\u001b[0;34m\"%s not found in cache or force_download set to True, downloading to %s\"\u001b[0m\u001b[0;34m,\u001b[0m \u001b[0murl\u001b[0m\u001b[0;34m,\u001b[0m \u001b[0mtemp_file\u001b[0m\u001b[0;34m.\u001b[0m\u001b[0mname\u001b[0m\u001b[0;34m)\u001b[0m\u001b[0;34m\u001b[0m\u001b[0;34m\u001b[0m\u001b[0m\n\u001b[1;32m    901\u001b[0m \u001b[0;34m\u001b[0m\u001b[0m\n\u001b[0;32m--> 902\u001b[0;31m             \u001b[0mhttp_get\u001b[0m\u001b[0;34m(\u001b[0m\u001b[0murl\u001b[0m\u001b[0;34m,\u001b[0m \u001b[0mtemp_file\u001b[0m\u001b[0;34m,\u001b[0m \u001b[0mproxies\u001b[0m\u001b[0;34m=\u001b[0m\u001b[0mproxies\u001b[0m\u001b[0;34m,\u001b[0m \u001b[0mresume_size\u001b[0m\u001b[0;34m=\u001b[0m\u001b[0mresume_size\u001b[0m\u001b[0;34m,\u001b[0m \u001b[0muser_agent\u001b[0m\u001b[0;34m=\u001b[0m\u001b[0muser_agent\u001b[0m\u001b[0;34m)\u001b[0m\u001b[0;34m\u001b[0m\u001b[0;34m\u001b[0m\u001b[0m\n\u001b[0m\u001b[1;32m    903\u001b[0m \u001b[0;34m\u001b[0m\u001b[0m\n\u001b[1;32m    904\u001b[0m         \u001b[0mlogger\u001b[0m\u001b[0;34m.\u001b[0m\u001b[0minfo\u001b[0m\u001b[0;34m(\u001b[0m\u001b[0;34m\"storing %s in cache at %s\"\u001b[0m\u001b[0;34m,\u001b[0m \u001b[0murl\u001b[0m\u001b[0;34m,\u001b[0m \u001b[0mcache_path\u001b[0m\u001b[0;34m)\u001b[0m\u001b[0;34m\u001b[0m\u001b[0;34m\u001b[0m\u001b[0m\n",
      "\u001b[0;32m/opt/anaconda3/envs/py36/lib/python3.6/site-packages/transformers/file_utils.py\u001b[0m in \u001b[0;36mhttp_get\u001b[0;34m(url, temp_file, proxies, resume_size, user_agent)\u001b[0m\n\u001b[1;32m    793\u001b[0m         \u001b[0mdisable\u001b[0m\u001b[0;34m=\u001b[0m\u001b[0mbool\u001b[0m\u001b[0;34m(\u001b[0m\u001b[0mlogging\u001b[0m\u001b[0;34m.\u001b[0m\u001b[0mget_verbosity\u001b[0m\u001b[0;34m(\u001b[0m\u001b[0;34m)\u001b[0m \u001b[0;34m==\u001b[0m \u001b[0mlogging\u001b[0m\u001b[0;34m.\u001b[0m\u001b[0mNOTSET\u001b[0m\u001b[0;34m)\u001b[0m\u001b[0;34m,\u001b[0m\u001b[0;34m\u001b[0m\u001b[0;34m\u001b[0m\u001b[0m\n\u001b[1;32m    794\u001b[0m     )\n\u001b[0;32m--> 795\u001b[0;31m     \u001b[0;32mfor\u001b[0m \u001b[0mchunk\u001b[0m \u001b[0;32min\u001b[0m \u001b[0mresponse\u001b[0m\u001b[0;34m.\u001b[0m\u001b[0miter_content\u001b[0m\u001b[0;34m(\u001b[0m\u001b[0mchunk_size\u001b[0m\u001b[0;34m=\u001b[0m\u001b[0;36m1024\u001b[0m\u001b[0;34m)\u001b[0m\u001b[0;34m:\u001b[0m\u001b[0;34m\u001b[0m\u001b[0;34m\u001b[0m\u001b[0m\n\u001b[0m\u001b[1;32m    796\u001b[0m         \u001b[0;32mif\u001b[0m \u001b[0mchunk\u001b[0m\u001b[0;34m:\u001b[0m  \u001b[0;31m# filter out keep-alive new chunks\u001b[0m\u001b[0;34m\u001b[0m\u001b[0;34m\u001b[0m\u001b[0m\n\u001b[1;32m    797\u001b[0m             \u001b[0mprogress\u001b[0m\u001b[0;34m.\u001b[0m\u001b[0mupdate\u001b[0m\u001b[0;34m(\u001b[0m\u001b[0mlen\u001b[0m\u001b[0;34m(\u001b[0m\u001b[0mchunk\u001b[0m\u001b[0;34m)\u001b[0m\u001b[0;34m)\u001b[0m\u001b[0;34m\u001b[0m\u001b[0;34m\u001b[0m\u001b[0m\n",
      "\u001b[0;32m/opt/anaconda3/envs/py36/lib/python3.6/site-packages/requests/models.py\u001b[0m in \u001b[0;36mgenerate\u001b[0;34m()\u001b[0m\n\u001b[1;32m    749\u001b[0m             \u001b[0;32mif\u001b[0m \u001b[0mhasattr\u001b[0m\u001b[0;34m(\u001b[0m\u001b[0mself\u001b[0m\u001b[0;34m.\u001b[0m\u001b[0mraw\u001b[0m\u001b[0;34m,\u001b[0m \u001b[0;34m'stream'\u001b[0m\u001b[0;34m)\u001b[0m\u001b[0;34m:\u001b[0m\u001b[0;34m\u001b[0m\u001b[0;34m\u001b[0m\u001b[0m\n\u001b[1;32m    750\u001b[0m                 \u001b[0;32mtry\u001b[0m\u001b[0;34m:\u001b[0m\u001b[0;34m\u001b[0m\u001b[0;34m\u001b[0m\u001b[0m\n\u001b[0;32m--> 751\u001b[0;31m                     \u001b[0;32mfor\u001b[0m \u001b[0mchunk\u001b[0m \u001b[0;32min\u001b[0m \u001b[0mself\u001b[0m\u001b[0;34m.\u001b[0m\u001b[0mraw\u001b[0m\u001b[0;34m.\u001b[0m\u001b[0mstream\u001b[0m\u001b[0;34m(\u001b[0m\u001b[0mchunk_size\u001b[0m\u001b[0;34m,\u001b[0m \u001b[0mdecode_content\u001b[0m\u001b[0;34m=\u001b[0m\u001b[0;32mTrue\u001b[0m\u001b[0;34m)\u001b[0m\u001b[0;34m:\u001b[0m\u001b[0;34m\u001b[0m\u001b[0;34m\u001b[0m\u001b[0m\n\u001b[0m\u001b[1;32m    752\u001b[0m                         \u001b[0;32myield\u001b[0m \u001b[0mchunk\u001b[0m\u001b[0;34m\u001b[0m\u001b[0;34m\u001b[0m\u001b[0m\n\u001b[1;32m    753\u001b[0m                 \u001b[0;32mexcept\u001b[0m \u001b[0mProtocolError\u001b[0m \u001b[0;32mas\u001b[0m \u001b[0me\u001b[0m\u001b[0;34m:\u001b[0m\u001b[0;34m\u001b[0m\u001b[0;34m\u001b[0m\u001b[0m\n",
      "\u001b[0;32m/opt/anaconda3/envs/py36/lib/python3.6/site-packages/urllib3/response.py\u001b[0m in \u001b[0;36mstream\u001b[0;34m(self, amt, decode_content)\u001b[0m\n\u001b[1;32m    573\u001b[0m         \u001b[0;32melse\u001b[0m\u001b[0;34m:\u001b[0m\u001b[0;34m\u001b[0m\u001b[0;34m\u001b[0m\u001b[0m\n\u001b[1;32m    574\u001b[0m             \u001b[0;32mwhile\u001b[0m \u001b[0;32mnot\u001b[0m \u001b[0mis_fp_closed\u001b[0m\u001b[0;34m(\u001b[0m\u001b[0mself\u001b[0m\u001b[0;34m.\u001b[0m\u001b[0m_fp\u001b[0m\u001b[0;34m)\u001b[0m\u001b[0;34m:\u001b[0m\u001b[0;34m\u001b[0m\u001b[0;34m\u001b[0m\u001b[0m\n\u001b[0;32m--> 575\u001b[0;31m                 \u001b[0mdata\u001b[0m \u001b[0;34m=\u001b[0m \u001b[0mself\u001b[0m\u001b[0;34m.\u001b[0m\u001b[0mread\u001b[0m\u001b[0;34m(\u001b[0m\u001b[0mamt\u001b[0m\u001b[0;34m=\u001b[0m\u001b[0mamt\u001b[0m\u001b[0;34m,\u001b[0m \u001b[0mdecode_content\u001b[0m\u001b[0;34m=\u001b[0m\u001b[0mdecode_content\u001b[0m\u001b[0;34m)\u001b[0m\u001b[0;34m\u001b[0m\u001b[0;34m\u001b[0m\u001b[0m\n\u001b[0m\u001b[1;32m    576\u001b[0m \u001b[0;34m\u001b[0m\u001b[0m\n\u001b[1;32m    577\u001b[0m                 \u001b[0;32mif\u001b[0m \u001b[0mdata\u001b[0m\u001b[0;34m:\u001b[0m\u001b[0;34m\u001b[0m\u001b[0;34m\u001b[0m\u001b[0m\n",
      "\u001b[0;32m/opt/anaconda3/envs/py36/lib/python3.6/site-packages/urllib3/response.py\u001b[0m in \u001b[0;36mread\u001b[0;34m(self, amt, decode_content, cache_content)\u001b[0m\n\u001b[1;32m    516\u001b[0m             \u001b[0;32melse\u001b[0m\u001b[0;34m:\u001b[0m\u001b[0;34m\u001b[0m\u001b[0;34m\u001b[0m\u001b[0m\n\u001b[1;32m    517\u001b[0m                 \u001b[0mcache_content\u001b[0m \u001b[0;34m=\u001b[0m \u001b[0;32mFalse\u001b[0m\u001b[0;34m\u001b[0m\u001b[0;34m\u001b[0m\u001b[0m\n\u001b[0;32m--> 518\u001b[0;31m                 \u001b[0mdata\u001b[0m \u001b[0;34m=\u001b[0m \u001b[0mself\u001b[0m\u001b[0;34m.\u001b[0m\u001b[0m_fp\u001b[0m\u001b[0;34m.\u001b[0m\u001b[0mread\u001b[0m\u001b[0;34m(\u001b[0m\u001b[0mamt\u001b[0m\u001b[0;34m)\u001b[0m \u001b[0;32mif\u001b[0m \u001b[0;32mnot\u001b[0m \u001b[0mfp_closed\u001b[0m \u001b[0;32melse\u001b[0m \u001b[0;34mb\"\"\u001b[0m\u001b[0;34m\u001b[0m\u001b[0;34m\u001b[0m\u001b[0m\n\u001b[0m\u001b[1;32m    519\u001b[0m                 if (\n\u001b[1;32m    520\u001b[0m                     \u001b[0mamt\u001b[0m \u001b[0;34m!=\u001b[0m \u001b[0;36m0\u001b[0m \u001b[0;32mand\u001b[0m \u001b[0;32mnot\u001b[0m \u001b[0mdata\u001b[0m\u001b[0;34m\u001b[0m\u001b[0;34m\u001b[0m\u001b[0m\n",
      "\u001b[0;32m/opt/anaconda3/envs/py36/lib/python3.6/http/client.py\u001b[0m in \u001b[0;36mread\u001b[0;34m(self, amt)\u001b[0m\n\u001b[1;32m    461\u001b[0m             \u001b[0;31m# Amount is given, implement using readinto\u001b[0m\u001b[0;34m\u001b[0m\u001b[0;34m\u001b[0m\u001b[0;34m\u001b[0m\u001b[0m\n\u001b[1;32m    462\u001b[0m             \u001b[0mb\u001b[0m \u001b[0;34m=\u001b[0m \u001b[0mbytearray\u001b[0m\u001b[0;34m(\u001b[0m\u001b[0mamt\u001b[0m\u001b[0;34m)\u001b[0m\u001b[0;34m\u001b[0m\u001b[0;34m\u001b[0m\u001b[0m\n\u001b[0;32m--> 463\u001b[0;31m             \u001b[0mn\u001b[0m \u001b[0;34m=\u001b[0m \u001b[0mself\u001b[0m\u001b[0;34m.\u001b[0m\u001b[0mreadinto\u001b[0m\u001b[0;34m(\u001b[0m\u001b[0mb\u001b[0m\u001b[0;34m)\u001b[0m\u001b[0;34m\u001b[0m\u001b[0;34m\u001b[0m\u001b[0m\n\u001b[0m\u001b[1;32m    464\u001b[0m             \u001b[0;32mreturn\u001b[0m \u001b[0mmemoryview\u001b[0m\u001b[0;34m(\u001b[0m\u001b[0mb\u001b[0m\u001b[0;34m)\u001b[0m\u001b[0;34m[\u001b[0m\u001b[0;34m:\u001b[0m\u001b[0mn\u001b[0m\u001b[0;34m]\u001b[0m\u001b[0;34m.\u001b[0m\u001b[0mtobytes\u001b[0m\u001b[0;34m(\u001b[0m\u001b[0;34m)\u001b[0m\u001b[0;34m\u001b[0m\u001b[0;34m\u001b[0m\u001b[0m\n\u001b[1;32m    465\u001b[0m         \u001b[0;32melse\u001b[0m\u001b[0;34m:\u001b[0m\u001b[0;34m\u001b[0m\u001b[0;34m\u001b[0m\u001b[0m\n",
      "\u001b[0;32m/opt/anaconda3/envs/py36/lib/python3.6/http/client.py\u001b[0m in \u001b[0;36mreadinto\u001b[0;34m(self, b)\u001b[0m\n\u001b[1;32m    505\u001b[0m         \u001b[0;31m# connection, and the user is reading more bytes than will be provided\u001b[0m\u001b[0;34m\u001b[0m\u001b[0;34m\u001b[0m\u001b[0;34m\u001b[0m\u001b[0m\n\u001b[1;32m    506\u001b[0m         \u001b[0;31m# (for example, reading in 1k chunks)\u001b[0m\u001b[0;34m\u001b[0m\u001b[0;34m\u001b[0m\u001b[0;34m\u001b[0m\u001b[0m\n\u001b[0;32m--> 507\u001b[0;31m         \u001b[0mn\u001b[0m \u001b[0;34m=\u001b[0m \u001b[0mself\u001b[0m\u001b[0;34m.\u001b[0m\u001b[0mfp\u001b[0m\u001b[0;34m.\u001b[0m\u001b[0mreadinto\u001b[0m\u001b[0;34m(\u001b[0m\u001b[0mb\u001b[0m\u001b[0;34m)\u001b[0m\u001b[0;34m\u001b[0m\u001b[0;34m\u001b[0m\u001b[0m\n\u001b[0m\u001b[1;32m    508\u001b[0m         \u001b[0;32mif\u001b[0m \u001b[0;32mnot\u001b[0m \u001b[0mn\u001b[0m \u001b[0;32mand\u001b[0m \u001b[0mb\u001b[0m\u001b[0;34m:\u001b[0m\u001b[0;34m\u001b[0m\u001b[0;34m\u001b[0m\u001b[0m\n\u001b[1;32m    509\u001b[0m             \u001b[0;31m# Ideally, we would raise IncompleteRead if the content-length\u001b[0m\u001b[0;34m\u001b[0m\u001b[0;34m\u001b[0m\u001b[0;34m\u001b[0m\u001b[0m\n",
      "\u001b[0;32m/opt/anaconda3/envs/py36/lib/python3.6/socket.py\u001b[0m in \u001b[0;36mreadinto\u001b[0;34m(self, b)\u001b[0m\n\u001b[1;32m    584\u001b[0m         \u001b[0;32mwhile\u001b[0m \u001b[0;32mTrue\u001b[0m\u001b[0;34m:\u001b[0m\u001b[0;34m\u001b[0m\u001b[0;34m\u001b[0m\u001b[0m\n\u001b[1;32m    585\u001b[0m             \u001b[0;32mtry\u001b[0m\u001b[0;34m:\u001b[0m\u001b[0;34m\u001b[0m\u001b[0;34m\u001b[0m\u001b[0m\n\u001b[0;32m--> 586\u001b[0;31m                 \u001b[0;32mreturn\u001b[0m \u001b[0mself\u001b[0m\u001b[0;34m.\u001b[0m\u001b[0m_sock\u001b[0m\u001b[0;34m.\u001b[0m\u001b[0mrecv_into\u001b[0m\u001b[0;34m(\u001b[0m\u001b[0mb\u001b[0m\u001b[0;34m)\u001b[0m\u001b[0;34m\u001b[0m\u001b[0;34m\u001b[0m\u001b[0m\n\u001b[0m\u001b[1;32m    587\u001b[0m             \u001b[0;32mexcept\u001b[0m \u001b[0mtimeout\u001b[0m\u001b[0;34m:\u001b[0m\u001b[0;34m\u001b[0m\u001b[0;34m\u001b[0m\u001b[0m\n\u001b[1;32m    588\u001b[0m                 \u001b[0mself\u001b[0m\u001b[0;34m.\u001b[0m\u001b[0m_timeout_occurred\u001b[0m \u001b[0;34m=\u001b[0m \u001b[0;32mTrue\u001b[0m\u001b[0;34m\u001b[0m\u001b[0;34m\u001b[0m\u001b[0m\n",
      "\u001b[0;32m/opt/anaconda3/envs/py36/lib/python3.6/ssl.py\u001b[0m in \u001b[0;36mrecv_into\u001b[0;34m(self, buffer, nbytes, flags)\u001b[0m\n\u001b[1;32m   1010\u001b[0m                   \u001b[0;34m\"non-zero flags not allowed in calls to recv_into() on %s\"\u001b[0m \u001b[0;34m%\u001b[0m\u001b[0;34m\u001b[0m\u001b[0;34m\u001b[0m\u001b[0m\n\u001b[1;32m   1011\u001b[0m                   self.__class__)\n\u001b[0;32m-> 1012\u001b[0;31m             \u001b[0;32mreturn\u001b[0m \u001b[0mself\u001b[0m\u001b[0;34m.\u001b[0m\u001b[0mread\u001b[0m\u001b[0;34m(\u001b[0m\u001b[0mnbytes\u001b[0m\u001b[0;34m,\u001b[0m \u001b[0mbuffer\u001b[0m\u001b[0;34m)\u001b[0m\u001b[0;34m\u001b[0m\u001b[0;34m\u001b[0m\u001b[0m\n\u001b[0m\u001b[1;32m   1013\u001b[0m         \u001b[0;32melse\u001b[0m\u001b[0;34m:\u001b[0m\u001b[0;34m\u001b[0m\u001b[0;34m\u001b[0m\u001b[0m\n\u001b[1;32m   1014\u001b[0m             \u001b[0;32mreturn\u001b[0m \u001b[0msocket\u001b[0m\u001b[0;34m.\u001b[0m\u001b[0mrecv_into\u001b[0m\u001b[0;34m(\u001b[0m\u001b[0mself\u001b[0m\u001b[0;34m,\u001b[0m \u001b[0mbuffer\u001b[0m\u001b[0;34m,\u001b[0m \u001b[0mnbytes\u001b[0m\u001b[0;34m,\u001b[0m \u001b[0mflags\u001b[0m\u001b[0;34m)\u001b[0m\u001b[0;34m\u001b[0m\u001b[0;34m\u001b[0m\u001b[0m\n",
      "\u001b[0;32m/opt/anaconda3/envs/py36/lib/python3.6/ssl.py\u001b[0m in \u001b[0;36mread\u001b[0;34m(self, len, buffer)\u001b[0m\n\u001b[1;32m    872\u001b[0m             \u001b[0;32mraise\u001b[0m \u001b[0mValueError\u001b[0m\u001b[0;34m(\u001b[0m\u001b[0;34m\"Read on closed or unwrapped SSL socket.\"\u001b[0m\u001b[0;34m)\u001b[0m\u001b[0;34m\u001b[0m\u001b[0;34m\u001b[0m\u001b[0m\n\u001b[1;32m    873\u001b[0m         \u001b[0;32mtry\u001b[0m\u001b[0;34m:\u001b[0m\u001b[0;34m\u001b[0m\u001b[0;34m\u001b[0m\u001b[0m\n\u001b[0;32m--> 874\u001b[0;31m             \u001b[0;32mreturn\u001b[0m \u001b[0mself\u001b[0m\u001b[0;34m.\u001b[0m\u001b[0m_sslobj\u001b[0m\u001b[0;34m.\u001b[0m\u001b[0mread\u001b[0m\u001b[0;34m(\u001b[0m\u001b[0mlen\u001b[0m\u001b[0;34m,\u001b[0m \u001b[0mbuffer\u001b[0m\u001b[0;34m)\u001b[0m\u001b[0;34m\u001b[0m\u001b[0;34m\u001b[0m\u001b[0m\n\u001b[0m\u001b[1;32m    875\u001b[0m         \u001b[0;32mexcept\u001b[0m \u001b[0mSSLError\u001b[0m \u001b[0;32mas\u001b[0m \u001b[0mx\u001b[0m\u001b[0;34m:\u001b[0m\u001b[0;34m\u001b[0m\u001b[0;34m\u001b[0m\u001b[0m\n\u001b[1;32m    876\u001b[0m             \u001b[0;32mif\u001b[0m \u001b[0mx\u001b[0m\u001b[0;34m.\u001b[0m\u001b[0margs\u001b[0m\u001b[0;34m[\u001b[0m\u001b[0;36m0\u001b[0m\u001b[0;34m]\u001b[0m \u001b[0;34m==\u001b[0m \u001b[0mSSL_ERROR_EOF\u001b[0m \u001b[0;32mand\u001b[0m \u001b[0mself\u001b[0m\u001b[0;34m.\u001b[0m\u001b[0msuppress_ragged_eofs\u001b[0m\u001b[0;34m:\u001b[0m\u001b[0;34m\u001b[0m\u001b[0;34m\u001b[0m\u001b[0m\n",
      "\u001b[0;32m/opt/anaconda3/envs/py36/lib/python3.6/ssl.py\u001b[0m in \u001b[0;36mread\u001b[0;34m(self, len, buffer)\u001b[0m\n\u001b[1;32m    629\u001b[0m         \"\"\"\n\u001b[1;32m    630\u001b[0m         \u001b[0;32mif\u001b[0m \u001b[0mbuffer\u001b[0m \u001b[0;32mis\u001b[0m \u001b[0;32mnot\u001b[0m \u001b[0;32mNone\u001b[0m\u001b[0;34m:\u001b[0m\u001b[0;34m\u001b[0m\u001b[0;34m\u001b[0m\u001b[0m\n\u001b[0;32m--> 631\u001b[0;31m             \u001b[0mv\u001b[0m \u001b[0;34m=\u001b[0m \u001b[0mself\u001b[0m\u001b[0;34m.\u001b[0m\u001b[0m_sslobj\u001b[0m\u001b[0;34m.\u001b[0m\u001b[0mread\u001b[0m\u001b[0;34m(\u001b[0m\u001b[0mlen\u001b[0m\u001b[0;34m,\u001b[0m \u001b[0mbuffer\u001b[0m\u001b[0;34m)\u001b[0m\u001b[0;34m\u001b[0m\u001b[0;34m\u001b[0m\u001b[0m\n\u001b[0m\u001b[1;32m    632\u001b[0m         \u001b[0;32melse\u001b[0m\u001b[0;34m:\u001b[0m\u001b[0;34m\u001b[0m\u001b[0;34m\u001b[0m\u001b[0m\n\u001b[1;32m    633\u001b[0m             \u001b[0mv\u001b[0m \u001b[0;34m=\u001b[0m \u001b[0mself\u001b[0m\u001b[0;34m.\u001b[0m\u001b[0m_sslobj\u001b[0m\u001b[0;34m.\u001b[0m\u001b[0mread\u001b[0m\u001b[0;34m(\u001b[0m\u001b[0mlen\u001b[0m\u001b[0;34m)\u001b[0m\u001b[0;34m\u001b[0m\u001b[0;34m\u001b[0m\u001b[0m\n",
      "\u001b[0;31mKeyboardInterrupt\u001b[0m: "
     ]
    }
   ],
   "source": [
    "robmodel = RobertaForMaskedLM.from_pretrained(\"roberta-base\", return_dict=True, config=robconfig)"
   ]
  },
  {
   "cell_type": "code",
   "execution_count": null,
   "metadata": {
    "id": "liftvEhmHgxM"
   },
   "outputs": [],
   "source": [
    "input_ids = tokenizer(\"Hello, my dog is cute\", return_tensors=\"pt\")[\"input_ids\"]\n",
    "\n",
    ">>> outputs = model(input_ids, labels=input_ids)\n",
    ">>> loss = outputs.loss\n",
    ">>> prediction_logits = outputs.logits"
   ]
  },
  {
   "cell_type": "code",
   "execution_count": null,
   "metadata": {
    "id": "YNTUURzzHg4C"
   },
   "outputs": [],
   "source": [
    "detector.changeModel(robmodel, robtokenizer)\n",
    "rob_sample_lst1, rob_sample_lst3, rob_sample_lst5, rob_sample_lst0 = detector.model_eval(text_changed_one, word_error_one, verbose=True)"
   ]
  },
  {
   "cell_type": "code",
   "execution_count": null,
   "metadata": {
    "id": "OJnMpzxpHg9v"
   },
   "outputs": [],
   "source": []
  },
  {
   "cell_type": "code",
   "execution_count": null,
   "metadata": {
    "id": "6ULlck2_YApl"
   },
   "outputs": [],
   "source": []
  },
  {
   "cell_type": "markdown",
   "metadata": {
    "id": "CBriRmwDDh7h"
   },
   "source": [
    "# Additional"
   ]
  },
  {
   "cell_type": "markdown",
   "metadata": {
    "id": "yyvq4dTssSGk"
   },
   "source": [
    "### change tokenizer"
   ]
  },
  {
   "cell_type": "markdown",
   "metadata": {
    "id": "T9KZGd4IuqKx"
   },
   "source": [
    "https://github.com/huggingface/transformers/issues/1413"
   ]
  },
  {
   "cell_type": "code",
   "execution_count": null,
   "metadata": {
    "colab": {
     "base_uri": "https://localhost:8080/",
     "height": 164,
     "referenced_widgets": [
      "4a217fb1bde04933a3fff8e5d941760b",
      "f4a5d0ec5727429aa55b7922c583d477",
      "3e9fe05cb8a144a58ff67fdfdeec03d8",
      "83aef65c4a86409ba396d907a5a04a5a",
      "a1e161dfa41145528a0bdf7c132f6b3d",
      "e0bab6fbd0164567835b068cca6b629e",
      "8e2f33e2f17749f6b382f86b9a428609",
      "69913b45f97648d286db8d1a34988724",
      "e953a5f1bf654aeca4a896dd5881d0b2",
      "4e136dad462d48fbb60d43b2e83bfbfd",
      "73aa2dd89dc94761af5227b0dd009791",
      "feb3964ff7164729b225651ff58e1537",
      "c77ee6341a614cdead540fc35aec3c31",
      "f793c559be5045ad8e6725653afb7c8b",
      "22f5306b335e43158d48f61ae2e4c11f",
      "c2494095e5d04c60bb8d4d930d20d40a",
      "603043e97dc24e26b43a2dd01e0997c1",
      "f26f2264bee74c4eb6350cc4ee958e14",
      "26a166e6e46849ceb71ff268a7c92308",
      "87550d9e0fb24a04818de0699f47aa51",
      "904c53d5200545138538fd3477e4ded4",
      "e639e2ec746e41b694dc7d1e890dc259",
      "d4d8e0a365e3404fb02a299b701d6783",
      "8cf1edadd67b4906b8bde479d9bebf73"
     ]
    },
    "id": "4Yw_XjYgsSPo",
    "outputId": "93d44da1-42e1-47db-906d-adbbb99dbe2d"
   },
   "outputs": [
    {
     "data": {
      "application/vnd.jupyter.widget-view+json": {
       "model_id": "4a217fb1bde04933a3fff8e5d941760b",
       "version_major": 2,
       "version_minor": 0
      },
      "text/plain": [
       "HBox(children=(FloatProgress(value=0.0, description='Downloading', max=231508.0, style=ProgressStyle(descripti…"
      ]
     },
     "metadata": {
      "tags": []
     },
     "output_type": "display_data"
    },
    {
     "name": "stdout",
     "output_type": "stream",
     "text": [
      "\n"
     ]
    },
    {
     "data": {
      "application/vnd.jupyter.widget-view+json": {
       "model_id": "e953a5f1bf654aeca4a896dd5881d0b2",
       "version_major": 2,
       "version_minor": 0
      },
      "text/plain": [
       "HBox(children=(FloatProgress(value=0.0, description='Downloading', max=433.0, style=ProgressStyle(description_…"
      ]
     },
     "metadata": {
      "tags": []
     },
     "output_type": "display_data"
    },
    {
     "name": "stdout",
     "output_type": "stream",
     "text": [
      "\n"
     ]
    },
    {
     "data": {
      "application/vnd.jupyter.widget-view+json": {
       "model_id": "603043e97dc24e26b43a2dd01e0997c1",
       "version_major": 2,
       "version_minor": 0
      },
      "text/plain": [
       "HBox(children=(FloatProgress(value=0.0, description='Downloading', max=440473133.0, style=ProgressStyle(descri…"
      ]
     },
     "metadata": {
      "tags": []
     },
     "output_type": "display_data"
    },
    {
     "name": "stdout",
     "output_type": "stream",
     "text": [
      "\n"
     ]
    }
   ],
   "source": [
    "import torch\n",
    "from transformers import BertTokenizer, BertModel\n",
    "\n",
    "new_tokenizer = BertTokenizer.from_pretrained(\"bert-base-uncased\")\n",
    "model = BertModel.from_pretrained(\"bert-base-uncased\")"
   ]
  },
  {
   "cell_type": "code",
   "execution_count": null,
   "metadata": {
    "id": "z0o5L4vivOxp"
   },
   "outputs": [],
   "source": [
    "\n",
    "print(len(tokenizer))  # 28996\n",
    "tokenizer.add_tokens([\"NEW_TOKEN\"])\n",
    "print(len(tokenizer))  # 28997\n",
    "\n",
    "model.resize_token_embeddings(len(tokenizer)) \n",
    "# The new vector is added at the end of the embedding matrix\n",
    "\n",
    "print(model.embeddings.word_embeddings.weight[-1, :])\n",
    "# Randomly generated matrix\n",
    "\n",
    "model.embeddings.word_embeddings.weight[-1, :] = torch.zeros([model.config.hidden_size])\n",
    "\n",
    "print(model.embeddings.word_embeddings.weight[-1, :])\n",
    "# outputs a vector of zeros of shape [768]"
   ]
  },
  {
   "cell_type": "code",
   "execution_count": null,
   "metadata": {
    "id": "G_iTn-SxsSTF"
   },
   "outputs": [],
   "source": []
  },
  {
   "cell_type": "code",
   "execution_count": null,
   "metadata": {
    "id": "qjVCE5tssSWf"
   },
   "outputs": [],
   "source": []
  },
  {
   "cell_type": "code",
   "execution_count": null,
   "metadata": {
    "id": "RostNSNvsSZ2"
   },
   "outputs": [],
   "source": []
  },
  {
   "cell_type": "markdown",
   "metadata": {
    "id": "wLSLsz9ejwwE"
   },
   "source": [
    "### other tests"
   ]
  },
  {
   "cell_type": "code",
   "execution_count": null,
   "metadata": {
    "colab": {
     "base_uri": "https://localhost:8080/",
     "height": 238
    },
    "id": "vx34oDVQ3re2",
    "outputId": "03aacc02-f856-40d8-a2a7-29d1b2694e78"
   },
   "outputs": [
    {
     "name": "stdout",
     "output_type": "stream",
     "text": [
      "The suspected words are: \n",
      "1 bone 0.002708136063574122\n",
      "2 middle 0.011234233066859379\n",
      "3 terminal 0.012189825513046152\n",
      "4 spared 0.02280874031870421\n",
      "5 relatively 0.03627983928476525\n",
      "The suspected words are: \n",
      "1. bone\n",
      "2. middle\n",
      "3. terminal\n",
      "4. spared\n",
      "5. relatively\n",
      "\n"
     ]
    }
   ],
   "source": [
    "print(test.ret_run(text))"
   ]
  },
  {
   "cell_type": "code",
   "execution_count": null,
   "metadata": {
    "colab": {
     "base_uri": "https://localhost:8080/",
     "height": 35
    },
    "id": "qM0AdMahtxC3",
    "outputId": "e5973fc5-d6d5-4259-a366-9d2d94fa0508"
   },
   "outputs": [
    {
     "data": {
      "application/vnd.google.colaboratory.intrinsic+json": {
       "type": "string"
      },
      "text/plain": [
       "'.'"
      ]
     },
     "execution_count": 46,
     "metadata": {
      "tags": []
     },
     "output_type": "execute_result"
    }
   ],
   "source": [
    "whole_word(t, 24)"
   ]
  },
  {
   "cell_type": "code",
   "execution_count": null,
   "metadata": {
    "colab": {
     "base_uri": "https://localhost:8080/",
     "height": 204
    },
    "id": "rwWYmEl04Kw1",
    "outputId": "073b41c1-ffa9-4b43-b684-1b69c7a04463"
   },
   "outputs": [
    {
     "name": "stdout",
     "output_type": "stream",
     "text": [
      "The suspect words are: \n",
      "1 casual 0.01835374096823243\n",
      "2 affect 0.026007123283669803\n",
      "3 it 0.05588177659719311\n",
      "4 many 0.0708836168603651\n",
      "5 can 0.10115014722043478\n",
      "6 system 0.11092818411757911\n",
      "7 and 0.12286282719746551\n",
      "8 organ 0.1274559941677678\n",
      "9 any 0.1288416774451855\n",
      "10 has 0.15195791119996596\n"
     ]
    }
   ],
   "source": [
    "# change to Clinical BERT model\n",
    "test.changeModel(climodel, clitokenizer)\n",
    "test.run(text)"
   ]
  },
  {
   "cell_type": "code",
   "execution_count": null,
   "metadata": {
    "colab": {
     "base_uri": "https://localhost:8080/",
     "height": 35
    },
    "id": "8Pd5E15MCBux",
    "outputId": "6e76f475-75d2-4536-dfc6-d2e10456e920"
   },
   "outputs": [
    {
     "data": {
      "application/vnd.google.colaboratory.intrinsic+json": {
       "type": "string"
      },
      "text/plain": [
       "'[CLS] It has many casual and can affect any organ system.[SEP]'"
      ]
     },
     "execution_count": 14,
     "metadata": {
      "tags": []
     },
     "output_type": "execute_result"
    }
   ],
   "source": [
    "a = '[CLS] ' + text + ' [SEP]'\n",
    "a"
   ]
  },
  {
   "cell_type": "code",
   "execution_count": null,
   "metadata": {
    "colab": {
     "base_uri": "https://localhost:8080/",
     "height": 238
    },
    "id": "p_yfGJB4gohj",
    "outputId": "db08fb20-3765-447c-9f14-b779a5fab89a"
   },
   "outputs": [
    {
     "data": {
      "text/plain": [
       "['[CLS]',\n",
       " 'it',\n",
       " 'has',\n",
       " 'many',\n",
       " 'casual',\n",
       " 'and',\n",
       " 'can',\n",
       " 'affect',\n",
       " 'any',\n",
       " 'organ',\n",
       " 'system',\n",
       " '.',\n",
       " '[SEP]']"
      ]
     },
     "execution_count": 21,
     "metadata": {
      "tags": []
     },
     "output_type": "execute_result"
    }
   ],
   "source": [
    "basetokenizer.tokenize(a)"
   ]
  },
  {
   "cell_type": "code",
   "execution_count": null,
   "metadata": {
    "colab": {
     "base_uri": "https://localhost:8080/",
     "height": 51
    },
    "id": "NwItYTtysjwz",
    "outputId": "1fc8891d-4e64-4bbb-81a7-ddf14cdd4c01"
   },
   "outputs": [
    {
     "name": "stdout",
     "output_type": "stream",
     "text": [
      "##tgr#\n",
      "hi\n"
     ]
    }
   ],
   "source": [
    "x = '##tgr#'\n",
    "x += '\\n'\n",
    "x += 'hi'\n",
    "print(x)"
   ]
  },
  {
   "cell_type": "markdown",
   "metadata": {
    "id": "YAUdAGTuvkeQ"
   },
   "source": [
    "## ipywidgets\n"
   ]
  },
  {
   "cell_type": "code",
   "execution_count": 116,
   "metadata": {
    "id": "KIDqUdx9N5El"
   },
   "outputs": [],
   "source": [
    "import ipywidgets as widgets\n",
    "import matplotlib.pyplot as plt\n",
    "from ipywidgets import interactive, Layout, HTML, Label\n",
    "from IPython.display import display\n",
    "from scipy.interpolate import interp1d"
   ]
  },
  {
   "cell_type": "markdown",
   "metadata": {
    "id": "a2IMpyYC5FWw"
   },
   "source": [
    "### widgets"
   ]
  },
  {
   "cell_type": "code",
   "execution_count": 117,
   "metadata": {
    "colab": {
     "base_uri": "https://localhost:8080/",
     "height": 49,
     "referenced_widgets": [
      "9d36ec37e0fd4175b0f23af200f40c06",
      "744437d9dce74090926ddc7a972fa286",
      "0daeebcb44f24406946b432f108fa57e"
     ]
    },
    "id": "EGeo9NI-OIuJ",
    "outputId": "ecb52317-0a8a-44e7-e356-4362dbf2b65f"
   },
   "outputs": [
    {
     "data": {
      "application/vnd.jupyter.widget-view+json": {
       "model_id": "1e169dad72674239be46d1f778a16bc1",
       "version_major": 2,
       "version_minor": 0
      },
      "text/plain": [
       "Text(value='')"
      ]
     },
     "metadata": {},
     "output_type": "display_data"
    }
   ],
   "source": [
    "text = widgets.Text()\n",
    "display(text)\n",
    "\n",
    "def print_value(sender):\n",
    "  print(sender.value)\n",
    "\n",
    "text.on_submit(print_value)"
   ]
  },
  {
   "cell_type": "code",
   "execution_count": 118,
   "metadata": {
    "id": "sz6pz_6kS7s4"
   },
   "outputs": [],
   "source": [
    "text_area = widgets.Textarea(\n",
    "    value='Hello World',\n",
    "    placeholder='Type something',\n",
    "    description='Your text:',\n",
    "    disabled=False\n",
    ")"
   ]
  },
  {
   "cell_type": "code",
   "execution_count": 119,
   "metadata": {
    "colab": {
     "base_uri": "https://localhost:8080/",
     "height": 49,
     "referenced_widgets": [
      "a6458c1db01f422fa4b1164c92c6cfe1",
      "85a6f82ea31b4ea6bc146718f5e8ab0a",
      "9d36ec37e0fd4175b0f23af200f40c06",
      "4cf0a1d4c12941589ca89119e1c1e0d7",
      "744437d9dce74090926ddc7a972fa286",
      "0daeebcb44f24406946b432f108fa57e",
      "5b719ba4e8f8460383f8373683643257",
      "491bf734790140fe9fbd670282286863"
     ]
    },
    "id": "ivggo-ItPQ48",
    "outputId": "38bb2032-ef9c-4d20-b882-c22aa7376287"
   },
   "outputs": [
    {
     "data": {
      "application/vnd.jupyter.widget-view+json": {
       "model_id": "ead35d06bb5b4873a0f0c6dba39535d8",
       "version_major": 2,
       "version_minor": 0
      },
      "text/plain": [
       "Box(children=(Text(value=''), Button(description='Submit', style=ButtonStyle(), tooltip='Click to submit')))"
      ]
     },
     "metadata": {},
     "output_type": "display_data"
    }
   ],
   "source": [
    "btn = widgets.Button(description = \"Submit\", tooltip = 'Click to submit')\n",
    "def btn_click(sender):\n",
    "  print('Text successfully submitted!')\n",
    "  print_value(text)\n",
    "btn.on_click(btn_click)\n",
    "box = widgets.Box([text,btn])\n",
    "display(box)"
   ]
  },
  {
   "cell_type": "code",
   "execution_count": 120,
   "metadata": {
    "colab": {
     "base_uri": "https://localhost:8080/",
     "height": 96,
     "referenced_widgets": [
      "b4d25f4dc3564b65b6cc94aede183833",
      "1a0757d40acd4ab0b595249d12cde59d",
      "bd9873278dbd42acb802cbad4fd1398c",
      "d13919f305e6418783edaca26480c2c6",
      "ad727e5693f145429d4f31b5d59a59cf",
      "d5b6f9ee307b42f2b8e552d91896a123"
     ]
    },
    "id": "yywYrN-2PjJ1",
    "outputId": "2452fac7-217a-4762-aabe-ea217ae7ab6b"
   },
   "outputs": [
    {
     "data": {
      "application/vnd.jupyter.widget-view+json": {
       "model_id": "7d0117328f434ccaaaad5bfb6d64d045",
       "version_major": 2,
       "version_minor": 0
      },
      "text/plain": [
       "Label(value='Please select TOPK.')"
      ]
     },
     "metadata": {},
     "output_type": "display_data"
    },
    {
     "data": {
      "application/vnd.jupyter.widget-view+json": {
       "model_id": "6d36693fa03f4d1dad22d8adc01e6316",
       "version_major": 2,
       "version_minor": 0
      },
      "text/plain": [
       "Dropdown(index=1, options=(('1', 1), ('2', 2), ('5', 5)), value=2)"
      ]
     },
     "metadata": {},
     "output_type": "display_data"
    }
   ],
   "source": [
    "caption = widgets.Label(value='Please select TOPK.')\n",
    "drpbx = widgets.Dropdown(options=[(\"1\", 1), (\"2\", 2), (\"5\", 5)], index=0, value=2, label=\"2\")\n",
    "\n",
    "def chosen(_):\n",
    "    print(\"Selected index:{}, value:{}, label:{}\".format(drpbx.index, drpbx.value, drpbx.label))\n",
    "\n",
    "drpbx.observe(chosen, names=\"value\")\n",
    "display(caption, drpbx)"
   ]
  },
  {
   "cell_type": "code",
   "execution_count": null,
   "metadata": {
    "colab": {
     "base_uri": "https://localhost:8080/",
     "height": 109,
     "referenced_widgets": [
      "49b01ae6af1e42779ce45890a27f1992",
      "ad897e1c7a5348b880138302bf9c85e0",
      "cedb746126bc4d35a1ffc4f039e318cf",
      "242f09b2dc8947b6b6825fe8c156c1d2",
      "e0eaab844d2449d490205f54e8a9e9d1",
      "a2ee3b30190744f6bf6348641629ad8c",
      "6df2197639864c2a84c6cdf13660d024",
      "90663781a8044e66ba92e8da4e62a1a5",
      "43b009f816c34da9abad40148e44a01f"
     ]
    },
    "id": "qDzpPTGvQuKH",
    "outputId": "909b9185-6ba8-4726-a003-3875e13df776"
   },
   "outputs": [
    {
     "data": {
      "application/vnd.jupyter.widget-view+json": {
       "model_id": "49b01ae6af1e42779ce45890a27f1992",
       "version_major": 2,
       "version_minor": 0
      },
      "text/plain": [
       "Label(value='Sliders')"
      ]
     },
     "metadata": {
      "tags": []
     },
     "output_type": "display_data"
    },
    {
     "data": {
      "application/vnd.jupyter.widget-view+json": {
       "model_id": "242f09b2dc8947b6b6825fe8c156c1d2",
       "version_major": 2,
       "version_minor": 0
      },
      "text/plain": [
       "IntSlider(value=0, description='Slider 1')"
      ]
     },
     "metadata": {
      "tags": []
     },
     "output_type": "display_data"
    },
    {
     "data": {
      "application/vnd.jupyter.widget-view+json": {
       "model_id": "6df2197639864c2a84c6cdf13660d024",
       "version_major": 2,
       "version_minor": 0
      },
      "text/plain": [
       "IntSlider(value=0, description='Slider 2')"
      ]
     },
     "metadata": {
      "tags": []
     },
     "output_type": "display_data"
    }
   ],
   "source": [
    "caption = widgets.Label(value='Sliders')\n",
    "sliders1, slider2 = widgets.IntSlider(description='Slider 1'),\\\n",
    "                \twidgets.IntSlider(description='Slider 2')\n",
    "l = widgets.link((sliders1, 'value'), (slider2, 'value'))\n",
    "display(caption, sliders1, slider2)"
   ]
  },
  {
   "cell_type": "code",
   "execution_count": null,
   "metadata": {
    "colab": {
     "base_uri": "https://localhost:8080/",
     "height": 49,
     "referenced_widgets": [
      "d6c467c48bae495f8acf943ac62b1205",
      "807638555c514d57ae90d2336f476c2e",
      "c89bcc1856fd433f8691e66117c76305",
      "2e9e7f1bd9894ea98638c29d88074d24",
      "8b418699f2fc4331b83ba75fe5711f2f",
      "2728a2adb6a04c05a09c0b2aca9c9a4b",
      "a41750dcf57e4433ac3589b6a006afa0",
      "63daf649b14e412e89bce453f6ecaf9e",
      "7af4db889bb54851adf3a3eb95dece40",
      "b4d4feceac7643479549f5086e35409b",
      "b660d93e607f4e6da851678da0bb9207",
      "3995d77576184b2c9e0762c44e776aad",
      "07d41c5d334e4c15a41527a67051e2b9",
      "51a8ba13dda8478aa463f996ec48bf56",
      "3e51cc8c32a54601a4f85b0bfc026371",
      "f2bce92dbc8a4aa68ff9a2fc4dceeef1",
      "4d98f133c27a447990a69646ff8f41a5"
     ]
    },
    "id": "DGJgzkbQ7a6_",
    "outputId": "753897ca-ec6d-459f-cd35-ce6282e1badb"
   },
   "outputs": [
    {
     "data": {
      "application/vnd.jupyter.widget-view+json": {
       "model_id": "d6c467c48bae495f8acf943ac62b1205",
       "version_major": 2,
       "version_minor": 0
      },
      "text/plain": [
       "HBox(children=(Button(button_style='primary', description='Primary Button', style=ButtonStyle()), Button(butto…"
      ]
     },
     "metadata": {
      "tags": []
     },
     "output_type": "display_data"
    }
   ],
   "source": [
    "from ipywidgets import Button, HBox\n",
    "display(\n",
    "    HBox([\n",
    "        Button(description='Primary Button', button_style='primary'),\n",
    "        Button(description='Success Button', button_style='success'),\n",
    "        Button(description='Info Button', button_style='info'),\n",
    "        Button(description='Warning Button', button_style='warning'),\n",
    "        Button(description='Danger Button', button_style='danger')\n",
    "    ]))"
   ]
  },
  {
   "cell_type": "markdown",
   "metadata": {
    "id": "vZxMJ8mbVApN"
   },
   "source": [
    "### Single-model Detector\n"
   ]
  },
  {
   "cell_type": "code",
   "execution_count": null,
   "metadata": {
    "colab": {
     "base_uri": "https://localhost:8080/",
     "height": 346,
     "referenced_widgets": [
      "e6049f1a759347b98b7e4fd1a67144f0",
      "f2da11596c3d4dfe83bd1769fabcd761",
      "7aaf258cf9174224af81ccbe12ca541c",
      "fea80cbcf059464ea38150f20b9be658",
      "902a2ba94d604a008c78e75233fba90d",
      "c4a959bf633f4c328accafa9a429ea9e",
      "2450a42d59b248448250ae8d909eb583",
      "b86f2d3e1aa14d9d9087ced8e1ec42ea",
      "0908d12134ae42f68b1a892cc994f5e7",
      "b5b933058f25464e9e2e6381623ab18b",
      "9399816e1a2b4f4fbc2aa6e79bed7286",
      "5b7e1ebeab16400698f0e6f8953825bb"
     ]
    },
    "id": "kAE18rE6VGWZ",
    "outputId": "9add5864-bbe1-4223-9e7a-0c95745aef8a"
   },
   "outputs": [
    {
     "data": {
      "application/vnd.jupyter.widget-view+json": {
       "model_id": "e6049f1a759347b98b7e4fd1a67144f0",
       "version_major": 2,
       "version_minor": 0
      },
      "text/plain": [
       "Label(value='Word appropriateness detector for single sentence.')"
      ]
     },
     "metadata": {
      "tags": []
     },
     "output_type": "display_data"
    },
    {
     "data": {
      "application/vnd.jupyter.widget-view+json": {
       "model_id": "fea80cbcf059464ea38150f20b9be658",
       "version_major": 2,
       "version_minor": 0
      },
      "text/plain": [
       "Text(value='Hello World', description='Your text:', placeholder='Type something')"
      ]
     },
     "metadata": {
      "tags": []
     },
     "output_type": "display_data"
    },
    {
     "data": {
      "application/vnd.jupyter.widget-view+json": {
       "model_id": "2450a42d59b248448250ae8d909eb583",
       "version_major": 2,
       "version_minor": 0
      },
      "text/plain": [
       "Dropdown(description='Top K:', options=(('1', 1), ('2', 2), ('3', 3), ('5', 5), ('10', 10)), value=1)"
      ]
     },
     "metadata": {
      "tags": []
     },
     "output_type": "display_data"
    },
    {
     "data": {
      "application/vnd.jupyter.widget-view+json": {
       "model_id": "b5b933058f25464e9e2e6381623ab18b",
       "version_major": 2,
       "version_minor": 0
      },
      "text/plain": [
       "Button(button_style='primary', description='OK', style=ButtonStyle(), tooltip='Click to submit')"
      ]
     },
     "metadata": {
      "tags": []
     },
     "output_type": "display_data"
    },
    {
     "name": "stdout",
     "output_type": "stream",
     "text": [
      "Text successfully submitted!\n",
      "The suspect words are: \n",
      "1 cute 0.010036780340255746\n",
      "2 bilateral 0.012263965784352002\n",
      "3 larger 0.01941094052036111\n",
      "4 airspace 0.04311686577852297\n",
      "5 diagnosis 0.06429604935333656\n",
      "6 subset 0.0811937392028782\n",
      "7 . 0.10261349746239871\n",
      "8 a 0.11668218369054956\n",
      "9 differential 0.12463457253199668\n",
      "10 ##ification 0.12890247093414056\n"
     ]
    }
   ],
   "source": [
    "text = widgets.Text(\n",
    "    value='Hello World',\n",
    "    placeholder='Type something',\n",
    "    description='Your text:',\n",
    "    disabled=False\n",
    "    )\n",
    "\n",
    "btn = widgets.Button(\n",
    "    description = \"OK\", \n",
    "    tooltip = 'Click to submit'\n",
    "    )\n",
    "\n",
    "drpd = widgets.Dropdown(\n",
    "    options=[(\"1\", 1), (\"2\", 2), (\"3\", 3), (\"5\", 5), (\"10\", 10)], \n",
    "    index=0, \n",
    "    value=1,\n",
    "    description='Top K:',\n",
    "    disabled=False,\n",
    "    )\n",
    "\n",
    "caption = widgets.Label(\n",
    "    value = 'Word appropriateness detector for single sentence.'\n",
    "    )\n",
    "\n",
    "detector = SentDetector(basemodel, basetokenizer)\n",
    "\n",
    "def get_k(sender):\n",
    "  TOPK = sender.observe(chosen, names=\"value\")\n",
    "\n",
    "def callback(sender):\n",
    "  print('Text successfully submitted!')\n",
    "  TOPK = chosen(drpd)\n",
    "  raw_text = '[CLS] ' + sender.value + ' [SEP]'\n",
    "  # print(ori_text)\n",
    "  # print(TOPK)\n",
    "  detector.changeK(TOPK)\n",
    "  detector.run(raw_text)\n",
    "\n",
    "def btn_click(sender):\n",
    "  callback(text)\n",
    "\n",
    "def chosen(_):\n",
    "  return drpd.value\n",
    "\n",
    "drpd.observe(chosen, names=\"value\")\n",
    "btn.button_style='primary'\n",
    "\n",
    "#text.on_submit(callback)\n",
    "btn.on_click(btn_click)\n",
    "\n",
    "display(caption, text, drpd, btn)"
   ]
  },
  {
   "cell_type": "markdown",
   "metadata": {
    "id": "O7ZDaAXWUELg"
   },
   "source": [
    "Acute cholangitis, or ascending cholangitis, is a form of cholangitis and refers to the acute bacterial infection of the biliary three. # bacterial\n",
    "\n",
    "It has many causes and can affect any organ system.\n",
    "\n",
    "A cute bilateral airspace opacification is a subset of the larger differential diagnosis for airspace opacification."
   ]
  },
  {
   "cell_type": "code",
   "execution_count": null,
   "metadata": {
    "id": "wlMBRjr6UFjG"
   },
   "outputs": [],
   "source": []
  },
  {
   "cell_type": "code",
   "execution_count": null,
   "metadata": {
    "id": "E5tFnA7_yzeg"
   },
   "outputs": [],
   "source": []
  },
  {
   "cell_type": "markdown",
   "metadata": {
    "id": "EEHJwmCubclY"
   },
   "source": [
    "### Multi-model Detector"
   ]
  },
  {
   "cell_type": "code",
   "execution_count": null,
   "metadata": {
    "colab": {
     "base_uri": "https://localhost:8080/",
     "height": 206,
     "referenced_widgets": [
      "5ae4d307fa2d42eb964d02dedfb69511",
      "e0d693a8c39b4b46bd629e6e74946a01",
      "aa807ac02d0c49a7916bd25860846f82",
      "013c2e819b6a4d98ac2b316ddbcb6687",
      "d74cd492043f41fab3f7acd7cef4171d",
      "ba1ddc04e32a4365bafe3a12ed5d1e63",
      "11d85cadbfd84b24ab078b1d4ac4a089",
      "823c2d74aba144108f8db90dd7db3b4f",
      "b89ce20f95ed401b801c12a0ff5d5f9d",
      "004a432c903d4e57b3ed42be334e0ba4",
      "a68a4311c3c7455cb595e9323a4789f8",
      "6f09c80bcc9e4a8ea88372a48bf5e744",
      "4a8160f703094e3986b96c69bf69b905",
      "0b83366817dc444dabc85b4a50827dc2",
      "f581b8c069b64ab2bd93248b333d3c2a",
      "ed9f5f30ad9949ca82612568e3e0d427",
      "48f7eb00d1004fcf9a141e4a569e70e3",
      "51eff83df58a420789ce555c38452edb"
     ]
    },
    "id": "OIaLcQyWbhkk",
    "outputId": "40b09456-f4c8-4fea-e769-76079858a665"
   },
   "outputs": [
    {
     "data": {
      "application/vnd.jupyter.widget-view+json": {
       "model_id": "5ae4d307fa2d42eb964d02dedfb69511",
       "version_major": 2,
       "version_minor": 0
      },
      "text/plain": [
       "Label(value='Word appropriateness detector for single sentence.')"
      ]
     },
     "metadata": {
      "tags": []
     },
     "output_type": "display_data"
    },
    {
     "data": {
      "application/vnd.jupyter.widget-view+json": {
       "model_id": "013c2e819b6a4d98ac2b316ddbcb6687",
       "version_major": 2,
       "version_minor": 0
      },
      "text/plain": [
       "Text(value='Hello World', description='Your text:', placeholder='Type something')"
      ]
     },
     "metadata": {
      "tags": []
     },
     "output_type": "display_data"
    },
    {
     "data": {
      "application/vnd.jupyter.widget-view+json": {
       "model_id": "11d85cadbfd84b24ab078b1d4ac4a089",
       "version_major": 2,
       "version_minor": 0
      },
      "text/plain": [
       "Dropdown(description='Top K:', options=(('1', 1), ('2', 2), ('3', 3), ('5', 5), ('10', 10)), value=1)"
      ]
     },
     "metadata": {
      "tags": []
     },
     "output_type": "display_data"
    },
    {
     "data": {
      "application/vnd.jupyter.widget-view+json": {
       "model_id": "004a432c903d4e57b3ed42be334e0ba4",
       "version_major": 2,
       "version_minor": 0
      },
      "text/plain": [
       "Button(button_style='info', description='BERT-base', style=ButtonStyle(), tooltip='Click to submit')"
      ]
     },
     "metadata": {
      "tags": []
     },
     "output_type": "display_data"
    },
    {
     "data": {
      "application/vnd.jupyter.widget-view+json": {
       "model_id": "4a8160f703094e3986b96c69bf69b905",
       "version_major": 2,
       "version_minor": 0
      },
      "text/plain": [
       "Button(button_style='primary', description='BERT-large', style=ButtonStyle(), tooltip='Click to submit')"
      ]
     },
     "metadata": {
      "tags": []
     },
     "output_type": "display_data"
    },
    {
     "data": {
      "application/vnd.jupyter.widget-view+json": {
       "model_id": "ed9f5f30ad9949ca82612568e3e0d427",
       "version_major": 2,
       "version_minor": 0
      },
      "text/plain": [
       "Button(button_style='success', description='Clinical BERT', style=ButtonStyle(), tooltip='Click to submit')"
      ]
     },
     "metadata": {
      "tags": []
     },
     "output_type": "display_data"
    }
   ],
   "source": [
    "text = widgets.Text(\n",
    "    value='Hello World',\n",
    "    placeholder='Type something',\n",
    "    description='Your text:',\n",
    "    disabled=False\n",
    "    )\n",
    "\n",
    "btn1 = widgets.Button(\n",
    "    description = \"BERT-base\", \n",
    "    tooltip = 'Click to submit',\n",
    "    button_style = 'info'\n",
    "    )\n",
    "\n",
    "btn2 = widgets.Button(\n",
    "    description = \"Clinical BERT\", \n",
    "    tooltip = 'Click to submit',\n",
    "    button_style = 'success'\n",
    "    )\n",
    "\n",
    "btn3 = widgets.Button(\n",
    "    description = \"BERT-large\", \n",
    "    tooltip = 'Click to submit',\n",
    "    button_style = 'primary'\n",
    "    )\n",
    "\n",
    "drpd = widgets.Dropdown(\n",
    "    options=[(\"1\", 1), (\"2\", 2), (\"3\", 3), (\"5\", 5), (\"10\", 10)], \n",
    "    index=0, \n",
    "    value=1,\n",
    "    description='Top K:',\n",
    "    disabled=False,\n",
    "    )\n",
    "\n",
    "caption = widgets.Label(\n",
    "    value = 'Word appropriateness detector for single sentence.'\n",
    "    )\n",
    "\n",
    "detector = SentDetector(basemodel, basetokenizer)\n",
    "\n",
    "def get_k(sender):\n",
    "  TOPK = sender.observe(chosen, names=\"value\")\n",
    "\n",
    "def callback(sender):\n",
    "  TOPK = chosen(drpd)\n",
    "  raw_text = '[CLS] ' + sender.value + ' [SEP]'\n",
    "  # print(ori_text)\n",
    "  # print(TOPK)\n",
    "  detector.changeK(TOPK)\n",
    "  detector.run(raw_text)\n",
    "\n",
    "def btn1_click(sender):\n",
    "  detector.changeModel(basemodel, basetokenizer)\n",
    "  print('===========================\\nText successfully submitted to BERT-base!')\n",
    "  callback(text)\n",
    "\n",
    "def btn2_click(sender):\n",
    "  detector.changeModel(climodel, clitokenizer)\n",
    "  print('===========================\\nText successfully submitted to Clinical BERT!')\n",
    "  callback(text)\n",
    "\n",
    "def btn3_click(sender):\n",
    "  detector.changeModel(largemodel, largetokenizer)\n",
    "  print('===========================\\nText successfully submitted to BERT-large!')\n",
    "  callback(text)\n",
    "\n",
    "\n",
    "def chosen(_):\n",
    "  return drpd.value\n",
    "\n",
    "drpd.observe(chosen, names=\"value\")\n",
    "\n",
    "#text.on_submit(callback)\n",
    "btn1.on_click(btn1_click)\n",
    "btn2.on_click(btn2_click)\n",
    "btn3.on_click(btn3_click)\n",
    "\n",
    "display(caption, text, drpd, btn1, btn3, btn2)\n"
   ]
  },
  {
   "cell_type": "code",
   "execution_count": null,
   "metadata": {
    "id": "RB80kVLtdzhb"
   },
   "outputs": [],
   "source": []
  },
  {
   "cell_type": "code",
   "execution_count": null,
   "metadata": {
    "id": "7YkIAkQxdzpZ"
   },
   "outputs": [],
   "source": []
  },
  {
   "cell_type": "markdown",
   "metadata": {
    "id": "d0VxEpVud8Zr"
   },
   "source": [
    "Acute cholangitis, or ascending cholangitis, is a form of cholangitis and refers to the acute bacterial infection of the biliary three. # bacterial\n",
    "\n",
    "It has many casual and can affect any organ system.\n",
    "\n",
    "Acute bilateral airspace opacification is a subset of the larger differential diagnosis for airspace opacification.\n",
    "\n",
    "Abdominal paracentesis, more commonly referred to as an ascitic tap, is a procedure that can be performed to collect peritoneal fluid for analysis or as a therapeutic intervention."
   ]
  },
  {
   "cell_type": "code",
   "execution_count": null,
   "metadata": {
    "id": "bAY9tF8kdzuT"
   },
   "outputs": [],
   "source": [
    "t = \"A cute bilateral airspace opacification is a subset of the larger differential diagnosis for airspace opacification.\""
   ]
  },
  {
   "cell_type": "code",
   "execution_count": null,
   "metadata": {
    "colab": {
     "base_uri": "https://localhost:8080/",
     "height": 204
    },
    "id": "Jz43CaYFdzsA",
    "outputId": "9b430a00-a03c-4693-8c07-875811e97130"
   },
   "outputs": [
    {
     "name": "stdout",
     "output_type": "stream",
     "text": [
      "The suspected words are: \n",
      "1 cute 0.010036780340255746\n",
      "2 bilateral 0.012263965784352002\n",
      "3 larger 0.01941094052036111\n",
      "4 airspace 0.04311686577852297\n",
      "5 diagnosis 0.06429604935333656\n",
      "6 subset 0.0811937392028782\n",
      "7 . 0.10261349746239871\n",
      "8 a 0.11668218369054956\n",
      "9 differential 0.12463457253199668\n",
      "10 ##ification 0.12890247093414056\n"
     ]
    }
   ],
   "source": [
    "test.run(t)"
   ]
  },
  {
   "cell_type": "code",
   "execution_count": null,
   "metadata": {
    "colab": {
     "base_uri": "https://localhost:8080/",
     "height": 137
    },
    "id": "VyIAYJDq9dUH",
    "outputId": "b4260ea1-e28a-4e76-8e6f-22538cfb0670"
   },
   "outputs": [
    {
     "name": "stdout",
     "output_type": "stream",
     "text": [
      "The suspected words are: \n",
      "1 cute 0.010036780340255746\n",
      "2 bilateral 0.012263965784352002\n",
      "3 larger 0.01941094052036111\n",
      "4 airspace 0.04311686577852297\n",
      "5 diagnosis 0.06429604935333656\n"
     ]
    },
    {
     "data": {
      "application/vnd.google.colaboratory.intrinsic+json": {
       "type": "string"
      },
      "text/plain": [
       "'The suspected words are: \\n1. cute\\n2. bilateral\\n3. larger\\n4. airspace\\n5. diagnosis\\n'"
      ]
     },
     "execution_count": 83,
     "metadata": {
      "tags": []
     },
     "output_type": "execute_result"
    }
   ],
   "source": [
    "test.ret_run(t)"
   ]
  },
  {
   "cell_type": "code",
   "execution_count": null,
   "metadata": {
    "id": "KEd1sek99sYS"
   },
   "outputs": [],
   "source": []
  }
 ],
 "metadata": {
  "colab": {
   "collapsed_sections": [
    "FhZJwhs2Cx-3",
    "dPhH4jZcSt0f",
    "CBriRmwDDh7h"
   ],
   "name": "tx_sentence-level detector.ipynb",
   "provenance": [],
   "toc_visible": true
  },
  "kernelspec": {
   "display_name": "Python 3",
   "language": "python",
   "name": "python3"
  },
  "language_info": {
   "codemirror_mode": {
    "name": "ipython",
    "version": 3
   },
   "file_extension": ".py",
   "mimetype": "text/x-python",
   "name": "python",
   "nbconvert_exporter": "python",
   "pygments_lexer": "ipython3",
   "version": "3.6.12"
  },
  "widgets": {
   "application/vnd.jupyter.widget-state+json": {
    "004a432c903d4e57b3ed42be334e0ba4": {
     "model_module": "@jupyter-widgets/controls",
     "model_name": "ButtonModel",
     "state": {
      "_dom_classes": [],
      "_model_module": "@jupyter-widgets/controls",
      "_model_module_version": "1.5.0",
      "_model_name": "ButtonModel",
      "_view_count": null,
      "_view_module": "@jupyter-widgets/controls",
      "_view_module_version": "1.5.0",
      "_view_name": "ButtonView",
      "button_style": "info",
      "description": "BERT-base",
      "disabled": false,
      "icon": "",
      "layout": "IPY_MODEL_6f09c80bcc9e4a8ea88372a48bf5e744",
      "style": "IPY_MODEL_a68a4311c3c7455cb595e9323a4789f8",
      "tooltip": "Click to submit"
     }
    },
    "013c2e819b6a4d98ac2b316ddbcb6687": {
     "model_module": "@jupyter-widgets/controls",
     "model_name": "TextModel",
     "state": {
      "_dom_classes": [],
      "_model_module": "@jupyter-widgets/controls",
      "_model_module_version": "1.5.0",
      "_model_name": "TextModel",
      "_view_count": null,
      "_view_module": "@jupyter-widgets/controls",
      "_view_module_version": "1.5.0",
      "_view_name": "TextView",
      "continuous_update": true,
      "description": "Your text:",
      "description_tooltip": null,
      "disabled": false,
      "layout": "IPY_MODEL_ba1ddc04e32a4365bafe3a12ed5d1e63",
      "placeholder": "Type something",
      "style": "IPY_MODEL_d74cd492043f41fab3f7acd7cef4171d",
      "value": "Hello World"
     }
    },
    "036c01423ba941c78a5b3ab1ee4a8a0e": {
     "model_module": "@jupyter-widgets/base",
     "model_name": "LayoutModel",
     "state": {
      "_model_module": "@jupyter-widgets/base",
      "_model_module_version": "1.2.0",
      "_model_name": "LayoutModel",
      "_view_count": null,
      "_view_module": "@jupyter-widgets/base",
      "_view_module_version": "1.2.0",
      "_view_name": "LayoutView",
      "align_content": null,
      "align_items": null,
      "align_self": null,
      "border": null,
      "bottom": null,
      "display": null,
      "flex": null,
      "flex_flow": null,
      "grid_area": null,
      "grid_auto_columns": null,
      "grid_auto_flow": null,
      "grid_auto_rows": null,
      "grid_column": null,
      "grid_gap": null,
      "grid_row": null,
      "grid_template_areas": null,
      "grid_template_columns": null,
      "grid_template_rows": null,
      "height": null,
      "justify_content": null,
      "justify_items": null,
      "left": null,
      "margin": null,
      "max_height": null,
      "max_width": null,
      "min_height": null,
      "min_width": null,
      "object_fit": null,
      "object_position": null,
      "order": null,
      "overflow": null,
      "overflow_x": null,
      "overflow_y": null,
      "padding": null,
      "right": null,
      "top": null,
      "visibility": null,
      "width": null
     }
    },
    "0482f82d09be4ea39e81c34fcf85393b": {
     "model_module": "@jupyter-widgets/controls",
     "model_name": "HTMLModel",
     "state": {
      "_dom_classes": [],
      "_model_module": "@jupyter-widgets/controls",
      "_model_module_version": "1.5.0",
      "_model_name": "HTMLModel",
      "_view_count": null,
      "_view_module": "@jupyter-widgets/controls",
      "_view_module_version": "1.5.0",
      "_view_name": "HTMLView",
      "description": "",
      "description_tooltip": null,
      "layout": "IPY_MODEL_5fc2f47087af40f789357b71d2b30a6b",
      "placeholder": "​",
      "style": "IPY_MODEL_85600057818b4188a961c8fe87b2a2e1",
      "value": " 213k/213k [00:00&lt;00:00, 502kB/s]"
     }
    },
    "049df487d1dc4f3ca02c7458fd7beb29": {
     "model_module": "@jupyter-widgets/controls",
     "model_name": "FloatProgressModel",
     "state": {
      "_dom_classes": [],
      "_model_module": "@jupyter-widgets/controls",
      "_model_module_version": "1.5.0",
      "_model_name": "FloatProgressModel",
      "_view_count": null,
      "_view_module": "@jupyter-widgets/controls",
      "_view_module_version": "1.5.0",
      "_view_name": "ProgressView",
      "bar_style": "success",
      "description": "Downloading: 100%",
      "description_tooltip": null,
      "layout": "IPY_MODEL_6253d4f1bbc84856826cbdf087e8afdb",
      "max": 433,
      "min": 0,
      "orientation": "horizontal",
      "style": "IPY_MODEL_f7392431035f455c83e3d25dc03f2394",
      "value": 433
     }
    },
    "07d41c5d334e4c15a41527a67051e2b9": {
     "model_module": "@jupyter-widgets/base",
     "model_name": "LayoutModel",
     "state": {
      "_model_module": "@jupyter-widgets/base",
      "_model_module_version": "1.2.0",
      "_model_name": "LayoutModel",
      "_view_count": null,
      "_view_module": "@jupyter-widgets/base",
      "_view_module_version": "1.2.0",
      "_view_name": "LayoutView",
      "align_content": null,
      "align_items": null,
      "align_self": null,
      "border": null,
      "bottom": null,
      "display": null,
      "flex": null,
      "flex_flow": null,
      "grid_area": null,
      "grid_auto_columns": null,
      "grid_auto_flow": null,
      "grid_auto_rows": null,
      "grid_column": null,
      "grid_gap": null,
      "grid_row": null,
      "grid_template_areas": null,
      "grid_template_columns": null,
      "grid_template_rows": null,
      "height": null,
      "justify_content": null,
      "justify_items": null,
      "left": null,
      "margin": null,
      "max_height": null,
      "max_width": null,
      "min_height": null,
      "min_width": null,
      "object_fit": null,
      "object_position": null,
      "order": null,
      "overflow": null,
      "overflow_x": null,
      "overflow_y": null,
      "padding": null,
      "right": null,
      "top": null,
      "visibility": null,
      "width": null
     }
    },
    "0908d12134ae42f68b1a892cc994f5e7": {
     "model_module": "@jupyter-widgets/base",
     "model_name": "LayoutModel",
     "state": {
      "_model_module": "@jupyter-widgets/base",
      "_model_module_version": "1.2.0",
      "_model_name": "LayoutModel",
      "_view_count": null,
      "_view_module": "@jupyter-widgets/base",
      "_view_module_version": "1.2.0",
      "_view_name": "LayoutView",
      "align_content": null,
      "align_items": null,
      "align_self": null,
      "border": null,
      "bottom": null,
      "display": null,
      "flex": null,
      "flex_flow": null,
      "grid_area": null,
      "grid_auto_columns": null,
      "grid_auto_flow": null,
      "grid_auto_rows": null,
      "grid_column": null,
      "grid_gap": null,
      "grid_row": null,
      "grid_template_areas": null,
      "grid_template_columns": null,
      "grid_template_rows": null,
      "height": null,
      "justify_content": null,
      "justify_items": null,
      "left": null,
      "margin": null,
      "max_height": null,
      "max_width": null,
      "min_height": null,
      "min_width": null,
      "object_fit": null,
      "object_position": null,
      "order": null,
      "overflow": null,
      "overflow_x": null,
      "overflow_y": null,
      "padding": null,
      "right": null,
      "top": null,
      "visibility": null,
      "width": null
     }
    },
    "0b83366817dc444dabc85b4a50827dc2": {
     "model_module": "@jupyter-widgets/controls",
     "model_name": "ButtonStyleModel",
     "state": {
      "_model_module": "@jupyter-widgets/controls",
      "_model_module_version": "1.5.0",
      "_model_name": "ButtonStyleModel",
      "_view_count": null,
      "_view_module": "@jupyter-widgets/base",
      "_view_module_version": "1.2.0",
      "_view_name": "StyleView",
      "button_color": null,
      "font_weight": ""
     }
    },
    "0daeebcb44f24406946b432f108fa57e": {
     "model_module": "@jupyter-widgets/base",
     "model_name": "LayoutModel",
     "state": {
      "_model_module": "@jupyter-widgets/base",
      "_model_module_version": "1.2.0",
      "_model_name": "LayoutModel",
      "_view_count": null,
      "_view_module": "@jupyter-widgets/base",
      "_view_module_version": "1.2.0",
      "_view_name": "LayoutView",
      "align_content": null,
      "align_items": null,
      "align_self": null,
      "border": null,
      "bottom": null,
      "display": null,
      "flex": null,
      "flex_flow": null,
      "grid_area": null,
      "grid_auto_columns": null,
      "grid_auto_flow": null,
      "grid_auto_rows": null,
      "grid_column": null,
      "grid_gap": null,
      "grid_row": null,
      "grid_template_areas": null,
      "grid_template_columns": null,
      "grid_template_rows": null,
      "height": null,
      "justify_content": null,
      "justify_items": null,
      "left": null,
      "margin": null,
      "max_height": null,
      "max_width": null,
      "min_height": null,
      "min_width": null,
      "object_fit": null,
      "object_position": null,
      "order": null,
      "overflow": null,
      "overflow_x": null,
      "overflow_y": null,
      "padding": null,
      "right": null,
      "top": null,
      "visibility": null,
      "width": null
     }
    },
    "11d85cadbfd84b24ab078b1d4ac4a089": {
     "model_module": "@jupyter-widgets/controls",
     "model_name": "DropdownModel",
     "state": {
      "_dom_classes": [],
      "_model_module": "@jupyter-widgets/controls",
      "_model_module_version": "1.5.0",
      "_model_name": "DropdownModel",
      "_options_labels": [
       "1",
       "2",
       "3",
       "5",
       "10"
      ],
      "_view_count": null,
      "_view_module": "@jupyter-widgets/controls",
      "_view_module_version": "1.5.0",
      "_view_name": "DropdownView",
      "description": "Top K:",
      "description_tooltip": null,
      "disabled": false,
      "index": 0,
      "layout": "IPY_MODEL_b89ce20f95ed401b801c12a0ff5d5f9d",
      "style": "IPY_MODEL_823c2d74aba144108f8db90dd7db3b4f"
     }
    },
    "13ff601ef7e54a2d80e0a246d3e94499": {
     "model_module": "@jupyter-widgets/controls",
     "model_name": "HBoxModel",
     "state": {
      "_dom_classes": [],
      "_model_module": "@jupyter-widgets/controls",
      "_model_module_version": "1.5.0",
      "_model_name": "HBoxModel",
      "_view_count": null,
      "_view_module": "@jupyter-widgets/controls",
      "_view_module_version": "1.5.0",
      "_view_name": "HBoxView",
      "box_style": "",
      "children": [
       "IPY_MODEL_504f5a28286840f793fff48589c02a5d",
       "IPY_MODEL_0482f82d09be4ea39e81c34fcf85393b"
      ],
      "layout": "IPY_MODEL_2047b6fa2cf7405bae4bfde76f60b58f"
     }
    },
    "1a0757d40acd4ab0b595249d12cde59d": {
     "model_module": "@jupyter-widgets/controls",
     "model_name": "DescriptionStyleModel",
     "state": {
      "_model_module": "@jupyter-widgets/controls",
      "_model_module_version": "1.5.0",
      "_model_name": "DescriptionStyleModel",
      "_view_count": null,
      "_view_module": "@jupyter-widgets/base",
      "_view_module_version": "1.2.0",
      "_view_name": "StyleView",
      "description_width": ""
     }
    },
    "2047b6fa2cf7405bae4bfde76f60b58f": {
     "model_module": "@jupyter-widgets/base",
     "model_name": "LayoutModel",
     "state": {
      "_model_module": "@jupyter-widgets/base",
      "_model_module_version": "1.2.0",
      "_model_name": "LayoutModel",
      "_view_count": null,
      "_view_module": "@jupyter-widgets/base",
      "_view_module_version": "1.2.0",
      "_view_name": "LayoutView",
      "align_content": null,
      "align_items": null,
      "align_self": null,
      "border": null,
      "bottom": null,
      "display": null,
      "flex": null,
      "flex_flow": null,
      "grid_area": null,
      "grid_auto_columns": null,
      "grid_auto_flow": null,
      "grid_auto_rows": null,
      "grid_column": null,
      "grid_gap": null,
      "grid_row": null,
      "grid_template_areas": null,
      "grid_template_columns": null,
      "grid_template_rows": null,
      "height": null,
      "justify_content": null,
      "justify_items": null,
      "left": null,
      "margin": null,
      "max_height": null,
      "max_width": null,
      "min_height": null,
      "min_width": null,
      "object_fit": null,
      "object_position": null,
      "order": null,
      "overflow": null,
      "overflow_x": null,
      "overflow_y": null,
      "padding": null,
      "right": null,
      "top": null,
      "visibility": null,
      "width": null
     }
    },
    "22f5306b335e43158d48f61ae2e4c11f": {
     "model_module": "@jupyter-widgets/controls",
     "model_name": "DescriptionStyleModel",
     "state": {
      "_model_module": "@jupyter-widgets/controls",
      "_model_module_version": "1.5.0",
      "_model_name": "DescriptionStyleModel",
      "_view_count": null,
      "_view_module": "@jupyter-widgets/base",
      "_view_module_version": "1.2.0",
      "_view_name": "StyleView",
      "description_width": ""
     }
    },
    "242f09b2dc8947b6b6825fe8c156c1d2": {
     "model_module": "@jupyter-widgets/controls",
     "model_name": "IntSliderModel",
     "state": {
      "_dom_classes": [],
      "_model_module": "@jupyter-widgets/controls",
      "_model_module_version": "1.5.0",
      "_model_name": "IntSliderModel",
      "_view_count": null,
      "_view_module": "@jupyter-widgets/controls",
      "_view_module_version": "1.5.0",
      "_view_name": "IntSliderView",
      "continuous_update": true,
      "description": "Slider 1",
      "description_tooltip": null,
      "disabled": false,
      "layout": "IPY_MODEL_a2ee3b30190744f6bf6348641629ad8c",
      "max": 100,
      "min": 0,
      "orientation": "horizontal",
      "readout": true,
      "readout_format": "d",
      "step": 1,
      "style": "IPY_MODEL_e0eaab844d2449d490205f54e8a9e9d1",
      "value": 66
     }
    },
    "2450a42d59b248448250ae8d909eb583": {
     "model_module": "@jupyter-widgets/controls",
     "model_name": "DropdownModel",
     "state": {
      "_dom_classes": [],
      "_model_module": "@jupyter-widgets/controls",
      "_model_module_version": "1.5.0",
      "_model_name": "DropdownModel",
      "_options_labels": [
       "1",
       "2",
       "3",
       "5",
       "10"
      ],
      "_view_count": null,
      "_view_module": "@jupyter-widgets/controls",
      "_view_module_version": "1.5.0",
      "_view_name": "DropdownView",
      "description": "Top K:",
      "description_tooltip": null,
      "disabled": false,
      "index": 4,
      "layout": "IPY_MODEL_0908d12134ae42f68b1a892cc994f5e7",
      "style": "IPY_MODEL_b86f2d3e1aa14d9d9087ced8e1ec42ea"
     }
    },
    "262706add8024636800ab8ae03d749c3": {
     "model_module": "@jupyter-widgets/base",
     "model_name": "LayoutModel",
     "state": {
      "_model_module": "@jupyter-widgets/base",
      "_model_module_version": "1.2.0",
      "_model_name": "LayoutModel",
      "_view_count": null,
      "_view_module": "@jupyter-widgets/base",
      "_view_module_version": "1.2.0",
      "_view_name": "LayoutView",
      "align_content": null,
      "align_items": null,
      "align_self": null,
      "border": null,
      "bottom": null,
      "display": null,
      "flex": null,
      "flex_flow": null,
      "grid_area": null,
      "grid_auto_columns": null,
      "grid_auto_flow": null,
      "grid_auto_rows": null,
      "grid_column": null,
      "grid_gap": null,
      "grid_row": null,
      "grid_template_areas": null,
      "grid_template_columns": null,
      "grid_template_rows": null,
      "height": null,
      "justify_content": null,
      "justify_items": null,
      "left": null,
      "margin": null,
      "max_height": null,
      "max_width": null,
      "min_height": null,
      "min_width": null,
      "object_fit": null,
      "object_position": null,
      "order": null,
      "overflow": null,
      "overflow_x": null,
      "overflow_y": null,
      "padding": null,
      "right": null,
      "top": null,
      "visibility": null,
      "width": null
     }
    },
    "26a166e6e46849ceb71ff268a7c92308": {
     "model_module": "@jupyter-widgets/controls",
     "model_name": "FloatProgressModel",
     "state": {
      "_dom_classes": [],
      "_model_module": "@jupyter-widgets/controls",
      "_model_module_version": "1.5.0",
      "_model_name": "FloatProgressModel",
      "_view_count": null,
      "_view_module": "@jupyter-widgets/controls",
      "_view_module_version": "1.5.0",
      "_view_name": "ProgressView",
      "bar_style": "success",
      "description": "Downloading: 100%",
      "description_tooltip": null,
      "layout": "IPY_MODEL_e639e2ec746e41b694dc7d1e890dc259",
      "max": 440473133,
      "min": 0,
      "orientation": "horizontal",
      "style": "IPY_MODEL_904c53d5200545138538fd3477e4ded4",
      "value": 440473133
     }
    },
    "2728a2adb6a04c05a09c0b2aca9c9a4b": {
     "model_module": "@jupyter-widgets/controls",
     "model_name": "ButtonModel",
     "state": {
      "_dom_classes": [],
      "_model_module": "@jupyter-widgets/controls",
      "_model_module_version": "1.5.0",
      "_model_name": "ButtonModel",
      "_view_count": null,
      "_view_module": "@jupyter-widgets/controls",
      "_view_module_version": "1.5.0",
      "_view_name": "ButtonView",
      "button_style": "warning",
      "description": "Warning Button",
      "disabled": false,
      "icon": "",
      "layout": "IPY_MODEL_3e51cc8c32a54601a4f85b0bfc026371",
      "style": "IPY_MODEL_51a8ba13dda8478aa463f996ec48bf56",
      "tooltip": ""
     }
    },
    "2d7df45ccca34bcb9fcc8f6b013403e0": {
     "model_module": "@jupyter-widgets/base",
     "model_name": "LayoutModel",
     "state": {
      "_model_module": "@jupyter-widgets/base",
      "_model_module_version": "1.2.0",
      "_model_name": "LayoutModel",
      "_view_count": null,
      "_view_module": "@jupyter-widgets/base",
      "_view_module_version": "1.2.0",
      "_view_name": "LayoutView",
      "align_content": null,
      "align_items": null,
      "align_self": null,
      "border": null,
      "bottom": null,
      "display": null,
      "flex": null,
      "flex_flow": null,
      "grid_area": null,
      "grid_auto_columns": null,
      "grid_auto_flow": null,
      "grid_auto_rows": null,
      "grid_column": null,
      "grid_gap": null,
      "grid_row": null,
      "grid_template_areas": null,
      "grid_template_columns": null,
      "grid_template_rows": null,
      "height": null,
      "justify_content": null,
      "justify_items": null,
      "left": null,
      "margin": null,
      "max_height": null,
      "max_width": null,
      "min_height": null,
      "min_width": null,
      "object_fit": null,
      "object_position": null,
      "order": null,
      "overflow": null,
      "overflow_x": null,
      "overflow_y": null,
      "padding": null,
      "right": null,
      "top": null,
      "visibility": null,
      "width": null
     }
    },
    "2e9e7f1bd9894ea98638c29d88074d24": {
     "model_module": "@jupyter-widgets/controls",
     "model_name": "ButtonModel",
     "state": {
      "_dom_classes": [],
      "_model_module": "@jupyter-widgets/controls",
      "_model_module_version": "1.5.0",
      "_model_name": "ButtonModel",
      "_view_count": null,
      "_view_module": "@jupyter-widgets/controls",
      "_view_module_version": "1.5.0",
      "_view_name": "ButtonView",
      "button_style": "success",
      "description": "Success Button",
      "disabled": false,
      "icon": "",
      "layout": "IPY_MODEL_b660d93e607f4e6da851678da0bb9207",
      "style": "IPY_MODEL_b4d4feceac7643479549f5086e35409b",
      "tooltip": ""
     }
    },
    "313c177115f944cdb5e76d921cc5995e": {
     "model_module": "@jupyter-widgets/controls",
     "model_name": "DescriptionStyleModel",
     "state": {
      "_model_module": "@jupyter-widgets/controls",
      "_model_module_version": "1.5.0",
      "_model_name": "DescriptionStyleModel",
      "_view_count": null,
      "_view_module": "@jupyter-widgets/base",
      "_view_module_version": "1.2.0",
      "_view_name": "StyleView",
      "description_width": ""
     }
    },
    "37ad33c1cf8149e7abfa7b06227854cb": {
     "model_module": "@jupyter-widgets/base",
     "model_name": "LayoutModel",
     "state": {
      "_model_module": "@jupyter-widgets/base",
      "_model_module_version": "1.2.0",
      "_model_name": "LayoutModel",
      "_view_count": null,
      "_view_module": "@jupyter-widgets/base",
      "_view_module_version": "1.2.0",
      "_view_name": "LayoutView",
      "align_content": null,
      "align_items": null,
      "align_self": null,
      "border": null,
      "bottom": null,
      "display": null,
      "flex": null,
      "flex_flow": null,
      "grid_area": null,
      "grid_auto_columns": null,
      "grid_auto_flow": null,
      "grid_auto_rows": null,
      "grid_column": null,
      "grid_gap": null,
      "grid_row": null,
      "grid_template_areas": null,
      "grid_template_columns": null,
      "grid_template_rows": null,
      "height": null,
      "justify_content": null,
      "justify_items": null,
      "left": null,
      "margin": null,
      "max_height": null,
      "max_width": null,
      "min_height": null,
      "min_width": null,
      "object_fit": null,
      "object_position": null,
      "order": null,
      "overflow": null,
      "overflow_x": null,
      "overflow_y": null,
      "padding": null,
      "right": null,
      "top": null,
      "visibility": null,
      "width": null
     }
    },
    "3995d77576184b2c9e0762c44e776aad": {
     "model_module": "@jupyter-widgets/controls",
     "model_name": "ButtonStyleModel",
     "state": {
      "_model_module": "@jupyter-widgets/controls",
      "_model_module_version": "1.5.0",
      "_model_name": "ButtonStyleModel",
      "_view_count": null,
      "_view_module": "@jupyter-widgets/base",
      "_view_module_version": "1.2.0",
      "_view_name": "StyleView",
      "button_color": null,
      "font_weight": ""
     }
    },
    "3bc9f4d0238b42d8bc7010d0d916d718": {
     "model_module": "@jupyter-widgets/controls",
     "model_name": "HBoxModel",
     "state": {
      "_dom_classes": [],
      "_model_module": "@jupyter-widgets/controls",
      "_model_module_version": "1.5.0",
      "_model_name": "HBoxModel",
      "_view_count": null,
      "_view_module": "@jupyter-widgets/controls",
      "_view_module_version": "1.5.0",
      "_view_name": "HBoxView",
      "box_style": "",
      "children": [
       "IPY_MODEL_537606809dc94d838fd9979958f62fd1",
       "IPY_MODEL_ed4a461621a24eeaabf0a279bf89bb1f"
      ],
      "layout": "IPY_MODEL_66033da603c048d6846ab1f77d4c73db"
     }
    },
    "3de3079c3fed43149c24d915c1db5b8d": {
     "model_module": "@jupyter-widgets/controls",
     "model_name": "ProgressStyleModel",
     "state": {
      "_model_module": "@jupyter-widgets/controls",
      "_model_module_version": "1.5.0",
      "_model_name": "ProgressStyleModel",
      "_view_count": null,
      "_view_module": "@jupyter-widgets/base",
      "_view_module_version": "1.2.0",
      "_view_name": "StyleView",
      "bar_color": null,
      "description_width": "initial"
     }
    },
    "3e51cc8c32a54601a4f85b0bfc026371": {
     "model_module": "@jupyter-widgets/base",
     "model_name": "LayoutModel",
     "state": {
      "_model_module": "@jupyter-widgets/base",
      "_model_module_version": "1.2.0",
      "_model_name": "LayoutModel",
      "_view_count": null,
      "_view_module": "@jupyter-widgets/base",
      "_view_module_version": "1.2.0",
      "_view_name": "LayoutView",
      "align_content": null,
      "align_items": null,
      "align_self": null,
      "border": null,
      "bottom": null,
      "display": null,
      "flex": null,
      "flex_flow": null,
      "grid_area": null,
      "grid_auto_columns": null,
      "grid_auto_flow": null,
      "grid_auto_rows": null,
      "grid_column": null,
      "grid_gap": null,
      "grid_row": null,
      "grid_template_areas": null,
      "grid_template_columns": null,
      "grid_template_rows": null,
      "height": null,
      "justify_content": null,
      "justify_items": null,
      "left": null,
      "margin": null,
      "max_height": null,
      "max_width": null,
      "min_height": null,
      "min_width": null,
      "object_fit": null,
      "object_position": null,
      "order": null,
      "overflow": null,
      "overflow_x": null,
      "overflow_y": null,
      "padding": null,
      "right": null,
      "top": null,
      "visibility": null,
      "width": null
     }
    },
    "3e9fe05cb8a144a58ff67fdfdeec03d8": {
     "model_module": "@jupyter-widgets/controls",
     "model_name": "FloatProgressModel",
     "state": {
      "_dom_classes": [],
      "_model_module": "@jupyter-widgets/controls",
      "_model_module_version": "1.5.0",
      "_model_name": "FloatProgressModel",
      "_view_count": null,
      "_view_module": "@jupyter-widgets/controls",
      "_view_module_version": "1.5.0",
      "_view_name": "ProgressView",
      "bar_style": "success",
      "description": "Downloading: 100%",
      "description_tooltip": null,
      "layout": "IPY_MODEL_e0bab6fbd0164567835b068cca6b629e",
      "max": 231508,
      "min": 0,
      "orientation": "horizontal",
      "style": "IPY_MODEL_a1e161dfa41145528a0bdf7c132f6b3d",
      "value": 231508
     }
    },
    "3f13e921f553416fb17c4cf7980676bf": {
     "model_module": "@jupyter-widgets/controls",
     "model_name": "FloatProgressModel",
     "state": {
      "_dom_classes": [],
      "_model_module": "@jupyter-widgets/controls",
      "_model_module_version": "1.5.0",
      "_model_name": "FloatProgressModel",
      "_view_count": null,
      "_view_module": "@jupyter-widgets/controls",
      "_view_module_version": "1.5.0",
      "_view_name": "ProgressView",
      "bar_style": "success",
      "description": "Downloading: 100%",
      "description_tooltip": null,
      "layout": "IPY_MODEL_2d7df45ccca34bcb9fcc8f6b013403e0",
      "max": 440473133,
      "min": 0,
      "orientation": "horizontal",
      "style": "IPY_MODEL_5e5588f6c717416a8c22438468ddada4",
      "value": 440473133
     }
    },
    "43b009f816c34da9abad40148e44a01f": {
     "model_module": "@jupyter-widgets/base",
     "model_name": "LayoutModel",
     "state": {
      "_model_module": "@jupyter-widgets/base",
      "_model_module_version": "1.2.0",
      "_model_name": "LayoutModel",
      "_view_count": null,
      "_view_module": "@jupyter-widgets/base",
      "_view_module_version": "1.2.0",
      "_view_name": "LayoutView",
      "align_content": null,
      "align_items": null,
      "align_self": null,
      "border": null,
      "bottom": null,
      "display": null,
      "flex": null,
      "flex_flow": null,
      "grid_area": null,
      "grid_auto_columns": null,
      "grid_auto_flow": null,
      "grid_auto_rows": null,
      "grid_column": null,
      "grid_gap": null,
      "grid_row": null,
      "grid_template_areas": null,
      "grid_template_columns": null,
      "grid_template_rows": null,
      "height": null,
      "justify_content": null,
      "justify_items": null,
      "left": null,
      "margin": null,
      "max_height": null,
      "max_width": null,
      "min_height": null,
      "min_width": null,
      "object_fit": null,
      "object_position": null,
      "order": null,
      "overflow": null,
      "overflow_x": null,
      "overflow_y": null,
      "padding": null,
      "right": null,
      "top": null,
      "visibility": null,
      "width": null
     }
    },
    "48f7eb00d1004fcf9a141e4a569e70e3": {
     "model_module": "@jupyter-widgets/controls",
     "model_name": "ButtonStyleModel",
     "state": {
      "_model_module": "@jupyter-widgets/controls",
      "_model_module_version": "1.5.0",
      "_model_name": "ButtonStyleModel",
      "_view_count": null,
      "_view_module": "@jupyter-widgets/base",
      "_view_module_version": "1.2.0",
      "_view_name": "StyleView",
      "button_color": null,
      "font_weight": ""
     }
    },
    "491bf734790140fe9fbd670282286863": {
     "model_module": "@jupyter-widgets/base",
     "model_name": "LayoutModel",
     "state": {
      "_model_module": "@jupyter-widgets/base",
      "_model_module_version": "1.2.0",
      "_model_name": "LayoutModel",
      "_view_count": null,
      "_view_module": "@jupyter-widgets/base",
      "_view_module_version": "1.2.0",
      "_view_name": "LayoutView",
      "align_content": null,
      "align_items": null,
      "align_self": null,
      "border": null,
      "bottom": null,
      "display": null,
      "flex": null,
      "flex_flow": null,
      "grid_area": null,
      "grid_auto_columns": null,
      "grid_auto_flow": null,
      "grid_auto_rows": null,
      "grid_column": null,
      "grid_gap": null,
      "grid_row": null,
      "grid_template_areas": null,
      "grid_template_columns": null,
      "grid_template_rows": null,
      "height": null,
      "justify_content": null,
      "justify_items": null,
      "left": null,
      "margin": null,
      "max_height": null,
      "max_width": null,
      "min_height": null,
      "min_width": null,
      "object_fit": null,
      "object_position": null,
      "order": null,
      "overflow": null,
      "overflow_x": null,
      "overflow_y": null,
      "padding": null,
      "right": null,
      "top": null,
      "visibility": null,
      "width": null
     }
    },
    "49b01ae6af1e42779ce45890a27f1992": {
     "model_module": "@jupyter-widgets/controls",
     "model_name": "LabelModel",
     "state": {
      "_dom_classes": [],
      "_model_module": "@jupyter-widgets/controls",
      "_model_module_version": "1.5.0",
      "_model_name": "LabelModel",
      "_view_count": null,
      "_view_module": "@jupyter-widgets/controls",
      "_view_module_version": "1.5.0",
      "_view_name": "LabelView",
      "description": "",
      "description_tooltip": null,
      "layout": "IPY_MODEL_cedb746126bc4d35a1ffc4f039e318cf",
      "placeholder": "​",
      "style": "IPY_MODEL_ad897e1c7a5348b880138302bf9c85e0",
      "value": "Sliders"
     }
    },
    "4a217fb1bde04933a3fff8e5d941760b": {
     "model_module": "@jupyter-widgets/controls",
     "model_name": "HBoxModel",
     "state": {
      "_dom_classes": [],
      "_model_module": "@jupyter-widgets/controls",
      "_model_module_version": "1.5.0",
      "_model_name": "HBoxModel",
      "_view_count": null,
      "_view_module": "@jupyter-widgets/controls",
      "_view_module_version": "1.5.0",
      "_view_name": "HBoxView",
      "box_style": "",
      "children": [
       "IPY_MODEL_3e9fe05cb8a144a58ff67fdfdeec03d8",
       "IPY_MODEL_83aef65c4a86409ba396d907a5a04a5a"
      ],
      "layout": "IPY_MODEL_f4a5d0ec5727429aa55b7922c583d477"
     }
    },
    "4a8160f703094e3986b96c69bf69b905": {
     "model_module": "@jupyter-widgets/controls",
     "model_name": "ButtonModel",
     "state": {
      "_dom_classes": [],
      "_model_module": "@jupyter-widgets/controls",
      "_model_module_version": "1.5.0",
      "_model_name": "ButtonModel",
      "_view_count": null,
      "_view_module": "@jupyter-widgets/controls",
      "_view_module_version": "1.5.0",
      "_view_name": "ButtonView",
      "button_style": "primary",
      "description": "BERT-large",
      "disabled": false,
      "icon": "",
      "layout": "IPY_MODEL_f581b8c069b64ab2bd93248b333d3c2a",
      "style": "IPY_MODEL_0b83366817dc444dabc85b4a50827dc2",
      "tooltip": "Click to submit"
     }
    },
    "4cf0a1d4c12941589ca89119e1c1e0d7": {
     "model_module": "@jupyter-widgets/controls",
     "model_name": "ButtonModel",
     "state": {
      "_dom_classes": [],
      "_model_module": "@jupyter-widgets/controls",
      "_model_module_version": "1.5.0",
      "_model_name": "ButtonModel",
      "_view_count": null,
      "_view_module": "@jupyter-widgets/controls",
      "_view_module_version": "1.5.0",
      "_view_name": "ButtonView",
      "button_style": "",
      "description": "Submit",
      "disabled": false,
      "icon": "",
      "layout": "IPY_MODEL_491bf734790140fe9fbd670282286863",
      "style": "IPY_MODEL_5b719ba4e8f8460383f8373683643257",
      "tooltip": "Click to submit"
     }
    },
    "4d98f133c27a447990a69646ff8f41a5": {
     "model_module": "@jupyter-widgets/base",
     "model_name": "LayoutModel",
     "state": {
      "_model_module": "@jupyter-widgets/base",
      "_model_module_version": "1.2.0",
      "_model_name": "LayoutModel",
      "_view_count": null,
      "_view_module": "@jupyter-widgets/base",
      "_view_module_version": "1.2.0",
      "_view_name": "LayoutView",
      "align_content": null,
      "align_items": null,
      "align_self": null,
      "border": null,
      "bottom": null,
      "display": null,
      "flex": null,
      "flex_flow": null,
      "grid_area": null,
      "grid_auto_columns": null,
      "grid_auto_flow": null,
      "grid_auto_rows": null,
      "grid_column": null,
      "grid_gap": null,
      "grid_row": null,
      "grid_template_areas": null,
      "grid_template_columns": null,
      "grid_template_rows": null,
      "height": null,
      "justify_content": null,
      "justify_items": null,
      "left": null,
      "margin": null,
      "max_height": null,
      "max_width": null,
      "min_height": null,
      "min_width": null,
      "object_fit": null,
      "object_position": null,
      "order": null,
      "overflow": null,
      "overflow_x": null,
      "overflow_y": null,
      "padding": null,
      "right": null,
      "top": null,
      "visibility": null,
      "width": null
     }
    },
    "4e136dad462d48fbb60d43b2e83bfbfd": {
     "model_module": "@jupyter-widgets/base",
     "model_name": "LayoutModel",
     "state": {
      "_model_module": "@jupyter-widgets/base",
      "_model_module_version": "1.2.0",
      "_model_name": "LayoutModel",
      "_view_count": null,
      "_view_module": "@jupyter-widgets/base",
      "_view_module_version": "1.2.0",
      "_view_name": "LayoutView",
      "align_content": null,
      "align_items": null,
      "align_self": null,
      "border": null,
      "bottom": null,
      "display": null,
      "flex": null,
      "flex_flow": null,
      "grid_area": null,
      "grid_auto_columns": null,
      "grid_auto_flow": null,
      "grid_auto_rows": null,
      "grid_column": null,
      "grid_gap": null,
      "grid_row": null,
      "grid_template_areas": null,
      "grid_template_columns": null,
      "grid_template_rows": null,
      "height": null,
      "justify_content": null,
      "justify_items": null,
      "left": null,
      "margin": null,
      "max_height": null,
      "max_width": null,
      "min_height": null,
      "min_width": null,
      "object_fit": null,
      "object_position": null,
      "order": null,
      "overflow": null,
      "overflow_x": null,
      "overflow_y": null,
      "padding": null,
      "right": null,
      "top": null,
      "visibility": null,
      "width": null
     }
    },
    "4f86647bf83d45c088df343ebc0c02e3": {
     "model_module": "@jupyter-widgets/base",
     "model_name": "LayoutModel",
     "state": {
      "_model_module": "@jupyter-widgets/base",
      "_model_module_version": "1.2.0",
      "_model_name": "LayoutModel",
      "_view_count": null,
      "_view_module": "@jupyter-widgets/base",
      "_view_module_version": "1.2.0",
      "_view_name": "LayoutView",
      "align_content": null,
      "align_items": null,
      "align_self": null,
      "border": null,
      "bottom": null,
      "display": null,
      "flex": null,
      "flex_flow": null,
      "grid_area": null,
      "grid_auto_columns": null,
      "grid_auto_flow": null,
      "grid_auto_rows": null,
      "grid_column": null,
      "grid_gap": null,
      "grid_row": null,
      "grid_template_areas": null,
      "grid_template_columns": null,
      "grid_template_rows": null,
      "height": null,
      "justify_content": null,
      "justify_items": null,
      "left": null,
      "margin": null,
      "max_height": null,
      "max_width": null,
      "min_height": null,
      "min_width": null,
      "object_fit": null,
      "object_position": null,
      "order": null,
      "overflow": null,
      "overflow_x": null,
      "overflow_y": null,
      "padding": null,
      "right": null,
      "top": null,
      "visibility": null,
      "width": null
     }
    },
    "504f5a28286840f793fff48589c02a5d": {
     "model_module": "@jupyter-widgets/controls",
     "model_name": "FloatProgressModel",
     "state": {
      "_dom_classes": [],
      "_model_module": "@jupyter-widgets/controls",
      "_model_module_version": "1.5.0",
      "_model_name": "FloatProgressModel",
      "_view_count": null,
      "_view_module": "@jupyter-widgets/controls",
      "_view_module_version": "1.5.0",
      "_view_name": "ProgressView",
      "bar_style": "success",
      "description": "Downloading: 100%",
      "description_tooltip": null,
      "layout": "IPY_MODEL_6ae36bbd300b4afd8fd513607732e374",
      "max": 213450,
      "min": 0,
      "orientation": "horizontal",
      "style": "IPY_MODEL_9d9f0b293e1c49f3aaf44c313b77b263",
      "value": 213450
     }
    },
    "51a8ba13dda8478aa463f996ec48bf56": {
     "model_module": "@jupyter-widgets/controls",
     "model_name": "ButtonStyleModel",
     "state": {
      "_model_module": "@jupyter-widgets/controls",
      "_model_module_version": "1.5.0",
      "_model_name": "ButtonStyleModel",
      "_view_count": null,
      "_view_module": "@jupyter-widgets/base",
      "_view_module_version": "1.2.0",
      "_view_name": "StyleView",
      "button_color": null,
      "font_weight": ""
     }
    },
    "51eff83df58a420789ce555c38452edb": {
     "model_module": "@jupyter-widgets/base",
     "model_name": "LayoutModel",
     "state": {
      "_model_module": "@jupyter-widgets/base",
      "_model_module_version": "1.2.0",
      "_model_name": "LayoutModel",
      "_view_count": null,
      "_view_module": "@jupyter-widgets/base",
      "_view_module_version": "1.2.0",
      "_view_name": "LayoutView",
      "align_content": null,
      "align_items": null,
      "align_self": null,
      "border": null,
      "bottom": null,
      "display": null,
      "flex": null,
      "flex_flow": null,
      "grid_area": null,
      "grid_auto_columns": null,
      "grid_auto_flow": null,
      "grid_auto_rows": null,
      "grid_column": null,
      "grid_gap": null,
      "grid_row": null,
      "grid_template_areas": null,
      "grid_template_columns": null,
      "grid_template_rows": null,
      "height": null,
      "justify_content": null,
      "justify_items": null,
      "left": null,
      "margin": null,
      "max_height": null,
      "max_width": null,
      "min_height": null,
      "min_width": null,
      "object_fit": null,
      "object_position": null,
      "order": null,
      "overflow": null,
      "overflow_x": null,
      "overflow_y": null,
      "padding": null,
      "right": null,
      "top": null,
      "visibility": null,
      "width": null
     }
    },
    "537606809dc94d838fd9979958f62fd1": {
     "model_module": "@jupyter-widgets/controls",
     "model_name": "FloatProgressModel",
     "state": {
      "_dom_classes": [],
      "_model_module": "@jupyter-widgets/controls",
      "_model_module_version": "1.5.0",
      "_model_name": "FloatProgressModel",
      "_view_count": null,
      "_view_module": "@jupyter-widgets/controls",
      "_view_module_version": "1.5.0",
      "_view_name": "ProgressView",
      "bar_style": "success",
      "description": "Downloading: 100%",
      "description_tooltip": null,
      "layout": "IPY_MODEL_bcd319d6ae274ba5bc6ad211a93e77af",
      "max": 435778770,
      "min": 0,
      "orientation": "horizontal",
      "style": "IPY_MODEL_a7795027cebc447987e3859ab0844442",
      "value": 435778770
     }
    },
    "554bb90f2c184f8f9c259bf6029f696e": {
     "model_module": "@jupyter-widgets/controls",
     "model_name": "HBoxModel",
     "state": {
      "_dom_classes": [],
      "_model_module": "@jupyter-widgets/controls",
      "_model_module_version": "1.5.0",
      "_model_name": "HBoxModel",
      "_view_count": null,
      "_view_module": "@jupyter-widgets/controls",
      "_view_module_version": "1.5.0",
      "_view_name": "HBoxView",
      "box_style": "",
      "children": [
       "IPY_MODEL_3f13e921f553416fb17c4cf7980676bf",
       "IPY_MODEL_e8391ac16e7e442bb9931c23f3030b31"
      ],
      "layout": "IPY_MODEL_b5758a78d41e420cacbb905822f19ba5"
     }
    },
    "565d68b4ef854c22ac2e20bbfccd7c90": {
     "model_module": "@jupyter-widgets/controls",
     "model_name": "HBoxModel",
     "state": {
      "_dom_classes": [],
      "_model_module": "@jupyter-widgets/controls",
      "_model_module_version": "1.5.0",
      "_model_name": "HBoxModel",
      "_view_count": null,
      "_view_module": "@jupyter-widgets/controls",
      "_view_module_version": "1.5.0",
      "_view_name": "HBoxView",
      "box_style": "",
      "children": [
       "IPY_MODEL_f78ad016fb9e424bb5ca6381fac027b0",
       "IPY_MODEL_c11ee0a543c54c1c840c841b5fc6d26b"
      ],
      "layout": "IPY_MODEL_036c01423ba941c78a5b3ab1ee4a8a0e"
     }
    },
    "5ae4d307fa2d42eb964d02dedfb69511": {
     "model_module": "@jupyter-widgets/controls",
     "model_name": "LabelModel",
     "state": {
      "_dom_classes": [],
      "_model_module": "@jupyter-widgets/controls",
      "_model_module_version": "1.5.0",
      "_model_name": "LabelModel",
      "_view_count": null,
      "_view_module": "@jupyter-widgets/controls",
      "_view_module_version": "1.5.0",
      "_view_name": "LabelView",
      "description": "",
      "description_tooltip": null,
      "layout": "IPY_MODEL_aa807ac02d0c49a7916bd25860846f82",
      "placeholder": "​",
      "style": "IPY_MODEL_e0d693a8c39b4b46bd629e6e74946a01",
      "value": "Word appropriateness detector for single sentence."
     }
    },
    "5b719ba4e8f8460383f8373683643257": {
     "model_module": "@jupyter-widgets/controls",
     "model_name": "ButtonStyleModel",
     "state": {
      "_model_module": "@jupyter-widgets/controls",
      "_model_module_version": "1.5.0",
      "_model_name": "ButtonStyleModel",
      "_view_count": null,
      "_view_module": "@jupyter-widgets/base",
      "_view_module_version": "1.2.0",
      "_view_name": "StyleView",
      "button_color": null,
      "font_weight": ""
     }
    },
    "5b7e1ebeab16400698f0e6f8953825bb": {
     "model_module": "@jupyter-widgets/base",
     "model_name": "LayoutModel",
     "state": {
      "_model_module": "@jupyter-widgets/base",
      "_model_module_version": "1.2.0",
      "_model_name": "LayoutModel",
      "_view_count": null,
      "_view_module": "@jupyter-widgets/base",
      "_view_module_version": "1.2.0",
      "_view_name": "LayoutView",
      "align_content": null,
      "align_items": null,
      "align_self": null,
      "border": null,
      "bottom": null,
      "display": null,
      "flex": null,
      "flex_flow": null,
      "grid_area": null,
      "grid_auto_columns": null,
      "grid_auto_flow": null,
      "grid_auto_rows": null,
      "grid_column": null,
      "grid_gap": null,
      "grid_row": null,
      "grid_template_areas": null,
      "grid_template_columns": null,
      "grid_template_rows": null,
      "height": null,
      "justify_content": null,
      "justify_items": null,
      "left": null,
      "margin": null,
      "max_height": null,
      "max_width": null,
      "min_height": null,
      "min_width": null,
      "object_fit": null,
      "object_position": null,
      "order": null,
      "overflow": null,
      "overflow_x": null,
      "overflow_y": null,
      "padding": null,
      "right": null,
      "top": null,
      "visibility": null,
      "width": null
     }
    },
    "5e5588f6c717416a8c22438468ddada4": {
     "model_module": "@jupyter-widgets/controls",
     "model_name": "ProgressStyleModel",
     "state": {
      "_model_module": "@jupyter-widgets/controls",
      "_model_module_version": "1.5.0",
      "_model_name": "ProgressStyleModel",
      "_view_count": null,
      "_view_module": "@jupyter-widgets/base",
      "_view_module_version": "1.2.0",
      "_view_name": "StyleView",
      "bar_color": null,
      "description_width": "initial"
     }
    },
    "5fc2f47087af40f789357b71d2b30a6b": {
     "model_module": "@jupyter-widgets/base",
     "model_name": "LayoutModel",
     "state": {
      "_model_module": "@jupyter-widgets/base",
      "_model_module_version": "1.2.0",
      "_model_name": "LayoutModel",
      "_view_count": null,
      "_view_module": "@jupyter-widgets/base",
      "_view_module_version": "1.2.0",
      "_view_name": "LayoutView",
      "align_content": null,
      "align_items": null,
      "align_self": null,
      "border": null,
      "bottom": null,
      "display": null,
      "flex": null,
      "flex_flow": null,
      "grid_area": null,
      "grid_auto_columns": null,
      "grid_auto_flow": null,
      "grid_auto_rows": null,
      "grid_column": null,
      "grid_gap": null,
      "grid_row": null,
      "grid_template_areas": null,
      "grid_template_columns": null,
      "grid_template_rows": null,
      "height": null,
      "justify_content": null,
      "justify_items": null,
      "left": null,
      "margin": null,
      "max_height": null,
      "max_width": null,
      "min_height": null,
      "min_width": null,
      "object_fit": null,
      "object_position": null,
      "order": null,
      "overflow": null,
      "overflow_x": null,
      "overflow_y": null,
      "padding": null,
      "right": null,
      "top": null,
      "visibility": null,
      "width": null
     }
    },
    "603043e97dc24e26b43a2dd01e0997c1": {
     "model_module": "@jupyter-widgets/controls",
     "model_name": "HBoxModel",
     "state": {
      "_dom_classes": [],
      "_model_module": "@jupyter-widgets/controls",
      "_model_module_version": "1.5.0",
      "_model_name": "HBoxModel",
      "_view_count": null,
      "_view_module": "@jupyter-widgets/controls",
      "_view_module_version": "1.5.0",
      "_view_name": "HBoxView",
      "box_style": "",
      "children": [
       "IPY_MODEL_26a166e6e46849ceb71ff268a7c92308",
       "IPY_MODEL_87550d9e0fb24a04818de0699f47aa51"
      ],
      "layout": "IPY_MODEL_f26f2264bee74c4eb6350cc4ee958e14"
     }
    },
    "619366dd36f74aa1a89d6f464f365d6f": {
     "model_module": "@jupyter-widgets/controls",
     "model_name": "DescriptionStyleModel",
     "state": {
      "_model_module": "@jupyter-widgets/controls",
      "_model_module_version": "1.5.0",
      "_model_name": "DescriptionStyleModel",
      "_view_count": null,
      "_view_module": "@jupyter-widgets/base",
      "_view_module_version": "1.2.0",
      "_view_name": "StyleView",
      "description_width": ""
     }
    },
    "6253d4f1bbc84856826cbdf087e8afdb": {
     "model_module": "@jupyter-widgets/base",
     "model_name": "LayoutModel",
     "state": {
      "_model_module": "@jupyter-widgets/base",
      "_model_module_version": "1.2.0",
      "_model_name": "LayoutModel",
      "_view_count": null,
      "_view_module": "@jupyter-widgets/base",
      "_view_module_version": "1.2.0",
      "_view_name": "LayoutView",
      "align_content": null,
      "align_items": null,
      "align_self": null,
      "border": null,
      "bottom": null,
      "display": null,
      "flex": null,
      "flex_flow": null,
      "grid_area": null,
      "grid_auto_columns": null,
      "grid_auto_flow": null,
      "grid_auto_rows": null,
      "grid_column": null,
      "grid_gap": null,
      "grid_row": null,
      "grid_template_areas": null,
      "grid_template_columns": null,
      "grid_template_rows": null,
      "height": null,
      "justify_content": null,
      "justify_items": null,
      "left": null,
      "margin": null,
      "max_height": null,
      "max_width": null,
      "min_height": null,
      "min_width": null,
      "object_fit": null,
      "object_position": null,
      "order": null,
      "overflow": null,
      "overflow_x": null,
      "overflow_y": null,
      "padding": null,
      "right": null,
      "top": null,
      "visibility": null,
      "width": null
     }
    },
    "63daf649b14e412e89bce453f6ecaf9e": {
     "model_module": "@jupyter-widgets/controls",
     "model_name": "ButtonStyleModel",
     "state": {
      "_model_module": "@jupyter-widgets/controls",
      "_model_module_version": "1.5.0",
      "_model_name": "ButtonStyleModel",
      "_view_count": null,
      "_view_module": "@jupyter-widgets/base",
      "_view_module_version": "1.2.0",
      "_view_name": "StyleView",
      "button_color": null,
      "font_weight": ""
     }
    },
    "66033da603c048d6846ab1f77d4c73db": {
     "model_module": "@jupyter-widgets/base",
     "model_name": "LayoutModel",
     "state": {
      "_model_module": "@jupyter-widgets/base",
      "_model_module_version": "1.2.0",
      "_model_name": "LayoutModel",
      "_view_count": null,
      "_view_module": "@jupyter-widgets/base",
      "_view_module_version": "1.2.0",
      "_view_name": "LayoutView",
      "align_content": null,
      "align_items": null,
      "align_self": null,
      "border": null,
      "bottom": null,
      "display": null,
      "flex": null,
      "flex_flow": null,
      "grid_area": null,
      "grid_auto_columns": null,
      "grid_auto_flow": null,
      "grid_auto_rows": null,
      "grid_column": null,
      "grid_gap": null,
      "grid_row": null,
      "grid_template_areas": null,
      "grid_template_columns": null,
      "grid_template_rows": null,
      "height": null,
      "justify_content": null,
      "justify_items": null,
      "left": null,
      "margin": null,
      "max_height": null,
      "max_width": null,
      "min_height": null,
      "min_width": null,
      "object_fit": null,
      "object_position": null,
      "order": null,
      "overflow": null,
      "overflow_x": null,
      "overflow_y": null,
      "padding": null,
      "right": null,
      "top": null,
      "visibility": null,
      "width": null
     }
    },
    "69913b45f97648d286db8d1a34988724": {
     "model_module": "@jupyter-widgets/base",
     "model_name": "LayoutModel",
     "state": {
      "_model_module": "@jupyter-widgets/base",
      "_model_module_version": "1.2.0",
      "_model_name": "LayoutModel",
      "_view_count": null,
      "_view_module": "@jupyter-widgets/base",
      "_view_module_version": "1.2.0",
      "_view_name": "LayoutView",
      "align_content": null,
      "align_items": null,
      "align_self": null,
      "border": null,
      "bottom": null,
      "display": null,
      "flex": null,
      "flex_flow": null,
      "grid_area": null,
      "grid_auto_columns": null,
      "grid_auto_flow": null,
      "grid_auto_rows": null,
      "grid_column": null,
      "grid_gap": null,
      "grid_row": null,
      "grid_template_areas": null,
      "grid_template_columns": null,
      "grid_template_rows": null,
      "height": null,
      "justify_content": null,
      "justify_items": null,
      "left": null,
      "margin": null,
      "max_height": null,
      "max_width": null,
      "min_height": null,
      "min_width": null,
      "object_fit": null,
      "object_position": null,
      "order": null,
      "overflow": null,
      "overflow_x": null,
      "overflow_y": null,
      "padding": null,
      "right": null,
      "top": null,
      "visibility": null,
      "width": null
     }
    },
    "6ae36bbd300b4afd8fd513607732e374": {
     "model_module": "@jupyter-widgets/base",
     "model_name": "LayoutModel",
     "state": {
      "_model_module": "@jupyter-widgets/base",
      "_model_module_version": "1.2.0",
      "_model_name": "LayoutModel",
      "_view_count": null,
      "_view_module": "@jupyter-widgets/base",
      "_view_module_version": "1.2.0",
      "_view_name": "LayoutView",
      "align_content": null,
      "align_items": null,
      "align_self": null,
      "border": null,
      "bottom": null,
      "display": null,
      "flex": null,
      "flex_flow": null,
      "grid_area": null,
      "grid_auto_columns": null,
      "grid_auto_flow": null,
      "grid_auto_rows": null,
      "grid_column": null,
      "grid_gap": null,
      "grid_row": null,
      "grid_template_areas": null,
      "grid_template_columns": null,
      "grid_template_rows": null,
      "height": null,
      "justify_content": null,
      "justify_items": null,
      "left": null,
      "margin": null,
      "max_height": null,
      "max_width": null,
      "min_height": null,
      "min_width": null,
      "object_fit": null,
      "object_position": null,
      "order": null,
      "overflow": null,
      "overflow_x": null,
      "overflow_y": null,
      "padding": null,
      "right": null,
      "top": null,
      "visibility": null,
      "width": null
     }
    },
    "6df2197639864c2a84c6cdf13660d024": {
     "model_module": "@jupyter-widgets/controls",
     "model_name": "IntSliderModel",
     "state": {
      "_dom_classes": [],
      "_model_module": "@jupyter-widgets/controls",
      "_model_module_version": "1.5.0",
      "_model_name": "IntSliderModel",
      "_view_count": null,
      "_view_module": "@jupyter-widgets/controls",
      "_view_module_version": "1.5.0",
      "_view_name": "IntSliderView",
      "continuous_update": true,
      "description": "Slider 2",
      "description_tooltip": null,
      "disabled": false,
      "layout": "IPY_MODEL_43b009f816c34da9abad40148e44a01f",
      "max": 100,
      "min": 0,
      "orientation": "horizontal",
      "readout": true,
      "readout_format": "d",
      "step": 1,
      "style": "IPY_MODEL_90663781a8044e66ba92e8da4e62a1a5",
      "value": 66
     }
    },
    "6f09c80bcc9e4a8ea88372a48bf5e744": {
     "model_module": "@jupyter-widgets/base",
     "model_name": "LayoutModel",
     "state": {
      "_model_module": "@jupyter-widgets/base",
      "_model_module_version": "1.2.0",
      "_model_name": "LayoutModel",
      "_view_count": null,
      "_view_module": "@jupyter-widgets/base",
      "_view_module_version": "1.2.0",
      "_view_name": "LayoutView",
      "align_content": null,
      "align_items": null,
      "align_self": null,
      "border": null,
      "bottom": null,
      "display": null,
      "flex": null,
      "flex_flow": null,
      "grid_area": null,
      "grid_auto_columns": null,
      "grid_auto_flow": null,
      "grid_auto_rows": null,
      "grid_column": null,
      "grid_gap": null,
      "grid_row": null,
      "grid_template_areas": null,
      "grid_template_columns": null,
      "grid_template_rows": null,
      "height": null,
      "justify_content": null,
      "justify_items": null,
      "left": null,
      "margin": null,
      "max_height": null,
      "max_width": null,
      "min_height": null,
      "min_width": null,
      "object_fit": null,
      "object_position": null,
      "order": null,
      "overflow": null,
      "overflow_x": null,
      "overflow_y": null,
      "padding": null,
      "right": null,
      "top": null,
      "visibility": null,
      "width": null
     }
    },
    "701d0eaa2d8b4c619805ed2529e8b4a6": {
     "model_module": "@jupyter-widgets/controls",
     "model_name": "HBoxModel",
     "state": {
      "_dom_classes": [],
      "_model_module": "@jupyter-widgets/controls",
      "_model_module_version": "1.5.0",
      "_model_name": "HBoxModel",
      "_view_count": null,
      "_view_module": "@jupyter-widgets/controls",
      "_view_module_version": "1.5.0",
      "_view_name": "HBoxView",
      "box_style": "",
      "children": [
       "IPY_MODEL_7429919699cf401688ef719c8cc23039",
       "IPY_MODEL_c5747cdfcca44d298663d01f190f10b6"
      ],
      "layout": "IPY_MODEL_833ce73c24b245199fcc32b3f8d51459"
     }
    },
    "7040942ddada41c3b2e9361820440629": {
     "model_module": "@jupyter-widgets/controls",
     "model_name": "ProgressStyleModel",
     "state": {
      "_model_module": "@jupyter-widgets/controls",
      "_model_module_version": "1.5.0",
      "_model_name": "ProgressStyleModel",
      "_view_count": null,
      "_view_module": "@jupyter-widgets/base",
      "_view_module_version": "1.2.0",
      "_view_name": "StyleView",
      "bar_color": null,
      "description_width": "initial"
     }
    },
    "73aa2dd89dc94761af5227b0dd009791": {
     "model_module": "@jupyter-widgets/controls",
     "model_name": "FloatProgressModel",
     "state": {
      "_dom_classes": [],
      "_model_module": "@jupyter-widgets/controls",
      "_model_module_version": "1.5.0",
      "_model_name": "FloatProgressModel",
      "_view_count": null,
      "_view_module": "@jupyter-widgets/controls",
      "_view_module_version": "1.5.0",
      "_view_name": "ProgressView",
      "bar_style": "success",
      "description": "Downloading: 100%",
      "description_tooltip": null,
      "layout": "IPY_MODEL_f793c559be5045ad8e6725653afb7c8b",
      "max": 433,
      "min": 0,
      "orientation": "horizontal",
      "style": "IPY_MODEL_c77ee6341a614cdead540fc35aec3c31",
      "value": 433
     }
    },
    "7429919699cf401688ef719c8cc23039": {
     "model_module": "@jupyter-widgets/controls",
     "model_name": "FloatProgressModel",
     "state": {
      "_dom_classes": [],
      "_model_module": "@jupyter-widgets/controls",
      "_model_module_version": "1.5.0",
      "_model_name": "FloatProgressModel",
      "_view_count": null,
      "_view_module": "@jupyter-widgets/controls",
      "_view_module_version": "1.5.0",
      "_view_name": "ProgressView",
      "bar_style": "success",
      "description": "Downloading: 100%",
      "description_tooltip": null,
      "layout": "IPY_MODEL_d575b31555bb4024aaa7524d392849f4",
      "max": 231508,
      "min": 0,
      "orientation": "horizontal",
      "style": "IPY_MODEL_7040942ddada41c3b2e9361820440629",
      "value": 231508
     }
    },
    "744437d9dce74090926ddc7a972fa286": {
     "model_module": "@jupyter-widgets/controls",
     "model_name": "DescriptionStyleModel",
     "state": {
      "_model_module": "@jupyter-widgets/controls",
      "_model_module_version": "1.5.0",
      "_model_name": "DescriptionStyleModel",
      "_view_count": null,
      "_view_module": "@jupyter-widgets/base",
      "_view_module_version": "1.2.0",
      "_view_name": "StyleView",
      "description_width": ""
     }
    },
    "7aaf258cf9174224af81ccbe12ca541c": {
     "model_module": "@jupyter-widgets/base",
     "model_name": "LayoutModel",
     "state": {
      "_model_module": "@jupyter-widgets/base",
      "_model_module_version": "1.2.0",
      "_model_name": "LayoutModel",
      "_view_count": null,
      "_view_module": "@jupyter-widgets/base",
      "_view_module_version": "1.2.0",
      "_view_name": "LayoutView",
      "align_content": null,
      "align_items": null,
      "align_self": null,
      "border": null,
      "bottom": null,
      "display": null,
      "flex": null,
      "flex_flow": null,
      "grid_area": null,
      "grid_auto_columns": null,
      "grid_auto_flow": null,
      "grid_auto_rows": null,
      "grid_column": null,
      "grid_gap": null,
      "grid_row": null,
      "grid_template_areas": null,
      "grid_template_columns": null,
      "grid_template_rows": null,
      "height": null,
      "justify_content": null,
      "justify_items": null,
      "left": null,
      "margin": null,
      "max_height": null,
      "max_width": null,
      "min_height": null,
      "min_width": null,
      "object_fit": null,
      "object_position": null,
      "order": null,
      "overflow": null,
      "overflow_x": null,
      "overflow_y": null,
      "padding": null,
      "right": null,
      "top": null,
      "visibility": null,
      "width": null
     }
    },
    "7af4db889bb54851adf3a3eb95dece40": {
     "model_module": "@jupyter-widgets/base",
     "model_name": "LayoutModel",
     "state": {
      "_model_module": "@jupyter-widgets/base",
      "_model_module_version": "1.2.0",
      "_model_name": "LayoutModel",
      "_view_count": null,
      "_view_module": "@jupyter-widgets/base",
      "_view_module_version": "1.2.0",
      "_view_name": "LayoutView",
      "align_content": null,
      "align_items": null,
      "align_self": null,
      "border": null,
      "bottom": null,
      "display": null,
      "flex": null,
      "flex_flow": null,
      "grid_area": null,
      "grid_auto_columns": null,
      "grid_auto_flow": null,
      "grid_auto_rows": null,
      "grid_column": null,
      "grid_gap": null,
      "grid_row": null,
      "grid_template_areas": null,
      "grid_template_columns": null,
      "grid_template_rows": null,
      "height": null,
      "justify_content": null,
      "justify_items": null,
      "left": null,
      "margin": null,
      "max_height": null,
      "max_width": null,
      "min_height": null,
      "min_width": null,
      "object_fit": null,
      "object_position": null,
      "order": null,
      "overflow": null,
      "overflow_x": null,
      "overflow_y": null,
      "padding": null,
      "right": null,
      "top": null,
      "visibility": null,
      "width": null
     }
    },
    "807638555c514d57ae90d2336f476c2e": {
     "model_module": "@jupyter-widgets/base",
     "model_name": "LayoutModel",
     "state": {
      "_model_module": "@jupyter-widgets/base",
      "_model_module_version": "1.2.0",
      "_model_name": "LayoutModel",
      "_view_count": null,
      "_view_module": "@jupyter-widgets/base",
      "_view_module_version": "1.2.0",
      "_view_name": "LayoutView",
      "align_content": null,
      "align_items": null,
      "align_self": null,
      "border": null,
      "bottom": null,
      "display": null,
      "flex": null,
      "flex_flow": null,
      "grid_area": null,
      "grid_auto_columns": null,
      "grid_auto_flow": null,
      "grid_auto_rows": null,
      "grid_column": null,
      "grid_gap": null,
      "grid_row": null,
      "grid_template_areas": null,
      "grid_template_columns": null,
      "grid_template_rows": null,
      "height": null,
      "justify_content": null,
      "justify_items": null,
      "left": null,
      "margin": null,
      "max_height": null,
      "max_width": null,
      "min_height": null,
      "min_width": null,
      "object_fit": null,
      "object_position": null,
      "order": null,
      "overflow": null,
      "overflow_x": null,
      "overflow_y": null,
      "padding": null,
      "right": null,
      "top": null,
      "visibility": null,
      "width": null
     }
    },
    "823c2d74aba144108f8db90dd7db3b4f": {
     "model_module": "@jupyter-widgets/controls",
     "model_name": "DescriptionStyleModel",
     "state": {
      "_model_module": "@jupyter-widgets/controls",
      "_model_module_version": "1.5.0",
      "_model_name": "DescriptionStyleModel",
      "_view_count": null,
      "_view_module": "@jupyter-widgets/base",
      "_view_module_version": "1.2.0",
      "_view_name": "StyleView",
      "description_width": ""
     }
    },
    "833ce73c24b245199fcc32b3f8d51459": {
     "model_module": "@jupyter-widgets/base",
     "model_name": "LayoutModel",
     "state": {
      "_model_module": "@jupyter-widgets/base",
      "_model_module_version": "1.2.0",
      "_model_name": "LayoutModel",
      "_view_count": null,
      "_view_module": "@jupyter-widgets/base",
      "_view_module_version": "1.2.0",
      "_view_name": "LayoutView",
      "align_content": null,
      "align_items": null,
      "align_self": null,
      "border": null,
      "bottom": null,
      "display": null,
      "flex": null,
      "flex_flow": null,
      "grid_area": null,
      "grid_auto_columns": null,
      "grid_auto_flow": null,
      "grid_auto_rows": null,
      "grid_column": null,
      "grid_gap": null,
      "grid_row": null,
      "grid_template_areas": null,
      "grid_template_columns": null,
      "grid_template_rows": null,
      "height": null,
      "justify_content": null,
      "justify_items": null,
      "left": null,
      "margin": null,
      "max_height": null,
      "max_width": null,
      "min_height": null,
      "min_width": null,
      "object_fit": null,
      "object_position": null,
      "order": null,
      "overflow": null,
      "overflow_x": null,
      "overflow_y": null,
      "padding": null,
      "right": null,
      "top": null,
      "visibility": null,
      "width": null
     }
    },
    "83aef65c4a86409ba396d907a5a04a5a": {
     "model_module": "@jupyter-widgets/controls",
     "model_name": "HTMLModel",
     "state": {
      "_dom_classes": [],
      "_model_module": "@jupyter-widgets/controls",
      "_model_module_version": "1.5.0",
      "_model_name": "HTMLModel",
      "_view_count": null,
      "_view_module": "@jupyter-widgets/controls",
      "_view_module_version": "1.5.0",
      "_view_name": "HTMLView",
      "description": "",
      "description_tooltip": null,
      "layout": "IPY_MODEL_69913b45f97648d286db8d1a34988724",
      "placeholder": "​",
      "style": "IPY_MODEL_8e2f33e2f17749f6b382f86b9a428609",
      "value": " 232k/232k [00:00&lt;00:00, 2.13MB/s]"
     }
    },
    "85600057818b4188a961c8fe87b2a2e1": {
     "model_module": "@jupyter-widgets/controls",
     "model_name": "DescriptionStyleModel",
     "state": {
      "_model_module": "@jupyter-widgets/controls",
      "_model_module_version": "1.5.0",
      "_model_name": "DescriptionStyleModel",
      "_view_count": null,
      "_view_module": "@jupyter-widgets/base",
      "_view_module_version": "1.2.0",
      "_view_name": "StyleView",
      "description_width": ""
     }
    },
    "856dd4034566484a8da801968b6f6935": {
     "model_module": "@jupyter-widgets/controls",
     "model_name": "HTMLModel",
     "state": {
      "_dom_classes": [],
      "_model_module": "@jupyter-widgets/controls",
      "_model_module_version": "1.5.0",
      "_model_name": "HTMLModel",
      "_view_count": null,
      "_view_module": "@jupyter-widgets/controls",
      "_view_module_version": "1.5.0",
      "_view_name": "HTMLView",
      "description": "",
      "description_tooltip": null,
      "layout": "IPY_MODEL_37ad33c1cf8149e7abfa7b06227854cb",
      "placeholder": "​",
      "style": "IPY_MODEL_619366dd36f74aa1a89d6f464f365d6f",
      "value": " 433/433 [00:00&lt;00:00, 2.17kB/s]"
     }
    },
    "85a6f82ea31b4ea6bc146718f5e8ab0a": {
     "model_module": "@jupyter-widgets/base",
     "model_name": "LayoutModel",
     "state": {
      "_model_module": "@jupyter-widgets/base",
      "_model_module_version": "1.2.0",
      "_model_name": "LayoutModel",
      "_view_count": null,
      "_view_module": "@jupyter-widgets/base",
      "_view_module_version": "1.2.0",
      "_view_name": "LayoutView",
      "align_content": null,
      "align_items": null,
      "align_self": null,
      "border": null,
      "bottom": null,
      "display": null,
      "flex": null,
      "flex_flow": null,
      "grid_area": null,
      "grid_auto_columns": null,
      "grid_auto_flow": null,
      "grid_auto_rows": null,
      "grid_column": null,
      "grid_gap": null,
      "grid_row": null,
      "grid_template_areas": null,
      "grid_template_columns": null,
      "grid_template_rows": null,
      "height": null,
      "justify_content": null,
      "justify_items": null,
      "left": null,
      "margin": null,
      "max_height": null,
      "max_width": null,
      "min_height": null,
      "min_width": null,
      "object_fit": null,
      "object_position": null,
      "order": null,
      "overflow": null,
      "overflow_x": null,
      "overflow_y": null,
      "padding": null,
      "right": null,
      "top": null,
      "visibility": null,
      "width": null
     }
    },
    "87550d9e0fb24a04818de0699f47aa51": {
     "model_module": "@jupyter-widgets/controls",
     "model_name": "HTMLModel",
     "state": {
      "_dom_classes": [],
      "_model_module": "@jupyter-widgets/controls",
      "_model_module_version": "1.5.0",
      "_model_name": "HTMLModel",
      "_view_count": null,
      "_view_module": "@jupyter-widgets/controls",
      "_view_module_version": "1.5.0",
      "_view_name": "HTMLView",
      "description": "",
      "description_tooltip": null,
      "layout": "IPY_MODEL_8cf1edadd67b4906b8bde479d9bebf73",
      "placeholder": "​",
      "style": "IPY_MODEL_d4d8e0a365e3404fb02a299b701d6783",
      "value": " 440M/440M [00:24&lt;00:00, 18.2MB/s]"
     }
    },
    "8a495156b92a4bed926bc2eb409f9ddb": {
     "model_module": "@jupyter-widgets/controls",
     "model_name": "DescriptionStyleModel",
     "state": {
      "_model_module": "@jupyter-widgets/controls",
      "_model_module_version": "1.5.0",
      "_model_name": "DescriptionStyleModel",
      "_view_count": null,
      "_view_module": "@jupyter-widgets/base",
      "_view_module_version": "1.2.0",
      "_view_name": "StyleView",
      "description_width": ""
     }
    },
    "8b418699f2fc4331b83ba75fe5711f2f": {
     "model_module": "@jupyter-widgets/controls",
     "model_name": "ButtonModel",
     "state": {
      "_dom_classes": [],
      "_model_module": "@jupyter-widgets/controls",
      "_model_module_version": "1.5.0",
      "_model_name": "ButtonModel",
      "_view_count": null,
      "_view_module": "@jupyter-widgets/controls",
      "_view_module_version": "1.5.0",
      "_view_name": "ButtonView",
      "button_style": "info",
      "description": "Info Button",
      "disabled": false,
      "icon": "",
      "layout": "IPY_MODEL_07d41c5d334e4c15a41527a67051e2b9",
      "style": "IPY_MODEL_3995d77576184b2c9e0762c44e776aad",
      "tooltip": ""
     }
    },
    "8cf1edadd67b4906b8bde479d9bebf73": {
     "model_module": "@jupyter-widgets/base",
     "model_name": "LayoutModel",
     "state": {
      "_model_module": "@jupyter-widgets/base",
      "_model_module_version": "1.2.0",
      "_model_name": "LayoutModel",
      "_view_count": null,
      "_view_module": "@jupyter-widgets/base",
      "_view_module_version": "1.2.0",
      "_view_name": "LayoutView",
      "align_content": null,
      "align_items": null,
      "align_self": null,
      "border": null,
      "bottom": null,
      "display": null,
      "flex": null,
      "flex_flow": null,
      "grid_area": null,
      "grid_auto_columns": null,
      "grid_auto_flow": null,
      "grid_auto_rows": null,
      "grid_column": null,
      "grid_gap": null,
      "grid_row": null,
      "grid_template_areas": null,
      "grid_template_columns": null,
      "grid_template_rows": null,
      "height": null,
      "justify_content": null,
      "justify_items": null,
      "left": null,
      "margin": null,
      "max_height": null,
      "max_width": null,
      "min_height": null,
      "min_width": null,
      "object_fit": null,
      "object_position": null,
      "order": null,
      "overflow": null,
      "overflow_x": null,
      "overflow_y": null,
      "padding": null,
      "right": null,
      "top": null,
      "visibility": null,
      "width": null
     }
    },
    "8e2f33e2f17749f6b382f86b9a428609": {
     "model_module": "@jupyter-widgets/controls",
     "model_name": "DescriptionStyleModel",
     "state": {
      "_model_module": "@jupyter-widgets/controls",
      "_model_module_version": "1.5.0",
      "_model_name": "DescriptionStyleModel",
      "_view_count": null,
      "_view_module": "@jupyter-widgets/base",
      "_view_module_version": "1.2.0",
      "_view_name": "StyleView",
      "description_width": ""
     }
    },
    "8ecc121830cc41b59eaf65a3152745b7": {
     "model_module": "@jupyter-widgets/base",
     "model_name": "LayoutModel",
     "state": {
      "_model_module": "@jupyter-widgets/base",
      "_model_module_version": "1.2.0",
      "_model_name": "LayoutModel",
      "_view_count": null,
      "_view_module": "@jupyter-widgets/base",
      "_view_module_version": "1.2.0",
      "_view_name": "LayoutView",
      "align_content": null,
      "align_items": null,
      "align_self": null,
      "border": null,
      "bottom": null,
      "display": null,
      "flex": null,
      "flex_flow": null,
      "grid_area": null,
      "grid_auto_columns": null,
      "grid_auto_flow": null,
      "grid_auto_rows": null,
      "grid_column": null,
      "grid_gap": null,
      "grid_row": null,
      "grid_template_areas": null,
      "grid_template_columns": null,
      "grid_template_rows": null,
      "height": null,
      "justify_content": null,
      "justify_items": null,
      "left": null,
      "margin": null,
      "max_height": null,
      "max_width": null,
      "min_height": null,
      "min_width": null,
      "object_fit": null,
      "object_position": null,
      "order": null,
      "overflow": null,
      "overflow_x": null,
      "overflow_y": null,
      "padding": null,
      "right": null,
      "top": null,
      "visibility": null,
      "width": null
     }
    },
    "902a2ba94d604a008c78e75233fba90d": {
     "model_module": "@jupyter-widgets/controls",
     "model_name": "DescriptionStyleModel",
     "state": {
      "_model_module": "@jupyter-widgets/controls",
      "_model_module_version": "1.5.0",
      "_model_name": "DescriptionStyleModel",
      "_view_count": null,
      "_view_module": "@jupyter-widgets/base",
      "_view_module_version": "1.2.0",
      "_view_name": "StyleView",
      "description_width": ""
     }
    },
    "904c53d5200545138538fd3477e4ded4": {
     "model_module": "@jupyter-widgets/controls",
     "model_name": "ProgressStyleModel",
     "state": {
      "_model_module": "@jupyter-widgets/controls",
      "_model_module_version": "1.5.0",
      "_model_name": "ProgressStyleModel",
      "_view_count": null,
      "_view_module": "@jupyter-widgets/base",
      "_view_module_version": "1.2.0",
      "_view_name": "StyleView",
      "bar_color": null,
      "description_width": "initial"
     }
    },
    "90663781a8044e66ba92e8da4e62a1a5": {
     "model_module": "@jupyter-widgets/controls",
     "model_name": "SliderStyleModel",
     "state": {
      "_model_module": "@jupyter-widgets/controls",
      "_model_module_version": "1.5.0",
      "_model_name": "SliderStyleModel",
      "_view_count": null,
      "_view_module": "@jupyter-widgets/base",
      "_view_module_version": "1.2.0",
      "_view_name": "StyleView",
      "description_width": "",
      "handle_color": null
     }
    },
    "9078413a236d4a6590785e5da7fff28c": {
     "model_module": "@jupyter-widgets/controls",
     "model_name": "HBoxModel",
     "state": {
      "_dom_classes": [],
      "_model_module": "@jupyter-widgets/controls",
      "_model_module_version": "1.5.0",
      "_model_name": "HBoxModel",
      "_view_count": null,
      "_view_module": "@jupyter-widgets/controls",
      "_view_module_version": "1.5.0",
      "_view_name": "HBoxView",
      "box_style": "",
      "children": [
       "IPY_MODEL_049df487d1dc4f3ca02c7458fd7beb29",
       "IPY_MODEL_856dd4034566484a8da801968b6f6935"
      ],
      "layout": "IPY_MODEL_262706add8024636800ab8ae03d749c3"
     }
    },
    "9399816e1a2b4f4fbc2aa6e79bed7286": {
     "model_module": "@jupyter-widgets/controls",
     "model_name": "ButtonStyleModel",
     "state": {
      "_model_module": "@jupyter-widgets/controls",
      "_model_module_version": "1.5.0",
      "_model_name": "ButtonStyleModel",
      "_view_count": null,
      "_view_module": "@jupyter-widgets/base",
      "_view_module_version": "1.2.0",
      "_view_name": "StyleView",
      "button_color": null,
      "font_weight": ""
     }
    },
    "9d36ec37e0fd4175b0f23af200f40c06": {
     "model_module": "@jupyter-widgets/controls",
     "model_name": "TextModel",
     "state": {
      "_dom_classes": [],
      "_model_module": "@jupyter-widgets/controls",
      "_model_module_version": "1.5.0",
      "_model_name": "TextModel",
      "_view_count": null,
      "_view_module": "@jupyter-widgets/controls",
      "_view_module_version": "1.5.0",
      "_view_name": "TextView",
      "continuous_update": true,
      "description": "",
      "description_tooltip": null,
      "disabled": false,
      "layout": "IPY_MODEL_0daeebcb44f24406946b432f108fa57e",
      "placeholder": "​",
      "style": "IPY_MODEL_744437d9dce74090926ddc7a972fa286",
      "value": ""
     }
    },
    "9d9f0b293e1c49f3aaf44c313b77b263": {
     "model_module": "@jupyter-widgets/controls",
     "model_name": "ProgressStyleModel",
     "state": {
      "_model_module": "@jupyter-widgets/controls",
      "_model_module_version": "1.5.0",
      "_model_name": "ProgressStyleModel",
      "_view_count": null,
      "_view_module": "@jupyter-widgets/base",
      "_view_module_version": "1.2.0",
      "_view_name": "StyleView",
      "bar_color": null,
      "description_width": "initial"
     }
    },
    "a1e161dfa41145528a0bdf7c132f6b3d": {
     "model_module": "@jupyter-widgets/controls",
     "model_name": "ProgressStyleModel",
     "state": {
      "_model_module": "@jupyter-widgets/controls",
      "_model_module_version": "1.5.0",
      "_model_name": "ProgressStyleModel",
      "_view_count": null,
      "_view_module": "@jupyter-widgets/base",
      "_view_module_version": "1.2.0",
      "_view_name": "StyleView",
      "bar_color": null,
      "description_width": "initial"
     }
    },
    "a2ee3b30190744f6bf6348641629ad8c": {
     "model_module": "@jupyter-widgets/base",
     "model_name": "LayoutModel",
     "state": {
      "_model_module": "@jupyter-widgets/base",
      "_model_module_version": "1.2.0",
      "_model_name": "LayoutModel",
      "_view_count": null,
      "_view_module": "@jupyter-widgets/base",
      "_view_module_version": "1.2.0",
      "_view_name": "LayoutView",
      "align_content": null,
      "align_items": null,
      "align_self": null,
      "border": null,
      "bottom": null,
      "display": null,
      "flex": null,
      "flex_flow": null,
      "grid_area": null,
      "grid_auto_columns": null,
      "grid_auto_flow": null,
      "grid_auto_rows": null,
      "grid_column": null,
      "grid_gap": null,
      "grid_row": null,
      "grid_template_areas": null,
      "grid_template_columns": null,
      "grid_template_rows": null,
      "height": null,
      "justify_content": null,
      "justify_items": null,
      "left": null,
      "margin": null,
      "max_height": null,
      "max_width": null,
      "min_height": null,
      "min_width": null,
      "object_fit": null,
      "object_position": null,
      "order": null,
      "overflow": null,
      "overflow_x": null,
      "overflow_y": null,
      "padding": null,
      "right": null,
      "top": null,
      "visibility": null,
      "width": null
     }
    },
    "a41750dcf57e4433ac3589b6a006afa0": {
     "model_module": "@jupyter-widgets/controls",
     "model_name": "ButtonModel",
     "state": {
      "_dom_classes": [],
      "_model_module": "@jupyter-widgets/controls",
      "_model_module_version": "1.5.0",
      "_model_name": "ButtonModel",
      "_view_count": null,
      "_view_module": "@jupyter-widgets/controls",
      "_view_module_version": "1.5.0",
      "_view_name": "ButtonView",
      "button_style": "danger",
      "description": "Danger Button",
      "disabled": false,
      "icon": "",
      "layout": "IPY_MODEL_4d98f133c27a447990a69646ff8f41a5",
      "style": "IPY_MODEL_f2bce92dbc8a4aa68ff9a2fc4dceeef1",
      "tooltip": ""
     }
    },
    "a6458c1db01f422fa4b1164c92c6cfe1": {
     "model_module": "@jupyter-widgets/controls",
     "model_name": "BoxModel",
     "state": {
      "_dom_classes": [],
      "_model_module": "@jupyter-widgets/controls",
      "_model_module_version": "1.5.0",
      "_model_name": "BoxModel",
      "_view_count": null,
      "_view_module": "@jupyter-widgets/controls",
      "_view_module_version": "1.5.0",
      "_view_name": "BoxView",
      "box_style": "",
      "children": [
       "IPY_MODEL_9d36ec37e0fd4175b0f23af200f40c06",
       "IPY_MODEL_4cf0a1d4c12941589ca89119e1c1e0d7"
      ],
      "layout": "IPY_MODEL_85a6f82ea31b4ea6bc146718f5e8ab0a"
     }
    },
    "a68a4311c3c7455cb595e9323a4789f8": {
     "model_module": "@jupyter-widgets/controls",
     "model_name": "ButtonStyleModel",
     "state": {
      "_model_module": "@jupyter-widgets/controls",
      "_model_module_version": "1.5.0",
      "_model_name": "ButtonStyleModel",
      "_view_count": null,
      "_view_module": "@jupyter-widgets/base",
      "_view_module_version": "1.2.0",
      "_view_name": "StyleView",
      "button_color": null,
      "font_weight": ""
     }
    },
    "a7795027cebc447987e3859ab0844442": {
     "model_module": "@jupyter-widgets/controls",
     "model_name": "ProgressStyleModel",
     "state": {
      "_model_module": "@jupyter-widgets/controls",
      "_model_module_version": "1.5.0",
      "_model_name": "ProgressStyleModel",
      "_view_count": null,
      "_view_module": "@jupyter-widgets/base",
      "_view_module_version": "1.2.0",
      "_view_name": "StyleView",
      "bar_color": null,
      "description_width": "initial"
     }
    },
    "aa807ac02d0c49a7916bd25860846f82": {
     "model_module": "@jupyter-widgets/base",
     "model_name": "LayoutModel",
     "state": {
      "_model_module": "@jupyter-widgets/base",
      "_model_module_version": "1.2.0",
      "_model_name": "LayoutModel",
      "_view_count": null,
      "_view_module": "@jupyter-widgets/base",
      "_view_module_version": "1.2.0",
      "_view_name": "LayoutView",
      "align_content": null,
      "align_items": null,
      "align_self": null,
      "border": null,
      "bottom": null,
      "display": null,
      "flex": null,
      "flex_flow": null,
      "grid_area": null,
      "grid_auto_columns": null,
      "grid_auto_flow": null,
      "grid_auto_rows": null,
      "grid_column": null,
      "grid_gap": null,
      "grid_row": null,
      "grid_template_areas": null,
      "grid_template_columns": null,
      "grid_template_rows": null,
      "height": null,
      "justify_content": null,
      "justify_items": null,
      "left": null,
      "margin": null,
      "max_height": null,
      "max_width": null,
      "min_height": null,
      "min_width": null,
      "object_fit": null,
      "object_position": null,
      "order": null,
      "overflow": null,
      "overflow_x": null,
      "overflow_y": null,
      "padding": null,
      "right": null,
      "top": null,
      "visibility": null,
      "width": null
     }
    },
    "ad727e5693f145429d4f31b5d59a59cf": {
     "model_module": "@jupyter-widgets/controls",
     "model_name": "DescriptionStyleModel",
     "state": {
      "_model_module": "@jupyter-widgets/controls",
      "_model_module_version": "1.5.0",
      "_model_name": "DescriptionStyleModel",
      "_view_count": null,
      "_view_module": "@jupyter-widgets/base",
      "_view_module_version": "1.2.0",
      "_view_name": "StyleView",
      "description_width": ""
     }
    },
    "ad897e1c7a5348b880138302bf9c85e0": {
     "model_module": "@jupyter-widgets/controls",
     "model_name": "DescriptionStyleModel",
     "state": {
      "_model_module": "@jupyter-widgets/controls",
      "_model_module_version": "1.5.0",
      "_model_name": "DescriptionStyleModel",
      "_view_count": null,
      "_view_module": "@jupyter-widgets/base",
      "_view_module_version": "1.2.0",
      "_view_name": "StyleView",
      "description_width": ""
     }
    },
    "b4d25f4dc3564b65b6cc94aede183833": {
     "model_module": "@jupyter-widgets/controls",
     "model_name": "LabelModel",
     "state": {
      "_dom_classes": [],
      "_model_module": "@jupyter-widgets/controls",
      "_model_module_version": "1.5.0",
      "_model_name": "LabelModel",
      "_view_count": null,
      "_view_module": "@jupyter-widgets/controls",
      "_view_module_version": "1.5.0",
      "_view_name": "LabelView",
      "description": "",
      "description_tooltip": null,
      "layout": "IPY_MODEL_bd9873278dbd42acb802cbad4fd1398c",
      "placeholder": "​",
      "style": "IPY_MODEL_1a0757d40acd4ab0b595249d12cde59d",
      "value": "Please select TOPK."
     }
    },
    "b4d4feceac7643479549f5086e35409b": {
     "model_module": "@jupyter-widgets/controls",
     "model_name": "ButtonStyleModel",
     "state": {
      "_model_module": "@jupyter-widgets/controls",
      "_model_module_version": "1.5.0",
      "_model_name": "ButtonStyleModel",
      "_view_count": null,
      "_view_module": "@jupyter-widgets/base",
      "_view_module_version": "1.2.0",
      "_view_name": "StyleView",
      "button_color": null,
      "font_weight": ""
     }
    },
    "b5758a78d41e420cacbb905822f19ba5": {
     "model_module": "@jupyter-widgets/base",
     "model_name": "LayoutModel",
     "state": {
      "_model_module": "@jupyter-widgets/base",
      "_model_module_version": "1.2.0",
      "_model_name": "LayoutModel",
      "_view_count": null,
      "_view_module": "@jupyter-widgets/base",
      "_view_module_version": "1.2.0",
      "_view_name": "LayoutView",
      "align_content": null,
      "align_items": null,
      "align_self": null,
      "border": null,
      "bottom": null,
      "display": null,
      "flex": null,
      "flex_flow": null,
      "grid_area": null,
      "grid_auto_columns": null,
      "grid_auto_flow": null,
      "grid_auto_rows": null,
      "grid_column": null,
      "grid_gap": null,
      "grid_row": null,
      "grid_template_areas": null,
      "grid_template_columns": null,
      "grid_template_rows": null,
      "height": null,
      "justify_content": null,
      "justify_items": null,
      "left": null,
      "margin": null,
      "max_height": null,
      "max_width": null,
      "min_height": null,
      "min_width": null,
      "object_fit": null,
      "object_position": null,
      "order": null,
      "overflow": null,
      "overflow_x": null,
      "overflow_y": null,
      "padding": null,
      "right": null,
      "top": null,
      "visibility": null,
      "width": null
     }
    },
    "b5b933058f25464e9e2e6381623ab18b": {
     "model_module": "@jupyter-widgets/controls",
     "model_name": "ButtonModel",
     "state": {
      "_dom_classes": [],
      "_model_module": "@jupyter-widgets/controls",
      "_model_module_version": "1.5.0",
      "_model_name": "ButtonModel",
      "_view_count": null,
      "_view_module": "@jupyter-widgets/controls",
      "_view_module_version": "1.5.0",
      "_view_name": "ButtonView",
      "button_style": "primary",
      "description": "OK",
      "disabled": false,
      "icon": "",
      "layout": "IPY_MODEL_5b7e1ebeab16400698f0e6f8953825bb",
      "style": "IPY_MODEL_9399816e1a2b4f4fbc2aa6e79bed7286",
      "tooltip": "Click to submit"
     }
    },
    "b660d93e607f4e6da851678da0bb9207": {
     "model_module": "@jupyter-widgets/base",
     "model_name": "LayoutModel",
     "state": {
      "_model_module": "@jupyter-widgets/base",
      "_model_module_version": "1.2.0",
      "_model_name": "LayoutModel",
      "_view_count": null,
      "_view_module": "@jupyter-widgets/base",
      "_view_module_version": "1.2.0",
      "_view_name": "LayoutView",
      "align_content": null,
      "align_items": null,
      "align_self": null,
      "border": null,
      "bottom": null,
      "display": null,
      "flex": null,
      "flex_flow": null,
      "grid_area": null,
      "grid_auto_columns": null,
      "grid_auto_flow": null,
      "grid_auto_rows": null,
      "grid_column": null,
      "grid_gap": null,
      "grid_row": null,
      "grid_template_areas": null,
      "grid_template_columns": null,
      "grid_template_rows": null,
      "height": null,
      "justify_content": null,
      "justify_items": null,
      "left": null,
      "margin": null,
      "max_height": null,
      "max_width": null,
      "min_height": null,
      "min_width": null,
      "object_fit": null,
      "object_position": null,
      "order": null,
      "overflow": null,
      "overflow_x": null,
      "overflow_y": null,
      "padding": null,
      "right": null,
      "top": null,
      "visibility": null,
      "width": null
     }
    },
    "b86f2d3e1aa14d9d9087ced8e1ec42ea": {
     "model_module": "@jupyter-widgets/controls",
     "model_name": "DescriptionStyleModel",
     "state": {
      "_model_module": "@jupyter-widgets/controls",
      "_model_module_version": "1.5.0",
      "_model_name": "DescriptionStyleModel",
      "_view_count": null,
      "_view_module": "@jupyter-widgets/base",
      "_view_module_version": "1.2.0",
      "_view_name": "StyleView",
      "description_width": ""
     }
    },
    "b89ce20f95ed401b801c12a0ff5d5f9d": {
     "model_module": "@jupyter-widgets/base",
     "model_name": "LayoutModel",
     "state": {
      "_model_module": "@jupyter-widgets/base",
      "_model_module_version": "1.2.0",
      "_model_name": "LayoutModel",
      "_view_count": null,
      "_view_module": "@jupyter-widgets/base",
      "_view_module_version": "1.2.0",
      "_view_name": "LayoutView",
      "align_content": null,
      "align_items": null,
      "align_self": null,
      "border": null,
      "bottom": null,
      "display": null,
      "flex": null,
      "flex_flow": null,
      "grid_area": null,
      "grid_auto_columns": null,
      "grid_auto_flow": null,
      "grid_auto_rows": null,
      "grid_column": null,
      "grid_gap": null,
      "grid_row": null,
      "grid_template_areas": null,
      "grid_template_columns": null,
      "grid_template_rows": null,
      "height": null,
      "justify_content": null,
      "justify_items": null,
      "left": null,
      "margin": null,
      "max_height": null,
      "max_width": null,
      "min_height": null,
      "min_width": null,
      "object_fit": null,
      "object_position": null,
      "order": null,
      "overflow": null,
      "overflow_x": null,
      "overflow_y": null,
      "padding": null,
      "right": null,
      "top": null,
      "visibility": null,
      "width": null
     }
    },
    "b937f5d865f344d09f045b9e49a226f0": {
     "model_module": "@jupyter-widgets/controls",
     "model_name": "DescriptionStyleModel",
     "state": {
      "_model_module": "@jupyter-widgets/controls",
      "_model_module_version": "1.5.0",
      "_model_name": "DescriptionStyleModel",
      "_view_count": null,
      "_view_module": "@jupyter-widgets/base",
      "_view_module_version": "1.2.0",
      "_view_name": "StyleView",
      "description_width": ""
     }
    },
    "ba1ddc04e32a4365bafe3a12ed5d1e63": {
     "model_module": "@jupyter-widgets/base",
     "model_name": "LayoutModel",
     "state": {
      "_model_module": "@jupyter-widgets/base",
      "_model_module_version": "1.2.0",
      "_model_name": "LayoutModel",
      "_view_count": null,
      "_view_module": "@jupyter-widgets/base",
      "_view_module_version": "1.2.0",
      "_view_name": "LayoutView",
      "align_content": null,
      "align_items": null,
      "align_self": null,
      "border": null,
      "bottom": null,
      "display": null,
      "flex": null,
      "flex_flow": null,
      "grid_area": null,
      "grid_auto_columns": null,
      "grid_auto_flow": null,
      "grid_auto_rows": null,
      "grid_column": null,
      "grid_gap": null,
      "grid_row": null,
      "grid_template_areas": null,
      "grid_template_columns": null,
      "grid_template_rows": null,
      "height": null,
      "justify_content": null,
      "justify_items": null,
      "left": null,
      "margin": null,
      "max_height": null,
      "max_width": null,
      "min_height": null,
      "min_width": null,
      "object_fit": null,
      "object_position": null,
      "order": null,
      "overflow": null,
      "overflow_x": null,
      "overflow_y": null,
      "padding": null,
      "right": null,
      "top": null,
      "visibility": null,
      "width": null
     }
    },
    "bcd319d6ae274ba5bc6ad211a93e77af": {
     "model_module": "@jupyter-widgets/base",
     "model_name": "LayoutModel",
     "state": {
      "_model_module": "@jupyter-widgets/base",
      "_model_module_version": "1.2.0",
      "_model_name": "LayoutModel",
      "_view_count": null,
      "_view_module": "@jupyter-widgets/base",
      "_view_module_version": "1.2.0",
      "_view_name": "LayoutView",
      "align_content": null,
      "align_items": null,
      "align_self": null,
      "border": null,
      "bottom": null,
      "display": null,
      "flex": null,
      "flex_flow": null,
      "grid_area": null,
      "grid_auto_columns": null,
      "grid_auto_flow": null,
      "grid_auto_rows": null,
      "grid_column": null,
      "grid_gap": null,
      "grid_row": null,
      "grid_template_areas": null,
      "grid_template_columns": null,
      "grid_template_rows": null,
      "height": null,
      "justify_content": null,
      "justify_items": null,
      "left": null,
      "margin": null,
      "max_height": null,
      "max_width": null,
      "min_height": null,
      "min_width": null,
      "object_fit": null,
      "object_position": null,
      "order": null,
      "overflow": null,
      "overflow_x": null,
      "overflow_y": null,
      "padding": null,
      "right": null,
      "top": null,
      "visibility": null,
      "width": null
     }
    },
    "bd9873278dbd42acb802cbad4fd1398c": {
     "model_module": "@jupyter-widgets/base",
     "model_name": "LayoutModel",
     "state": {
      "_model_module": "@jupyter-widgets/base",
      "_model_module_version": "1.2.0",
      "_model_name": "LayoutModel",
      "_view_count": null,
      "_view_module": "@jupyter-widgets/base",
      "_view_module_version": "1.2.0",
      "_view_name": "LayoutView",
      "align_content": null,
      "align_items": null,
      "align_self": null,
      "border": null,
      "bottom": null,
      "display": null,
      "flex": null,
      "flex_flow": null,
      "grid_area": null,
      "grid_auto_columns": null,
      "grid_auto_flow": null,
      "grid_auto_rows": null,
      "grid_column": null,
      "grid_gap": null,
      "grid_row": null,
      "grid_template_areas": null,
      "grid_template_columns": null,
      "grid_template_rows": null,
      "height": null,
      "justify_content": null,
      "justify_items": null,
      "left": null,
      "margin": null,
      "max_height": null,
      "max_width": null,
      "min_height": null,
      "min_width": null,
      "object_fit": null,
      "object_position": null,
      "order": null,
      "overflow": null,
      "overflow_x": null,
      "overflow_y": null,
      "padding": null,
      "right": null,
      "top": null,
      "visibility": null,
      "width": null
     }
    },
    "c11ee0a543c54c1c840c841b5fc6d26b": {
     "model_module": "@jupyter-widgets/controls",
     "model_name": "HTMLModel",
     "state": {
      "_dom_classes": [],
      "_model_module": "@jupyter-widgets/controls",
      "_model_module_version": "1.5.0",
      "_model_name": "HTMLModel",
      "_view_count": null,
      "_view_module": "@jupyter-widgets/controls",
      "_view_module_version": "1.5.0",
      "_view_name": "HTMLView",
      "description": "",
      "description_tooltip": null,
      "layout": "IPY_MODEL_c58358fb79bb416091f50dfedc3bfa77",
      "placeholder": "​",
      "style": "IPY_MODEL_b937f5d865f344d09f045b9e49a226f0",
      "value": " 385/385 [00:00&lt;00:00, 1.13kB/s]"
     }
    },
    "c2494095e5d04c60bb8d4d930d20d40a": {
     "model_module": "@jupyter-widgets/base",
     "model_name": "LayoutModel",
     "state": {
      "_model_module": "@jupyter-widgets/base",
      "_model_module_version": "1.2.0",
      "_model_name": "LayoutModel",
      "_view_count": null,
      "_view_module": "@jupyter-widgets/base",
      "_view_module_version": "1.2.0",
      "_view_name": "LayoutView",
      "align_content": null,
      "align_items": null,
      "align_self": null,
      "border": null,
      "bottom": null,
      "display": null,
      "flex": null,
      "flex_flow": null,
      "grid_area": null,
      "grid_auto_columns": null,
      "grid_auto_flow": null,
      "grid_auto_rows": null,
      "grid_column": null,
      "grid_gap": null,
      "grid_row": null,
      "grid_template_areas": null,
      "grid_template_columns": null,
      "grid_template_rows": null,
      "height": null,
      "justify_content": null,
      "justify_items": null,
      "left": null,
      "margin": null,
      "max_height": null,
      "max_width": null,
      "min_height": null,
      "min_width": null,
      "object_fit": null,
      "object_position": null,
      "order": null,
      "overflow": null,
      "overflow_x": null,
      "overflow_y": null,
      "padding": null,
      "right": null,
      "top": null,
      "visibility": null,
      "width": null
     }
    },
    "c4a959bf633f4c328accafa9a429ea9e": {
     "model_module": "@jupyter-widgets/base",
     "model_name": "LayoutModel",
     "state": {
      "_model_module": "@jupyter-widgets/base",
      "_model_module_version": "1.2.0",
      "_model_name": "LayoutModel",
      "_view_count": null,
      "_view_module": "@jupyter-widgets/base",
      "_view_module_version": "1.2.0",
      "_view_name": "LayoutView",
      "align_content": null,
      "align_items": null,
      "align_self": null,
      "border": null,
      "bottom": null,
      "display": null,
      "flex": null,
      "flex_flow": null,
      "grid_area": null,
      "grid_auto_columns": null,
      "grid_auto_flow": null,
      "grid_auto_rows": null,
      "grid_column": null,
      "grid_gap": null,
      "grid_row": null,
      "grid_template_areas": null,
      "grid_template_columns": null,
      "grid_template_rows": null,
      "height": null,
      "justify_content": null,
      "justify_items": null,
      "left": null,
      "margin": null,
      "max_height": null,
      "max_width": null,
      "min_height": null,
      "min_width": null,
      "object_fit": null,
      "object_position": null,
      "order": null,
      "overflow": null,
      "overflow_x": null,
      "overflow_y": null,
      "padding": null,
      "right": null,
      "top": null,
      "visibility": null,
      "width": null
     }
    },
    "c5747cdfcca44d298663d01f190f10b6": {
     "model_module": "@jupyter-widgets/controls",
     "model_name": "HTMLModel",
     "state": {
      "_dom_classes": [],
      "_model_module": "@jupyter-widgets/controls",
      "_model_module_version": "1.5.0",
      "_model_name": "HTMLModel",
      "_view_count": null,
      "_view_module": "@jupyter-widgets/controls",
      "_view_module_version": "1.5.0",
      "_view_name": "HTMLView",
      "description": "",
      "description_tooltip": null,
      "layout": "IPY_MODEL_8ecc121830cc41b59eaf65a3152745b7",
      "placeholder": "​",
      "style": "IPY_MODEL_313c177115f944cdb5e76d921cc5995e",
      "value": " 232k/232k [00:00&lt;00:00, 2.21MB/s]"
     }
    },
    "c58358fb79bb416091f50dfedc3bfa77": {
     "model_module": "@jupyter-widgets/base",
     "model_name": "LayoutModel",
     "state": {
      "_model_module": "@jupyter-widgets/base",
      "_model_module_version": "1.2.0",
      "_model_name": "LayoutModel",
      "_view_count": null,
      "_view_module": "@jupyter-widgets/base",
      "_view_module_version": "1.2.0",
      "_view_name": "LayoutView",
      "align_content": null,
      "align_items": null,
      "align_self": null,
      "border": null,
      "bottom": null,
      "display": null,
      "flex": null,
      "flex_flow": null,
      "grid_area": null,
      "grid_auto_columns": null,
      "grid_auto_flow": null,
      "grid_auto_rows": null,
      "grid_column": null,
      "grid_gap": null,
      "grid_row": null,
      "grid_template_areas": null,
      "grid_template_columns": null,
      "grid_template_rows": null,
      "height": null,
      "justify_content": null,
      "justify_items": null,
      "left": null,
      "margin": null,
      "max_height": null,
      "max_width": null,
      "min_height": null,
      "min_width": null,
      "object_fit": null,
      "object_position": null,
      "order": null,
      "overflow": null,
      "overflow_x": null,
      "overflow_y": null,
      "padding": null,
      "right": null,
      "top": null,
      "visibility": null,
      "width": null
     }
    },
    "c7694d93f070414a8eacd5172e30cf98": {
     "model_module": "@jupyter-widgets/controls",
     "model_name": "DescriptionStyleModel",
     "state": {
      "_model_module": "@jupyter-widgets/controls",
      "_model_module_version": "1.5.0",
      "_model_name": "DescriptionStyleModel",
      "_view_count": null,
      "_view_module": "@jupyter-widgets/base",
      "_view_module_version": "1.2.0",
      "_view_name": "StyleView",
      "description_width": ""
     }
    },
    "c77ee6341a614cdead540fc35aec3c31": {
     "model_module": "@jupyter-widgets/controls",
     "model_name": "ProgressStyleModel",
     "state": {
      "_model_module": "@jupyter-widgets/controls",
      "_model_module_version": "1.5.0",
      "_model_name": "ProgressStyleModel",
      "_view_count": null,
      "_view_module": "@jupyter-widgets/base",
      "_view_module_version": "1.2.0",
      "_view_name": "StyleView",
      "bar_color": null,
      "description_width": "initial"
     }
    },
    "c89bcc1856fd433f8691e66117c76305": {
     "model_module": "@jupyter-widgets/controls",
     "model_name": "ButtonModel",
     "state": {
      "_dom_classes": [],
      "_model_module": "@jupyter-widgets/controls",
      "_model_module_version": "1.5.0",
      "_model_name": "ButtonModel",
      "_view_count": null,
      "_view_module": "@jupyter-widgets/controls",
      "_view_module_version": "1.5.0",
      "_view_name": "ButtonView",
      "button_style": "primary",
      "description": "Primary Button",
      "disabled": false,
      "icon": "",
      "layout": "IPY_MODEL_7af4db889bb54851adf3a3eb95dece40",
      "style": "IPY_MODEL_63daf649b14e412e89bce453f6ecaf9e",
      "tooltip": ""
     }
    },
    "cedb746126bc4d35a1ffc4f039e318cf": {
     "model_module": "@jupyter-widgets/base",
     "model_name": "LayoutModel",
     "state": {
      "_model_module": "@jupyter-widgets/base",
      "_model_module_version": "1.2.0",
      "_model_name": "LayoutModel",
      "_view_count": null,
      "_view_module": "@jupyter-widgets/base",
      "_view_module_version": "1.2.0",
      "_view_name": "LayoutView",
      "align_content": null,
      "align_items": null,
      "align_self": null,
      "border": null,
      "bottom": null,
      "display": null,
      "flex": null,
      "flex_flow": null,
      "grid_area": null,
      "grid_auto_columns": null,
      "grid_auto_flow": null,
      "grid_auto_rows": null,
      "grid_column": null,
      "grid_gap": null,
      "grid_row": null,
      "grid_template_areas": null,
      "grid_template_columns": null,
      "grid_template_rows": null,
      "height": null,
      "justify_content": null,
      "justify_items": null,
      "left": null,
      "margin": null,
      "max_height": null,
      "max_width": null,
      "min_height": null,
      "min_width": null,
      "object_fit": null,
      "object_position": null,
      "order": null,
      "overflow": null,
      "overflow_x": null,
      "overflow_y": null,
      "padding": null,
      "right": null,
      "top": null,
      "visibility": null,
      "width": null
     }
    },
    "d0c1a3abd3714454bbe515f912ee1d76": {
     "model_module": "@jupyter-widgets/base",
     "model_name": "LayoutModel",
     "state": {
      "_model_module": "@jupyter-widgets/base",
      "_model_module_version": "1.2.0",
      "_model_name": "LayoutModel",
      "_view_count": null,
      "_view_module": "@jupyter-widgets/base",
      "_view_module_version": "1.2.0",
      "_view_name": "LayoutView",
      "align_content": null,
      "align_items": null,
      "align_self": null,
      "border": null,
      "bottom": null,
      "display": null,
      "flex": null,
      "flex_flow": null,
      "grid_area": null,
      "grid_auto_columns": null,
      "grid_auto_flow": null,
      "grid_auto_rows": null,
      "grid_column": null,
      "grid_gap": null,
      "grid_row": null,
      "grid_template_areas": null,
      "grid_template_columns": null,
      "grid_template_rows": null,
      "height": null,
      "justify_content": null,
      "justify_items": null,
      "left": null,
      "margin": null,
      "max_height": null,
      "max_width": null,
      "min_height": null,
      "min_width": null,
      "object_fit": null,
      "object_position": null,
      "order": null,
      "overflow": null,
      "overflow_x": null,
      "overflow_y": null,
      "padding": null,
      "right": null,
      "top": null,
      "visibility": null,
      "width": null
     }
    },
    "d13919f305e6418783edaca26480c2c6": {
     "model_module": "@jupyter-widgets/controls",
     "model_name": "DropdownModel",
     "state": {
      "_dom_classes": [],
      "_model_module": "@jupyter-widgets/controls",
      "_model_module_version": "1.5.0",
      "_model_name": "DropdownModel",
      "_options_labels": [
       "1",
       "2",
       "5"
      ],
      "_view_count": null,
      "_view_module": "@jupyter-widgets/controls",
      "_view_module_version": "1.5.0",
      "_view_name": "DropdownView",
      "description": "",
      "description_tooltip": null,
      "disabled": false,
      "index": 2,
      "layout": "IPY_MODEL_d5b6f9ee307b42f2b8e552d91896a123",
      "style": "IPY_MODEL_ad727e5693f145429d4f31b5d59a59cf"
     }
    },
    "d4d8e0a365e3404fb02a299b701d6783": {
     "model_module": "@jupyter-widgets/controls",
     "model_name": "DescriptionStyleModel",
     "state": {
      "_model_module": "@jupyter-widgets/controls",
      "_model_module_version": "1.5.0",
      "_model_name": "DescriptionStyleModel",
      "_view_count": null,
      "_view_module": "@jupyter-widgets/base",
      "_view_module_version": "1.2.0",
      "_view_name": "StyleView",
      "description_width": ""
     }
    },
    "d575b31555bb4024aaa7524d392849f4": {
     "model_module": "@jupyter-widgets/base",
     "model_name": "LayoutModel",
     "state": {
      "_model_module": "@jupyter-widgets/base",
      "_model_module_version": "1.2.0",
      "_model_name": "LayoutModel",
      "_view_count": null,
      "_view_module": "@jupyter-widgets/base",
      "_view_module_version": "1.2.0",
      "_view_name": "LayoutView",
      "align_content": null,
      "align_items": null,
      "align_self": null,
      "border": null,
      "bottom": null,
      "display": null,
      "flex": null,
      "flex_flow": null,
      "grid_area": null,
      "grid_auto_columns": null,
      "grid_auto_flow": null,
      "grid_auto_rows": null,
      "grid_column": null,
      "grid_gap": null,
      "grid_row": null,
      "grid_template_areas": null,
      "grid_template_columns": null,
      "grid_template_rows": null,
      "height": null,
      "justify_content": null,
      "justify_items": null,
      "left": null,
      "margin": null,
      "max_height": null,
      "max_width": null,
      "min_height": null,
      "min_width": null,
      "object_fit": null,
      "object_position": null,
      "order": null,
      "overflow": null,
      "overflow_x": null,
      "overflow_y": null,
      "padding": null,
      "right": null,
      "top": null,
      "visibility": null,
      "width": null
     }
    },
    "d5b6f9ee307b42f2b8e552d91896a123": {
     "model_module": "@jupyter-widgets/base",
     "model_name": "LayoutModel",
     "state": {
      "_model_module": "@jupyter-widgets/base",
      "_model_module_version": "1.2.0",
      "_model_name": "LayoutModel",
      "_view_count": null,
      "_view_module": "@jupyter-widgets/base",
      "_view_module_version": "1.2.0",
      "_view_name": "LayoutView",
      "align_content": null,
      "align_items": null,
      "align_self": null,
      "border": null,
      "bottom": null,
      "display": null,
      "flex": null,
      "flex_flow": null,
      "grid_area": null,
      "grid_auto_columns": null,
      "grid_auto_flow": null,
      "grid_auto_rows": null,
      "grid_column": null,
      "grid_gap": null,
      "grid_row": null,
      "grid_template_areas": null,
      "grid_template_columns": null,
      "grid_template_rows": null,
      "height": null,
      "justify_content": null,
      "justify_items": null,
      "left": null,
      "margin": null,
      "max_height": null,
      "max_width": null,
      "min_height": null,
      "min_width": null,
      "object_fit": null,
      "object_position": null,
      "order": null,
      "overflow": null,
      "overflow_x": null,
      "overflow_y": null,
      "padding": null,
      "right": null,
      "top": null,
      "visibility": null,
      "width": null
     }
    },
    "d6c467c48bae495f8acf943ac62b1205": {
     "model_module": "@jupyter-widgets/controls",
     "model_name": "HBoxModel",
     "state": {
      "_dom_classes": [],
      "_model_module": "@jupyter-widgets/controls",
      "_model_module_version": "1.5.0",
      "_model_name": "HBoxModel",
      "_view_count": null,
      "_view_module": "@jupyter-widgets/controls",
      "_view_module_version": "1.5.0",
      "_view_name": "HBoxView",
      "box_style": "",
      "children": [
       "IPY_MODEL_c89bcc1856fd433f8691e66117c76305",
       "IPY_MODEL_2e9e7f1bd9894ea98638c29d88074d24",
       "IPY_MODEL_8b418699f2fc4331b83ba75fe5711f2f",
       "IPY_MODEL_2728a2adb6a04c05a09c0b2aca9c9a4b",
       "IPY_MODEL_a41750dcf57e4433ac3589b6a006afa0"
      ],
      "layout": "IPY_MODEL_807638555c514d57ae90d2336f476c2e"
     }
    },
    "d74cd492043f41fab3f7acd7cef4171d": {
     "model_module": "@jupyter-widgets/controls",
     "model_name": "DescriptionStyleModel",
     "state": {
      "_model_module": "@jupyter-widgets/controls",
      "_model_module_version": "1.5.0",
      "_model_name": "DescriptionStyleModel",
      "_view_count": null,
      "_view_module": "@jupyter-widgets/base",
      "_view_module_version": "1.2.0",
      "_view_name": "StyleView",
      "description_width": ""
     }
    },
    "dac65fb6929347eebb14c021620f4fa7": {
     "model_module": "@jupyter-widgets/base",
     "model_name": "LayoutModel",
     "state": {
      "_model_module": "@jupyter-widgets/base",
      "_model_module_version": "1.2.0",
      "_model_name": "LayoutModel",
      "_view_count": null,
      "_view_module": "@jupyter-widgets/base",
      "_view_module_version": "1.2.0",
      "_view_name": "LayoutView",
      "align_content": null,
      "align_items": null,
      "align_self": null,
      "border": null,
      "bottom": null,
      "display": null,
      "flex": null,
      "flex_flow": null,
      "grid_area": null,
      "grid_auto_columns": null,
      "grid_auto_flow": null,
      "grid_auto_rows": null,
      "grid_column": null,
      "grid_gap": null,
      "grid_row": null,
      "grid_template_areas": null,
      "grid_template_columns": null,
      "grid_template_rows": null,
      "height": null,
      "justify_content": null,
      "justify_items": null,
      "left": null,
      "margin": null,
      "max_height": null,
      "max_width": null,
      "min_height": null,
      "min_width": null,
      "object_fit": null,
      "object_position": null,
      "order": null,
      "overflow": null,
      "overflow_x": null,
      "overflow_y": null,
      "padding": null,
      "right": null,
      "top": null,
      "visibility": null,
      "width": null
     }
    },
    "e0bab6fbd0164567835b068cca6b629e": {
     "model_module": "@jupyter-widgets/base",
     "model_name": "LayoutModel",
     "state": {
      "_model_module": "@jupyter-widgets/base",
      "_model_module_version": "1.2.0",
      "_model_name": "LayoutModel",
      "_view_count": null,
      "_view_module": "@jupyter-widgets/base",
      "_view_module_version": "1.2.0",
      "_view_name": "LayoutView",
      "align_content": null,
      "align_items": null,
      "align_self": null,
      "border": null,
      "bottom": null,
      "display": null,
      "flex": null,
      "flex_flow": null,
      "grid_area": null,
      "grid_auto_columns": null,
      "grid_auto_flow": null,
      "grid_auto_rows": null,
      "grid_column": null,
      "grid_gap": null,
      "grid_row": null,
      "grid_template_areas": null,
      "grid_template_columns": null,
      "grid_template_rows": null,
      "height": null,
      "justify_content": null,
      "justify_items": null,
      "left": null,
      "margin": null,
      "max_height": null,
      "max_width": null,
      "min_height": null,
      "min_width": null,
      "object_fit": null,
      "object_position": null,
      "order": null,
      "overflow": null,
      "overflow_x": null,
      "overflow_y": null,
      "padding": null,
      "right": null,
      "top": null,
      "visibility": null,
      "width": null
     }
    },
    "e0d693a8c39b4b46bd629e6e74946a01": {
     "model_module": "@jupyter-widgets/controls",
     "model_name": "DescriptionStyleModel",
     "state": {
      "_model_module": "@jupyter-widgets/controls",
      "_model_module_version": "1.5.0",
      "_model_name": "DescriptionStyleModel",
      "_view_count": null,
      "_view_module": "@jupyter-widgets/base",
      "_view_module_version": "1.2.0",
      "_view_name": "StyleView",
      "description_width": ""
     }
    },
    "e0eaab844d2449d490205f54e8a9e9d1": {
     "model_module": "@jupyter-widgets/controls",
     "model_name": "SliderStyleModel",
     "state": {
      "_model_module": "@jupyter-widgets/controls",
      "_model_module_version": "1.5.0",
      "_model_name": "SliderStyleModel",
      "_view_count": null,
      "_view_module": "@jupyter-widgets/base",
      "_view_module_version": "1.2.0",
      "_view_name": "StyleView",
      "description_width": "",
      "handle_color": null
     }
    },
    "e6049f1a759347b98b7e4fd1a67144f0": {
     "model_module": "@jupyter-widgets/controls",
     "model_name": "LabelModel",
     "state": {
      "_dom_classes": [],
      "_model_module": "@jupyter-widgets/controls",
      "_model_module_version": "1.5.0",
      "_model_name": "LabelModel",
      "_view_count": null,
      "_view_module": "@jupyter-widgets/controls",
      "_view_module_version": "1.5.0",
      "_view_name": "LabelView",
      "description": "",
      "description_tooltip": null,
      "layout": "IPY_MODEL_7aaf258cf9174224af81ccbe12ca541c",
      "placeholder": "​",
      "style": "IPY_MODEL_f2da11596c3d4dfe83bd1769fabcd761",
      "value": "Word appropriateness detector for single sentence."
     }
    },
    "e639e2ec746e41b694dc7d1e890dc259": {
     "model_module": "@jupyter-widgets/base",
     "model_name": "LayoutModel",
     "state": {
      "_model_module": "@jupyter-widgets/base",
      "_model_module_version": "1.2.0",
      "_model_name": "LayoutModel",
      "_view_count": null,
      "_view_module": "@jupyter-widgets/base",
      "_view_module_version": "1.2.0",
      "_view_name": "LayoutView",
      "align_content": null,
      "align_items": null,
      "align_self": null,
      "border": null,
      "bottom": null,
      "display": null,
      "flex": null,
      "flex_flow": null,
      "grid_area": null,
      "grid_auto_columns": null,
      "grid_auto_flow": null,
      "grid_auto_rows": null,
      "grid_column": null,
      "grid_gap": null,
      "grid_row": null,
      "grid_template_areas": null,
      "grid_template_columns": null,
      "grid_template_rows": null,
      "height": null,
      "justify_content": null,
      "justify_items": null,
      "left": null,
      "margin": null,
      "max_height": null,
      "max_width": null,
      "min_height": null,
      "min_width": null,
      "object_fit": null,
      "object_position": null,
      "order": null,
      "overflow": null,
      "overflow_x": null,
      "overflow_y": null,
      "padding": null,
      "right": null,
      "top": null,
      "visibility": null,
      "width": null
     }
    },
    "e8391ac16e7e442bb9931c23f3030b31": {
     "model_module": "@jupyter-widgets/controls",
     "model_name": "HTMLModel",
     "state": {
      "_dom_classes": [],
      "_model_module": "@jupyter-widgets/controls",
      "_model_module_version": "1.5.0",
      "_model_name": "HTMLModel",
      "_view_count": null,
      "_view_module": "@jupyter-widgets/controls",
      "_view_module_version": "1.5.0",
      "_view_name": "HTMLView",
      "description": "",
      "description_tooltip": null,
      "layout": "IPY_MODEL_dac65fb6929347eebb14c021620f4fa7",
      "placeholder": "​",
      "style": "IPY_MODEL_c7694d93f070414a8eacd5172e30cf98",
      "value": " 440M/440M [00:22&lt;00:00, 20.0MB/s]"
     }
    },
    "e953a5f1bf654aeca4a896dd5881d0b2": {
     "model_module": "@jupyter-widgets/controls",
     "model_name": "HBoxModel",
     "state": {
      "_dom_classes": [],
      "_model_module": "@jupyter-widgets/controls",
      "_model_module_version": "1.5.0",
      "_model_name": "HBoxModel",
      "_view_count": null,
      "_view_module": "@jupyter-widgets/controls",
      "_view_module_version": "1.5.0",
      "_view_name": "HBoxView",
      "box_style": "",
      "children": [
       "IPY_MODEL_73aa2dd89dc94761af5227b0dd009791",
       "IPY_MODEL_feb3964ff7164729b225651ff58e1537"
      ],
      "layout": "IPY_MODEL_4e136dad462d48fbb60d43b2e83bfbfd"
     }
    },
    "ed4a461621a24eeaabf0a279bf89bb1f": {
     "model_module": "@jupyter-widgets/controls",
     "model_name": "HTMLModel",
     "state": {
      "_dom_classes": [],
      "_model_module": "@jupyter-widgets/controls",
      "_model_module_version": "1.5.0",
      "_model_name": "HTMLModel",
      "_view_count": null,
      "_view_module": "@jupyter-widgets/controls",
      "_view_module_version": "1.5.0",
      "_view_name": "HTMLView",
      "description": "",
      "description_tooltip": null,
      "layout": "IPY_MODEL_d0c1a3abd3714454bbe515f912ee1d76",
      "placeholder": "​",
      "style": "IPY_MODEL_8a495156b92a4bed926bc2eb409f9ddb",
      "value": " 436M/436M [00:07&lt;00:00, 61.5MB/s]"
     }
    },
    "ed9f5f30ad9949ca82612568e3e0d427": {
     "model_module": "@jupyter-widgets/controls",
     "model_name": "ButtonModel",
     "state": {
      "_dom_classes": [],
      "_model_module": "@jupyter-widgets/controls",
      "_model_module_version": "1.5.0",
      "_model_name": "ButtonModel",
      "_view_count": null,
      "_view_module": "@jupyter-widgets/controls",
      "_view_module_version": "1.5.0",
      "_view_name": "ButtonView",
      "button_style": "success",
      "description": "Clinical BERT",
      "disabled": false,
      "icon": "",
      "layout": "IPY_MODEL_51eff83df58a420789ce555c38452edb",
      "style": "IPY_MODEL_48f7eb00d1004fcf9a141e4a569e70e3",
      "tooltip": "Click to submit"
     }
    },
    "f26f2264bee74c4eb6350cc4ee958e14": {
     "model_module": "@jupyter-widgets/base",
     "model_name": "LayoutModel",
     "state": {
      "_model_module": "@jupyter-widgets/base",
      "_model_module_version": "1.2.0",
      "_model_name": "LayoutModel",
      "_view_count": null,
      "_view_module": "@jupyter-widgets/base",
      "_view_module_version": "1.2.0",
      "_view_name": "LayoutView",
      "align_content": null,
      "align_items": null,
      "align_self": null,
      "border": null,
      "bottom": null,
      "display": null,
      "flex": null,
      "flex_flow": null,
      "grid_area": null,
      "grid_auto_columns": null,
      "grid_auto_flow": null,
      "grid_auto_rows": null,
      "grid_column": null,
      "grid_gap": null,
      "grid_row": null,
      "grid_template_areas": null,
      "grid_template_columns": null,
      "grid_template_rows": null,
      "height": null,
      "justify_content": null,
      "justify_items": null,
      "left": null,
      "margin": null,
      "max_height": null,
      "max_width": null,
      "min_height": null,
      "min_width": null,
      "object_fit": null,
      "object_position": null,
      "order": null,
      "overflow": null,
      "overflow_x": null,
      "overflow_y": null,
      "padding": null,
      "right": null,
      "top": null,
      "visibility": null,
      "width": null
     }
    },
    "f2bce92dbc8a4aa68ff9a2fc4dceeef1": {
     "model_module": "@jupyter-widgets/controls",
     "model_name": "ButtonStyleModel",
     "state": {
      "_model_module": "@jupyter-widgets/controls",
      "_model_module_version": "1.5.0",
      "_model_name": "ButtonStyleModel",
      "_view_count": null,
      "_view_module": "@jupyter-widgets/base",
      "_view_module_version": "1.2.0",
      "_view_name": "StyleView",
      "button_color": null,
      "font_weight": ""
     }
    },
    "f2da11596c3d4dfe83bd1769fabcd761": {
     "model_module": "@jupyter-widgets/controls",
     "model_name": "DescriptionStyleModel",
     "state": {
      "_model_module": "@jupyter-widgets/controls",
      "_model_module_version": "1.5.0",
      "_model_name": "DescriptionStyleModel",
      "_view_count": null,
      "_view_module": "@jupyter-widgets/base",
      "_view_module_version": "1.2.0",
      "_view_name": "StyleView",
      "description_width": ""
     }
    },
    "f4a5d0ec5727429aa55b7922c583d477": {
     "model_module": "@jupyter-widgets/base",
     "model_name": "LayoutModel",
     "state": {
      "_model_module": "@jupyter-widgets/base",
      "_model_module_version": "1.2.0",
      "_model_name": "LayoutModel",
      "_view_count": null,
      "_view_module": "@jupyter-widgets/base",
      "_view_module_version": "1.2.0",
      "_view_name": "LayoutView",
      "align_content": null,
      "align_items": null,
      "align_self": null,
      "border": null,
      "bottom": null,
      "display": null,
      "flex": null,
      "flex_flow": null,
      "grid_area": null,
      "grid_auto_columns": null,
      "grid_auto_flow": null,
      "grid_auto_rows": null,
      "grid_column": null,
      "grid_gap": null,
      "grid_row": null,
      "grid_template_areas": null,
      "grid_template_columns": null,
      "grid_template_rows": null,
      "height": null,
      "justify_content": null,
      "justify_items": null,
      "left": null,
      "margin": null,
      "max_height": null,
      "max_width": null,
      "min_height": null,
      "min_width": null,
      "object_fit": null,
      "object_position": null,
      "order": null,
      "overflow": null,
      "overflow_x": null,
      "overflow_y": null,
      "padding": null,
      "right": null,
      "top": null,
      "visibility": null,
      "width": null
     }
    },
    "f581b8c069b64ab2bd93248b333d3c2a": {
     "model_module": "@jupyter-widgets/base",
     "model_name": "LayoutModel",
     "state": {
      "_model_module": "@jupyter-widgets/base",
      "_model_module_version": "1.2.0",
      "_model_name": "LayoutModel",
      "_view_count": null,
      "_view_module": "@jupyter-widgets/base",
      "_view_module_version": "1.2.0",
      "_view_name": "LayoutView",
      "align_content": null,
      "align_items": null,
      "align_self": null,
      "border": null,
      "bottom": null,
      "display": null,
      "flex": null,
      "flex_flow": null,
      "grid_area": null,
      "grid_auto_columns": null,
      "grid_auto_flow": null,
      "grid_auto_rows": null,
      "grid_column": null,
      "grid_gap": null,
      "grid_row": null,
      "grid_template_areas": null,
      "grid_template_columns": null,
      "grid_template_rows": null,
      "height": null,
      "justify_content": null,
      "justify_items": null,
      "left": null,
      "margin": null,
      "max_height": null,
      "max_width": null,
      "min_height": null,
      "min_width": null,
      "object_fit": null,
      "object_position": null,
      "order": null,
      "overflow": null,
      "overflow_x": null,
      "overflow_y": null,
      "padding": null,
      "right": null,
      "top": null,
      "visibility": null,
      "width": null
     }
    },
    "f7392431035f455c83e3d25dc03f2394": {
     "model_module": "@jupyter-widgets/controls",
     "model_name": "ProgressStyleModel",
     "state": {
      "_model_module": "@jupyter-widgets/controls",
      "_model_module_version": "1.5.0",
      "_model_name": "ProgressStyleModel",
      "_view_count": null,
      "_view_module": "@jupyter-widgets/base",
      "_view_module_version": "1.2.0",
      "_view_name": "StyleView",
      "bar_color": null,
      "description_width": "initial"
     }
    },
    "f78ad016fb9e424bb5ca6381fac027b0": {
     "model_module": "@jupyter-widgets/controls",
     "model_name": "FloatProgressModel",
     "state": {
      "_dom_classes": [],
      "_model_module": "@jupyter-widgets/controls",
      "_model_module_version": "1.5.0",
      "_model_name": "FloatProgressModel",
      "_view_count": null,
      "_view_module": "@jupyter-widgets/controls",
      "_view_module_version": "1.5.0",
      "_view_name": "ProgressView",
      "bar_style": "success",
      "description": "Downloading: 100%",
      "description_tooltip": null,
      "layout": "IPY_MODEL_4f86647bf83d45c088df343ebc0c02e3",
      "max": 385,
      "min": 0,
      "orientation": "horizontal",
      "style": "IPY_MODEL_3de3079c3fed43149c24d915c1db5b8d",
      "value": 385
     }
    },
    "f793c559be5045ad8e6725653afb7c8b": {
     "model_module": "@jupyter-widgets/base",
     "model_name": "LayoutModel",
     "state": {
      "_model_module": "@jupyter-widgets/base",
      "_model_module_version": "1.2.0",
      "_model_name": "LayoutModel",
      "_view_count": null,
      "_view_module": "@jupyter-widgets/base",
      "_view_module_version": "1.2.0",
      "_view_name": "LayoutView",
      "align_content": null,
      "align_items": null,
      "align_self": null,
      "border": null,
      "bottom": null,
      "display": null,
      "flex": null,
      "flex_flow": null,
      "grid_area": null,
      "grid_auto_columns": null,
      "grid_auto_flow": null,
      "grid_auto_rows": null,
      "grid_column": null,
      "grid_gap": null,
      "grid_row": null,
      "grid_template_areas": null,
      "grid_template_columns": null,
      "grid_template_rows": null,
      "height": null,
      "justify_content": null,
      "justify_items": null,
      "left": null,
      "margin": null,
      "max_height": null,
      "max_width": null,
      "min_height": null,
      "min_width": null,
      "object_fit": null,
      "object_position": null,
      "order": null,
      "overflow": null,
      "overflow_x": null,
      "overflow_y": null,
      "padding": null,
      "right": null,
      "top": null,
      "visibility": null,
      "width": null
     }
    },
    "fea80cbcf059464ea38150f20b9be658": {
     "model_module": "@jupyter-widgets/controls",
     "model_name": "TextModel",
     "state": {
      "_dom_classes": [],
      "_model_module": "@jupyter-widgets/controls",
      "_model_module_version": "1.5.0",
      "_model_name": "TextModel",
      "_view_count": null,
      "_view_module": "@jupyter-widgets/controls",
      "_view_module_version": "1.5.0",
      "_view_name": "TextView",
      "continuous_update": true,
      "description": "Your text:",
      "description_tooltip": null,
      "disabled": false,
      "layout": "IPY_MODEL_c4a959bf633f4c328accafa9a429ea9e",
      "placeholder": "Type something",
      "style": "IPY_MODEL_902a2ba94d604a008c78e75233fba90d",
      "value": "A cute bilateral airspace opacification is a subset of the larger differential diagnosis for airspace opacification."
     }
    },
    "feb3964ff7164729b225651ff58e1537": {
     "model_module": "@jupyter-widgets/controls",
     "model_name": "HTMLModel",
     "state": {
      "_dom_classes": [],
      "_model_module": "@jupyter-widgets/controls",
      "_model_module_version": "1.5.0",
      "_model_name": "HTMLModel",
      "_view_count": null,
      "_view_module": "@jupyter-widgets/controls",
      "_view_module_version": "1.5.0",
      "_view_name": "HTMLView",
      "description": "",
      "description_tooltip": null,
      "layout": "IPY_MODEL_c2494095e5d04c60bb8d4d930d20d40a",
      "placeholder": "​",
      "style": "IPY_MODEL_22f5306b335e43158d48f61ae2e4c11f",
      "value": " 433/433 [00:25&lt;00:00, 17.3B/s]"
     }
    }
   }
  }
 },
 "nbformat": 4,
 "nbformat_minor": 1
}
