{
  "nbformat": 4,
  "nbformat_minor": 0,
  "metadata": {
    "colab": {
      "name": "sentence-level detector.ipynb",
      "provenance": [],
      "collapsed_sections": [
        "cnXErHJJHZXf"
      ],
      "toc_visible": true
    },
    "kernelspec": {
      "name": "python3",
      "display_name": "Python 3"
    },
    "widgets": {
      "application/vnd.jupyter.widget-state+json": {
        "dce58edf87954b33ac110739353f104a": {
          "model_module": "@jupyter-widgets/controls",
          "model_name": "HBoxModel",
          "state": {
            "_view_name": "HBoxView",
            "_dom_classes": [],
            "_model_name": "HBoxModel",
            "_view_module": "@jupyter-widgets/controls",
            "_model_module_version": "1.5.0",
            "_view_count": null,
            "_view_module_version": "1.5.0",
            "box_style": "",
            "layout": "IPY_MODEL_7ab9136243214464a43ef4fa17545919",
            "_model_module": "@jupyter-widgets/controls",
            "children": [
              "IPY_MODEL_dda3c9eebb814fae9e13496679ece282",
              "IPY_MODEL_a95f115e4a454445a5874b9e17f947e6"
            ]
          }
        },
        "7ab9136243214464a43ef4fa17545919": {
          "model_module": "@jupyter-widgets/base",
          "model_name": "LayoutModel",
          "state": {
            "_view_name": "LayoutView",
            "grid_template_rows": null,
            "right": null,
            "justify_content": null,
            "_view_module": "@jupyter-widgets/base",
            "overflow": null,
            "_model_module_version": "1.2.0",
            "_view_count": null,
            "flex_flow": null,
            "width": null,
            "min_width": null,
            "border": null,
            "align_items": null,
            "bottom": null,
            "_model_module": "@jupyter-widgets/base",
            "top": null,
            "grid_column": null,
            "overflow_y": null,
            "overflow_x": null,
            "grid_auto_flow": null,
            "grid_area": null,
            "grid_template_columns": null,
            "flex": null,
            "_model_name": "LayoutModel",
            "justify_items": null,
            "grid_row": null,
            "max_height": null,
            "align_content": null,
            "visibility": null,
            "align_self": null,
            "height": null,
            "min_height": null,
            "padding": null,
            "grid_auto_rows": null,
            "grid_gap": null,
            "max_width": null,
            "order": null,
            "_view_module_version": "1.2.0",
            "grid_template_areas": null,
            "object_position": null,
            "object_fit": null,
            "grid_auto_columns": null,
            "margin": null,
            "display": null,
            "left": null
          }
        },
        "dda3c9eebb814fae9e13496679ece282": {
          "model_module": "@jupyter-widgets/controls",
          "model_name": "FloatProgressModel",
          "state": {
            "_view_name": "ProgressView",
            "style": "IPY_MODEL_6371035a11b2400d940945792648a48a",
            "_dom_classes": [],
            "description": "Downloading: 100%",
            "_model_name": "FloatProgressModel",
            "bar_style": "success",
            "max": 434,
            "_view_module": "@jupyter-widgets/controls",
            "_model_module_version": "1.5.0",
            "value": 434,
            "_view_count": null,
            "_view_module_version": "1.5.0",
            "orientation": "horizontal",
            "min": 0,
            "description_tooltip": null,
            "_model_module": "@jupyter-widgets/controls",
            "layout": "IPY_MODEL_0444b2459f624fa4927825bfa8f99c7b"
          }
        },
        "a95f115e4a454445a5874b9e17f947e6": {
          "model_module": "@jupyter-widgets/controls",
          "model_name": "HTMLModel",
          "state": {
            "_view_name": "HTMLView",
            "style": "IPY_MODEL_37b5b4c1f7464729bf8dd344a268a0e6",
            "_dom_classes": [],
            "description": "",
            "_model_name": "HTMLModel",
            "placeholder": "​",
            "_view_module": "@jupyter-widgets/controls",
            "_model_module_version": "1.5.0",
            "value": " 434/434 [00:00&lt;00:00, 1.22kB/s]",
            "_view_count": null,
            "_view_module_version": "1.5.0",
            "description_tooltip": null,
            "_model_module": "@jupyter-widgets/controls",
            "layout": "IPY_MODEL_17600567b15d42ebaf82bfd7a3027488"
          }
        },
        "6371035a11b2400d940945792648a48a": {
          "model_module": "@jupyter-widgets/controls",
          "model_name": "ProgressStyleModel",
          "state": {
            "_view_name": "StyleView",
            "_model_name": "ProgressStyleModel",
            "description_width": "initial",
            "_view_module": "@jupyter-widgets/base",
            "_model_module_version": "1.5.0",
            "_view_count": null,
            "_view_module_version": "1.2.0",
            "bar_color": null,
            "_model_module": "@jupyter-widgets/controls"
          }
        },
        "0444b2459f624fa4927825bfa8f99c7b": {
          "model_module": "@jupyter-widgets/base",
          "model_name": "LayoutModel",
          "state": {
            "_view_name": "LayoutView",
            "grid_template_rows": null,
            "right": null,
            "justify_content": null,
            "_view_module": "@jupyter-widgets/base",
            "overflow": null,
            "_model_module_version": "1.2.0",
            "_view_count": null,
            "flex_flow": null,
            "width": null,
            "min_width": null,
            "border": null,
            "align_items": null,
            "bottom": null,
            "_model_module": "@jupyter-widgets/base",
            "top": null,
            "grid_column": null,
            "overflow_y": null,
            "overflow_x": null,
            "grid_auto_flow": null,
            "grid_area": null,
            "grid_template_columns": null,
            "flex": null,
            "_model_name": "LayoutModel",
            "justify_items": null,
            "grid_row": null,
            "max_height": null,
            "align_content": null,
            "visibility": null,
            "align_self": null,
            "height": null,
            "min_height": null,
            "padding": null,
            "grid_auto_rows": null,
            "grid_gap": null,
            "max_width": null,
            "order": null,
            "_view_module_version": "1.2.0",
            "grid_template_areas": null,
            "object_position": null,
            "object_fit": null,
            "grid_auto_columns": null,
            "margin": null,
            "display": null,
            "left": null
          }
        },
        "37b5b4c1f7464729bf8dd344a268a0e6": {
          "model_module": "@jupyter-widgets/controls",
          "model_name": "DescriptionStyleModel",
          "state": {
            "_view_name": "StyleView",
            "_model_name": "DescriptionStyleModel",
            "description_width": "",
            "_view_module": "@jupyter-widgets/base",
            "_model_module_version": "1.5.0",
            "_view_count": null,
            "_view_module_version": "1.2.0",
            "_model_module": "@jupyter-widgets/controls"
          }
        },
        "17600567b15d42ebaf82bfd7a3027488": {
          "model_module": "@jupyter-widgets/base",
          "model_name": "LayoutModel",
          "state": {
            "_view_name": "LayoutView",
            "grid_template_rows": null,
            "right": null,
            "justify_content": null,
            "_view_module": "@jupyter-widgets/base",
            "overflow": null,
            "_model_module_version": "1.2.0",
            "_view_count": null,
            "flex_flow": null,
            "width": null,
            "min_width": null,
            "border": null,
            "align_items": null,
            "bottom": null,
            "_model_module": "@jupyter-widgets/base",
            "top": null,
            "grid_column": null,
            "overflow_y": null,
            "overflow_x": null,
            "grid_auto_flow": null,
            "grid_area": null,
            "grid_template_columns": null,
            "flex": null,
            "_model_name": "LayoutModel",
            "justify_items": null,
            "grid_row": null,
            "max_height": null,
            "align_content": null,
            "visibility": null,
            "align_self": null,
            "height": null,
            "min_height": null,
            "padding": null,
            "grid_auto_rows": null,
            "grid_gap": null,
            "max_width": null,
            "order": null,
            "_view_module_version": "1.2.0",
            "grid_template_areas": null,
            "object_position": null,
            "object_fit": null,
            "grid_auto_columns": null,
            "margin": null,
            "display": null,
            "left": null
          }
        },
        "d2478bbbc667496f98a24fe89395e4e1": {
          "model_module": "@jupyter-widgets/controls",
          "model_name": "HBoxModel",
          "state": {
            "_view_name": "HBoxView",
            "_dom_classes": [],
            "_model_name": "HBoxModel",
            "_view_module": "@jupyter-widgets/controls",
            "_model_module_version": "1.5.0",
            "_view_count": null,
            "_view_module_version": "1.5.0",
            "box_style": "",
            "layout": "IPY_MODEL_f68d1511ccd04224b9f2734c814b948b",
            "_model_module": "@jupyter-widgets/controls",
            "children": [
              "IPY_MODEL_ea089df371a4428b8ce213fd4dfc0722",
              "IPY_MODEL_331f3121e10d4458a2b1f948913a6868"
            ]
          }
        },
        "f68d1511ccd04224b9f2734c814b948b": {
          "model_module": "@jupyter-widgets/base",
          "model_name": "LayoutModel",
          "state": {
            "_view_name": "LayoutView",
            "grid_template_rows": null,
            "right": null,
            "justify_content": null,
            "_view_module": "@jupyter-widgets/base",
            "overflow": null,
            "_model_module_version": "1.2.0",
            "_view_count": null,
            "flex_flow": null,
            "width": null,
            "min_width": null,
            "border": null,
            "align_items": null,
            "bottom": null,
            "_model_module": "@jupyter-widgets/base",
            "top": null,
            "grid_column": null,
            "overflow_y": null,
            "overflow_x": null,
            "grid_auto_flow": null,
            "grid_area": null,
            "grid_template_columns": null,
            "flex": null,
            "_model_name": "LayoutModel",
            "justify_items": null,
            "grid_row": null,
            "max_height": null,
            "align_content": null,
            "visibility": null,
            "align_self": null,
            "height": null,
            "min_height": null,
            "padding": null,
            "grid_auto_rows": null,
            "grid_gap": null,
            "max_width": null,
            "order": null,
            "_view_module_version": "1.2.0",
            "grid_template_areas": null,
            "object_position": null,
            "object_fit": null,
            "grid_auto_columns": null,
            "margin": null,
            "display": null,
            "left": null
          }
        },
        "ea089df371a4428b8ce213fd4dfc0722": {
          "model_module": "@jupyter-widgets/controls",
          "model_name": "FloatProgressModel",
          "state": {
            "_view_name": "ProgressView",
            "style": "IPY_MODEL_9170408929df47eb97e3ec019ca45b6d",
            "_dom_classes": [],
            "description": "Downloading: 100%",
            "_model_name": "FloatProgressModel",
            "bar_style": "success",
            "max": 231508,
            "_view_module": "@jupyter-widgets/controls",
            "_model_module_version": "1.5.0",
            "value": 231508,
            "_view_count": null,
            "_view_module_version": "1.5.0",
            "orientation": "horizontal",
            "min": 0,
            "description_tooltip": null,
            "_model_module": "@jupyter-widgets/controls",
            "layout": "IPY_MODEL_0027068aecf34f8ab25014d5f95ed055"
          }
        },
        "331f3121e10d4458a2b1f948913a6868": {
          "model_module": "@jupyter-widgets/controls",
          "model_name": "HTMLModel",
          "state": {
            "_view_name": "HTMLView",
            "style": "IPY_MODEL_c8a21742a6fd4fe49d4009a68b84284e",
            "_dom_classes": [],
            "description": "",
            "_model_name": "HTMLModel",
            "placeholder": "​",
            "_view_module": "@jupyter-widgets/controls",
            "_model_module_version": "1.5.0",
            "value": " 232k/232k [00:00&lt;00:00, 2.02MB/s]",
            "_view_count": null,
            "_view_module_version": "1.5.0",
            "description_tooltip": null,
            "_model_module": "@jupyter-widgets/controls",
            "layout": "IPY_MODEL_27cb5d47fad74ffea79acf18e74e4eb9"
          }
        },
        "9170408929df47eb97e3ec019ca45b6d": {
          "model_module": "@jupyter-widgets/controls",
          "model_name": "ProgressStyleModel",
          "state": {
            "_view_name": "StyleView",
            "_model_name": "ProgressStyleModel",
            "description_width": "initial",
            "_view_module": "@jupyter-widgets/base",
            "_model_module_version": "1.5.0",
            "_view_count": null,
            "_view_module_version": "1.2.0",
            "bar_color": null,
            "_model_module": "@jupyter-widgets/controls"
          }
        },
        "0027068aecf34f8ab25014d5f95ed055": {
          "model_module": "@jupyter-widgets/base",
          "model_name": "LayoutModel",
          "state": {
            "_view_name": "LayoutView",
            "grid_template_rows": null,
            "right": null,
            "justify_content": null,
            "_view_module": "@jupyter-widgets/base",
            "overflow": null,
            "_model_module_version": "1.2.0",
            "_view_count": null,
            "flex_flow": null,
            "width": null,
            "min_width": null,
            "border": null,
            "align_items": null,
            "bottom": null,
            "_model_module": "@jupyter-widgets/base",
            "top": null,
            "grid_column": null,
            "overflow_y": null,
            "overflow_x": null,
            "grid_auto_flow": null,
            "grid_area": null,
            "grid_template_columns": null,
            "flex": null,
            "_model_name": "LayoutModel",
            "justify_items": null,
            "grid_row": null,
            "max_height": null,
            "align_content": null,
            "visibility": null,
            "align_self": null,
            "height": null,
            "min_height": null,
            "padding": null,
            "grid_auto_rows": null,
            "grid_gap": null,
            "max_width": null,
            "order": null,
            "_view_module_version": "1.2.0",
            "grid_template_areas": null,
            "object_position": null,
            "object_fit": null,
            "grid_auto_columns": null,
            "margin": null,
            "display": null,
            "left": null
          }
        },
        "c8a21742a6fd4fe49d4009a68b84284e": {
          "model_module": "@jupyter-widgets/controls",
          "model_name": "DescriptionStyleModel",
          "state": {
            "_view_name": "StyleView",
            "_model_name": "DescriptionStyleModel",
            "description_width": "",
            "_view_module": "@jupyter-widgets/base",
            "_model_module_version": "1.5.0",
            "_view_count": null,
            "_view_module_version": "1.2.0",
            "_model_module": "@jupyter-widgets/controls"
          }
        },
        "27cb5d47fad74ffea79acf18e74e4eb9": {
          "model_module": "@jupyter-widgets/base",
          "model_name": "LayoutModel",
          "state": {
            "_view_name": "LayoutView",
            "grid_template_rows": null,
            "right": null,
            "justify_content": null,
            "_view_module": "@jupyter-widgets/base",
            "overflow": null,
            "_model_module_version": "1.2.0",
            "_view_count": null,
            "flex_flow": null,
            "width": null,
            "min_width": null,
            "border": null,
            "align_items": null,
            "bottom": null,
            "_model_module": "@jupyter-widgets/base",
            "top": null,
            "grid_column": null,
            "overflow_y": null,
            "overflow_x": null,
            "grid_auto_flow": null,
            "grid_area": null,
            "grid_template_columns": null,
            "flex": null,
            "_model_name": "LayoutModel",
            "justify_items": null,
            "grid_row": null,
            "max_height": null,
            "align_content": null,
            "visibility": null,
            "align_self": null,
            "height": null,
            "min_height": null,
            "padding": null,
            "grid_auto_rows": null,
            "grid_gap": null,
            "max_width": null,
            "order": null,
            "_view_module_version": "1.2.0",
            "grid_template_areas": null,
            "object_position": null,
            "object_fit": null,
            "grid_auto_columns": null,
            "margin": null,
            "display": null,
            "left": null
          }
        },
        "20ed569163184132beb74f2cd9b3eea4": {
          "model_module": "@jupyter-widgets/controls",
          "model_name": "HBoxModel",
          "state": {
            "_view_name": "HBoxView",
            "_dom_classes": [],
            "_model_name": "HBoxModel",
            "_view_module": "@jupyter-widgets/controls",
            "_model_module_version": "1.5.0",
            "_view_count": null,
            "_view_module_version": "1.5.0",
            "box_style": "",
            "layout": "IPY_MODEL_8f0e551df2bf45378599932c45db0fe3",
            "_model_module": "@jupyter-widgets/controls",
            "children": [
              "IPY_MODEL_25aa527f7d7841878b5bb068ae0c9c14",
              "IPY_MODEL_0c803700ad55414cb0c5234aca2e9ba1"
            ]
          }
        },
        "8f0e551df2bf45378599932c45db0fe3": {
          "model_module": "@jupyter-widgets/base",
          "model_name": "LayoutModel",
          "state": {
            "_view_name": "LayoutView",
            "grid_template_rows": null,
            "right": null,
            "justify_content": null,
            "_view_module": "@jupyter-widgets/base",
            "overflow": null,
            "_model_module_version": "1.2.0",
            "_view_count": null,
            "flex_flow": null,
            "width": null,
            "min_width": null,
            "border": null,
            "align_items": null,
            "bottom": null,
            "_model_module": "@jupyter-widgets/base",
            "top": null,
            "grid_column": null,
            "overflow_y": null,
            "overflow_x": null,
            "grid_auto_flow": null,
            "grid_area": null,
            "grid_template_columns": null,
            "flex": null,
            "_model_name": "LayoutModel",
            "justify_items": null,
            "grid_row": null,
            "max_height": null,
            "align_content": null,
            "visibility": null,
            "align_self": null,
            "height": null,
            "min_height": null,
            "padding": null,
            "grid_auto_rows": null,
            "grid_gap": null,
            "max_width": null,
            "order": null,
            "_view_module_version": "1.2.0",
            "grid_template_areas": null,
            "object_position": null,
            "object_fit": null,
            "grid_auto_columns": null,
            "margin": null,
            "display": null,
            "left": null
          }
        },
        "25aa527f7d7841878b5bb068ae0c9c14": {
          "model_module": "@jupyter-widgets/controls",
          "model_name": "FloatProgressModel",
          "state": {
            "_view_name": "ProgressView",
            "style": "IPY_MODEL_ed812dd9bd9f46bdbd9dde12373c4a1a",
            "_dom_classes": [],
            "description": "Downloading: 100%",
            "_model_name": "FloatProgressModel",
            "bar_style": "success",
            "max": 1344997306,
            "_view_module": "@jupyter-widgets/controls",
            "_model_module_version": "1.5.0",
            "value": 1344997306,
            "_view_count": null,
            "_view_module_version": "1.5.0",
            "orientation": "horizontal",
            "min": 0,
            "description_tooltip": null,
            "_model_module": "@jupyter-widgets/controls",
            "layout": "IPY_MODEL_f0e46a4af84d4b96b69503e4b9917b7e"
          }
        },
        "0c803700ad55414cb0c5234aca2e9ba1": {
          "model_module": "@jupyter-widgets/controls",
          "model_name": "HTMLModel",
          "state": {
            "_view_name": "HTMLView",
            "style": "IPY_MODEL_5847d2c29b8642d2a8378e8c97363173",
            "_dom_classes": [],
            "description": "",
            "_model_name": "HTMLModel",
            "placeholder": "​",
            "_view_module": "@jupyter-widgets/controls",
            "_model_module_version": "1.5.0",
            "value": " 1.34G/1.34G [01:30&lt;00:00, 14.8MB/s]",
            "_view_count": null,
            "_view_module_version": "1.5.0",
            "description_tooltip": null,
            "_model_module": "@jupyter-widgets/controls",
            "layout": "IPY_MODEL_0778647f1f414e38b149c5b7b7665350"
          }
        },
        "ed812dd9bd9f46bdbd9dde12373c4a1a": {
          "model_module": "@jupyter-widgets/controls",
          "model_name": "ProgressStyleModel",
          "state": {
            "_view_name": "StyleView",
            "_model_name": "ProgressStyleModel",
            "description_width": "initial",
            "_view_module": "@jupyter-widgets/base",
            "_model_module_version": "1.5.0",
            "_view_count": null,
            "_view_module_version": "1.2.0",
            "bar_color": null,
            "_model_module": "@jupyter-widgets/controls"
          }
        },
        "f0e46a4af84d4b96b69503e4b9917b7e": {
          "model_module": "@jupyter-widgets/base",
          "model_name": "LayoutModel",
          "state": {
            "_view_name": "LayoutView",
            "grid_template_rows": null,
            "right": null,
            "justify_content": null,
            "_view_module": "@jupyter-widgets/base",
            "overflow": null,
            "_model_module_version": "1.2.0",
            "_view_count": null,
            "flex_flow": null,
            "width": null,
            "min_width": null,
            "border": null,
            "align_items": null,
            "bottom": null,
            "_model_module": "@jupyter-widgets/base",
            "top": null,
            "grid_column": null,
            "overflow_y": null,
            "overflow_x": null,
            "grid_auto_flow": null,
            "grid_area": null,
            "grid_template_columns": null,
            "flex": null,
            "_model_name": "LayoutModel",
            "justify_items": null,
            "grid_row": null,
            "max_height": null,
            "align_content": null,
            "visibility": null,
            "align_self": null,
            "height": null,
            "min_height": null,
            "padding": null,
            "grid_auto_rows": null,
            "grid_gap": null,
            "max_width": null,
            "order": null,
            "_view_module_version": "1.2.0",
            "grid_template_areas": null,
            "object_position": null,
            "object_fit": null,
            "grid_auto_columns": null,
            "margin": null,
            "display": null,
            "left": null
          }
        },
        "5847d2c29b8642d2a8378e8c97363173": {
          "model_module": "@jupyter-widgets/controls",
          "model_name": "DescriptionStyleModel",
          "state": {
            "_view_name": "StyleView",
            "_model_name": "DescriptionStyleModel",
            "description_width": "",
            "_view_module": "@jupyter-widgets/base",
            "_model_module_version": "1.5.0",
            "_view_count": null,
            "_view_module_version": "1.2.0",
            "_model_module": "@jupyter-widgets/controls"
          }
        },
        "0778647f1f414e38b149c5b7b7665350": {
          "model_module": "@jupyter-widgets/base",
          "model_name": "LayoutModel",
          "state": {
            "_view_name": "LayoutView",
            "grid_template_rows": null,
            "right": null,
            "justify_content": null,
            "_view_module": "@jupyter-widgets/base",
            "overflow": null,
            "_model_module_version": "1.2.0",
            "_view_count": null,
            "flex_flow": null,
            "width": null,
            "min_width": null,
            "border": null,
            "align_items": null,
            "bottom": null,
            "_model_module": "@jupyter-widgets/base",
            "top": null,
            "grid_column": null,
            "overflow_y": null,
            "overflow_x": null,
            "grid_auto_flow": null,
            "grid_area": null,
            "grid_template_columns": null,
            "flex": null,
            "_model_name": "LayoutModel",
            "justify_items": null,
            "grid_row": null,
            "max_height": null,
            "align_content": null,
            "visibility": null,
            "align_self": null,
            "height": null,
            "min_height": null,
            "padding": null,
            "grid_auto_rows": null,
            "grid_gap": null,
            "max_width": null,
            "order": null,
            "_view_module_version": "1.2.0",
            "grid_template_areas": null,
            "object_position": null,
            "object_fit": null,
            "grid_auto_columns": null,
            "margin": null,
            "display": null,
            "left": null
          }
        },
        "9d36ec37e0fd4175b0f23af200f40c06": {
          "model_module": "@jupyter-widgets/controls",
          "model_name": "TextModel",
          "state": {
            "_view_name": "TextView",
            "style": "IPY_MODEL_744437d9dce74090926ddc7a972fa286",
            "_dom_classes": [],
            "description": "",
            "_model_name": "TextModel",
            "placeholder": "​",
            "_view_module": "@jupyter-widgets/controls",
            "_model_module_version": "1.5.0",
            "value": "",
            "_view_count": null,
            "disabled": false,
            "_view_module_version": "1.5.0",
            "continuous_update": true,
            "description_tooltip": null,
            "_model_module": "@jupyter-widgets/controls",
            "layout": "IPY_MODEL_0daeebcb44f24406946b432f108fa57e"
          }
        },
        "744437d9dce74090926ddc7a972fa286": {
          "model_module": "@jupyter-widgets/controls",
          "model_name": "DescriptionStyleModel",
          "state": {
            "_view_name": "StyleView",
            "_model_name": "DescriptionStyleModel",
            "description_width": "",
            "_view_module": "@jupyter-widgets/base",
            "_model_module_version": "1.5.0",
            "_view_count": null,
            "_view_module_version": "1.2.0",
            "_model_module": "@jupyter-widgets/controls"
          }
        },
        "0daeebcb44f24406946b432f108fa57e": {
          "model_module": "@jupyter-widgets/base",
          "model_name": "LayoutModel",
          "state": {
            "_view_name": "LayoutView",
            "grid_template_rows": null,
            "right": null,
            "justify_content": null,
            "_view_module": "@jupyter-widgets/base",
            "overflow": null,
            "_model_module_version": "1.2.0",
            "_view_count": null,
            "flex_flow": null,
            "width": null,
            "min_width": null,
            "border": null,
            "align_items": null,
            "bottom": null,
            "_model_module": "@jupyter-widgets/base",
            "top": null,
            "grid_column": null,
            "overflow_y": null,
            "overflow_x": null,
            "grid_auto_flow": null,
            "grid_area": null,
            "grid_template_columns": null,
            "flex": null,
            "_model_name": "LayoutModel",
            "justify_items": null,
            "grid_row": null,
            "max_height": null,
            "align_content": null,
            "visibility": null,
            "align_self": null,
            "height": null,
            "min_height": null,
            "padding": null,
            "grid_auto_rows": null,
            "grid_gap": null,
            "max_width": null,
            "order": null,
            "_view_module_version": "1.2.0",
            "grid_template_areas": null,
            "object_position": null,
            "object_fit": null,
            "grid_auto_columns": null,
            "margin": null,
            "display": null,
            "left": null
          }
        },
        "a6458c1db01f422fa4b1164c92c6cfe1": {
          "model_module": "@jupyter-widgets/controls",
          "model_name": "BoxModel",
          "state": {
            "_view_name": "BoxView",
            "_dom_classes": [],
            "_model_name": "BoxModel",
            "_view_module": "@jupyter-widgets/controls",
            "_model_module_version": "1.5.0",
            "_view_count": null,
            "_view_module_version": "1.5.0",
            "box_style": "",
            "layout": "IPY_MODEL_85a6f82ea31b4ea6bc146718f5e8ab0a",
            "_model_module": "@jupyter-widgets/controls",
            "children": [
              "IPY_MODEL_9d36ec37e0fd4175b0f23af200f40c06",
              "IPY_MODEL_4cf0a1d4c12941589ca89119e1c1e0d7"
            ]
          }
        },
        "85a6f82ea31b4ea6bc146718f5e8ab0a": {
          "model_module": "@jupyter-widgets/base",
          "model_name": "LayoutModel",
          "state": {
            "_view_name": "LayoutView",
            "grid_template_rows": null,
            "right": null,
            "justify_content": null,
            "_view_module": "@jupyter-widgets/base",
            "overflow": null,
            "_model_module_version": "1.2.0",
            "_view_count": null,
            "flex_flow": null,
            "width": null,
            "min_width": null,
            "border": null,
            "align_items": null,
            "bottom": null,
            "_model_module": "@jupyter-widgets/base",
            "top": null,
            "grid_column": null,
            "overflow_y": null,
            "overflow_x": null,
            "grid_auto_flow": null,
            "grid_area": null,
            "grid_template_columns": null,
            "flex": null,
            "_model_name": "LayoutModel",
            "justify_items": null,
            "grid_row": null,
            "max_height": null,
            "align_content": null,
            "visibility": null,
            "align_self": null,
            "height": null,
            "min_height": null,
            "padding": null,
            "grid_auto_rows": null,
            "grid_gap": null,
            "max_width": null,
            "order": null,
            "_view_module_version": "1.2.0",
            "grid_template_areas": null,
            "object_position": null,
            "object_fit": null,
            "grid_auto_columns": null,
            "margin": null,
            "display": null,
            "left": null
          }
        },
        "4cf0a1d4c12941589ca89119e1c1e0d7": {
          "model_module": "@jupyter-widgets/controls",
          "model_name": "ButtonModel",
          "state": {
            "_view_name": "ButtonView",
            "style": "IPY_MODEL_5b719ba4e8f8460383f8373683643257",
            "_dom_classes": [],
            "description": "Submit",
            "_model_name": "ButtonModel",
            "button_style": "",
            "_view_module": "@jupyter-widgets/controls",
            "_model_module_version": "1.5.0",
            "tooltip": "Click to submit",
            "_view_count": null,
            "disabled": false,
            "_view_module_version": "1.5.0",
            "layout": "IPY_MODEL_491bf734790140fe9fbd670282286863",
            "_model_module": "@jupyter-widgets/controls",
            "icon": ""
          }
        },
        "5b719ba4e8f8460383f8373683643257": {
          "model_module": "@jupyter-widgets/controls",
          "model_name": "ButtonStyleModel",
          "state": {
            "_view_name": "StyleView",
            "_model_name": "ButtonStyleModel",
            "_view_module": "@jupyter-widgets/base",
            "_model_module_version": "1.5.0",
            "_view_count": null,
            "button_color": null,
            "font_weight": "",
            "_view_module_version": "1.2.0",
            "_model_module": "@jupyter-widgets/controls"
          }
        },
        "491bf734790140fe9fbd670282286863": {
          "model_module": "@jupyter-widgets/base",
          "model_name": "LayoutModel",
          "state": {
            "_view_name": "LayoutView",
            "grid_template_rows": null,
            "right": null,
            "justify_content": null,
            "_view_module": "@jupyter-widgets/base",
            "overflow": null,
            "_model_module_version": "1.2.0",
            "_view_count": null,
            "flex_flow": null,
            "width": null,
            "min_width": null,
            "border": null,
            "align_items": null,
            "bottom": null,
            "_model_module": "@jupyter-widgets/base",
            "top": null,
            "grid_column": null,
            "overflow_y": null,
            "overflow_x": null,
            "grid_auto_flow": null,
            "grid_area": null,
            "grid_template_columns": null,
            "flex": null,
            "_model_name": "LayoutModel",
            "justify_items": null,
            "grid_row": null,
            "max_height": null,
            "align_content": null,
            "visibility": null,
            "align_self": null,
            "height": null,
            "min_height": null,
            "padding": null,
            "grid_auto_rows": null,
            "grid_gap": null,
            "max_width": null,
            "order": null,
            "_view_module_version": "1.2.0",
            "grid_template_areas": null,
            "object_position": null,
            "object_fit": null,
            "grid_auto_columns": null,
            "margin": null,
            "display": null,
            "left": null
          }
        },
        "b4d25f4dc3564b65b6cc94aede183833": {
          "model_module": "@jupyter-widgets/controls",
          "model_name": "LabelModel",
          "state": {
            "_view_name": "LabelView",
            "style": "IPY_MODEL_1a0757d40acd4ab0b595249d12cde59d",
            "_dom_classes": [],
            "description": "",
            "_model_name": "LabelModel",
            "placeholder": "​",
            "_view_module": "@jupyter-widgets/controls",
            "_model_module_version": "1.5.0",
            "value": "Please select TOPK.",
            "_view_count": null,
            "_view_module_version": "1.5.0",
            "description_tooltip": null,
            "_model_module": "@jupyter-widgets/controls",
            "layout": "IPY_MODEL_bd9873278dbd42acb802cbad4fd1398c"
          }
        },
        "1a0757d40acd4ab0b595249d12cde59d": {
          "model_module": "@jupyter-widgets/controls",
          "model_name": "DescriptionStyleModel",
          "state": {
            "_view_name": "StyleView",
            "_model_name": "DescriptionStyleModel",
            "description_width": "",
            "_view_module": "@jupyter-widgets/base",
            "_model_module_version": "1.5.0",
            "_view_count": null,
            "_view_module_version": "1.2.0",
            "_model_module": "@jupyter-widgets/controls"
          }
        },
        "bd9873278dbd42acb802cbad4fd1398c": {
          "model_module": "@jupyter-widgets/base",
          "model_name": "LayoutModel",
          "state": {
            "_view_name": "LayoutView",
            "grid_template_rows": null,
            "right": null,
            "justify_content": null,
            "_view_module": "@jupyter-widgets/base",
            "overflow": null,
            "_model_module_version": "1.2.0",
            "_view_count": null,
            "flex_flow": null,
            "width": null,
            "min_width": null,
            "border": null,
            "align_items": null,
            "bottom": null,
            "_model_module": "@jupyter-widgets/base",
            "top": null,
            "grid_column": null,
            "overflow_y": null,
            "overflow_x": null,
            "grid_auto_flow": null,
            "grid_area": null,
            "grid_template_columns": null,
            "flex": null,
            "_model_name": "LayoutModel",
            "justify_items": null,
            "grid_row": null,
            "max_height": null,
            "align_content": null,
            "visibility": null,
            "align_self": null,
            "height": null,
            "min_height": null,
            "padding": null,
            "grid_auto_rows": null,
            "grid_gap": null,
            "max_width": null,
            "order": null,
            "_view_module_version": "1.2.0",
            "grid_template_areas": null,
            "object_position": null,
            "object_fit": null,
            "grid_auto_columns": null,
            "margin": null,
            "display": null,
            "left": null
          }
        },
        "d13919f305e6418783edaca26480c2c6": {
          "model_module": "@jupyter-widgets/controls",
          "model_name": "DropdownModel",
          "state": {
            "_options_labels": [
              "1",
              "2",
              "5"
            ],
            "_view_name": "DropdownView",
            "style": "IPY_MODEL_ad727e5693f145429d4f31b5d59a59cf",
            "_dom_classes": [],
            "description": "",
            "_model_name": "DropdownModel",
            "index": 2,
            "_view_module": "@jupyter-widgets/controls",
            "_model_module_version": "1.5.0",
            "_view_count": null,
            "disabled": false,
            "_view_module_version": "1.5.0",
            "description_tooltip": null,
            "_model_module": "@jupyter-widgets/controls",
            "layout": "IPY_MODEL_d5b6f9ee307b42f2b8e552d91896a123"
          }
        },
        "ad727e5693f145429d4f31b5d59a59cf": {
          "model_module": "@jupyter-widgets/controls",
          "model_name": "DescriptionStyleModel",
          "state": {
            "_view_name": "StyleView",
            "_model_name": "DescriptionStyleModel",
            "description_width": "",
            "_view_module": "@jupyter-widgets/base",
            "_model_module_version": "1.5.0",
            "_view_count": null,
            "_view_module_version": "1.2.0",
            "_model_module": "@jupyter-widgets/controls"
          }
        },
        "d5b6f9ee307b42f2b8e552d91896a123": {
          "model_module": "@jupyter-widgets/base",
          "model_name": "LayoutModel",
          "state": {
            "_view_name": "LayoutView",
            "grid_template_rows": null,
            "right": null,
            "justify_content": null,
            "_view_module": "@jupyter-widgets/base",
            "overflow": null,
            "_model_module_version": "1.2.0",
            "_view_count": null,
            "flex_flow": null,
            "width": null,
            "min_width": null,
            "border": null,
            "align_items": null,
            "bottom": null,
            "_model_module": "@jupyter-widgets/base",
            "top": null,
            "grid_column": null,
            "overflow_y": null,
            "overflow_x": null,
            "grid_auto_flow": null,
            "grid_area": null,
            "grid_template_columns": null,
            "flex": null,
            "_model_name": "LayoutModel",
            "justify_items": null,
            "grid_row": null,
            "max_height": null,
            "align_content": null,
            "visibility": null,
            "align_self": null,
            "height": null,
            "min_height": null,
            "padding": null,
            "grid_auto_rows": null,
            "grid_gap": null,
            "max_width": null,
            "order": null,
            "_view_module_version": "1.2.0",
            "grid_template_areas": null,
            "object_position": null,
            "object_fit": null,
            "grid_auto_columns": null,
            "margin": null,
            "display": null,
            "left": null
          }
        },
        "49b01ae6af1e42779ce45890a27f1992": {
          "model_module": "@jupyter-widgets/controls",
          "model_name": "LabelModel",
          "state": {
            "_view_name": "LabelView",
            "style": "IPY_MODEL_ad897e1c7a5348b880138302bf9c85e0",
            "_dom_classes": [],
            "description": "",
            "_model_name": "LabelModel",
            "placeholder": "​",
            "_view_module": "@jupyter-widgets/controls",
            "_model_module_version": "1.5.0",
            "value": "Sliders",
            "_view_count": null,
            "_view_module_version": "1.5.0",
            "description_tooltip": null,
            "_model_module": "@jupyter-widgets/controls",
            "layout": "IPY_MODEL_cedb746126bc4d35a1ffc4f039e318cf"
          }
        },
        "ad897e1c7a5348b880138302bf9c85e0": {
          "model_module": "@jupyter-widgets/controls",
          "model_name": "DescriptionStyleModel",
          "state": {
            "_view_name": "StyleView",
            "_model_name": "DescriptionStyleModel",
            "description_width": "",
            "_view_module": "@jupyter-widgets/base",
            "_model_module_version": "1.5.0",
            "_view_count": null,
            "_view_module_version": "1.2.0",
            "_model_module": "@jupyter-widgets/controls"
          }
        },
        "cedb746126bc4d35a1ffc4f039e318cf": {
          "model_module": "@jupyter-widgets/base",
          "model_name": "LayoutModel",
          "state": {
            "_view_name": "LayoutView",
            "grid_template_rows": null,
            "right": null,
            "justify_content": null,
            "_view_module": "@jupyter-widgets/base",
            "overflow": null,
            "_model_module_version": "1.2.0",
            "_view_count": null,
            "flex_flow": null,
            "width": null,
            "min_width": null,
            "border": null,
            "align_items": null,
            "bottom": null,
            "_model_module": "@jupyter-widgets/base",
            "top": null,
            "grid_column": null,
            "overflow_y": null,
            "overflow_x": null,
            "grid_auto_flow": null,
            "grid_area": null,
            "grid_template_columns": null,
            "flex": null,
            "_model_name": "LayoutModel",
            "justify_items": null,
            "grid_row": null,
            "max_height": null,
            "align_content": null,
            "visibility": null,
            "align_self": null,
            "height": null,
            "min_height": null,
            "padding": null,
            "grid_auto_rows": null,
            "grid_gap": null,
            "max_width": null,
            "order": null,
            "_view_module_version": "1.2.0",
            "grid_template_areas": null,
            "object_position": null,
            "object_fit": null,
            "grid_auto_columns": null,
            "margin": null,
            "display": null,
            "left": null
          }
        },
        "242f09b2dc8947b6b6825fe8c156c1d2": {
          "model_module": "@jupyter-widgets/controls",
          "model_name": "IntSliderModel",
          "state": {
            "_view_name": "IntSliderView",
            "style": "IPY_MODEL_e0eaab844d2449d490205f54e8a9e9d1",
            "_dom_classes": [],
            "description": "Slider 1",
            "step": 1,
            "_model_name": "IntSliderModel",
            "orientation": "horizontal",
            "max": 100,
            "_view_module": "@jupyter-widgets/controls",
            "_model_module_version": "1.5.0",
            "value": 66,
            "_view_count": null,
            "disabled": false,
            "_view_module_version": "1.5.0",
            "min": 0,
            "continuous_update": true,
            "readout_format": "d",
            "description_tooltip": null,
            "readout": true,
            "_model_module": "@jupyter-widgets/controls",
            "layout": "IPY_MODEL_a2ee3b30190744f6bf6348641629ad8c"
          }
        },
        "e0eaab844d2449d490205f54e8a9e9d1": {
          "model_module": "@jupyter-widgets/controls",
          "model_name": "SliderStyleModel",
          "state": {
            "_view_name": "StyleView",
            "handle_color": null,
            "_model_name": "SliderStyleModel",
            "description_width": "",
            "_view_module": "@jupyter-widgets/base",
            "_model_module_version": "1.5.0",
            "_view_count": null,
            "_view_module_version": "1.2.0",
            "_model_module": "@jupyter-widgets/controls"
          }
        },
        "a2ee3b30190744f6bf6348641629ad8c": {
          "model_module": "@jupyter-widgets/base",
          "model_name": "LayoutModel",
          "state": {
            "_view_name": "LayoutView",
            "grid_template_rows": null,
            "right": null,
            "justify_content": null,
            "_view_module": "@jupyter-widgets/base",
            "overflow": null,
            "_model_module_version": "1.2.0",
            "_view_count": null,
            "flex_flow": null,
            "width": null,
            "min_width": null,
            "border": null,
            "align_items": null,
            "bottom": null,
            "_model_module": "@jupyter-widgets/base",
            "top": null,
            "grid_column": null,
            "overflow_y": null,
            "overflow_x": null,
            "grid_auto_flow": null,
            "grid_area": null,
            "grid_template_columns": null,
            "flex": null,
            "_model_name": "LayoutModel",
            "justify_items": null,
            "grid_row": null,
            "max_height": null,
            "align_content": null,
            "visibility": null,
            "align_self": null,
            "height": null,
            "min_height": null,
            "padding": null,
            "grid_auto_rows": null,
            "grid_gap": null,
            "max_width": null,
            "order": null,
            "_view_module_version": "1.2.0",
            "grid_template_areas": null,
            "object_position": null,
            "object_fit": null,
            "grid_auto_columns": null,
            "margin": null,
            "display": null,
            "left": null
          }
        },
        "6df2197639864c2a84c6cdf13660d024": {
          "model_module": "@jupyter-widgets/controls",
          "model_name": "IntSliderModel",
          "state": {
            "_view_name": "IntSliderView",
            "style": "IPY_MODEL_90663781a8044e66ba92e8da4e62a1a5",
            "_dom_classes": [],
            "description": "Slider 2",
            "step": 1,
            "_model_name": "IntSliderModel",
            "orientation": "horizontal",
            "max": 100,
            "_view_module": "@jupyter-widgets/controls",
            "_model_module_version": "1.5.0",
            "value": 66,
            "_view_count": null,
            "disabled": false,
            "_view_module_version": "1.5.0",
            "min": 0,
            "continuous_update": true,
            "readout_format": "d",
            "description_tooltip": null,
            "readout": true,
            "_model_module": "@jupyter-widgets/controls",
            "layout": "IPY_MODEL_43b009f816c34da9abad40148e44a01f"
          }
        },
        "90663781a8044e66ba92e8da4e62a1a5": {
          "model_module": "@jupyter-widgets/controls",
          "model_name": "SliderStyleModel",
          "state": {
            "_view_name": "StyleView",
            "handle_color": null,
            "_model_name": "SliderStyleModel",
            "description_width": "",
            "_view_module": "@jupyter-widgets/base",
            "_model_module_version": "1.5.0",
            "_view_count": null,
            "_view_module_version": "1.2.0",
            "_model_module": "@jupyter-widgets/controls"
          }
        },
        "43b009f816c34da9abad40148e44a01f": {
          "model_module": "@jupyter-widgets/base",
          "model_name": "LayoutModel",
          "state": {
            "_view_name": "LayoutView",
            "grid_template_rows": null,
            "right": null,
            "justify_content": null,
            "_view_module": "@jupyter-widgets/base",
            "overflow": null,
            "_model_module_version": "1.2.0",
            "_view_count": null,
            "flex_flow": null,
            "width": null,
            "min_width": null,
            "border": null,
            "align_items": null,
            "bottom": null,
            "_model_module": "@jupyter-widgets/base",
            "top": null,
            "grid_column": null,
            "overflow_y": null,
            "overflow_x": null,
            "grid_auto_flow": null,
            "grid_area": null,
            "grid_template_columns": null,
            "flex": null,
            "_model_name": "LayoutModel",
            "justify_items": null,
            "grid_row": null,
            "max_height": null,
            "align_content": null,
            "visibility": null,
            "align_self": null,
            "height": null,
            "min_height": null,
            "padding": null,
            "grid_auto_rows": null,
            "grid_gap": null,
            "max_width": null,
            "order": null,
            "_view_module_version": "1.2.0",
            "grid_template_areas": null,
            "object_position": null,
            "object_fit": null,
            "grid_auto_columns": null,
            "margin": null,
            "display": null,
            "left": null
          }
        },
        "d6c467c48bae495f8acf943ac62b1205": {
          "model_module": "@jupyter-widgets/controls",
          "model_name": "HBoxModel",
          "state": {
            "_view_name": "HBoxView",
            "_dom_classes": [],
            "_model_name": "HBoxModel",
            "_view_module": "@jupyter-widgets/controls",
            "_model_module_version": "1.5.0",
            "_view_count": null,
            "_view_module_version": "1.5.0",
            "box_style": "",
            "layout": "IPY_MODEL_807638555c514d57ae90d2336f476c2e",
            "_model_module": "@jupyter-widgets/controls",
            "children": [
              "IPY_MODEL_c89bcc1856fd433f8691e66117c76305",
              "IPY_MODEL_2e9e7f1bd9894ea98638c29d88074d24",
              "IPY_MODEL_8b418699f2fc4331b83ba75fe5711f2f",
              "IPY_MODEL_2728a2adb6a04c05a09c0b2aca9c9a4b",
              "IPY_MODEL_a41750dcf57e4433ac3589b6a006afa0"
            ]
          }
        },
        "807638555c514d57ae90d2336f476c2e": {
          "model_module": "@jupyter-widgets/base",
          "model_name": "LayoutModel",
          "state": {
            "_view_name": "LayoutView",
            "grid_template_rows": null,
            "right": null,
            "justify_content": null,
            "_view_module": "@jupyter-widgets/base",
            "overflow": null,
            "_model_module_version": "1.2.0",
            "_view_count": null,
            "flex_flow": null,
            "width": null,
            "min_width": null,
            "border": null,
            "align_items": null,
            "bottom": null,
            "_model_module": "@jupyter-widgets/base",
            "top": null,
            "grid_column": null,
            "overflow_y": null,
            "overflow_x": null,
            "grid_auto_flow": null,
            "grid_area": null,
            "grid_template_columns": null,
            "flex": null,
            "_model_name": "LayoutModel",
            "justify_items": null,
            "grid_row": null,
            "max_height": null,
            "align_content": null,
            "visibility": null,
            "align_self": null,
            "height": null,
            "min_height": null,
            "padding": null,
            "grid_auto_rows": null,
            "grid_gap": null,
            "max_width": null,
            "order": null,
            "_view_module_version": "1.2.0",
            "grid_template_areas": null,
            "object_position": null,
            "object_fit": null,
            "grid_auto_columns": null,
            "margin": null,
            "display": null,
            "left": null
          }
        },
        "c89bcc1856fd433f8691e66117c76305": {
          "model_module": "@jupyter-widgets/controls",
          "model_name": "ButtonModel",
          "state": {
            "_view_name": "ButtonView",
            "style": "IPY_MODEL_63daf649b14e412e89bce453f6ecaf9e",
            "_dom_classes": [],
            "description": "Primary Button",
            "_model_name": "ButtonModel",
            "button_style": "primary",
            "_view_module": "@jupyter-widgets/controls",
            "_model_module_version": "1.5.0",
            "tooltip": "",
            "_view_count": null,
            "disabled": false,
            "_view_module_version": "1.5.0",
            "layout": "IPY_MODEL_7af4db889bb54851adf3a3eb95dece40",
            "_model_module": "@jupyter-widgets/controls",
            "icon": ""
          }
        },
        "2e9e7f1bd9894ea98638c29d88074d24": {
          "model_module": "@jupyter-widgets/controls",
          "model_name": "ButtonModel",
          "state": {
            "_view_name": "ButtonView",
            "style": "IPY_MODEL_b4d4feceac7643479549f5086e35409b",
            "_dom_classes": [],
            "description": "Success Button",
            "_model_name": "ButtonModel",
            "button_style": "success",
            "_view_module": "@jupyter-widgets/controls",
            "_model_module_version": "1.5.0",
            "tooltip": "",
            "_view_count": null,
            "disabled": false,
            "_view_module_version": "1.5.0",
            "layout": "IPY_MODEL_b660d93e607f4e6da851678da0bb9207",
            "_model_module": "@jupyter-widgets/controls",
            "icon": ""
          }
        },
        "8b418699f2fc4331b83ba75fe5711f2f": {
          "model_module": "@jupyter-widgets/controls",
          "model_name": "ButtonModel",
          "state": {
            "_view_name": "ButtonView",
            "style": "IPY_MODEL_3995d77576184b2c9e0762c44e776aad",
            "_dom_classes": [],
            "description": "Info Button",
            "_model_name": "ButtonModel",
            "button_style": "info",
            "_view_module": "@jupyter-widgets/controls",
            "_model_module_version": "1.5.0",
            "tooltip": "",
            "_view_count": null,
            "disabled": false,
            "_view_module_version": "1.5.0",
            "layout": "IPY_MODEL_07d41c5d334e4c15a41527a67051e2b9",
            "_model_module": "@jupyter-widgets/controls",
            "icon": ""
          }
        },
        "2728a2adb6a04c05a09c0b2aca9c9a4b": {
          "model_module": "@jupyter-widgets/controls",
          "model_name": "ButtonModel",
          "state": {
            "_view_name": "ButtonView",
            "style": "IPY_MODEL_51a8ba13dda8478aa463f996ec48bf56",
            "_dom_classes": [],
            "description": "Warning Button",
            "_model_name": "ButtonModel",
            "button_style": "warning",
            "_view_module": "@jupyter-widgets/controls",
            "_model_module_version": "1.5.0",
            "tooltip": "",
            "_view_count": null,
            "disabled": false,
            "_view_module_version": "1.5.0",
            "layout": "IPY_MODEL_3e51cc8c32a54601a4f85b0bfc026371",
            "_model_module": "@jupyter-widgets/controls",
            "icon": ""
          }
        },
        "a41750dcf57e4433ac3589b6a006afa0": {
          "model_module": "@jupyter-widgets/controls",
          "model_name": "ButtonModel",
          "state": {
            "_view_name": "ButtonView",
            "style": "IPY_MODEL_f2bce92dbc8a4aa68ff9a2fc4dceeef1",
            "_dom_classes": [],
            "description": "Danger Button",
            "_model_name": "ButtonModel",
            "button_style": "danger",
            "_view_module": "@jupyter-widgets/controls",
            "_model_module_version": "1.5.0",
            "tooltip": "",
            "_view_count": null,
            "disabled": false,
            "_view_module_version": "1.5.0",
            "layout": "IPY_MODEL_4d98f133c27a447990a69646ff8f41a5",
            "_model_module": "@jupyter-widgets/controls",
            "icon": ""
          }
        },
        "63daf649b14e412e89bce453f6ecaf9e": {
          "model_module": "@jupyter-widgets/controls",
          "model_name": "ButtonStyleModel",
          "state": {
            "_view_name": "StyleView",
            "_model_name": "ButtonStyleModel",
            "_view_module": "@jupyter-widgets/base",
            "_model_module_version": "1.5.0",
            "_view_count": null,
            "button_color": null,
            "font_weight": "",
            "_view_module_version": "1.2.0",
            "_model_module": "@jupyter-widgets/controls"
          }
        },
        "7af4db889bb54851adf3a3eb95dece40": {
          "model_module": "@jupyter-widgets/base",
          "model_name": "LayoutModel",
          "state": {
            "_view_name": "LayoutView",
            "grid_template_rows": null,
            "right": null,
            "justify_content": null,
            "_view_module": "@jupyter-widgets/base",
            "overflow": null,
            "_model_module_version": "1.2.0",
            "_view_count": null,
            "flex_flow": null,
            "width": null,
            "min_width": null,
            "border": null,
            "align_items": null,
            "bottom": null,
            "_model_module": "@jupyter-widgets/base",
            "top": null,
            "grid_column": null,
            "overflow_y": null,
            "overflow_x": null,
            "grid_auto_flow": null,
            "grid_area": null,
            "grid_template_columns": null,
            "flex": null,
            "_model_name": "LayoutModel",
            "justify_items": null,
            "grid_row": null,
            "max_height": null,
            "align_content": null,
            "visibility": null,
            "align_self": null,
            "height": null,
            "min_height": null,
            "padding": null,
            "grid_auto_rows": null,
            "grid_gap": null,
            "max_width": null,
            "order": null,
            "_view_module_version": "1.2.0",
            "grid_template_areas": null,
            "object_position": null,
            "object_fit": null,
            "grid_auto_columns": null,
            "margin": null,
            "display": null,
            "left": null
          }
        },
        "b4d4feceac7643479549f5086e35409b": {
          "model_module": "@jupyter-widgets/controls",
          "model_name": "ButtonStyleModel",
          "state": {
            "_view_name": "StyleView",
            "_model_name": "ButtonStyleModel",
            "_view_module": "@jupyter-widgets/base",
            "_model_module_version": "1.5.0",
            "_view_count": null,
            "button_color": null,
            "font_weight": "",
            "_view_module_version": "1.2.0",
            "_model_module": "@jupyter-widgets/controls"
          }
        },
        "b660d93e607f4e6da851678da0bb9207": {
          "model_module": "@jupyter-widgets/base",
          "model_name": "LayoutModel",
          "state": {
            "_view_name": "LayoutView",
            "grid_template_rows": null,
            "right": null,
            "justify_content": null,
            "_view_module": "@jupyter-widgets/base",
            "overflow": null,
            "_model_module_version": "1.2.0",
            "_view_count": null,
            "flex_flow": null,
            "width": null,
            "min_width": null,
            "border": null,
            "align_items": null,
            "bottom": null,
            "_model_module": "@jupyter-widgets/base",
            "top": null,
            "grid_column": null,
            "overflow_y": null,
            "overflow_x": null,
            "grid_auto_flow": null,
            "grid_area": null,
            "grid_template_columns": null,
            "flex": null,
            "_model_name": "LayoutModel",
            "justify_items": null,
            "grid_row": null,
            "max_height": null,
            "align_content": null,
            "visibility": null,
            "align_self": null,
            "height": null,
            "min_height": null,
            "padding": null,
            "grid_auto_rows": null,
            "grid_gap": null,
            "max_width": null,
            "order": null,
            "_view_module_version": "1.2.0",
            "grid_template_areas": null,
            "object_position": null,
            "object_fit": null,
            "grid_auto_columns": null,
            "margin": null,
            "display": null,
            "left": null
          }
        },
        "3995d77576184b2c9e0762c44e776aad": {
          "model_module": "@jupyter-widgets/controls",
          "model_name": "ButtonStyleModel",
          "state": {
            "_view_name": "StyleView",
            "_model_name": "ButtonStyleModel",
            "_view_module": "@jupyter-widgets/base",
            "_model_module_version": "1.5.0",
            "_view_count": null,
            "button_color": null,
            "font_weight": "",
            "_view_module_version": "1.2.0",
            "_model_module": "@jupyter-widgets/controls"
          }
        },
        "07d41c5d334e4c15a41527a67051e2b9": {
          "model_module": "@jupyter-widgets/base",
          "model_name": "LayoutModel",
          "state": {
            "_view_name": "LayoutView",
            "grid_template_rows": null,
            "right": null,
            "justify_content": null,
            "_view_module": "@jupyter-widgets/base",
            "overflow": null,
            "_model_module_version": "1.2.0",
            "_view_count": null,
            "flex_flow": null,
            "width": null,
            "min_width": null,
            "border": null,
            "align_items": null,
            "bottom": null,
            "_model_module": "@jupyter-widgets/base",
            "top": null,
            "grid_column": null,
            "overflow_y": null,
            "overflow_x": null,
            "grid_auto_flow": null,
            "grid_area": null,
            "grid_template_columns": null,
            "flex": null,
            "_model_name": "LayoutModel",
            "justify_items": null,
            "grid_row": null,
            "max_height": null,
            "align_content": null,
            "visibility": null,
            "align_self": null,
            "height": null,
            "min_height": null,
            "padding": null,
            "grid_auto_rows": null,
            "grid_gap": null,
            "max_width": null,
            "order": null,
            "_view_module_version": "1.2.0",
            "grid_template_areas": null,
            "object_position": null,
            "object_fit": null,
            "grid_auto_columns": null,
            "margin": null,
            "display": null,
            "left": null
          }
        },
        "51a8ba13dda8478aa463f996ec48bf56": {
          "model_module": "@jupyter-widgets/controls",
          "model_name": "ButtonStyleModel",
          "state": {
            "_view_name": "StyleView",
            "_model_name": "ButtonStyleModel",
            "_view_module": "@jupyter-widgets/base",
            "_model_module_version": "1.5.0",
            "_view_count": null,
            "button_color": null,
            "font_weight": "",
            "_view_module_version": "1.2.0",
            "_model_module": "@jupyter-widgets/controls"
          }
        },
        "3e51cc8c32a54601a4f85b0bfc026371": {
          "model_module": "@jupyter-widgets/base",
          "model_name": "LayoutModel",
          "state": {
            "_view_name": "LayoutView",
            "grid_template_rows": null,
            "right": null,
            "justify_content": null,
            "_view_module": "@jupyter-widgets/base",
            "overflow": null,
            "_model_module_version": "1.2.0",
            "_view_count": null,
            "flex_flow": null,
            "width": null,
            "min_width": null,
            "border": null,
            "align_items": null,
            "bottom": null,
            "_model_module": "@jupyter-widgets/base",
            "top": null,
            "grid_column": null,
            "overflow_y": null,
            "overflow_x": null,
            "grid_auto_flow": null,
            "grid_area": null,
            "grid_template_columns": null,
            "flex": null,
            "_model_name": "LayoutModel",
            "justify_items": null,
            "grid_row": null,
            "max_height": null,
            "align_content": null,
            "visibility": null,
            "align_self": null,
            "height": null,
            "min_height": null,
            "padding": null,
            "grid_auto_rows": null,
            "grid_gap": null,
            "max_width": null,
            "order": null,
            "_view_module_version": "1.2.0",
            "grid_template_areas": null,
            "object_position": null,
            "object_fit": null,
            "grid_auto_columns": null,
            "margin": null,
            "display": null,
            "left": null
          }
        },
        "f2bce92dbc8a4aa68ff9a2fc4dceeef1": {
          "model_module": "@jupyter-widgets/controls",
          "model_name": "ButtonStyleModel",
          "state": {
            "_view_name": "StyleView",
            "_model_name": "ButtonStyleModel",
            "_view_module": "@jupyter-widgets/base",
            "_model_module_version": "1.5.0",
            "_view_count": null,
            "button_color": null,
            "font_weight": "",
            "_view_module_version": "1.2.0",
            "_model_module": "@jupyter-widgets/controls"
          }
        },
        "4d98f133c27a447990a69646ff8f41a5": {
          "model_module": "@jupyter-widgets/base",
          "model_name": "LayoutModel",
          "state": {
            "_view_name": "LayoutView",
            "grid_template_rows": null,
            "right": null,
            "justify_content": null,
            "_view_module": "@jupyter-widgets/base",
            "overflow": null,
            "_model_module_version": "1.2.0",
            "_view_count": null,
            "flex_flow": null,
            "width": null,
            "min_width": null,
            "border": null,
            "align_items": null,
            "bottom": null,
            "_model_module": "@jupyter-widgets/base",
            "top": null,
            "grid_column": null,
            "overflow_y": null,
            "overflow_x": null,
            "grid_auto_flow": null,
            "grid_area": null,
            "grid_template_columns": null,
            "flex": null,
            "_model_name": "LayoutModel",
            "justify_items": null,
            "grid_row": null,
            "max_height": null,
            "align_content": null,
            "visibility": null,
            "align_self": null,
            "height": null,
            "min_height": null,
            "padding": null,
            "grid_auto_rows": null,
            "grid_gap": null,
            "max_width": null,
            "order": null,
            "_view_module_version": "1.2.0",
            "grid_template_areas": null,
            "object_position": null,
            "object_fit": null,
            "grid_auto_columns": null,
            "margin": null,
            "display": null,
            "left": null
          }
        },
        "e6049f1a759347b98b7e4fd1a67144f0": {
          "model_module": "@jupyter-widgets/controls",
          "model_name": "LabelModel",
          "state": {
            "_view_name": "LabelView",
            "style": "IPY_MODEL_f2da11596c3d4dfe83bd1769fabcd761",
            "_dom_classes": [],
            "description": "",
            "_model_name": "LabelModel",
            "placeholder": "​",
            "_view_module": "@jupyter-widgets/controls",
            "_model_module_version": "1.5.0",
            "value": "Word appropriateness detector for single sentence.",
            "_view_count": null,
            "_view_module_version": "1.5.0",
            "description_tooltip": null,
            "_model_module": "@jupyter-widgets/controls",
            "layout": "IPY_MODEL_7aaf258cf9174224af81ccbe12ca541c"
          }
        },
        "f2da11596c3d4dfe83bd1769fabcd761": {
          "model_module": "@jupyter-widgets/controls",
          "model_name": "DescriptionStyleModel",
          "state": {
            "_view_name": "StyleView",
            "_model_name": "DescriptionStyleModel",
            "description_width": "",
            "_view_module": "@jupyter-widgets/base",
            "_model_module_version": "1.5.0",
            "_view_count": null,
            "_view_module_version": "1.2.0",
            "_model_module": "@jupyter-widgets/controls"
          }
        },
        "7aaf258cf9174224af81ccbe12ca541c": {
          "model_module": "@jupyter-widgets/base",
          "model_name": "LayoutModel",
          "state": {
            "_view_name": "LayoutView",
            "grid_template_rows": null,
            "right": null,
            "justify_content": null,
            "_view_module": "@jupyter-widgets/base",
            "overflow": null,
            "_model_module_version": "1.2.0",
            "_view_count": null,
            "flex_flow": null,
            "width": null,
            "min_width": null,
            "border": null,
            "align_items": null,
            "bottom": null,
            "_model_module": "@jupyter-widgets/base",
            "top": null,
            "grid_column": null,
            "overflow_y": null,
            "overflow_x": null,
            "grid_auto_flow": null,
            "grid_area": null,
            "grid_template_columns": null,
            "flex": null,
            "_model_name": "LayoutModel",
            "justify_items": null,
            "grid_row": null,
            "max_height": null,
            "align_content": null,
            "visibility": null,
            "align_self": null,
            "height": null,
            "min_height": null,
            "padding": null,
            "grid_auto_rows": null,
            "grid_gap": null,
            "max_width": null,
            "order": null,
            "_view_module_version": "1.2.0",
            "grid_template_areas": null,
            "object_position": null,
            "object_fit": null,
            "grid_auto_columns": null,
            "margin": null,
            "display": null,
            "left": null
          }
        },
        "fea80cbcf059464ea38150f20b9be658": {
          "model_module": "@jupyter-widgets/controls",
          "model_name": "TextModel",
          "state": {
            "_view_name": "TextView",
            "style": "IPY_MODEL_902a2ba94d604a008c78e75233fba90d",
            "_dom_classes": [],
            "description": "Your text:",
            "_model_name": "TextModel",
            "placeholder": "Type something",
            "_view_module": "@jupyter-widgets/controls",
            "_model_module_version": "1.5.0",
            "value": "A cute bilateral airspace opacification is a subset of the larger differential diagnosis for airspace opacification.",
            "_view_count": null,
            "disabled": false,
            "_view_module_version": "1.5.0",
            "continuous_update": true,
            "description_tooltip": null,
            "_model_module": "@jupyter-widgets/controls",
            "layout": "IPY_MODEL_c4a959bf633f4c328accafa9a429ea9e"
          }
        },
        "902a2ba94d604a008c78e75233fba90d": {
          "model_module": "@jupyter-widgets/controls",
          "model_name": "DescriptionStyleModel",
          "state": {
            "_view_name": "StyleView",
            "_model_name": "DescriptionStyleModel",
            "description_width": "",
            "_view_module": "@jupyter-widgets/base",
            "_model_module_version": "1.5.0",
            "_view_count": null,
            "_view_module_version": "1.2.0",
            "_model_module": "@jupyter-widgets/controls"
          }
        },
        "c4a959bf633f4c328accafa9a429ea9e": {
          "model_module": "@jupyter-widgets/base",
          "model_name": "LayoutModel",
          "state": {
            "_view_name": "LayoutView",
            "grid_template_rows": null,
            "right": null,
            "justify_content": null,
            "_view_module": "@jupyter-widgets/base",
            "overflow": null,
            "_model_module_version": "1.2.0",
            "_view_count": null,
            "flex_flow": null,
            "width": null,
            "min_width": null,
            "border": null,
            "align_items": null,
            "bottom": null,
            "_model_module": "@jupyter-widgets/base",
            "top": null,
            "grid_column": null,
            "overflow_y": null,
            "overflow_x": null,
            "grid_auto_flow": null,
            "grid_area": null,
            "grid_template_columns": null,
            "flex": null,
            "_model_name": "LayoutModel",
            "justify_items": null,
            "grid_row": null,
            "max_height": null,
            "align_content": null,
            "visibility": null,
            "align_self": null,
            "height": null,
            "min_height": null,
            "padding": null,
            "grid_auto_rows": null,
            "grid_gap": null,
            "max_width": null,
            "order": null,
            "_view_module_version": "1.2.0",
            "grid_template_areas": null,
            "object_position": null,
            "object_fit": null,
            "grid_auto_columns": null,
            "margin": null,
            "display": null,
            "left": null
          }
        },
        "2450a42d59b248448250ae8d909eb583": {
          "model_module": "@jupyter-widgets/controls",
          "model_name": "DropdownModel",
          "state": {
            "_options_labels": [
              "1",
              "2",
              "3",
              "5",
              "10"
            ],
            "_view_name": "DropdownView",
            "style": "IPY_MODEL_b86f2d3e1aa14d9d9087ced8e1ec42ea",
            "_dom_classes": [],
            "description": "Top K:",
            "_model_name": "DropdownModel",
            "index": 4,
            "_view_module": "@jupyter-widgets/controls",
            "_model_module_version": "1.5.0",
            "_view_count": null,
            "disabled": false,
            "_view_module_version": "1.5.0",
            "description_tooltip": null,
            "_model_module": "@jupyter-widgets/controls",
            "layout": "IPY_MODEL_0908d12134ae42f68b1a892cc994f5e7"
          }
        },
        "b86f2d3e1aa14d9d9087ced8e1ec42ea": {
          "model_module": "@jupyter-widgets/controls",
          "model_name": "DescriptionStyleModel",
          "state": {
            "_view_name": "StyleView",
            "_model_name": "DescriptionStyleModel",
            "description_width": "",
            "_view_module": "@jupyter-widgets/base",
            "_model_module_version": "1.5.0",
            "_view_count": null,
            "_view_module_version": "1.2.0",
            "_model_module": "@jupyter-widgets/controls"
          }
        },
        "0908d12134ae42f68b1a892cc994f5e7": {
          "model_module": "@jupyter-widgets/base",
          "model_name": "LayoutModel",
          "state": {
            "_view_name": "LayoutView",
            "grid_template_rows": null,
            "right": null,
            "justify_content": null,
            "_view_module": "@jupyter-widgets/base",
            "overflow": null,
            "_model_module_version": "1.2.0",
            "_view_count": null,
            "flex_flow": null,
            "width": null,
            "min_width": null,
            "border": null,
            "align_items": null,
            "bottom": null,
            "_model_module": "@jupyter-widgets/base",
            "top": null,
            "grid_column": null,
            "overflow_y": null,
            "overflow_x": null,
            "grid_auto_flow": null,
            "grid_area": null,
            "grid_template_columns": null,
            "flex": null,
            "_model_name": "LayoutModel",
            "justify_items": null,
            "grid_row": null,
            "max_height": null,
            "align_content": null,
            "visibility": null,
            "align_self": null,
            "height": null,
            "min_height": null,
            "padding": null,
            "grid_auto_rows": null,
            "grid_gap": null,
            "max_width": null,
            "order": null,
            "_view_module_version": "1.2.0",
            "grid_template_areas": null,
            "object_position": null,
            "object_fit": null,
            "grid_auto_columns": null,
            "margin": null,
            "display": null,
            "left": null
          }
        },
        "b5b933058f25464e9e2e6381623ab18b": {
          "model_module": "@jupyter-widgets/controls",
          "model_name": "ButtonModel",
          "state": {
            "_view_name": "ButtonView",
            "style": "IPY_MODEL_9399816e1a2b4f4fbc2aa6e79bed7286",
            "_dom_classes": [],
            "description": "OK",
            "_model_name": "ButtonModel",
            "button_style": "primary",
            "_view_module": "@jupyter-widgets/controls",
            "_model_module_version": "1.5.0",
            "tooltip": "Click to submit",
            "_view_count": null,
            "disabled": false,
            "_view_module_version": "1.5.0",
            "layout": "IPY_MODEL_5b7e1ebeab16400698f0e6f8953825bb",
            "_model_module": "@jupyter-widgets/controls",
            "icon": ""
          }
        },
        "9399816e1a2b4f4fbc2aa6e79bed7286": {
          "model_module": "@jupyter-widgets/controls",
          "model_name": "ButtonStyleModel",
          "state": {
            "_view_name": "StyleView",
            "_model_name": "ButtonStyleModel",
            "_view_module": "@jupyter-widgets/base",
            "_model_module_version": "1.5.0",
            "_view_count": null,
            "button_color": null,
            "font_weight": "",
            "_view_module_version": "1.2.0",
            "_model_module": "@jupyter-widgets/controls"
          }
        },
        "5b7e1ebeab16400698f0e6f8953825bb": {
          "model_module": "@jupyter-widgets/base",
          "model_name": "LayoutModel",
          "state": {
            "_view_name": "LayoutView",
            "grid_template_rows": null,
            "right": null,
            "justify_content": null,
            "_view_module": "@jupyter-widgets/base",
            "overflow": null,
            "_model_module_version": "1.2.0",
            "_view_count": null,
            "flex_flow": null,
            "width": null,
            "min_width": null,
            "border": null,
            "align_items": null,
            "bottom": null,
            "_model_module": "@jupyter-widgets/base",
            "top": null,
            "grid_column": null,
            "overflow_y": null,
            "overflow_x": null,
            "grid_auto_flow": null,
            "grid_area": null,
            "grid_template_columns": null,
            "flex": null,
            "_model_name": "LayoutModel",
            "justify_items": null,
            "grid_row": null,
            "max_height": null,
            "align_content": null,
            "visibility": null,
            "align_self": null,
            "height": null,
            "min_height": null,
            "padding": null,
            "grid_auto_rows": null,
            "grid_gap": null,
            "max_width": null,
            "order": null,
            "_view_module_version": "1.2.0",
            "grid_template_areas": null,
            "object_position": null,
            "object_fit": null,
            "grid_auto_columns": null,
            "margin": null,
            "display": null,
            "left": null
          }
        },
        "5ae4d307fa2d42eb964d02dedfb69511": {
          "model_module": "@jupyter-widgets/controls",
          "model_name": "LabelModel",
          "state": {
            "_view_name": "LabelView",
            "style": "IPY_MODEL_e0d693a8c39b4b46bd629e6e74946a01",
            "_dom_classes": [],
            "description": "",
            "_model_name": "LabelModel",
            "placeholder": "​",
            "_view_module": "@jupyter-widgets/controls",
            "_model_module_version": "1.5.0",
            "value": "Word appropriateness detector for single sentence.",
            "_view_count": null,
            "_view_module_version": "1.5.0",
            "description_tooltip": null,
            "_model_module": "@jupyter-widgets/controls",
            "layout": "IPY_MODEL_aa807ac02d0c49a7916bd25860846f82"
          }
        },
        "e0d693a8c39b4b46bd629e6e74946a01": {
          "model_module": "@jupyter-widgets/controls",
          "model_name": "DescriptionStyleModel",
          "state": {
            "_view_name": "StyleView",
            "_model_name": "DescriptionStyleModel",
            "description_width": "",
            "_view_module": "@jupyter-widgets/base",
            "_model_module_version": "1.5.0",
            "_view_count": null,
            "_view_module_version": "1.2.0",
            "_model_module": "@jupyter-widgets/controls"
          }
        },
        "aa807ac02d0c49a7916bd25860846f82": {
          "model_module": "@jupyter-widgets/base",
          "model_name": "LayoutModel",
          "state": {
            "_view_name": "LayoutView",
            "grid_template_rows": null,
            "right": null,
            "justify_content": null,
            "_view_module": "@jupyter-widgets/base",
            "overflow": null,
            "_model_module_version": "1.2.0",
            "_view_count": null,
            "flex_flow": null,
            "width": null,
            "min_width": null,
            "border": null,
            "align_items": null,
            "bottom": null,
            "_model_module": "@jupyter-widgets/base",
            "top": null,
            "grid_column": null,
            "overflow_y": null,
            "overflow_x": null,
            "grid_auto_flow": null,
            "grid_area": null,
            "grid_template_columns": null,
            "flex": null,
            "_model_name": "LayoutModel",
            "justify_items": null,
            "grid_row": null,
            "max_height": null,
            "align_content": null,
            "visibility": null,
            "align_self": null,
            "height": null,
            "min_height": null,
            "padding": null,
            "grid_auto_rows": null,
            "grid_gap": null,
            "max_width": null,
            "order": null,
            "_view_module_version": "1.2.0",
            "grid_template_areas": null,
            "object_position": null,
            "object_fit": null,
            "grid_auto_columns": null,
            "margin": null,
            "display": null,
            "left": null
          }
        },
        "013c2e819b6a4d98ac2b316ddbcb6687": {
          "model_module": "@jupyter-widgets/controls",
          "model_name": "TextModel",
          "state": {
            "_view_name": "TextView",
            "style": "IPY_MODEL_d74cd492043f41fab3f7acd7cef4171d",
            "_dom_classes": [],
            "description": "Your text:",
            "_model_name": "TextModel",
            "placeholder": "Type something",
            "_view_module": "@jupyter-widgets/controls",
            "_model_module_version": "1.5.0",
            "value": "Hello World",
            "_view_count": null,
            "disabled": false,
            "_view_module_version": "1.5.0",
            "continuous_update": true,
            "description_tooltip": null,
            "_model_module": "@jupyter-widgets/controls",
            "layout": "IPY_MODEL_ba1ddc04e32a4365bafe3a12ed5d1e63"
          }
        },
        "d74cd492043f41fab3f7acd7cef4171d": {
          "model_module": "@jupyter-widgets/controls",
          "model_name": "DescriptionStyleModel",
          "state": {
            "_view_name": "StyleView",
            "_model_name": "DescriptionStyleModel",
            "description_width": "",
            "_view_module": "@jupyter-widgets/base",
            "_model_module_version": "1.5.0",
            "_view_count": null,
            "_view_module_version": "1.2.0",
            "_model_module": "@jupyter-widgets/controls"
          }
        },
        "ba1ddc04e32a4365bafe3a12ed5d1e63": {
          "model_module": "@jupyter-widgets/base",
          "model_name": "LayoutModel",
          "state": {
            "_view_name": "LayoutView",
            "grid_template_rows": null,
            "right": null,
            "justify_content": null,
            "_view_module": "@jupyter-widgets/base",
            "overflow": null,
            "_model_module_version": "1.2.0",
            "_view_count": null,
            "flex_flow": null,
            "width": null,
            "min_width": null,
            "border": null,
            "align_items": null,
            "bottom": null,
            "_model_module": "@jupyter-widgets/base",
            "top": null,
            "grid_column": null,
            "overflow_y": null,
            "overflow_x": null,
            "grid_auto_flow": null,
            "grid_area": null,
            "grid_template_columns": null,
            "flex": null,
            "_model_name": "LayoutModel",
            "justify_items": null,
            "grid_row": null,
            "max_height": null,
            "align_content": null,
            "visibility": null,
            "align_self": null,
            "height": null,
            "min_height": null,
            "padding": null,
            "grid_auto_rows": null,
            "grid_gap": null,
            "max_width": null,
            "order": null,
            "_view_module_version": "1.2.0",
            "grid_template_areas": null,
            "object_position": null,
            "object_fit": null,
            "grid_auto_columns": null,
            "margin": null,
            "display": null,
            "left": null
          }
        },
        "11d85cadbfd84b24ab078b1d4ac4a089": {
          "model_module": "@jupyter-widgets/controls",
          "model_name": "DropdownModel",
          "state": {
            "_options_labels": [
              "1",
              "2",
              "3",
              "5",
              "10"
            ],
            "_view_name": "DropdownView",
            "style": "IPY_MODEL_823c2d74aba144108f8db90dd7db3b4f",
            "_dom_classes": [],
            "description": "Top K:",
            "_model_name": "DropdownModel",
            "index": 0,
            "_view_module": "@jupyter-widgets/controls",
            "_model_module_version": "1.5.0",
            "_view_count": null,
            "disabled": false,
            "_view_module_version": "1.5.0",
            "description_tooltip": null,
            "_model_module": "@jupyter-widgets/controls",
            "layout": "IPY_MODEL_b89ce20f95ed401b801c12a0ff5d5f9d"
          }
        },
        "823c2d74aba144108f8db90dd7db3b4f": {
          "model_module": "@jupyter-widgets/controls",
          "model_name": "DescriptionStyleModel",
          "state": {
            "_view_name": "StyleView",
            "_model_name": "DescriptionStyleModel",
            "description_width": "",
            "_view_module": "@jupyter-widgets/base",
            "_model_module_version": "1.5.0",
            "_view_count": null,
            "_view_module_version": "1.2.0",
            "_model_module": "@jupyter-widgets/controls"
          }
        },
        "b89ce20f95ed401b801c12a0ff5d5f9d": {
          "model_module": "@jupyter-widgets/base",
          "model_name": "LayoutModel",
          "state": {
            "_view_name": "LayoutView",
            "grid_template_rows": null,
            "right": null,
            "justify_content": null,
            "_view_module": "@jupyter-widgets/base",
            "overflow": null,
            "_model_module_version": "1.2.0",
            "_view_count": null,
            "flex_flow": null,
            "width": null,
            "min_width": null,
            "border": null,
            "align_items": null,
            "bottom": null,
            "_model_module": "@jupyter-widgets/base",
            "top": null,
            "grid_column": null,
            "overflow_y": null,
            "overflow_x": null,
            "grid_auto_flow": null,
            "grid_area": null,
            "grid_template_columns": null,
            "flex": null,
            "_model_name": "LayoutModel",
            "justify_items": null,
            "grid_row": null,
            "max_height": null,
            "align_content": null,
            "visibility": null,
            "align_self": null,
            "height": null,
            "min_height": null,
            "padding": null,
            "grid_auto_rows": null,
            "grid_gap": null,
            "max_width": null,
            "order": null,
            "_view_module_version": "1.2.0",
            "grid_template_areas": null,
            "object_position": null,
            "object_fit": null,
            "grid_auto_columns": null,
            "margin": null,
            "display": null,
            "left": null
          }
        },
        "004a432c903d4e57b3ed42be334e0ba4": {
          "model_module": "@jupyter-widgets/controls",
          "model_name": "ButtonModel",
          "state": {
            "_view_name": "ButtonView",
            "style": "IPY_MODEL_a68a4311c3c7455cb595e9323a4789f8",
            "_dom_classes": [],
            "description": "BERT-base",
            "_model_name": "ButtonModel",
            "button_style": "info",
            "_view_module": "@jupyter-widgets/controls",
            "_model_module_version": "1.5.0",
            "tooltip": "Click to submit",
            "_view_count": null,
            "disabled": false,
            "_view_module_version": "1.5.0",
            "layout": "IPY_MODEL_6f09c80bcc9e4a8ea88372a48bf5e744",
            "_model_module": "@jupyter-widgets/controls",
            "icon": ""
          }
        },
        "a68a4311c3c7455cb595e9323a4789f8": {
          "model_module": "@jupyter-widgets/controls",
          "model_name": "ButtonStyleModel",
          "state": {
            "_view_name": "StyleView",
            "_model_name": "ButtonStyleModel",
            "_view_module": "@jupyter-widgets/base",
            "_model_module_version": "1.5.0",
            "_view_count": null,
            "button_color": null,
            "font_weight": "",
            "_view_module_version": "1.2.0",
            "_model_module": "@jupyter-widgets/controls"
          }
        },
        "6f09c80bcc9e4a8ea88372a48bf5e744": {
          "model_module": "@jupyter-widgets/base",
          "model_name": "LayoutModel",
          "state": {
            "_view_name": "LayoutView",
            "grid_template_rows": null,
            "right": null,
            "justify_content": null,
            "_view_module": "@jupyter-widgets/base",
            "overflow": null,
            "_model_module_version": "1.2.0",
            "_view_count": null,
            "flex_flow": null,
            "width": null,
            "min_width": null,
            "border": null,
            "align_items": null,
            "bottom": null,
            "_model_module": "@jupyter-widgets/base",
            "top": null,
            "grid_column": null,
            "overflow_y": null,
            "overflow_x": null,
            "grid_auto_flow": null,
            "grid_area": null,
            "grid_template_columns": null,
            "flex": null,
            "_model_name": "LayoutModel",
            "justify_items": null,
            "grid_row": null,
            "max_height": null,
            "align_content": null,
            "visibility": null,
            "align_self": null,
            "height": null,
            "min_height": null,
            "padding": null,
            "grid_auto_rows": null,
            "grid_gap": null,
            "max_width": null,
            "order": null,
            "_view_module_version": "1.2.0",
            "grid_template_areas": null,
            "object_position": null,
            "object_fit": null,
            "grid_auto_columns": null,
            "margin": null,
            "display": null,
            "left": null
          }
        },
        "4a8160f703094e3986b96c69bf69b905": {
          "model_module": "@jupyter-widgets/controls",
          "model_name": "ButtonModel",
          "state": {
            "_view_name": "ButtonView",
            "style": "IPY_MODEL_0b83366817dc444dabc85b4a50827dc2",
            "_dom_classes": [],
            "description": "BERT-large",
            "_model_name": "ButtonModel",
            "button_style": "primary",
            "_view_module": "@jupyter-widgets/controls",
            "_model_module_version": "1.5.0",
            "tooltip": "Click to submit",
            "_view_count": null,
            "disabled": false,
            "_view_module_version": "1.5.0",
            "layout": "IPY_MODEL_f581b8c069b64ab2bd93248b333d3c2a",
            "_model_module": "@jupyter-widgets/controls",
            "icon": ""
          }
        },
        "0b83366817dc444dabc85b4a50827dc2": {
          "model_module": "@jupyter-widgets/controls",
          "model_name": "ButtonStyleModel",
          "state": {
            "_view_name": "StyleView",
            "_model_name": "ButtonStyleModel",
            "_view_module": "@jupyter-widgets/base",
            "_model_module_version": "1.5.0",
            "_view_count": null,
            "button_color": null,
            "font_weight": "",
            "_view_module_version": "1.2.0",
            "_model_module": "@jupyter-widgets/controls"
          }
        },
        "f581b8c069b64ab2bd93248b333d3c2a": {
          "model_module": "@jupyter-widgets/base",
          "model_name": "LayoutModel",
          "state": {
            "_view_name": "LayoutView",
            "grid_template_rows": null,
            "right": null,
            "justify_content": null,
            "_view_module": "@jupyter-widgets/base",
            "overflow": null,
            "_model_module_version": "1.2.0",
            "_view_count": null,
            "flex_flow": null,
            "width": null,
            "min_width": null,
            "border": null,
            "align_items": null,
            "bottom": null,
            "_model_module": "@jupyter-widgets/base",
            "top": null,
            "grid_column": null,
            "overflow_y": null,
            "overflow_x": null,
            "grid_auto_flow": null,
            "grid_area": null,
            "grid_template_columns": null,
            "flex": null,
            "_model_name": "LayoutModel",
            "justify_items": null,
            "grid_row": null,
            "max_height": null,
            "align_content": null,
            "visibility": null,
            "align_self": null,
            "height": null,
            "min_height": null,
            "padding": null,
            "grid_auto_rows": null,
            "grid_gap": null,
            "max_width": null,
            "order": null,
            "_view_module_version": "1.2.0",
            "grid_template_areas": null,
            "object_position": null,
            "object_fit": null,
            "grid_auto_columns": null,
            "margin": null,
            "display": null,
            "left": null
          }
        },
        "ed9f5f30ad9949ca82612568e3e0d427": {
          "model_module": "@jupyter-widgets/controls",
          "model_name": "ButtonModel",
          "state": {
            "_view_name": "ButtonView",
            "style": "IPY_MODEL_48f7eb00d1004fcf9a141e4a569e70e3",
            "_dom_classes": [],
            "description": "Clinical BERT",
            "_model_name": "ButtonModel",
            "button_style": "success",
            "_view_module": "@jupyter-widgets/controls",
            "_model_module_version": "1.5.0",
            "tooltip": "Click to submit",
            "_view_count": null,
            "disabled": false,
            "_view_module_version": "1.5.0",
            "layout": "IPY_MODEL_51eff83df58a420789ce555c38452edb",
            "_model_module": "@jupyter-widgets/controls",
            "icon": ""
          }
        },
        "48f7eb00d1004fcf9a141e4a569e70e3": {
          "model_module": "@jupyter-widgets/controls",
          "model_name": "ButtonStyleModel",
          "state": {
            "_view_name": "StyleView",
            "_model_name": "ButtonStyleModel",
            "_view_module": "@jupyter-widgets/base",
            "_model_module_version": "1.5.0",
            "_view_count": null,
            "button_color": null,
            "font_weight": "",
            "_view_module_version": "1.2.0",
            "_model_module": "@jupyter-widgets/controls"
          }
        },
        "51eff83df58a420789ce555c38452edb": {
          "model_module": "@jupyter-widgets/base",
          "model_name": "LayoutModel",
          "state": {
            "_view_name": "LayoutView",
            "grid_template_rows": null,
            "right": null,
            "justify_content": null,
            "_view_module": "@jupyter-widgets/base",
            "overflow": null,
            "_model_module_version": "1.2.0",
            "_view_count": null,
            "flex_flow": null,
            "width": null,
            "min_width": null,
            "border": null,
            "align_items": null,
            "bottom": null,
            "_model_module": "@jupyter-widgets/base",
            "top": null,
            "grid_column": null,
            "overflow_y": null,
            "overflow_x": null,
            "grid_auto_flow": null,
            "grid_area": null,
            "grid_template_columns": null,
            "flex": null,
            "_model_name": "LayoutModel",
            "justify_items": null,
            "grid_row": null,
            "max_height": null,
            "align_content": null,
            "visibility": null,
            "align_self": null,
            "height": null,
            "min_height": null,
            "padding": null,
            "grid_auto_rows": null,
            "grid_gap": null,
            "max_width": null,
            "order": null,
            "_view_module_version": "1.2.0",
            "grid_template_areas": null,
            "object_position": null,
            "object_fit": null,
            "grid_auto_columns": null,
            "margin": null,
            "display": null,
            "left": null
          }
        }
      }
    }
  },
  "cells": [
    {
      "cell_type": "code",
      "metadata": {
        "id": "Qigm6VoGBrPg",
        "colab_type": "code",
        "colab": {
          "base_uri": "https://localhost:8080/",
          "height": 989
        },
        "outputId": "79ce3c49-c2ad-4d88-a92b-38ce99152edb"
      },
      "source": [
        "!pip install -U pytorch-pretrained-bert\n",
        "!pip install transformers"
      ],
      "execution_count": 1,
      "outputs": [
        {
          "output_type": "stream",
          "text": [
            "Collecting pytorch-pretrained-bert\n",
            "\u001b[?25l  Downloading https://files.pythonhosted.org/packages/d7/e0/c08d5553b89973d9a240605b9c12404bcf8227590de62bae27acbcfe076b/pytorch_pretrained_bert-0.6.2-py3-none-any.whl (123kB)\n",
            "\r\u001b[K     |██▋                             | 10kB 18.5MB/s eta 0:00:01\r\u001b[K     |█████▎                          | 20kB 1.7MB/s eta 0:00:01\r\u001b[K     |████████                        | 30kB 2.3MB/s eta 0:00:01\r\u001b[K     |██████████▋                     | 40kB 2.6MB/s eta 0:00:01\r\u001b[K     |█████████████▎                  | 51kB 2.0MB/s eta 0:00:01\r\u001b[K     |███████████████▉                | 61kB 2.3MB/s eta 0:00:01\r\u001b[K     |██████████████████▌             | 71kB 2.5MB/s eta 0:00:01\r\u001b[K     |█████████████████████▏          | 81kB 2.7MB/s eta 0:00:01\r\u001b[K     |███████████████████████▉        | 92kB 2.9MB/s eta 0:00:01\r\u001b[K     |██████████████████████████▌     | 102kB 2.8MB/s eta 0:00:01\r\u001b[K     |█████████████████████████████▏  | 112kB 2.8MB/s eta 0:00:01\r\u001b[K     |███████████████████████████████▊| 122kB 2.8MB/s eta 0:00:01\r\u001b[K     |████████████████████████████████| 133kB 2.8MB/s \n",
            "\u001b[?25hRequirement already satisfied, skipping upgrade: tqdm in /usr/local/lib/python3.6/dist-packages (from pytorch-pretrained-bert) (4.41.1)\n",
            "Requirement already satisfied, skipping upgrade: numpy in /usr/local/lib/python3.6/dist-packages (from pytorch-pretrained-bert) (1.18.5)\n",
            "Requirement already satisfied, skipping upgrade: regex in /usr/local/lib/python3.6/dist-packages (from pytorch-pretrained-bert) (2019.12.20)\n",
            "Requirement already satisfied, skipping upgrade: torch>=0.4.1 in /usr/local/lib/python3.6/dist-packages (from pytorch-pretrained-bert) (1.5.1+cu101)\n",
            "Requirement already satisfied, skipping upgrade: requests in /usr/local/lib/python3.6/dist-packages (from pytorch-pretrained-bert) (2.23.0)\n",
            "Requirement already satisfied, skipping upgrade: boto3 in /usr/local/lib/python3.6/dist-packages (from pytorch-pretrained-bert) (1.14.24)\n",
            "Requirement already satisfied, skipping upgrade: future in /usr/local/lib/python3.6/dist-packages (from torch>=0.4.1->pytorch-pretrained-bert) (0.16.0)\n",
            "Requirement already satisfied, skipping upgrade: certifi>=2017.4.17 in /usr/local/lib/python3.6/dist-packages (from requests->pytorch-pretrained-bert) (2020.6.20)\n",
            "Requirement already satisfied, skipping upgrade: urllib3!=1.25.0,!=1.25.1,<1.26,>=1.21.1 in /usr/local/lib/python3.6/dist-packages (from requests->pytorch-pretrained-bert) (1.24.3)\n",
            "Requirement already satisfied, skipping upgrade: idna<3,>=2.5 in /usr/local/lib/python3.6/dist-packages (from requests->pytorch-pretrained-bert) (2.10)\n",
            "Requirement already satisfied, skipping upgrade: chardet<4,>=3.0.2 in /usr/local/lib/python3.6/dist-packages (from requests->pytorch-pretrained-bert) (3.0.4)\n",
            "Requirement already satisfied, skipping upgrade: s3transfer<0.4.0,>=0.3.0 in /usr/local/lib/python3.6/dist-packages (from boto3->pytorch-pretrained-bert) (0.3.3)\n",
            "Requirement already satisfied, skipping upgrade: botocore<1.18.0,>=1.17.24 in /usr/local/lib/python3.6/dist-packages (from boto3->pytorch-pretrained-bert) (1.17.24)\n",
            "Requirement already satisfied, skipping upgrade: jmespath<1.0.0,>=0.7.1 in /usr/local/lib/python3.6/dist-packages (from boto3->pytorch-pretrained-bert) (0.10.0)\n",
            "Requirement already satisfied, skipping upgrade: docutils<0.16,>=0.10 in /usr/local/lib/python3.6/dist-packages (from botocore<1.18.0,>=1.17.24->boto3->pytorch-pretrained-bert) (0.15.2)\n",
            "Requirement already satisfied, skipping upgrade: python-dateutil<3.0.0,>=2.1 in /usr/local/lib/python3.6/dist-packages (from botocore<1.18.0,>=1.17.24->boto3->pytorch-pretrained-bert) (2.8.1)\n",
            "Requirement already satisfied, skipping upgrade: six>=1.5 in /usr/local/lib/python3.6/dist-packages (from python-dateutil<3.0.0,>=2.1->botocore<1.18.0,>=1.17.24->boto3->pytorch-pretrained-bert) (1.15.0)\n",
            "Installing collected packages: pytorch-pretrained-bert\n",
            "Successfully installed pytorch-pretrained-bert-0.6.2\n",
            "Collecting transformers\n",
            "\u001b[?25l  Downloading https://files.pythonhosted.org/packages/27/3c/91ed8f5c4e7ef3227b4119200fc0ed4b4fd965b1f0172021c25701087825/transformers-3.0.2-py3-none-any.whl (769kB)\n",
            "\u001b[K     |████████████████████████████████| 778kB 2.9MB/s \n",
            "\u001b[?25hRequirement already satisfied: regex!=2019.12.17 in /usr/local/lib/python3.6/dist-packages (from transformers) (2019.12.20)\n",
            "Requirement already satisfied: dataclasses; python_version < \"3.7\" in /usr/local/lib/python3.6/dist-packages (from transformers) (0.7)\n",
            "Requirement already satisfied: requests in /usr/local/lib/python3.6/dist-packages (from transformers) (2.23.0)\n",
            "Requirement already satisfied: tqdm>=4.27 in /usr/local/lib/python3.6/dist-packages (from transformers) (4.41.1)\n",
            "Collecting tokenizers==0.8.1.rc1\n",
            "\u001b[?25l  Downloading https://files.pythonhosted.org/packages/40/d0/30d5f8d221a0ed981a186c8eb986ce1c94e3a6e87f994eae9f4aa5250217/tokenizers-0.8.1rc1-cp36-cp36m-manylinux1_x86_64.whl (3.0MB)\n",
            "\u001b[K     |████████████████████████████████| 3.0MB 14.6MB/s \n",
            "\u001b[?25hRequirement already satisfied: numpy in /usr/local/lib/python3.6/dist-packages (from transformers) (1.18.5)\n",
            "Collecting sentencepiece!=0.1.92\n",
            "\u001b[?25l  Downloading https://files.pythonhosted.org/packages/d4/a4/d0a884c4300004a78cca907a6ff9a5e9fe4f090f5d95ab341c53d28cbc58/sentencepiece-0.1.91-cp36-cp36m-manylinux1_x86_64.whl (1.1MB)\n",
            "\u001b[K     |████████████████████████████████| 1.1MB 35.9MB/s \n",
            "\u001b[?25hCollecting sacremoses\n",
            "\u001b[?25l  Downloading https://files.pythonhosted.org/packages/7d/34/09d19aff26edcc8eb2a01bed8e98f13a1537005d31e95233fd48216eed10/sacremoses-0.0.43.tar.gz (883kB)\n",
            "\u001b[K     |████████████████████████████████| 890kB 43.7MB/s \n",
            "\u001b[?25hRequirement already satisfied: filelock in /usr/local/lib/python3.6/dist-packages (from transformers) (3.0.12)\n",
            "Requirement already satisfied: packaging in /usr/local/lib/python3.6/dist-packages (from transformers) (20.4)\n",
            "Requirement already satisfied: idna<3,>=2.5 in /usr/local/lib/python3.6/dist-packages (from requests->transformers) (2.10)\n",
            "Requirement already satisfied: certifi>=2017.4.17 in /usr/local/lib/python3.6/dist-packages (from requests->transformers) (2020.6.20)\n",
            "Requirement already satisfied: urllib3!=1.25.0,!=1.25.1,<1.26,>=1.21.1 in /usr/local/lib/python3.6/dist-packages (from requests->transformers) (1.24.3)\n",
            "Requirement already satisfied: chardet<4,>=3.0.2 in /usr/local/lib/python3.6/dist-packages (from requests->transformers) (3.0.4)\n",
            "Requirement already satisfied: six in /usr/local/lib/python3.6/dist-packages (from sacremoses->transformers) (1.15.0)\n",
            "Requirement already satisfied: click in /usr/local/lib/python3.6/dist-packages (from sacremoses->transformers) (7.1.2)\n",
            "Requirement already satisfied: joblib in /usr/local/lib/python3.6/dist-packages (from sacremoses->transformers) (0.16.0)\n",
            "Requirement already satisfied: pyparsing>=2.0.2 in /usr/local/lib/python3.6/dist-packages (from packaging->transformers) (2.4.7)\n",
            "Building wheels for collected packages: sacremoses\n",
            "  Building wheel for sacremoses (setup.py) ... \u001b[?25l\u001b[?25hdone\n",
            "  Created wheel for sacremoses: filename=sacremoses-0.0.43-cp36-none-any.whl size=893260 sha256=cd2baeb8995e672b753c0b65c78a67c5ea43995519859054b5501661e7af74f4\n",
            "  Stored in directory: /root/.cache/pip/wheels/29/3c/fd/7ce5c3f0666dab31a50123635e6fb5e19ceb42ce38d4e58f45\n",
            "Successfully built sacremoses\n",
            "Installing collected packages: tokenizers, sentencepiece, sacremoses, transformers\n",
            "Successfully installed sacremoses-0.0.43 sentencepiece-0.1.91 tokenizers-0.8.1rc1 transformers-3.0.2\n"
          ],
          "name": "stdout"
        }
      ]
    },
    {
      "cell_type": "code",
      "metadata": {
        "id": "QSxvGRrOBxjt",
        "colab_type": "code",
        "colab": {}
      },
      "source": [
        "import torch\n",
        "#from pytorch_pretrained_bert import BertTokenizer, BertModel, BertForMaskedLM\n",
        "import torch.nn.functional as F\n",
        "from transformers import BertTokenizer, BertModel, BertForMaskedLM, BertConfig, AutoModelWithLMHead\n",
        "from scipy.spatial.distance import cosine\n",
        "import numpy as np\n",
        "import copy\n",
        "from transformers import AutoTokenizer, AutoModel, AutoConfig\n",
        "from torch import nn"
      ],
      "execution_count": 20,
      "outputs": []
    },
    {
      "cell_type": "markdown",
      "metadata": {
        "id": "QsYDGPr_rErG",
        "colab_type": "text"
      },
      "source": [
        "### Load Model"
      ]
    },
    {
      "cell_type": "code",
      "metadata": {
        "id": "CFfNE_0TrECo",
        "colab_type": "code",
        "colab": {
          "base_uri": "https://localhost:8080/",
          "height": 439,
          "referenced_widgets": [
            "dce58edf87954b33ac110739353f104a",
            "7ab9136243214464a43ef4fa17545919",
            "dda3c9eebb814fae9e13496679ece282",
            "a95f115e4a454445a5874b9e17f947e6",
            "6371035a11b2400d940945792648a48a",
            "0444b2459f624fa4927825bfa8f99c7b",
            "37b5b4c1f7464729bf8dd344a268a0e6",
            "17600567b15d42ebaf82bfd7a3027488",
            "d2478bbbc667496f98a24fe89395e4e1",
            "f68d1511ccd04224b9f2734c814b948b",
            "ea089df371a4428b8ce213fd4dfc0722",
            "331f3121e10d4458a2b1f948913a6868",
            "9170408929df47eb97e3ec019ca45b6d",
            "0027068aecf34f8ab25014d5f95ed055",
            "c8a21742a6fd4fe49d4009a68b84284e",
            "27cb5d47fad74ffea79acf18e74e4eb9",
            "20ed569163184132beb74f2cd9b3eea4",
            "8f0e551df2bf45378599932c45db0fe3",
            "25aa527f7d7841878b5bb068ae0c9c14",
            "0c803700ad55414cb0c5234aca2e9ba1",
            "ed812dd9bd9f46bdbd9dde12373c4a1a",
            "f0e46a4af84d4b96b69503e4b9917b7e",
            "5847d2c29b8642d2a8378e8c97363173",
            "0778647f1f414e38b149c5b7b7665350"
          ]
        },
        "outputId": "09ec3a7c-d41a-44de-9ad0-7857064ad80e"
      },
      "source": [
        "# bert-base-uncased\n",
        "bertconfig = BertConfig.from_pretrained('bert-base-uncased', output_hidden_states=True)\n",
        "basetokenizer = BertTokenizer.from_pretrained('bert-base-uncased')\n",
        "basemodel = BertForMaskedLM.from_pretrained('bert-base-uncased', config = bertconfig)\n",
        "# Clinical BERT\n",
        "# https://huggingface.co/emilyalsentzer/Bio_ClinicalBERT\n",
        "cliconfig = AutoConfig.from_pretrained(\"emilyalsentzer/Bio_ClinicalBERT\", output_hidden_states=True)\n",
        "clitokenizer = AutoTokenizer.from_pretrained(\"emilyalsentzer/Bio_ClinicalBERT\")\n",
        "climodel = BertForMaskedLM.from_pretrained(\"emilyalsentzer/Bio_ClinicalBERT\", config = bioconfig)\n",
        "# bert-large-uncased\n",
        "largeconfig = BertConfig.from_pretrained('bert-large-uncased', output_hidden_states=True)\n",
        "largetokenizer = BertTokenizer.from_pretrained('bert-large-uncased')\n",
        "largemodel = BertForMaskedLM.from_pretrained('bert-large-uncased', config = largeconfig)"
      ],
      "execution_count": 85,
      "outputs": [
        {
          "output_type": "stream",
          "text": [
            "Some weights of the model checkpoint at bert-base-uncased were not used when initializing BertForMaskedLM: ['cls.seq_relationship.weight', 'cls.seq_relationship.bias']\n",
            "- This IS expected if you are initializing BertForMaskedLM from the checkpoint of a model trained on another task or with another architecture (e.g. initializing a BertForSequenceClassification model from a BertForPretraining model).\n",
            "- This IS NOT expected if you are initializing BertForMaskedLM from the checkpoint of a model that you expect to be exactly identical (initializing a BertForSequenceClassification model from a BertForSequenceClassification model).\n",
            "Some weights of BertForMaskedLM were not initialized from the model checkpoint at bert-base-uncased and are newly initialized: ['cls.predictions.decoder.bias']\n",
            "You should probably TRAIN this model on a down-stream task to be able to use it for predictions and inference.\n",
            "Some weights of the model checkpoint at emilyalsentzer/Bio_ClinicalBERT were not used when initializing BertForMaskedLM: ['cls.seq_relationship.weight', 'cls.seq_relationship.bias']\n",
            "- This IS expected if you are initializing BertForMaskedLM from the checkpoint of a model trained on another task or with another architecture (e.g. initializing a BertForSequenceClassification model from a BertForPretraining model).\n",
            "- This IS NOT expected if you are initializing BertForMaskedLM from the checkpoint of a model that you expect to be exactly identical (initializing a BertForSequenceClassification model from a BertForSequenceClassification model).\n",
            "Some weights of BertForMaskedLM were not initialized from the model checkpoint at emilyalsentzer/Bio_ClinicalBERT and are newly initialized: ['cls.predictions.decoder.bias']\n",
            "You should probably TRAIN this model on a down-stream task to be able to use it for predictions and inference.\n"
          ],
          "name": "stderr"
        },
        {
          "output_type": "display_data",
          "data": {
            "application/vnd.jupyter.widget-view+json": {
              "model_id": "dce58edf87954b33ac110739353f104a",
              "version_minor": 0,
              "version_major": 2
            },
            "text/plain": [
              "HBox(children=(FloatProgress(value=0.0, description='Downloading', max=434.0, style=ProgressStyle(description_…"
            ]
          },
          "metadata": {
            "tags": []
          }
        },
        {
          "output_type": "stream",
          "text": [
            "\n"
          ],
          "name": "stdout"
        },
        {
          "output_type": "display_data",
          "data": {
            "application/vnd.jupyter.widget-view+json": {
              "model_id": "d2478bbbc667496f98a24fe89395e4e1",
              "version_minor": 0,
              "version_major": 2
            },
            "text/plain": [
              "HBox(children=(FloatProgress(value=0.0, description='Downloading', max=231508.0, style=ProgressStyle(descripti…"
            ]
          },
          "metadata": {
            "tags": []
          }
        },
        {
          "output_type": "stream",
          "text": [
            "\n"
          ],
          "name": "stdout"
        },
        {
          "output_type": "display_data",
          "data": {
            "application/vnd.jupyter.widget-view+json": {
              "model_id": "20ed569163184132beb74f2cd9b3eea4",
              "version_minor": 0,
              "version_major": 2
            },
            "text/plain": [
              "HBox(children=(FloatProgress(value=0.0, description='Downloading', max=1344997306.0, style=ProgressStyle(descr…"
            ]
          },
          "metadata": {
            "tags": []
          }
        },
        {
          "output_type": "stream",
          "text": [
            "\n"
          ],
          "name": "stdout"
        },
        {
          "output_type": "stream",
          "text": [
            "Some weights of the model checkpoint at bert-large-uncased were not used when initializing BertForMaskedLM: ['cls.seq_relationship.weight', 'cls.seq_relationship.bias']\n",
            "- This IS expected if you are initializing BertForMaskedLM from the checkpoint of a model trained on another task or with another architecture (e.g. initializing a BertForSequenceClassification model from a BertForPretraining model).\n",
            "- This IS NOT expected if you are initializing BertForMaskedLM from the checkpoint of a model that you expect to be exactly identical (initializing a BertForSequenceClassification model from a BertForSequenceClassification model).\n",
            "Some weights of BertForMaskedLM were not initialized from the model checkpoint at bert-large-uncased and are newly initialized: ['cls.predictions.decoder.bias']\n",
            "You should probably TRAIN this model on a down-stream task to be able to use it for predictions and inference.\n"
          ],
          "name": "stderr"
        }
      ]
    },
    {
      "cell_type": "markdown",
      "metadata": {
        "id": "UHo6bo42sB-w",
        "colab_type": "text"
      },
      "source": [
        "bert-base-uncased"
      ]
    },
    {
      "cell_type": "code",
      "metadata": {
        "id": "Y_ooS13gr__3",
        "colab_type": "code",
        "colab": {}
      },
      "source": [
        "tokenizer = basetokenizer\n",
        "model = basemodel"
      ],
      "execution_count": 5,
      "outputs": []
    },
    {
      "cell_type": "markdown",
      "metadata": {
        "id": "FhZJwhs2Cx-3",
        "colab_type": "text"
      },
      "source": [
        "## Step by step prediction"
      ]
    },
    {
      "cell_type": "code",
      "metadata": {
        "id": "92Gz0PHED3y-",
        "colab_type": "code",
        "colab": {}
      },
      "source": [
        "# [MASK]: respiratory\n",
        "text = '[CLS] Sputum is usually yellow or clear and different from the green sputum that is more often associated with lower [MASK] tract infections. [SEP]'\n",
        "TOPK = 10"
      ],
      "execution_count": 6,
      "outputs": []
    },
    {
      "cell_type": "code",
      "metadata": {
        "id": "shDxLp-jD35j",
        "colab_type": "code",
        "colab": {}
      },
      "source": [
        "tokenized_text = tokenizer.tokenize(text)\n",
        "indexed_tokens = tokenizer.convert_tokens_to_ids(tokenized_text)\n",
        "segments_ids = [0] * len(tokenized_text)\n",
        "# Convert inputs to PyTorch tensors\n",
        "tokens_tensor = torch.tensor([indexed_tokens])\n",
        "segments_tensors = torch.tensor([segments_ids])\n",
        "# Predict hidden states features for each layer\n",
        "# https://huggingface.co/transformers/model_doc/bert.html#bertformaskedlm\n",
        "with torch.no_grad(): # prediction\n",
        "    outputs = model(tokens_tensor, segments_tensors)"
      ],
      "execution_count": 7,
      "outputs": []
    },
    {
      "cell_type": "code",
      "metadata": {
        "id": "KFwf7obRE9zP",
        "colab_type": "code",
        "colab": {}
      },
      "source": [
        "predictions = outputs[0]\n",
        "hidden_states = outputs[1]"
      ],
      "execution_count": 8,
      "outputs": []
    },
    {
      "cell_type": "markdown",
      "metadata": {
        "id": "Twmxl8AtFpRD",
        "colab_type": "text"
      },
      "source": [
        "Candidates and Probability of [MASK]"
      ]
    },
    {
      "cell_type": "code",
      "metadata": {
        "id": "xSS84im_FVu-",
        "colab_type": "code",
        "colab": {
          "base_uri": "https://localhost:8080/",
          "height": 221
        },
        "outputId": "6b499513-1ee7-4f26-d245-1c59c255d1d9"
      },
      "source": [
        "masked_index = tokenized_text.index('[MASK]')\n",
        "predicted_index = torch.argmax(predictions[0, masked_index]).item()\n",
        "predicted_token = tokenizer.convert_ids_to_tokens([predicted_index])[0]\n",
        "\n",
        "print(\"Candidate - Probability\\n\")\n",
        "prob = F.softmax(predictions[0, masked_index], dim = 0)\n",
        "prob_predicted_values, prob_predicted_indices = prob.topk(TOPK, dim=0, largest=True, sorted=True)\n",
        "word_cands = []\n",
        "for i in range(TOPK):\n",
        "  cur_predicted_token = tokenizer.convert_ids_to_tokens([prob_predicted_indices[i].item()])[0]\n",
        "  tmp = []\n",
        "  tmp.append(cur_predicted_token)\n",
        "  tmp.append(prob_predicted_values[i].item())\n",
        "  word_cands.append(tmp)\n",
        "  print(tmp[0], tmp[1])"
      ],
      "execution_count": 9,
      "outputs": [
        {
          "output_type": "stream",
          "text": [
            "Candidate - Probability\n",
            "\n",
            "respiratory 0.9626149535179138\n",
            "gi 0.021592240780591965\n",
            "reproductive 0.006219645030796528\n",
            "metabolic 0.0009671205189079046\n",
            "##mental 0.0006188023835420609\n",
            "lying 0.0004803779302164912\n",
            "immune 0.00044372095726430416\n",
            "neural 0.0002540722780395299\n",
            "optic 0.00025145182735286653\n",
            "nervous 0.00019847533258143812\n"
          ],
          "name": "stdout"
        }
      ]
    },
    {
      "cell_type": "code",
      "metadata": {
        "id": "-hWAgIZfD39_",
        "colab_type": "code",
        "colab": {
          "base_uri": "https://localhost:8080/",
          "height": 187
        },
        "outputId": "7f9f657a-327c-4112-e273-591c7f89ef4b"
      },
      "source": [
        "word_cands"
      ],
      "execution_count": 10,
      "outputs": [
        {
          "output_type": "execute_result",
          "data": {
            "text/plain": [
              "[['respiratory', 0.9626149535179138],\n",
              " ['gi', 0.021592240780591965],\n",
              " ['reproductive', 0.006219645030796528],\n",
              " ['metabolic', 0.0009671205189079046],\n",
              " ['##mental', 0.0006188023835420609],\n",
              " ['lying', 0.0004803779302164912],\n",
              " ['immune', 0.00044372095726430416],\n",
              " ['neural', 0.0002540722780395299],\n",
              " ['optic', 0.00025145182735286653],\n",
              " ['nervous', 0.00019847533258143812]]"
            ]
          },
          "metadata": {
            "tags": []
          },
          "execution_count": 10
        }
      ]
    },
    {
      "cell_type": "markdown",
      "metadata": {
        "id": "0rs12RazF3Kq",
        "colab_type": "text"
      },
      "source": [
        "\n",
        "Create the word vectors by summing together the last four layers from hidden states\n",
        "\n",
        "https://colab.research.google.com/drive/1yFphU6PW9Uo6lmDly_ud9a6c4RCYlwdX#scrollTo=eYXUwiG0yhBS"
      ]
    },
    {
      "cell_type": "code",
      "metadata": {
        "id": "1kA3NHsUD4D7",
        "colab_type": "code",
        "colab": {
          "base_uri": "https://localhost:8080/",
          "height": 34
        },
        "outputId": "8b4c8235-8b11-4c02-9d25-92f6da5573ed"
      },
      "source": [
        "# Concatenate the tensors for all layers. \n",
        "token_embeddings = torch.stack(hidden_states, dim=0)\n",
        "token_embeddings.size()"
      ],
      "execution_count": 11,
      "outputs": [
        {
          "output_type": "execute_result",
          "data": {
            "text/plain": [
              "torch.Size([13, 1, 29, 768])"
            ]
          },
          "metadata": {
            "tags": []
          },
          "execution_count": 11
        }
      ]
    },
    {
      "cell_type": "code",
      "metadata": {
        "id": "RSMySj9AF-lC",
        "colab_type": "code",
        "colab": {
          "base_uri": "https://localhost:8080/",
          "height": 34
        },
        "outputId": "aac9e75b-2ef0-4518-eae8-f510c8cfb5ee"
      },
      "source": [
        "# Remove dimension 1, the \"batches\".\n",
        "token_embeddings = torch.squeeze(token_embeddings, dim=1)\n",
        "token_embeddings.size()"
      ],
      "execution_count": 12,
      "outputs": [
        {
          "output_type": "execute_result",
          "data": {
            "text/plain": [
              "torch.Size([13, 29, 768])"
            ]
          },
          "metadata": {
            "tags": []
          },
          "execution_count": 12
        }
      ]
    },
    {
      "cell_type": "code",
      "metadata": {
        "id": "-Ktk3vI-GRv5",
        "colab_type": "code",
        "colab": {}
      },
      "source": [
        "token_embeddings = token_embeddings.permute(1,0,2)"
      ],
      "execution_count": 13,
      "outputs": []
    },
    {
      "cell_type": "code",
      "metadata": {
        "id": "FbiPZJWAGWkb",
        "colab_type": "code",
        "colab": {
          "base_uri": "https://localhost:8080/",
          "height": 34
        },
        "outputId": "78a65abc-cf34-4c58-e3d9-a4ae6ab84777"
      },
      "source": [
        "# Stores the token vectors, with shape [22 x 768]\n",
        "token_vecs_sum = []\n",
        "\n",
        "# `token_embeddings` is a [22 x 12 x 768] tensor.\n",
        "# For each token in the sentence...\n",
        "for token in token_embeddings:\n",
        "\n",
        "    # `token` is a [12 x 768] tensor\n",
        "    # Sum the vectors from the last four layers.\n",
        "    sum_vec = torch.sum(token[-4:], dim=0)\n",
        "    \n",
        "    # Use `sum_vec` to represent `token`.\n",
        "    token_vecs_sum.append(sum_vec)\n",
        "\n",
        "print ('Shape is: %d x %d' % (len(token_vecs_sum), len(token_vecs_sum[0])))"
      ],
      "execution_count": 14,
      "outputs": [
        {
          "output_type": "stream",
          "text": [
            "Shape is: 29 x 768\n"
          ],
          "name": "stdout"
        }
      ]
    },
    {
      "cell_type": "code",
      "metadata": {
        "id": "aSV-C96lGbVK",
        "colab_type": "code",
        "colab": {
          "base_uri": "https://localhost:8080/",
          "height": 510
        },
        "outputId": "399d749d-1c3b-44b5-e434-1d1b9e8c0821"
      },
      "source": [
        "for i, token_str in enumerate(tokenized_text):\n",
        "  print (i, token_str)"
      ],
      "execution_count": 15,
      "outputs": [
        {
          "output_type": "stream",
          "text": [
            "0 [CLS]\n",
            "1 sp\n",
            "2 ##ut\n",
            "3 ##um\n",
            "4 is\n",
            "5 usually\n",
            "6 yellow\n",
            "7 or\n",
            "8 clear\n",
            "9 and\n",
            "10 different\n",
            "11 from\n",
            "12 the\n",
            "13 green\n",
            "14 sp\n",
            "15 ##ut\n",
            "16 ##um\n",
            "17 that\n",
            "18 is\n",
            "19 more\n",
            "20 often\n",
            "21 associated\n",
            "22 with\n",
            "23 lower\n",
            "24 [MASK]\n",
            "25 tract\n",
            "26 infections\n",
            "27 .\n",
            "28 [SEP]\n"
          ],
          "name": "stdout"
        }
      ]
    },
    {
      "cell_type": "code",
      "metadata": {
        "id": "iI2KX8BPGgBa",
        "colab_type": "code",
        "colab": {
          "base_uri": "https://localhost:8080/",
          "height": 34
        },
        "outputId": "123415bf-c34e-483b-b8dc-8e96b32772e3"
      },
      "source": [
        "token_vecs_sum[0][:5]"
      ],
      "execution_count": 16,
      "outputs": [
        {
          "output_type": "execute_result",
          "data": {
            "text/plain": [
              "tensor([-2.0478, -0.3244, -0.6018, -2.4874, -0.1112])"
            ]
          },
          "metadata": {
            "tags": []
          },
          "execution_count": 16
        }
      ]
    },
    {
      "cell_type": "code",
      "metadata": {
        "id": "JnjyvgrBGxfq",
        "colab_type": "code",
        "colab": {
          "base_uri": "https://localhost:8080/",
          "height": 34
        },
        "outputId": "fe2028b5-8e4e-4098-f241-c51aa632e16d"
      },
      "source": [
        "len(token_vecs_sum)"
      ],
      "execution_count": 18,
      "outputs": [
        {
          "output_type": "execute_result",
          "data": {
            "text/plain": [
              "29"
            ]
          },
          "metadata": {
            "tags": []
          },
          "execution_count": 18
        }
      ]
    },
    {
      "cell_type": "markdown",
      "metadata": {
        "id": "C0MME3IMMqUY",
        "colab_type": "text"
      },
      "source": [
        "## Detector for single sentence"
      ]
    },
    {
      "cell_type": "code",
      "metadata": {
        "id": "CpfszcJnnOZx",
        "colab_type": "code",
        "colab": {}
      },
      "source": [
        "class SentDetector():\n",
        "  def __init__(self, model, tokenizer, k = 5):\n",
        "    self.model = model\n",
        "    self.tokenizer = tokenizer\n",
        "    self.topK = k\n",
        "\n",
        "  def generate_cands(self, tokenized_text):\n",
        "    '''\n",
        "    Input: a tokenized sentence with [MASK] and specific model\n",
        "    Output: hidden_states - Hidden states of the model at the output of each layer plus the initial embedding outputs.\n",
        "            word_cands -  a list of candidate words and their probability\n",
        "    '''\n",
        "    # tokenized_text = tokenizer.tokenize(text)\n",
        "    indexed_tokens = self.tokenizer.convert_tokens_to_ids(tokenized_text)\n",
        "    segments_ids = [0] * len(tokenized_text)\n",
        "    # Convert inputs to PyTorch tensors\n",
        "    tokens_tensor = torch.tensor([indexed_tokens])\n",
        "    segments_tensors = torch.tensor([segments_ids])\n",
        "    # Predict hidden states features for each layer\n",
        "    # https://huggingface.co/transformers/model_doc/bert.html#bertformaskedlm\n",
        "    with torch.no_grad(): # prediction\n",
        "        outputs = self.model(tokens_tensor, segments_tensors)\n",
        "\n",
        "    predictions = outputs[0]\n",
        "    hidden_states = outputs[1]\n",
        "    masked_index = tokenized_text.index('[MASK]')\n",
        "    predicted_index = torch.argmax(predictions[0, masked_index]).item()\n",
        "    predicted_token = self.tokenizer.convert_ids_to_tokens([predicted_index])[0]\n",
        "\n",
        "    #print(\"Candidate - Probability\\n\")\n",
        "    prob = F.softmax(predictions[0, masked_index], dim = 0)\n",
        "    prob_predicted_values, prob_predicted_indices = prob.topk(self.topK, dim=0, largest=True, sorted=True)\n",
        "    word_cands = []\n",
        "    for i in range(self.topK):\n",
        "      cur_predicted_token = self.tokenizer.convert_ids_to_tokens([prob_predicted_indices[i].item()])[0]\n",
        "      tmp = [cur_predicted_token, prob_predicted_values[i].item()]\n",
        "      word_cands.append(tmp)\n",
        "      #print(tmp[0], tmp[1])\n",
        "    return hidden_states, word_cands\n",
        "\n",
        "  def cand_embeddings(self, word_cands):\n",
        "    '''\n",
        "    Get output embeddings of prediction words from the model\n",
        "    Output: a list of token and their embeddings\n",
        "    '''\n",
        "    output_embeddings = self.model.get_output_embeddings()\n",
        "    embedding_lst = []\n",
        "    for i in range(len(word_cands)):\n",
        "      cur_emb = output_embeddings.weight[self.tokenizer.convert_tokens_to_ids(word_cands[i][0])]\n",
        "      tmp = [word_cands[i][0], cur_emb]\n",
        "      embedding_lst.append(tmp)\n",
        "    return embedding_lst\n",
        "\n",
        "  def generate_raw_hidden(self):\n",
        "    '''\n",
        "    Generate embeddings for each token in the raw sentence\n",
        "    Output: hidden_states - Hidden-states of the model at the output of each layer plus the initial embedding outputs.\n",
        "    '''\n",
        "    #tokenized_text = self.tokenizer.tokenize(self.raw_text)\n",
        "    indexed_tokens = self.tokenizer.convert_tokens_to_ids(self.tokenized_raw_text)\n",
        "    segments_ids = [0] * self.length\n",
        "    # Convert inputs to PyTorch tensors\n",
        "    tokens_tensor = torch.tensor([indexed_tokens])\n",
        "    segments_tensors = torch.tensor([segments_ids])\n",
        "    # Predict hidden states features for each layer\n",
        "    with torch.no_grad(): # prediction\n",
        "        outputs = self.model(tokens_tensor, segments_tensors)\n",
        "    return outputs[1]\n",
        "\n",
        "  def raw_embeddings(self):\n",
        "    '''\n",
        "    Output: list of tokens and their \"embeddings\" from original hidden states\n",
        "    Word embedding: sum over the last four layers (from BERT tutorial)\n",
        "    '''\n",
        "    hidden_states = self.generate_raw_hidden()\n",
        "    token_embeddings = torch.squeeze(torch.stack(hidden_states, dim = 0), dim = 1)\n",
        "    # switch around the \"layers\" and \"tokens\" dimensions with permute.\n",
        "    token_embeddings = token_embeddings.permute(1,0,2)\n",
        "    token_vecs_sum = []\n",
        "    # `token_embeddings` is a [#tokens x 12 x 768] tensor.\n",
        "    # For each token in the sentence...\n",
        "    for token in token_embeddings:\n",
        "        # `token` is a [12 x 768] tensor\n",
        "        # Sum the vectors from the last four layers.\n",
        "        sum_vec = torch.sum(token[-4:], dim=0)\n",
        "        # Use `sum_vec` to represent `token`.\n",
        "        token_vecs_sum.append(sum_vec)\n",
        "    return token_vecs_sum\n",
        "\n",
        "  def mask_ith_token(self, i):\n",
        "    '''\n",
        "    Output: text with the ith token masked\n",
        "    '''\n",
        "    # tokenized_text = tokenizer.tokenize(text)\n",
        "    res = copy.deepcopy(self.tokenized_raw_text)\n",
        "    res[i] = '[MASK]' \n",
        "    return res\n",
        "\n",
        "  def cal_similarity(self, candidates, raw_emb):\n",
        "    '''\n",
        "    Input: masked sentence\n",
        "    Output: a list of cosine similarities between each candidate and the original word\n",
        "    '''\n",
        "    similarities = []\n",
        "    embedding_lst = self.cand_embeddings(candidates)\n",
        "    for word, cur_emb in embedding_lst:\n",
        "      cos_sim = 1 - cosine(raw_emb.numpy(), cur_emb.detach().numpy())\n",
        "      similarities.append([word,cos_sim])\n",
        "\n",
        "    return similarities\n",
        "\n",
        "  def changeModel(self, model, tokenizer):\n",
        "    self.model = model\n",
        "    self.tokenizer = tokenizer\n",
        "\n",
        "  def changeK(self, k):\n",
        "    self.topK = k\n",
        "\n",
        "  def run(self, text, verbose = False):\n",
        "    self.raw_text = text\n",
        "    self.tokenized_raw_text = self.tokenizer.tokenize(self.raw_text)\n",
        "    self.length = len(self.tokenized_raw_text)\n",
        "\n",
        "    #similarity scores\n",
        "    simi_scores = [1]\n",
        "    raw_emb = self.raw_embeddings()\n",
        "\n",
        "    for i in range(1, self.length - 1):\n",
        "      cur_masked_tokens = self.mask_ith_token(i)\n",
        "      hidden, candidates = self.generate_cands(cur_masked_tokens)\n",
        "      if verbose:\n",
        "        print(cur_masked_tokens)\n",
        "      similarities = self.cal_similarity(candidates, raw_emb[i])\n",
        "      # prob * similarity\n",
        "      simi_scores.append(np.sum([(candidates[i][1] * similarities[i][1]) for i in range(self.topK)]))\n",
        "      if verbose:\n",
        "        print(\"Candidates - Probability\")\n",
        "        print(candidates)\n",
        "        print(\"Similarity\")\n",
        "        print(similarities)\n",
        "        print('\\n')\n",
        "    #min_vals = torch.from_numpy(simi_scores).topk(3, largest = False)\n",
        "    min_vals =  np.argsort(simi_scores)[:self.topK]\n",
        "    suspect_idx = simi_scores.index(np.min(simi_scores))\n",
        "    #print(simi_scores)\n",
        "    print(\"The suspect words are: \" )\n",
        "    #print(\"\\nThe suspect word is : \" , tokenized_text[suspect_idx])\n",
        "    i = 1\n",
        "    for idx in min_vals:\n",
        "      print(i, self.tokenized_raw_text[idx], simi_scores[idx])\n",
        "      i += 1\n",
        "      #print(tokenized_text[simi_scores[val]]+\", \")\n",
        "    return\n"
      ],
      "execution_count": 76,
      "outputs": []
    },
    {
      "cell_type": "markdown",
      "metadata": {
        "id": "5HQRlSMn8GtR",
        "colab_type": "text"
      },
      "source": [
        "test"
      ]
    },
    {
      "cell_type": "code",
      "metadata": {
        "id": "tT3FB8cJ1mNA",
        "colab_type": "code",
        "colab": {
          "base_uri": "https://localhost:8080/",
          "height": 204
        },
        "outputId": "494d81b5-78aa-49e5-8cc7-a694e04ca156"
      },
      "source": [
        "text = '[CLS] It has many casual and can affect any organ system. [SEP]' \n",
        "test = SentDetector(basemodel, basetokenizer, TOPK)\n",
        "test.run(text)"
      ],
      "execution_count": 77,
      "outputs": [
        {
          "output_type": "stream",
          "text": [
            "The suspect words are: \n",
            "1 casual 0.0022504691182495488\n",
            "2 organ 0.03531347074744821\n",
            "3 affect 0.054766716123304096\n",
            "4 many 0.06492909023989726\n",
            "5 system 0.0930543173501405\n",
            "6 can 0.10531885531632658\n",
            "7 has 0.11887342322209289\n",
            "8 it 0.13812981409874328\n",
            "9 . 0.18646535354910282\n",
            "10 any 0.24983780810365538\n"
          ],
          "name": "stdout"
        }
      ]
    },
    {
      "cell_type": "code",
      "metadata": {
        "id": "rwWYmEl04Kw1",
        "colab_type": "code",
        "colab": {
          "base_uri": "https://localhost:8080/",
          "height": 204
        },
        "outputId": "0c7b9d5d-a378-4437-dc9e-da7533d4c940"
      },
      "source": [
        "# change to Clinical BERT model\n",
        "test.changeModel(climodel, clitokenizer)\n",
        "test.run(text)"
      ],
      "execution_count": 75,
      "outputs": [
        {
          "output_type": "stream",
          "text": [
            "The suspect words are: \n",
            "1 casual 0.01835374096823243\n",
            "2 affect 0.026007123283669803\n",
            "3 it 0.05588177659719311\n",
            "4 many 0.0708836168603651\n",
            "5 can 0.10115014722043478\n",
            "6 system 0.11092818411757911\n",
            "7 and 0.12286282719746551\n",
            "8 organ 0.1274559941677678\n",
            "9 any 0.1288416774451855\n",
            "10 has 0.15195791119996596\n"
          ],
          "name": "stdout"
        }
      ]
    },
    {
      "cell_type": "code",
      "metadata": {
        "id": "8Pd5E15MCBux",
        "colab_type": "code",
        "colab": {}
      },
      "source": [
        ""
      ],
      "execution_count": null,
      "outputs": []
    },
    {
      "cell_type": "code",
      "metadata": {
        "id": "p_yfGJB4gohj",
        "colab_type": "code",
        "colab": {}
      },
      "source": [
        ""
      ],
      "execution_count": null,
      "outputs": []
    },
    {
      "cell_type": "markdown",
      "metadata": {
        "id": "YAUdAGTuvkeQ",
        "colab_type": "text"
      },
      "source": [
        "## ipywidgets\n"
      ]
    },
    {
      "cell_type": "code",
      "metadata": {
        "id": "KIDqUdx9N5El",
        "colab_type": "code",
        "colab": {}
      },
      "source": [
        "import ipywidgets as widgets\n",
        "import matplotlib.pyplot as plt\n",
        "from ipywidgets import interactive, Layout, HTML, Label\n",
        "from IPython.display import display\n",
        "from scipy.interpolate import interp1d"
      ],
      "execution_count": 61,
      "outputs": []
    },
    {
      "cell_type": "markdown",
      "metadata": {
        "id": "a2IMpyYC5FWw",
        "colab_type": "text"
      },
      "source": [
        "### widgets"
      ]
    },
    {
      "cell_type": "code",
      "metadata": {
        "id": "EGeo9NI-OIuJ",
        "colab_type": "code",
        "colab": {
          "base_uri": "https://localhost:8080/",
          "height": 49,
          "referenced_widgets": [
            "9d36ec37e0fd4175b0f23af200f40c06",
            "744437d9dce74090926ddc7a972fa286",
            "0daeebcb44f24406946b432f108fa57e"
          ]
        },
        "outputId": "ecb52317-0a8a-44e7-e356-4362dbf2b65f"
      },
      "source": [
        "text = widgets.Text()\n",
        "display(text)\n",
        "\n",
        "def print_value(sender):\n",
        "  print(sender.value)\n",
        "\n",
        "text.on_submit(print_value)"
      ],
      "execution_count": 62,
      "outputs": [
        {
          "output_type": "display_data",
          "data": {
            "application/vnd.jupyter.widget-view+json": {
              "model_id": "9d36ec37e0fd4175b0f23af200f40c06",
              "version_minor": 0,
              "version_major": 2
            },
            "text/plain": [
              "Text(value='')"
            ]
          },
          "metadata": {
            "tags": []
          }
        }
      ]
    },
    {
      "cell_type": "code",
      "metadata": {
        "id": "sz6pz_6kS7s4",
        "colab_type": "code",
        "colab": {}
      },
      "source": [
        "text_area = widgets.Textarea(\n",
        "    value='Hello World',\n",
        "    placeholder='Type something',\n",
        "    description='Your text:',\n",
        "    disabled=False\n",
        ")"
      ],
      "execution_count": 63,
      "outputs": []
    },
    {
      "cell_type": "code",
      "metadata": {
        "id": "ivggo-ItPQ48",
        "colab_type": "code",
        "colab": {
          "base_uri": "https://localhost:8080/",
          "height": 49,
          "referenced_widgets": [
            "a6458c1db01f422fa4b1164c92c6cfe1",
            "85a6f82ea31b4ea6bc146718f5e8ab0a",
            "9d36ec37e0fd4175b0f23af200f40c06",
            "4cf0a1d4c12941589ca89119e1c1e0d7",
            "744437d9dce74090926ddc7a972fa286",
            "0daeebcb44f24406946b432f108fa57e",
            "5b719ba4e8f8460383f8373683643257",
            "491bf734790140fe9fbd670282286863"
          ]
        },
        "outputId": "38bb2032-ef9c-4d20-b882-c22aa7376287"
      },
      "source": [
        "btn = widgets.Button(description = \"Submit\", tooltip = 'Click to submit')\n",
        "def btn_click(sender):\n",
        "  print('Text successfully submitted!')\n",
        "  print_value(text)\n",
        "btn.on_click(btn_click)\n",
        "box = widgets.Box([text,btn])\n",
        "display(box)"
      ],
      "execution_count": 64,
      "outputs": [
        {
          "output_type": "display_data",
          "data": {
            "application/vnd.jupyter.widget-view+json": {
              "model_id": "a6458c1db01f422fa4b1164c92c6cfe1",
              "version_minor": 0,
              "version_major": 2
            },
            "text/plain": [
              "Box(children=(Text(value=''), Button(description='Submit', style=ButtonStyle(), tooltip='Click to submit')))"
            ]
          },
          "metadata": {
            "tags": []
          }
        }
      ]
    },
    {
      "cell_type": "code",
      "metadata": {
        "id": "yywYrN-2PjJ1",
        "colab_type": "code",
        "colab": {
          "base_uri": "https://localhost:8080/",
          "height": 96,
          "referenced_widgets": [
            "b4d25f4dc3564b65b6cc94aede183833",
            "1a0757d40acd4ab0b595249d12cde59d",
            "bd9873278dbd42acb802cbad4fd1398c",
            "d13919f305e6418783edaca26480c2c6",
            "ad727e5693f145429d4f31b5d59a59cf",
            "d5b6f9ee307b42f2b8e552d91896a123"
          ]
        },
        "outputId": "2452fac7-217a-4762-aabe-ea217ae7ab6b"
      },
      "source": [
        "caption = widgets.Label(value='Please select TOPK.')\n",
        "drpbx = widgets.Dropdown(options=[(\"1\", 1), (\"2\", 2), (\"5\", 5)], index=0, value=2, label=\"2\")\n",
        "\n",
        "def chosen(_):\n",
        "    print(\"Selected index:{}, value:{}, label:{}\".format(drpbx.index, drpbx.value, drpbx.label))\n",
        "\n",
        "drpbx.observe(chosen, names=\"value\")\n",
        "display(caption, drpbx)"
      ],
      "execution_count": 65,
      "outputs": [
        {
          "output_type": "display_data",
          "data": {
            "application/vnd.jupyter.widget-view+json": {
              "model_id": "b4d25f4dc3564b65b6cc94aede183833",
              "version_minor": 0,
              "version_major": 2
            },
            "text/plain": [
              "Label(value='Please select TOPK.')"
            ]
          },
          "metadata": {
            "tags": []
          }
        },
        {
          "output_type": "display_data",
          "data": {
            "application/vnd.jupyter.widget-view+json": {
              "model_id": "d13919f305e6418783edaca26480c2c6",
              "version_minor": 0,
              "version_major": 2
            },
            "text/plain": [
              "Dropdown(index=1, options=(('1', 1), ('2', 2), ('5', 5)), value=2)"
            ]
          },
          "metadata": {
            "tags": []
          }
        },
        {
          "output_type": "stream",
          "text": [
            "Selected index:2, value:5, label:5\n"
          ],
          "name": "stdout"
        }
      ]
    },
    {
      "cell_type": "code",
      "metadata": {
        "id": "qDzpPTGvQuKH",
        "colab_type": "code",
        "colab": {
          "base_uri": "https://localhost:8080/",
          "height": 109,
          "referenced_widgets": [
            "49b01ae6af1e42779ce45890a27f1992",
            "ad897e1c7a5348b880138302bf9c85e0",
            "cedb746126bc4d35a1ffc4f039e318cf",
            "242f09b2dc8947b6b6825fe8c156c1d2",
            "e0eaab844d2449d490205f54e8a9e9d1",
            "a2ee3b30190744f6bf6348641629ad8c",
            "6df2197639864c2a84c6cdf13660d024",
            "90663781a8044e66ba92e8da4e62a1a5",
            "43b009f816c34da9abad40148e44a01f"
          ]
        },
        "outputId": "909b9185-6ba8-4726-a003-3875e13df776"
      },
      "source": [
        "caption = widgets.Label(value='Sliders')\n",
        "sliders1, slider2 = widgets.IntSlider(description='Slider 1'),\\\n",
        "                \twidgets.IntSlider(description='Slider 2')\n",
        "l = widgets.link((sliders1, 'value'), (slider2, 'value'))\n",
        "display(caption, sliders1, slider2)"
      ],
      "execution_count": 80,
      "outputs": [
        {
          "output_type": "display_data",
          "data": {
            "application/vnd.jupyter.widget-view+json": {
              "model_id": "49b01ae6af1e42779ce45890a27f1992",
              "version_minor": 0,
              "version_major": 2
            },
            "text/plain": [
              "Label(value='Sliders')"
            ]
          },
          "metadata": {
            "tags": []
          }
        },
        {
          "output_type": "display_data",
          "data": {
            "application/vnd.jupyter.widget-view+json": {
              "model_id": "242f09b2dc8947b6b6825fe8c156c1d2",
              "version_minor": 0,
              "version_major": 2
            },
            "text/plain": [
              "IntSlider(value=0, description='Slider 1')"
            ]
          },
          "metadata": {
            "tags": []
          }
        },
        {
          "output_type": "display_data",
          "data": {
            "application/vnd.jupyter.widget-view+json": {
              "model_id": "6df2197639864c2a84c6cdf13660d024",
              "version_minor": 0,
              "version_major": 2
            },
            "text/plain": [
              "IntSlider(value=0, description='Slider 2')"
            ]
          },
          "metadata": {
            "tags": []
          }
        }
      ]
    },
    {
      "cell_type": "code",
      "metadata": {
        "id": "DGJgzkbQ7a6_",
        "colab_type": "code",
        "colab": {
          "base_uri": "https://localhost:8080/",
          "height": 49,
          "referenced_widgets": [
            "d6c467c48bae495f8acf943ac62b1205",
            "807638555c514d57ae90d2336f476c2e",
            "c89bcc1856fd433f8691e66117c76305",
            "2e9e7f1bd9894ea98638c29d88074d24",
            "8b418699f2fc4331b83ba75fe5711f2f",
            "2728a2adb6a04c05a09c0b2aca9c9a4b",
            "a41750dcf57e4433ac3589b6a006afa0",
            "63daf649b14e412e89bce453f6ecaf9e",
            "7af4db889bb54851adf3a3eb95dece40",
            "b4d4feceac7643479549f5086e35409b",
            "b660d93e607f4e6da851678da0bb9207",
            "3995d77576184b2c9e0762c44e776aad",
            "07d41c5d334e4c15a41527a67051e2b9",
            "51a8ba13dda8478aa463f996ec48bf56",
            "3e51cc8c32a54601a4f85b0bfc026371",
            "f2bce92dbc8a4aa68ff9a2fc4dceeef1",
            "4d98f133c27a447990a69646ff8f41a5"
          ]
        },
        "outputId": "753897ca-ec6d-459f-cd35-ce6282e1badb"
      },
      "source": [
        "from ipywidgets import Button, HBox\n",
        "display(\n",
        "    HBox([\n",
        "        Button(description='Primary Button', button_style='primary'),\n",
        "        Button(description='Success Button', button_style='success'),\n",
        "        Button(description='Info Button', button_style='info'),\n",
        "        Button(description='Warning Button', button_style='warning'),\n",
        "        Button(description='Danger Button', button_style='danger')\n",
        "    ]))"
      ],
      "execution_count": 81,
      "outputs": [
        {
          "output_type": "display_data",
          "data": {
            "application/vnd.jupyter.widget-view+json": {
              "model_id": "d6c467c48bae495f8acf943ac62b1205",
              "version_minor": 0,
              "version_major": 2
            },
            "text/plain": [
              "HBox(children=(Button(button_style='primary', description='Primary Button', style=ButtonStyle()), Button(butto…"
            ]
          },
          "metadata": {
            "tags": []
          }
        }
      ]
    },
    {
      "cell_type": "markdown",
      "metadata": {
        "id": "vZxMJ8mbVApN",
        "colab_type": "text"
      },
      "source": [
        "### Single-model Detector\n"
      ]
    },
    {
      "cell_type": "code",
      "metadata": {
        "id": "kAE18rE6VGWZ",
        "colab_type": "code",
        "colab": {
          "base_uri": "https://localhost:8080/",
          "height": 346,
          "referenced_widgets": [
            "e6049f1a759347b98b7e4fd1a67144f0",
            "f2da11596c3d4dfe83bd1769fabcd761",
            "7aaf258cf9174224af81ccbe12ca541c",
            "fea80cbcf059464ea38150f20b9be658",
            "902a2ba94d604a008c78e75233fba90d",
            "c4a959bf633f4c328accafa9a429ea9e",
            "2450a42d59b248448250ae8d909eb583",
            "b86f2d3e1aa14d9d9087ced8e1ec42ea",
            "0908d12134ae42f68b1a892cc994f5e7",
            "b5b933058f25464e9e2e6381623ab18b",
            "9399816e1a2b4f4fbc2aa6e79bed7286",
            "5b7e1ebeab16400698f0e6f8953825bb"
          ]
        },
        "outputId": "9add5864-bbe1-4223-9e7a-0c95745aef8a"
      },
      "source": [
        "text = widgets.Text(\n",
        "    value='Hello World',\n",
        "    placeholder='Type something',\n",
        "    description='Your text:',\n",
        "    disabled=False\n",
        "    )\n",
        "\n",
        "btn = widgets.Button(\n",
        "    description = \"OK\", \n",
        "    tooltip = 'Click to submit'\n",
        "    )\n",
        "\n",
        "drpd = widgets.Dropdown(\n",
        "    options=[(\"1\", 1), (\"2\", 2), (\"3\", 3), (\"5\", 5), (\"10\", 10)], \n",
        "    index=0, \n",
        "    value=1,\n",
        "    description='Top K:',\n",
        "    disabled=False,\n",
        "    )\n",
        "\n",
        "caption = widgets.Label(\n",
        "    value = 'Word appropriateness detector for single sentence.'\n",
        "    )\n",
        "\n",
        "detector = SentDetector(basemodel, basetokenizer)\n",
        "\n",
        "def get_k(sender):\n",
        "  TOPK = sender.observe(chosen, names=\"value\")\n",
        "\n",
        "def callback(sender):\n",
        "  print('Text successfully submitted!')\n",
        "  TOPK = chosen(drpd)\n",
        "  raw_text = '[CLS] ' + sender.value + ' [SEP]'\n",
        "  # print(ori_text)\n",
        "  # print(TOPK)\n",
        "  detector.changeK(TOPK)\n",
        "  detector.run(raw_text)\n",
        "\n",
        "def btn_click(sender):\n",
        "  callback(text)\n",
        "\n",
        "def chosen(_):\n",
        "  return drpd.value\n",
        "\n",
        "drpd.observe(chosen, names=\"value\")\n",
        "btn.button_style='primary'\n",
        "\n",
        "#text.on_submit(callback)\n",
        "btn.on_click(btn_click)\n",
        "\n",
        "display(caption, text, drpd, btn)"
      ],
      "execution_count": 79,
      "outputs": [
        {
          "output_type": "display_data",
          "data": {
            "application/vnd.jupyter.widget-view+json": {
              "model_id": "e6049f1a759347b98b7e4fd1a67144f0",
              "version_minor": 0,
              "version_major": 2
            },
            "text/plain": [
              "Label(value='Word appropriateness detector for single sentence.')"
            ]
          },
          "metadata": {
            "tags": []
          }
        },
        {
          "output_type": "display_data",
          "data": {
            "application/vnd.jupyter.widget-view+json": {
              "model_id": "fea80cbcf059464ea38150f20b9be658",
              "version_minor": 0,
              "version_major": 2
            },
            "text/plain": [
              "Text(value='Hello World', description='Your text:', placeholder='Type something')"
            ]
          },
          "metadata": {
            "tags": []
          }
        },
        {
          "output_type": "display_data",
          "data": {
            "application/vnd.jupyter.widget-view+json": {
              "model_id": "2450a42d59b248448250ae8d909eb583",
              "version_minor": 0,
              "version_major": 2
            },
            "text/plain": [
              "Dropdown(description='Top K:', options=(('1', 1), ('2', 2), ('3', 3), ('5', 5), ('10', 10)), value=1)"
            ]
          },
          "metadata": {
            "tags": []
          }
        },
        {
          "output_type": "display_data",
          "data": {
            "application/vnd.jupyter.widget-view+json": {
              "model_id": "b5b933058f25464e9e2e6381623ab18b",
              "version_minor": 0,
              "version_major": 2
            },
            "text/plain": [
              "Button(button_style='primary', description='OK', style=ButtonStyle(), tooltip='Click to submit')"
            ]
          },
          "metadata": {
            "tags": []
          }
        },
        {
          "output_type": "stream",
          "text": [
            "Text successfully submitted!\n",
            "The suspect words are: \n",
            "1 cute 0.010036780340255746\n",
            "2 bilateral 0.012263965784352002\n",
            "3 larger 0.01941094052036111\n",
            "4 airspace 0.04311686577852297\n",
            "5 diagnosis 0.06429604935333656\n",
            "6 subset 0.0811937392028782\n",
            "7 . 0.10261349746239871\n",
            "8 a 0.11668218369054956\n",
            "9 differential 0.12463457253199668\n",
            "10 ##ification 0.12890247093414056\n"
          ],
          "name": "stdout"
        }
      ]
    },
    {
      "cell_type": "markdown",
      "metadata": {
        "id": "O7ZDaAXWUELg",
        "colab_type": "text"
      },
      "source": [
        "Acute cholangitis, or ascending cholangitis, is a form of cholangitis and refers to the acute bacterial infection of the biliary three. # bacterial\n",
        "\n",
        "It has many causes and can affect any organ system.\n",
        "\n",
        "A cute bilateral airspace opacification is a subset of the larger differential diagnosis for airspace opacification."
      ]
    },
    {
      "cell_type": "code",
      "metadata": {
        "id": "wlMBRjr6UFjG",
        "colab_type": "code",
        "colab": {}
      },
      "source": [
        ""
      ],
      "execution_count": null,
      "outputs": []
    },
    {
      "cell_type": "code",
      "metadata": {
        "id": "E5tFnA7_yzeg",
        "colab_type": "code",
        "colab": {}
      },
      "source": [
        ""
      ],
      "execution_count": null,
      "outputs": []
    },
    {
      "cell_type": "markdown",
      "metadata": {
        "id": "EEHJwmCubclY",
        "colab_type": "text"
      },
      "source": [
        "### Multi-model Detector"
      ]
    },
    {
      "cell_type": "code",
      "metadata": {
        "id": "OIaLcQyWbhkk",
        "colab_type": "code",
        "colab": {
          "base_uri": "https://localhost:8080/",
          "height": 206,
          "referenced_widgets": [
            "5ae4d307fa2d42eb964d02dedfb69511",
            "e0d693a8c39b4b46bd629e6e74946a01",
            "aa807ac02d0c49a7916bd25860846f82",
            "013c2e819b6a4d98ac2b316ddbcb6687",
            "d74cd492043f41fab3f7acd7cef4171d",
            "ba1ddc04e32a4365bafe3a12ed5d1e63",
            "11d85cadbfd84b24ab078b1d4ac4a089",
            "823c2d74aba144108f8db90dd7db3b4f",
            "b89ce20f95ed401b801c12a0ff5d5f9d",
            "004a432c903d4e57b3ed42be334e0ba4",
            "a68a4311c3c7455cb595e9323a4789f8",
            "6f09c80bcc9e4a8ea88372a48bf5e744",
            "4a8160f703094e3986b96c69bf69b905",
            "0b83366817dc444dabc85b4a50827dc2",
            "f581b8c069b64ab2bd93248b333d3c2a",
            "ed9f5f30ad9949ca82612568e3e0d427",
            "48f7eb00d1004fcf9a141e4a569e70e3",
            "51eff83df58a420789ce555c38452edb"
          ]
        },
        "outputId": "40b09456-f4c8-4fea-e769-76079858a665"
      },
      "source": [
        "text = widgets.Text(\n",
        "    value='Hello World',\n",
        "    placeholder='Type something',\n",
        "    description='Your text:',\n",
        "    disabled=False\n",
        "    )\n",
        "\n",
        "btn1 = widgets.Button(\n",
        "    description = \"BERT-base\", \n",
        "    tooltip = 'Click to submit',\n",
        "    button_style = 'info'\n",
        "    )\n",
        "\n",
        "btn2 = widgets.Button(\n",
        "    description = \"Clinical BERT\", \n",
        "    tooltip = 'Click to submit',\n",
        "    button_style = 'success'\n",
        "    )\n",
        "\n",
        "btn3 = widgets.Button(\n",
        "    description = \"BERT-large\", \n",
        "    tooltip = 'Click to submit',\n",
        "    button_style = 'primary'\n",
        "    )\n",
        "\n",
        "drpd = widgets.Dropdown(\n",
        "    options=[(\"1\", 1), (\"2\", 2), (\"3\", 3), (\"5\", 5), (\"10\", 10)], \n",
        "    index=0, \n",
        "    value=1,\n",
        "    description='Top K:',\n",
        "    disabled=False,\n",
        "    )\n",
        "\n",
        "caption = widgets.Label(\n",
        "    value = 'Word appropriateness detector for single sentence.'\n",
        "    )\n",
        "\n",
        "detector = SentDetector(basemodel, basetokenizer)\n",
        "\n",
        "def get_k(sender):\n",
        "  TOPK = sender.observe(chosen, names=\"value\")\n",
        "\n",
        "def callback(sender):\n",
        "  TOPK = chosen(drpd)\n",
        "  raw_text = '[CLS] ' + sender.value + ' [SEP]'\n",
        "  # print(ori_text)\n",
        "  # print(TOPK)\n",
        "  detector.changeK(TOPK)\n",
        "  detector.run(raw_text)\n",
        "\n",
        "def btn1_click(sender):\n",
        "  detector.changeModel(basemodel, basetokenizer)\n",
        "  print('===========================\\nText successfully submitted to BERT-base!')\n",
        "  callback(text)\n",
        "\n",
        "def btn2_click(sender):\n",
        "  detector.changeModel(climodel, clitokenizer)\n",
        "  print('===========================\\nText successfully submitted to Clinical BERT!')\n",
        "  callback(text)\n",
        "\n",
        "def btn3_click(sender):\n",
        "  detector.changeModel(largemodel, largetokenizer)\n",
        "  print('===========================\\nText successfully submitted to BERT-large!')\n",
        "  callback(text)\n",
        "\n",
        "\n",
        "def chosen(_):\n",
        "  return drpd.value\n",
        "\n",
        "drpd.observe(chosen, names=\"value\")\n",
        "\n",
        "#text.on_submit(callback)\n",
        "btn1.on_click(btn1_click)\n",
        "btn2.on_click(btn2_click)\n",
        "btn3.on_click(btn3_click)\n",
        "\n",
        "display(caption, text, drpd, btn1, btn3, btn2)\n"
      ],
      "execution_count": 88,
      "outputs": [
        {
          "output_type": "display_data",
          "data": {
            "application/vnd.jupyter.widget-view+json": {
              "model_id": "5ae4d307fa2d42eb964d02dedfb69511",
              "version_minor": 0,
              "version_major": 2
            },
            "text/plain": [
              "Label(value='Word appropriateness detector for single sentence.')"
            ]
          },
          "metadata": {
            "tags": []
          }
        },
        {
          "output_type": "display_data",
          "data": {
            "application/vnd.jupyter.widget-view+json": {
              "model_id": "013c2e819b6a4d98ac2b316ddbcb6687",
              "version_minor": 0,
              "version_major": 2
            },
            "text/plain": [
              "Text(value='Hello World', description='Your text:', placeholder='Type something')"
            ]
          },
          "metadata": {
            "tags": []
          }
        },
        {
          "output_type": "display_data",
          "data": {
            "application/vnd.jupyter.widget-view+json": {
              "model_id": "11d85cadbfd84b24ab078b1d4ac4a089",
              "version_minor": 0,
              "version_major": 2
            },
            "text/plain": [
              "Dropdown(description='Top K:', options=(('1', 1), ('2', 2), ('3', 3), ('5', 5), ('10', 10)), value=1)"
            ]
          },
          "metadata": {
            "tags": []
          }
        },
        {
          "output_type": "display_data",
          "data": {
            "application/vnd.jupyter.widget-view+json": {
              "model_id": "004a432c903d4e57b3ed42be334e0ba4",
              "version_minor": 0,
              "version_major": 2
            },
            "text/plain": [
              "Button(button_style='info', description='BERT-base', style=ButtonStyle(), tooltip='Click to submit')"
            ]
          },
          "metadata": {
            "tags": []
          }
        },
        {
          "output_type": "display_data",
          "data": {
            "application/vnd.jupyter.widget-view+json": {
              "model_id": "4a8160f703094e3986b96c69bf69b905",
              "version_minor": 0,
              "version_major": 2
            },
            "text/plain": [
              "Button(button_style='primary', description='BERT-large', style=ButtonStyle(), tooltip='Click to submit')"
            ]
          },
          "metadata": {
            "tags": []
          }
        },
        {
          "output_type": "display_data",
          "data": {
            "application/vnd.jupyter.widget-view+json": {
              "model_id": "ed9f5f30ad9949ca82612568e3e0d427",
              "version_minor": 0,
              "version_major": 2
            },
            "text/plain": [
              "Button(button_style='success', description='Clinical BERT', style=ButtonStyle(), tooltip='Click to submit')"
            ]
          },
          "metadata": {
            "tags": []
          }
        }
      ]
    },
    {
      "cell_type": "code",
      "metadata": {
        "id": "RB80kVLtdzhb",
        "colab_type": "code",
        "colab": {}
      },
      "source": [
        ""
      ],
      "execution_count": null,
      "outputs": []
    },
    {
      "cell_type": "code",
      "metadata": {
        "id": "7YkIAkQxdzpZ",
        "colab_type": "code",
        "colab": {}
      },
      "source": [
        ""
      ],
      "execution_count": null,
      "outputs": []
    },
    {
      "cell_type": "markdown",
      "metadata": {
        "id": "d0VxEpVud8Zr",
        "colab_type": "text"
      },
      "source": [
        "Acute cholangitis, or ascending cholangitis, is a form of cholangitis and refers to the acute bacterial infection of the biliary three. # bacterial\n",
        "\n",
        "It has many casual and can affect any organ system.\n",
        "\n",
        "Acute bilateral airspace opacification is a subset of the larger differential diagnosis for airspace opacification.\n",
        "\n",
        "Abdominal paracentesis, more commonly referred to as an ascitic tap, is a procedure that can be performed to collect peritoneal fluid for analysis or as a therapeutic intervention."
      ]
    },
    {
      "cell_type": "code",
      "metadata": {
        "id": "bAY9tF8kdzuT",
        "colab_type": "code",
        "colab": {}
      },
      "source": [
        ""
      ],
      "execution_count": null,
      "outputs": []
    },
    {
      "cell_type": "code",
      "metadata": {
        "id": "Jz43CaYFdzsA",
        "colab_type": "code",
        "colab": {}
      },
      "source": [
        ""
      ],
      "execution_count": null,
      "outputs": []
    }
  ]
}